{
 "cells": [
  {
   "cell_type": "markdown",
   "metadata": {},
   "source": [
    "# Examen de cómputo matricial equipo SVD\n",
    "\n",
    "**Fecha**\n",
    "\n",
    "19 de Abril de 2020\n",
    "\n",
    "**Objetivo**\n",
    "\n",
    "Programar en el lenguaje R el método de eliminación por bloques para la solución de un sistema de ecuaciones $$Ax=b$$ mediante el método de descomposición en valores singulares (DVS o SVD por siglas en inglés), a través del Algoritmo One-Sided Jacobi.\n",
    "\n",
    "**Especificaciones de ambiente común de trabajo**\n",
    "\n",
    "Para trabajar y a efecto de tener un entorno común de trabajo para el desarrollo del proyecto, por favor emplear la imagen de docker basada en R del curso MNO 2020 (palmoreck/jupyterlab_r_kernel:1.1.0)\n",
    "\n",
    "```\n",
    "docker run --rm -v `pwd`:/datos --name jupyterlab_r_kernel_local -p 8888:8888 -d palmoreck/jupyterlab_r_kernel:1.1.0\n",
    "\n",
    "```\n",
    "\n",
    "*Nota:* el comando \"-v \\`pwd\\`:/datos\", permite montar el directorio actual en donde el usuario se encuentre situada en terminal como un volumen de la imagen de docker, dentro del directorio \"/datos\".\n",
    "\n",
    "**Comentarios**\n",
    "\n",
    "Para mayor información consultar el [Project Board](https://github.com/mno-2020-gh-classroom/ex-modulo-3-comp-matricial-svd-czammar/projects/1), la [especificación simplificada del algoritmo](https://github.com/mno-2020-gh-classroom/ex-modulo-3-comp-matricial-svd-czammar/blob/master/References/Simplified_SVD_OneSidedJacobi_Algorithm.md) así como las instrucciones de los issues correspondientes\n",
    "\n",
    "\n",
    "## 1. Funciones auxiliares\n",
    "\n",
    "Las siguientes funciones serán procedimientos de apoyo en el diseño del método de eliminación por bloques para la solución de un sistema lineal mediante el método SVD.\n",
    "\n",
    "### 1.1 Generación de índices"
   ]
  },
  {
   "cell_type": "code",
   "execution_count": 5,
   "metadata": {},
   "outputs": [],
   "source": [
    "indices <- function(n) {\n",
    "  # Crea una lista de tamaño (n-1)n/2 con pares de índices de la siguiente\n",
    "  #  manera: (1,2),..,(1,n),(2,3),..,(2,n),...,(n-1,n)\n",
    "  # Args: \n",
    "  #    n: número entero postivo \n",
    "  #       se refiere al número de columnas\n",
    "  #Returns:\n",
    "  #    lista con pares de índices\n",
    "    a <- NULL\n",
    "    b <- NULL\n",
    "    indices <- NULL\n",
    "    for (i in 1:(n-1)){\n",
    "    a <- append(a,rep(i,n-i))\n",
    "    b <- append(b,seq(i+1,n))    \n",
    "    }\n",
    "    for(i in 1:round(n*(n-1)/2))\n",
    "    indices[[i]] <- list(c(a[i], b[i]))\n",
    "    indices\n",
    "\n",
    "\n",
    "}"
   ]
  },
  {
   "cell_type": "code",
   "execution_count": null,
   "metadata": {},
   "outputs": [],
   "source": []
  },
  {
   "cell_type": "code",
   "execution_count": null,
   "metadata": {},
   "outputs": [],
   "source": []
  },
  {
   "cell_type": "markdown",
   "metadata": {},
   "source": [
    "### 1.2 Verificación de ortogonalidad entre vectores"
   ]
  },
  {
   "cell_type": "code",
   "execution_count": null,
   "metadata": {},
   "outputs": [],
   "source": [
    "#Función Ortogonalidad\n",
    "ortogonal <- function(u,v,TOL){\n",
    "  #Función que verifica si dos vectores son ortogonales, arrojando un 1 \n",
    "  #si lo es, y un 0 si no lo es.\n",
    "  #Args: u, v como vectores y se solicta al usuario el valor de e (tolerancia), real.\n",
    "  #Returns: Valor booleano 0 (no son ortongoales), 1 (son ortogonales)\n",
    "  dot.prod <- u%*%v \n",
    "  norm.u <- norm(u,type=\"2\")\n",
    "  norm.v <- norm(v,type=\"2\")\n",
    "  orth <- dot.prod / (norm.u * norm.v)\n",
    "  if (orth< TOL){\n",
    "    print(\"1\")\n",
    "  } else {\n",
    "    print(\"0\")\n",
    "  }\n",
    "}\n"
   ]
  },
  {
   "cell_type": "code",
   "execution_count": null,
   "metadata": {},
   "outputs": [],
   "source": []
  },
  {
   "cell_type": "code",
   "execution_count": null,
   "metadata": {},
   "outputs": [],
   "source": []
  },
  {
   "cell_type": "markdown",
   "metadata": {},
   "source": [
    "### 1.3 Función signo"
   ]
  },
  {
   "cell_type": "code",
   "execution_count": 1,
   "metadata": {},
   "outputs": [],
   "source": [
    "signo<-function(x) {\n",
    "  # Indica el signo de un número\n",
    "  # Args: \n",
    "  #    X (numeric): número a revisar\n",
    "  #Returns:\n",
    "  #    TRUE si el número es positivo o cero\n",
    "  #    FALSE si el número es negativo\n",
    "  \n",
    "  ifelse(x<0,FALSE,TRUE)\n",
    "  }"
   ]
  },
  {
   "cell_type": "code",
   "execution_count": null,
   "metadata": {},
   "outputs": [],
   "source": []
  },
  {
   "cell_type": "code",
   "execution_count": null,
   "metadata": {},
   "outputs": [],
   "source": []
  },
  {
   "cell_type": "markdown",
   "metadata": {},
   "source": [
    "### 1.4 Solver dada descomposición SVD"
   ]
  },
  {
   "cell_type": "code",
   "execution_count": null,
   "metadata": {},
   "outputs": [],
   "source": [
    "# Función Solver\n",
    "\n",
    "solver <- function(U,S,V,b){\n",
    "    # Función que devuelve la solcuón del sistema de ecuaciones Ax =b.\n",
    "    # Se utilizó la función backsolve para resolver el sistema triangular.\n",
    "    # NOTA: al ser S diagonal es indistinto si es traingular inferior o superior.\n",
    "    # Args: U (mxm),V(nxn), S(mxn) matriz diagonal y b (m) un vector.\n",
    "    # Returns: Vector x\n",
    "  d = backsolve(t(U),b)\n",
    "  x = V%*%d\n",
    "  return(x)\n",
    "}"
   ]
  },
  {
   "cell_type": "code",
   "execution_count": null,
   "metadata": {},
   "outputs": [],
   "source": []
  },
  {
   "cell_type": "code",
   "execution_count": null,
   "metadata": {},
   "outputs": [],
   "source": []
  },
  {
   "cell_type": "markdown",
   "metadata": {},
   "source": [
    "## 2. Algoritmo SVD y solución de sistema lineal\n",
    "\n",
    "Esta sección aborda el diseño del método de eliminación por bloques para la solución de un sistema lineal mediante el método SVD.\n",
    "\n",
    "### 2.1 One-sided Jacobi numerical aproximación"
   ]
  },
  {
   "cell_type": "code",
   "execution_count": 3,
   "metadata": {},
   "outputs": [],
   "source": [
    "svd_jacobi_aprox <- function(A,TOL,maxsweep){\n",
    "    #Función que devuelve una lista con las matrices U, S, V que aproximan númericamente a A \n",
    "    #por medio del método de One-sided Jacobi \n",
    "    # Args: \n",
    "    #    A: matriz a la que se le calculará su SVD\n",
    "    #    TOL (numeric): controla la convergencia del método\n",
    "    #    maxsweep (numeric): número máximo de sweeps \n",
    "    #Returns: lista con matrices U, S, V\n",
    "\n",
    "\n",
    "    #dimensiones\n",
    "    n<-dim(A)[2] #numero de columnas\n",
    "    m<-dim(A)[1] #numero de filas\n",
    "    nmax<-n*(n-1)/2\n",
    "\n",
    "    #inicialza valores del ciclo\n",
    "    ak<-A\n",
    "    vk<-diag(n)\n",
    "    sig <- NULL\n",
    "    uk <- ak\n",
    "    num_col_ortogonal<-0\n",
    "    k<-0\n",
    "\n",
    "    while(k<=maxsweep & num_col_ortogonal<nmax){\n",
    "    num_col_ortogonal<-0\n",
    "  \n",
    "    ind <- indices(n)\n",
    "    for(i in 1:nmax){\n",
    "      col_j<-ak[,ind[[i]][[1]][2]]\n",
    "      col_i<-ak[,ind[[i]][[1]][1]]\n",
    "    \n",
    "      #comprueba ortogonalidad  \n",
    "      if(ortogonal(col_i,col_j,TOL==1)){\n",
    "        num_col_ortogonal<-num_col_ortogonal+1\n",
    "      }\n",
    "      else{\n",
    "        #calcula coeficientes de la matriz\n",
    "        a<-sum(col_i*col_i)\n",
    "        b<-sum(col_j*col_j)\n",
    "        c<-col_i%*%col_j\n",
    "        \n",
    "        #calcula la rotacion givens que diagonaliza\n",
    "        epsilon<-(b-a)/(2*c)\n",
    "        t<-signo(epsilon)/(abs(epsilon)+sqrt(1+epsilon**2))\n",
    "        cs<-1/sqrt(1+t**2)\n",
    "        sn<-cs*t\n",
    "        \n",
    "        #actualiza las columnas de la matriz ak\n",
    "        for(l in seq(1,m)){\n",
    "          temp<-ak[l,ind[[i]][[1]][1]]\n",
    "          ak[l,ind[[i]][[1]][1]]<-cs*temp-sn*ak[l,ind[[i]][[1]][2]]\n",
    "          ak[l,ind[[i]][[1]][2]]<-sn*temp+cs*ak[l,ind[[i]][[1]][2]]\n",
    "        }\n",
    "        \n",
    "        #actualiza las columnas de la matriz vk\n",
    "        for(l in seq(1,n)){\n",
    "          temp<-vk[l,ind[[i]][[1]][1]]\n",
    "          vk[l,ind[[i]][[1]][1]]<-cs*temp-sn*vk[l,ind[[i]][[1]][2]]\n",
    "          vk[l,ind[[i]][[1]][2]]<-sn*temp+cs*vk[l,ind[[i]][[1]][2]]\n",
    "        \n",
    "      }\n",
    "    }\n",
    "  }\n",
    "  k<-k+1\n",
    "}\n",
    "        for(i in 1:n){\n",
    "        sig<- append(sig,norm(ak[,i],type =\"2\"))\n",
    "    }\n",
    "\n",
    "\n",
    "    for(i in 1:n){\n",
    "        uk[,i] <- ak[,i]/sig[i]\n",
    "    }\n",
    "\n",
    "    S <- diag(sig)\n",
    "\n",
    "    list(S = S, U = uk, V= vk)\n",
    " }   "
   ]
  },
  {
   "cell_type": "code",
   "execution_count": 2,
   "metadata": {},
   "outputs": [],
   "source": [
    "#funciones auxilieres que aun no funcionan bien arriba\n",
    "signo<-function(x){\n",
    "  ifelse(x<0,-1,1)\n",
    "}\n",
    "\n",
    "ortogonal<-function(col_i,col_j,TOL){\n",
    "  if(sum(col_i*col_j)/(sqrt(sum(col_i*col_i))*sqrt(sum(col_j*col_j)))<TOL){\n",
    "    ret<-1\n",
    "  }\n",
    "  else{\n",
    "    ret<-0\n",
    "  }\n",
    "  ret\n",
    "}\n"
   ]
  },
  {
   "cell_type": "code",
   "execution_count": 6,
   "metadata": {},
   "outputs": [
    {
     "data": {
      "text/html": [
       "<dl>\n",
       "\t<dt>$S</dt>\n",
       "\t\t<dd><table>\n",
       "<caption>A matrix: 3 × 3 of type dbl</caption>\n",
       "<tbody>\n",
       "\t<tr><td>1.570092e-16</td><td>0</td><td>0</td></tr>\n",
       "\t<tr><td>0.000000e+00</td><td>5</td><td>0</td></tr>\n",
       "\t<tr><td>0.000000e+00</td><td>0</td><td>3</td></tr>\n",
       "</tbody>\n",
       "</table>\n",
       "</dd>\n",
       "\t<dt>$U</dt>\n",
       "\t\t<dd><table>\n",
       "<caption>A matrix: 2 × 3 of type dbl</caption>\n",
       "<tbody>\n",
       "\t<tr><td>-0.7071068</td><td>0.7071068</td><td> 0.7071068</td></tr>\n",
       "\t<tr><td> 0.7071068</td><td>0.7071068</td><td>-0.7071068</td></tr>\n",
       "</tbody>\n",
       "</table>\n",
       "</dd>\n",
       "\t<dt>$V</dt>\n",
       "\t\t<dd><table>\n",
       "<caption>A matrix: 3 × 3 of type dbl</caption>\n",
       "<tbody>\n",
       "\t<tr><td> 0.6666667</td><td>0.7071068</td><td> 0.2357023</td></tr>\n",
       "\t<tr><td>-0.6666667</td><td>0.7071068</td><td>-0.2357023</td></tr>\n",
       "\t<tr><td>-0.3333333</td><td>0.0000000</td><td> 0.9428090</td></tr>\n",
       "</tbody>\n",
       "</table>\n",
       "</dd>\n",
       "</dl>\n"
      ],
      "text/latex": [
       "\\begin{description}\n",
       "\\item[\\$S] A matrix: 3 × 3 of type dbl\n",
       "\\begin{tabular}{lll}\n",
       "\t 1.570092e-16 & 0 & 0\\\\\n",
       "\t 0.000000e+00 & 5 & 0\\\\\n",
       "\t 0.000000e+00 & 0 & 3\\\\\n",
       "\\end{tabular}\n",
       "\n",
       "\\item[\\$U] A matrix: 2 × 3 of type dbl\n",
       "\\begin{tabular}{lll}\n",
       "\t -0.7071068 & 0.7071068 &  0.7071068\\\\\n",
       "\t  0.7071068 & 0.7071068 & -0.7071068\\\\\n",
       "\\end{tabular}\n",
       "\n",
       "\\item[\\$V] A matrix: 3 × 3 of type dbl\n",
       "\\begin{tabular}{lll}\n",
       "\t  0.6666667 & 0.7071068 &  0.2357023\\\\\n",
       "\t -0.6666667 & 0.7071068 & -0.2357023\\\\\n",
       "\t -0.3333333 & 0.0000000 &  0.9428090\\\\\n",
       "\\end{tabular}\n",
       "\n",
       "\\end{description}\n"
      ],
      "text/markdown": [
       "$S\n",
       ":   \n",
       "A matrix: 3 × 3 of type dbl\n",
       "\n",
       "| 1.570092e-16 | 0 | 0 |\n",
       "| 0.000000e+00 | 5 | 0 |\n",
       "| 0.000000e+00 | 0 | 3 |\n",
       "\n",
       "\n",
       "$U\n",
       ":   \n",
       "A matrix: 2 × 3 of type dbl\n",
       "\n",
       "| -0.7071068 | 0.7071068 |  0.7071068 |\n",
       "|  0.7071068 | 0.7071068 | -0.7071068 |\n",
       "\n",
       "\n",
       "$V\n",
       ":   \n",
       "A matrix: 3 × 3 of type dbl\n",
       "\n",
       "|  0.6666667 | 0.7071068 |  0.2357023 |\n",
       "| -0.6666667 | 0.7071068 | -0.2357023 |\n",
       "| -0.3333333 | 0.0000000 |  0.9428090 |\n",
       "\n",
       "\n",
       "\n",
       "\n"
      ],
      "text/plain": [
       "$S\n",
       "             [,1] [,2] [,3]\n",
       "[1,] 1.570092e-16    0    0\n",
       "[2,] 0.000000e+00    5    0\n",
       "[3,] 0.000000e+00    0    3\n",
       "\n",
       "$U\n",
       "           [,1]      [,2]       [,3]\n",
       "[1,] -0.7071068 0.7071068  0.7071068\n",
       "[2,]  0.7071068 0.7071068 -0.7071068\n",
       "\n",
       "$V\n",
       "           [,1]      [,2]       [,3]\n",
       "[1,]  0.6666667 0.7071068  0.2357023\n",
       "[2,] -0.6666667 0.7071068 -0.2357023\n",
       "[3,] -0.3333333 0.0000000  0.9428090\n"
      ]
     },
     "metadata": {},
     "output_type": "display_data"
    }
   ],
   "source": [
    "#Ejemplo\n",
    "#parametros de entrada\n",
    "A<-matrix(c(3,2,2,3,2,-2),nrow=2)\n",
    "TOL<-10**-8\n",
    "maxsweep<-20\n",
    "#Función\n",
    "svd_jacobi_aprox(A,TOL,maxsweep)"
   ]
  },
  {
   "cell_type": "markdown",
   "metadata": {},
   "source": [
    "### 2.2 Linear solver aproximating SVD decomposition using One-sided Jacobi algorithm"
   ]
  },
  {
   "cell_type": "code",
   "execution_count": null,
   "metadata": {},
   "outputs": [],
   "source": []
  },
  {
   "cell_type": "code",
   "execution_count": null,
   "metadata": {},
   "outputs": [],
   "source": []
  },
  {
   "cell_type": "code",
   "execution_count": null,
   "metadata": {},
   "outputs": [],
   "source": []
  },
  {
   "cell_type": "code",
   "execution_count": null,
   "metadata": {},
   "outputs": [],
   "source": []
  }
 ],
 "metadata": {
  "kernelspec": {
   "display_name": "R",
   "language": "R",
   "name": "ir"
  },
  "language_info": {
   "codemirror_mode": "r",
   "file_extension": ".r",
   "mimetype": "text/x-r-source",
   "name": "R",
   "pygments_lexer": "r",
   "version": "3.6.2"
  }
 },
 "nbformat": 4,
 "nbformat_minor": 4
}
