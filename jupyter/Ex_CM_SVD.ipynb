{
 "cells": [
  {
   "cell_type": "markdown",
   "metadata": {},
   "source": [
    "# Examen de cómputo matricial equipo SVD\n",
    "\n",
    "**Fecha**\n",
    "\n",
    "19 de Abril de 2020\n",
    "\n",
    "**Objetivo**\n",
    "\n",
    "Programar en el lenguaje R el método de eliminación por bloques para la solución de un sistema de ecuaciones $$Ax=b$$ mediante el método de descomposición en valores singulares (DVS o SVD por siglas en inglés), a través del Algoritmo One-Sided Jacobi.\n",
    "\n",
    "**Especificaciones de ambiente común de trabajo**\n",
    "\n",
    "Para trabajar y a efecto de tener un entorno común de trabajo para el desarrollo del proyecto, por favor emplear la imagen de docker basada en R del curso MNO 2020 (palmoreck/jupyterlab_r_kernel:1.1.0)\n",
    "\n",
    "```\n",
    "docker run --rm -v `pwd`:/datos --name jupyterlab_r_kernel_local -p 8888:8888 -d palmoreck/jupyterlab_r_kernel:1.1.0\n",
    "\n",
    "```\n",
    "\n",
    "*Nota:* el comando \"-v \\`pwd\\`:/datos\", permite montar el directorio actual en donde el usuario se encuentre situada en terminal como un volumen de la imagen de docker, dentro del directorio \"/datos\".\n",
    "\n",
    "**Comentarios**\n",
    "\n",
    "Para mayor información consultar el [Project Board](https://github.com/mno-2020-gh-classroom/ex-modulo-3-comp-matricial-svd-czammar/projects/1), la [especificación simplificada del algoritmo](https://github.com/mno-2020-gh-classroom/ex-modulo-3-comp-matricial-svd-czammar/blob/master/References/Simplified_SVD_OneSidedJacobi_Algorithm.md) así como las instrucciones de los issues correspondientes\n",
    "\n",
    "\n",
    "## 1. Funciones auxiliares\n",
    "\n",
    "Las siguientes funciones serán procedimientos de apoyo en el diseño del método de eliminación por bloques para la solución de un sistema lineal mediante el método SVD.\n",
    "\n",
    "### 1.1 Generación de índices"
   ]
  },
  {
   "cell_type": "code",
   "execution_count": 1,
   "metadata": {},
   "outputs": [],
   "source": [
    "indices <- function(n) {\n",
    "  # Crea una lista de tamaño (n-1)n/2 con pares de índices de la siguiente\n",
    "  #  manera: (1,2),..,(1,n),(2,3),..,(2,n),...,(n-1,n)\n",
    "  # Args: \n",
    "  #    n: número entero postivo \n",
    "  #       se refiere al número de columnas\n",
    "  #Returns:\n",
    "  #    lista con pares de índices\n",
    "    a <- NULL\n",
    "    b <- NULL\n",
    "    indices <- NULL\n",
    "    for (i in 1:(n-1)){\n",
    "    a <- append(a,rep(i,n-i))\n",
    "    b <- append(b,seq(i+1,n))    \n",
    "    }\n",
    "    for(i in 1:round(n*(n-1)/2))\n",
    "    indices[[i]] <- list(c(a[i], b[i]))\n",
    "    indices\n",
    "\n",
    "\n",
    "}"
   ]
  },
  {
   "cell_type": "code",
   "execution_count": null,
   "metadata": {},
   "outputs": [],
   "source": []
  },
  {
   "cell_type": "code",
   "execution_count": null,
   "metadata": {},
   "outputs": [],
   "source": []
  },
  {
   "cell_type": "markdown",
   "metadata": {},
   "source": [
    "### 1.2 Verificación de ortogonalidad entre vectores"
   ]
  },
  {
   "cell_type": "code",
   "execution_count": 2,
   "metadata": {},
   "outputs": [],
   "source": [
    "ortogonal <- function(u,v,TOL=10^-8){\n",
    "  # Verifica si dos vectores son ortogonales, arrojando un 1 si lo es, y un 0 si no lo es.\n",
    "  # Args: \n",
    "    # u, v como vectores de la misma dimensión.Y un valor real de tolerancia TOL(10^-8).\n",
    "    # Nota: Se sugiere una TOL mayor a 10^-32.\n",
    "  # Returns: \n",
    "    # Valor booleano 0 (no son ortongoales), 1 (son ortogonales)\n",
    "    if ( norm(u,type =\"2\") < TOL | norm(v,type =\"2\") < TOL){ret<-0} \n",
    "    else{ \n",
    "        if( (u%*%v)/(norm(u,type =\"2\")*norm(v,type =\"2\")) < TOL){ret<-1}\n",
    "        else{ret<-0}  \n",
    "    }\n",
    "  ret\n",
    "}"
   ]
  },
  {
   "cell_type": "code",
   "execution_count": null,
   "metadata": {},
   "outputs": [],
   "source": []
  },
  {
   "cell_type": "code",
   "execution_count": null,
   "metadata": {},
   "outputs": [],
   "source": []
  },
  {
   "cell_type": "code",
   "execution_count": null,
   "metadata": {},
   "outputs": [],
   "source": []
  },
  {
   "cell_type": "code",
   "execution_count": null,
   "metadata": {},
   "outputs": [],
   "source": []
  },
  {
   "cell_type": "code",
   "execution_count": null,
   "metadata": {},
   "outputs": [],
   "source": []
  },
  {
   "cell_type": "markdown",
   "metadata": {},
   "source": [
    "### 1.3 Función signo"
   ]
  },
  {
   "cell_type": "code",
   "execution_count": 3,
   "metadata": {},
   "outputs": [],
   "source": [
    "signo<-function(x) {\n",
    "  # Indica el signo de un número x\n",
    "  # Args: \n",
    "  #    x (numeric): número a revisar\n",
    "  # Returns:\n",
    "  #    1 si el número es positivo o cero\n",
    "  #    -1 si el número es negativo\n",
    "  \n",
    "  ifelse(x<0,-1,1)\n",
    "  }"
   ]
  },
  {
   "cell_type": "code",
   "execution_count": null,
   "metadata": {},
   "outputs": [],
   "source": []
  },
  {
   "cell_type": "code",
   "execution_count": null,
   "metadata": {},
   "outputs": [],
   "source": []
  },
  {
   "cell_type": "markdown",
   "metadata": {},
   "source": [
    "### 1.4 Solver dada descomposición SVD"
   ]
  },
  {
   "cell_type": "code",
   "execution_count": 4,
   "metadata": {},
   "outputs": [],
   "source": [
    "solver <- function(U,S,V,b){\n",
    "    # Construye la solución de un sistema de ecuaciones a partir de matrices \n",
    "    # U, S, V, y vector b. Se asume que S es diagonal. \n",
    "    # Para ello resuelve S d = U^Tb, para construir x=Vd.\n",
    "    # Notas:\n",
    "    # 1) Se utilizó la función backsolve para resolver el sistema triangular.\n",
    "    # 2) Al ser S diagonal, es indistinto si usar un solver para matrices traingulares inferiores o superiores.\n",
    "    # Args: \n",
    "    #  \t    U (mxm),V(nxn), S(mxn) matriz diagonal y b (m) un vector.\n",
    "    # Returns: \n",
    "    #      x vector (m)\n",
    "  d = backsolve(S, t(U)%*%b)\n",
    "  x = V%*%d\n",
    "  return(x)\n",
    "}"
   ]
  },
  {
   "cell_type": "code",
   "execution_count": null,
   "metadata": {},
   "outputs": [],
   "source": []
  },
  {
   "cell_type": "code",
   "execution_count": null,
   "metadata": {},
   "outputs": [],
   "source": []
  },
  {
   "cell_type": "markdown",
   "metadata": {},
   "source": [
    "## 2. Algoritmo SVD y solución de sistema lineal\n",
    "\n",
    "Esta sección aborda el diseño del método de eliminación por bloques para la solución de un sistema lineal mediante el método SVD.\n",
    "\n",
    "### 2.1 One-sided Jacobi numerical aproximación"
   ]
  },
  {
   "cell_type": "code",
   "execution_count": 5,
   "metadata": {},
   "outputs": [],
   "source": [
    "svd_jacobi_aprox <- function(A,TOL,maxsweep){\n",
    "    # Función que calcula la descomposición de una matriz A en sus componentes U, S V, \n",
    "    # utilizando el método de Jacobi para calcular la factorización SVD.De esta forma \n",
    "    # la matriz A queda descompuesta de la siguiente forma: A = U*S*t(V).\n",
    "    # Args: \n",
    "    #    A (matriz): Matriz de entrada (nxm) de números reales a la que se le calculará la descomposición SVD.\n",
    "    #    TOL (numeric): controla la convergencia del método, siendo un valor real de 10^-8 (sugerido en la nota 3.3.d.SVD)\n",
    "    #    Nota: Se sugiere una TOL mayor a 10^-32.\n",
    "    #    maxsweep (numeric): número máximo de sweeps,donde cada sweep consiste de un número máximo(nmax)\n",
    "    #    de rotaciones; y en cada sweep se ortogonalizan 2 columnas.\n",
    "    # Returns: \n",
    "    #   Lista con 3 elementos, donde el primer elemento representan a las matriz S(mxm) matriz diagonal,el segundo a la matriz U(nxm)\n",
    "    #   y el tercero y último a la matriz V (mxm).En conjunto estas tres matrices componen la factorización SVD de la matriz de entrada A.\n",
    "    \n",
    "    #dimensiones\n",
    "    n<-dim(A)[2] #numero de columnas\n",
    "    m<-dim(A)[1] #numero de filas\n",
    "    nmax<-n*(n-1)/2\n",
    "\n",
    "    #inicialza valores del ciclo\n",
    "    ak<-A\n",
    "    vk<-diag(n)\n",
    "    sig <- NULL\n",
    "    uk <- ak\n",
    "    num_col_ortogonal<-0\n",
    "    k<-0\n",
    "\n",
    "    while(k<=maxsweep & num_col_ortogonal<nmax){\n",
    "    num_col_ortogonal<-0\n",
    "    ind <- indices(n)\n",
    "    for(i in 1:nmax){\n",
    "      col_j<-ak[,ind[[i]][[1]][2]]\n",
    "      col_i<-ak[,ind[[i]][[1]][1]]\n",
    "    \n",
    "      #comprueba ortogonalidad  \n",
    "      if(ortogonal(col_i,col_j,TOL)==1){\n",
    "        num_col_ortogonal<-num_col_ortogonal+1\n",
    "      }\n",
    "      else{\n",
    "        #calcula coeficientes de la matriz\n",
    "        a<-col_i%*%col_i\n",
    "        b<-col_j%*%col_j\n",
    "        c<-col_i%*%col_j\n",
    "        \n",
    "        if(c<TOL){break}\n",
    "        #calcula la rotacion givens que diagonaliza\n",
    "        epsilon<-(b-a)/(2*c)\n",
    "        t<-signo(epsilon)/(abs(epsilon)+sqrt(1+epsilon**2))\n",
    "        cs<-1/sqrt(1+t**2)\n",
    "        sn<-cs*t\n",
    "        \n",
    "        #actualiza las columnas de la matriz ak\n",
    "        temp<-ak[,ind[[i]][[1]][1]] \n",
    "        ak[,ind[[i]][[1]][1]]<-c(cs)*temp-c(sn)*ak[,ind[[i]][[1]][2]]\n",
    "        ak[,ind[[i]][[1]][2]]<-c(sn)*temp+c(cs)*ak[,ind[[i]][[1]][2]]\n",
    "        \n",
    "        \n",
    "        #actualiza las columnas de la matriz vk\n",
    "        temp<-vk[,ind[[i]][[1]][1]] #cambio\n",
    "        vk[,ind[[i]][[1]][1]]<-c(cs)*temp-c(sn)*vk[,ind[[i]][[1]][2]]\n",
    "        vk[,ind[[i]][[1]][2]]<-c(sn)*temp+c(cs)*vk[,ind[[i]][[1]][2]]             \n",
    "       }#cierra else\n",
    "    }#cierra for\n",
    "  k<-k+1\n",
    " }#cierra while\n",
    "    \n",
    "    #Obtener sigma\n",
    "    sig<-apply(ak, 2, function(x){norm(x,\"2\")})\n",
    "\n",
    "    #Obtener U\n",
    "    for(i in 1:n){\n",
    "        if (sig[i]<TOL){\n",
    "            uk[,i]<-0  \n",
    "        } else{\n",
    "        uk[,i] <- ak[,i]/sig[i]\n",
    "        }\n",
    "    }\n",
    "\n",
    "    # Indices de sigma ordenada en forma decreciente para ordenar V,S,U\n",
    "    index <- order(sig,decreasing = TRUE)\n",
    "    vk <- vk[,index]\n",
    "    S <- diag(sig[index])\n",
    "    uk <- uk[,index]\n",
    "\n",
    "    list(S = S, U = uk, V= vk)\n",
    " }   "
   ]
  },
  {
   "cell_type": "code",
   "execution_count": 6,
   "metadata": {},
   "outputs": [],
   "source": [
    "#Ejemplo\n",
    "#parametros de entrada\n",
    "A<-matrix(c(7,0,1,-5.1,0.4,1,3,5,8,-1,6,-1),nrow=4)\n",
    "TOL<-10**-8\n",
    "maxsweep<-20\n",
    "#Función\n",
    "svd<-svd_jacobi_aprox(A,TOL,maxsweep)"
   ]
  },
  {
   "cell_type": "code",
   "execution_count": 7,
   "metadata": {},
   "outputs": [
    {
     "data": {
      "text/html": [
       "<dl>\n",
       "\t<dt>$S</dt>\n",
       "\t\t<dd><table>\n",
       "<caption>A matrix: 3 × 3 of type dbl</caption>\n",
       "<tbody>\n",
       "\t<tr><td>12.54399</td><td>0.000000</td><td>0.000000</td></tr>\n",
       "\t<tr><td> 0.00000</td><td>5.929587</td><td>0.000000</td></tr>\n",
       "\t<tr><td> 0.00000</td><td>0.000000</td><td>4.545133</td></tr>\n",
       "</tbody>\n",
       "</table>\n",
       "</dd>\n",
       "\t<dt>$U</dt>\n",
       "\t\t<dd><table>\n",
       "<caption>A matrix: 4 × 3 of type dbl</caption>\n",
       "<tbody>\n",
       "\t<tr><td> 0.84707087</td><td>0.06745833</td><td> 0.06800458</td></tr>\n",
       "\t<tr><td>-0.06149602</td><td>0.16864581</td><td> 0.14000551</td></tr>\n",
       "\t<tr><td> 0.41970508</td><td>0.50593744</td><td>-0.67031182</td></tr>\n",
       "\t<tr><td>-0.32021371</td><td>0.84322907</td><td>-0.72557280</td></tr>\n",
       "</tbody>\n",
       "</table>\n",
       "</dd>\n",
       "\t<dt>$V</dt>\n",
       "\t\t<dd><table>\n",
       "<caption>A matrix: 3 × 3 of type dbl</caption>\n",
       "<tbody>\n",
       "\t<tr><td>0.6363437</td><td>0</td><td> 0.7714057</td></tr>\n",
       "\t<tr><td>0.0000000</td><td>1</td><td> 0.0000000</td></tr>\n",
       "\t<tr><td>0.7714057</td><td>0</td><td>-0.6363437</td></tr>\n",
       "</tbody>\n",
       "</table>\n",
       "</dd>\n",
       "</dl>\n"
      ],
      "text/latex": [
       "\\begin{description}\n",
       "\\item[\\$S] A matrix: 3 × 3 of type dbl\n",
       "\\begin{tabular}{lll}\n",
       "\t 12.54399 & 0.000000 & 0.000000\\\\\n",
       "\t  0.00000 & 5.929587 & 0.000000\\\\\n",
       "\t  0.00000 & 0.000000 & 4.545133\\\\\n",
       "\\end{tabular}\n",
       "\n",
       "\\item[\\$U] A matrix: 4 × 3 of type dbl\n",
       "\\begin{tabular}{lll}\n",
       "\t  0.84707087 & 0.06745833 &  0.06800458\\\\\n",
       "\t -0.06149602 & 0.16864581 &  0.14000551\\\\\n",
       "\t  0.41970508 & 0.50593744 & -0.67031182\\\\\n",
       "\t -0.32021371 & 0.84322907 & -0.72557280\\\\\n",
       "\\end{tabular}\n",
       "\n",
       "\\item[\\$V] A matrix: 3 × 3 of type dbl\n",
       "\\begin{tabular}{lll}\n",
       "\t 0.6363437 & 0 &  0.7714057\\\\\n",
       "\t 0.0000000 & 1 &  0.0000000\\\\\n",
       "\t 0.7714057 & 0 & -0.6363437\\\\\n",
       "\\end{tabular}\n",
       "\n",
       "\\end{description}\n"
      ],
      "text/markdown": [
       "$S\n",
       ":   \n",
       "A matrix: 3 × 3 of type dbl\n",
       "\n",
       "| 12.54399 | 0.000000 | 0.000000 |\n",
       "|  0.00000 | 5.929587 | 0.000000 |\n",
       "|  0.00000 | 0.000000 | 4.545133 |\n",
       "\n",
       "\n",
       "$U\n",
       ":   \n",
       "A matrix: 4 × 3 of type dbl\n",
       "\n",
       "|  0.84707087 | 0.06745833 |  0.06800458 |\n",
       "| -0.06149602 | 0.16864581 |  0.14000551 |\n",
       "|  0.41970508 | 0.50593744 | -0.67031182 |\n",
       "| -0.32021371 | 0.84322907 | -0.72557280 |\n",
       "\n",
       "\n",
       "$V\n",
       ":   \n",
       "A matrix: 3 × 3 of type dbl\n",
       "\n",
       "| 0.6363437 | 0 |  0.7714057 |\n",
       "| 0.0000000 | 1 |  0.0000000 |\n",
       "| 0.7714057 | 0 | -0.6363437 |\n",
       "\n",
       "\n",
       "\n",
       "\n"
      ],
      "text/plain": [
       "$S\n",
       "         [,1]     [,2]     [,3]\n",
       "[1,] 12.54399 0.000000 0.000000\n",
       "[2,]  0.00000 5.929587 0.000000\n",
       "[3,]  0.00000 0.000000 4.545133\n",
       "\n",
       "$U\n",
       "            [,1]       [,2]        [,3]\n",
       "[1,]  0.84707087 0.06745833  0.06800458\n",
       "[2,] -0.06149602 0.16864581  0.14000551\n",
       "[3,]  0.41970508 0.50593744 -0.67031182\n",
       "[4,] -0.32021371 0.84322907 -0.72557280\n",
       "\n",
       "$V\n",
       "          [,1] [,2]       [,3]\n",
       "[1,] 0.6363437    0  0.7714057\n",
       "[2,] 0.0000000    1  0.0000000\n",
       "[3,] 0.7714057    0 -0.6363437\n"
      ]
     },
     "metadata": {},
     "output_type": "display_data"
    }
   ],
   "source": [
    "svd"
   ]
  },
  {
   "cell_type": "code",
   "execution_count": null,
   "metadata": {},
   "outputs": [],
   "source": []
  },
  {
   "cell_type": "markdown",
   "metadata": {},
   "source": [
    "### 2.2 Linear solver aproximating SVD decomposition using One-sided Jacobi algorithm"
   ]
  },
  {
   "cell_type": "code",
   "execution_count": 8,
   "metadata": {},
   "outputs": [],
   "source": [
    "sel_solver<-function(A,b,TOL=10**-8,maxsweep=20){\n",
    "    #Función resuelve un sistema de ecuaciones lineales (SEL) utilizando la descomposición SVD\n",
    "    #por medio del método de One-sided Jacobi \n",
    "    #El SEL es de la forma Ax=b\n",
    "    # Args: \n",
    "    #    A (float): matriz de incógnitas del SEL\n",
    "    #    b (float): vector de igualdada del sistema\n",
    "    #    TOL (numeric): controla la convergencia del método\n",
    "    #    maxsweep (int): número máximo de sweeps \n",
    "    #Returns: x (float): vector solución \n",
    "\n",
    "    svd<-svd_jacobi_aprox(A,TOL,maxsweep)\n",
    "    x<-solver(svd$U,svd$S,svd$V,b)\n",
    "    x\n",
    "}"
   ]
  },
  {
   "cell_type": "code",
   "execution_count": 9,
   "metadata": {},
   "outputs": [],
   "source": [
    "A<-matrix(c(-1,3,2,2,1,3),nrow=3)\n",
    "b<-c(5,7,12)\n",
    "x<-sel_solver(A,b,maxsweep=40)"
   ]
  },
  {
   "cell_type": "code",
   "execution_count": 10,
   "metadata": {},
   "outputs": [
    {
     "data": {
      "text/html": [
       "<table>\n",
       "<caption>A matrix: 3 × 1 of type dbl</caption>\n",
       "<tbody>\n",
       "\t<tr><td> 5</td></tr>\n",
       "\t<tr><td> 7</td></tr>\n",
       "\t<tr><td>12</td></tr>\n",
       "</tbody>\n",
       "</table>\n"
      ],
      "text/latex": [
       "A matrix: 3 × 1 of type dbl\n",
       "\\begin{tabular}{l}\n",
       "\t  5\\\\\n",
       "\t  7\\\\\n",
       "\t 12\\\\\n",
       "\\end{tabular}\n"
      ],
      "text/markdown": [
       "\n",
       "A matrix: 3 × 1 of type dbl\n",
       "\n",
       "|  5 |\n",
       "|  7 |\n",
       "| 12 |\n",
       "\n"
      ],
      "text/plain": [
       "     [,1]\n",
       "[1,]  5  \n",
       "[2,]  7  \n",
       "[3,] 12  "
      ]
     },
     "metadata": {},
     "output_type": "display_data"
    }
   ],
   "source": [
    "A%*%x"
   ]
  },
  {
   "cell_type": "code",
   "execution_count": 14,
   "metadata": {},
   "outputs": [],
   "source": []
  },
  {
   "cell_type": "code",
   "execution_count": null,
   "metadata": {},
   "outputs": [],
   "source": []
  },
  {
   "cell_type": "markdown",
   "metadata": {},
   "source": [
    "### 2.3 Eliminación por bloques basada en solver linear que usa SVD"
   ]
  },
  {
   "cell_type": "code",
   "execution_count": 11,
   "metadata": {},
   "outputs": [],
   "source": [
    "bloques<-function(A,b,corte) {\n",
    "  #Función que genera los bloques de la matriz A y el vector respuesta b\n",
    "  #Args: A (matriz) - matriz inicial(n*n)\n",
    "  #      b (vector) - Solución de Ax = b , (nx1)\n",
    "  #      corte (int) - tamaño del bloque (valor entre 1 y n)\n",
    "  #Returns: lista con la matriz A dividida en 4 bloques: A11,A12, A21, A22 y el vector b\n",
    "  #         dividido en 2 bloques b1, b2\n",
    "\n",
    "  a11 <- A[c(1:corte),c(1:corte)]\n",
    "  a12 <- A[c(1:corte),c((corte+1):dim(A)[2])]\n",
    "  a21 <- A[c((corte+1):dim(A)[1]),c(1:corte)]\n",
    "  a22 <- A[c((corte+1):dim(A)[1]),c((corte+1):dim(A)[2])]\n",
    "\n",
    "  b1 <- b[1:(corte)]\n",
    "  b2 <- b[((corte)+1):length(b)]\n",
    "\n",
    "  list(A11 = a11,A12 =a12, A21=a21, A22=a22, b1 = b1, b2 = b2)\n",
    "} "
   ]
  },
  {
   "cell_type": "code",
   "execution_count": 12,
   "metadata": {},
   "outputs": [
    {
     "data": {
      "text/html": [
       "<table>\n",
       "<caption>A matrix: 7 × 7 of type int</caption>\n",
       "<tbody>\n",
       "\t<tr><td>46</td><td>48</td><td>34</td><td>19</td><td>42</td><td>50</td><td>39</td></tr>\n",
       "\t<tr><td>33</td><td>26</td><td> 1</td><td>42</td><td>50</td><td>12</td><td>22</td></tr>\n",
       "\t<tr><td>38</td><td>50</td><td> 7</td><td>45</td><td>50</td><td>15</td><td> 2</td></tr>\n",
       "\t<tr><td>47</td><td>50</td><td>41</td><td> 9</td><td> 1</td><td>26</td><td>46</td></tr>\n",
       "\t<tr><td> 8</td><td> 0</td><td> 5</td><td>22</td><td>30</td><td> 0</td><td>29</td></tr>\n",
       "\t<tr><td>42</td><td>32</td><td> 7</td><td>16</td><td>14</td><td>35</td><td> 1</td></tr>\n",
       "\t<tr><td> 8</td><td>11</td><td> 6</td><td>32</td><td>29</td><td>19</td><td>43</td></tr>\n",
       "</tbody>\n",
       "</table>\n"
      ],
      "text/latex": [
       "A matrix: 7 × 7 of type int\n",
       "\\begin{tabular}{lllllll}\n",
       "\t 46 & 48 & 34 & 19 & 42 & 50 & 39\\\\\n",
       "\t 33 & 26 &  1 & 42 & 50 & 12 & 22\\\\\n",
       "\t 38 & 50 &  7 & 45 & 50 & 15 &  2\\\\\n",
       "\t 47 & 50 & 41 &  9 &  1 & 26 & 46\\\\\n",
       "\t  8 &  0 &  5 & 22 & 30 &  0 & 29\\\\\n",
       "\t 42 & 32 &  7 & 16 & 14 & 35 &  1\\\\\n",
       "\t  8 & 11 &  6 & 32 & 29 & 19 & 43\\\\\n",
       "\\end{tabular}\n"
      ],
      "text/markdown": [
       "\n",
       "A matrix: 7 × 7 of type int\n",
       "\n",
       "| 46 | 48 | 34 | 19 | 42 | 50 | 39 |\n",
       "| 33 | 26 |  1 | 42 | 50 | 12 | 22 |\n",
       "| 38 | 50 |  7 | 45 | 50 | 15 |  2 |\n",
       "| 47 | 50 | 41 |  9 |  1 | 26 | 46 |\n",
       "|  8 |  0 |  5 | 22 | 30 |  0 | 29 |\n",
       "| 42 | 32 |  7 | 16 | 14 | 35 |  1 |\n",
       "|  8 | 11 |  6 | 32 | 29 | 19 | 43 |\n",
       "\n"
      ],
      "text/plain": [
       "     [,1] [,2] [,3] [,4] [,5] [,6] [,7]\n",
       "[1,] 46   48   34   19   42   50   39  \n",
       "[2,] 33   26    1   42   50   12   22  \n",
       "[3,] 38   50    7   45   50   15    2  \n",
       "[4,] 47   50   41    9    1   26   46  \n",
       "[5,]  8    0    5   22   30    0   29  \n",
       "[6,] 42   32    7   16   14   35    1  \n",
       "[7,]  8   11    6   32   29   19   43  "
      ]
     },
     "metadata": {},
     "output_type": "display_data"
    },
    {
     "data": {
      "text/html": [
       "<style>\n",
       ".list-inline {list-style: none; margin:0; padding: 0}\n",
       ".list-inline>li {display: inline-block}\n",
       ".list-inline>li:not(:last-child)::after {content: \"\\00b7\"; padding: 0 .5ex}\n",
       "</style>\n",
       "<ol class=list-inline><li>1</li><li>2</li><li>3</li><li>4</li><li>5</li><li>6</li><li>7</li></ol>\n"
      ],
      "text/latex": [
       "\\begin{enumerate*}\n",
       "\\item 1\n",
       "\\item 2\n",
       "\\item 3\n",
       "\\item 4\n",
       "\\item 5\n",
       "\\item 6\n",
       "\\item 7\n",
       "\\end{enumerate*}\n"
      ],
      "text/markdown": [
       "1. 1\n",
       "2. 2\n",
       "3. 3\n",
       "4. 4\n",
       "5. 5\n",
       "6. 6\n",
       "7. 7\n",
       "\n",
       "\n"
      ],
      "text/plain": [
       "[1] 1 2 3 4 5 6 7"
      ]
     },
     "metadata": {},
     "output_type": "display_data"
    },
    {
     "data": {
      "text/html": [
       "<dl>\n",
       "\t<dt>$A11</dt>\n",
       "\t\t<dd><table>\n",
       "<caption>A matrix: 4 × 4 of type int</caption>\n",
       "<tbody>\n",
       "\t<tr><td>46</td><td>48</td><td>34</td><td>19</td></tr>\n",
       "\t<tr><td>33</td><td>26</td><td> 1</td><td>42</td></tr>\n",
       "\t<tr><td>38</td><td>50</td><td> 7</td><td>45</td></tr>\n",
       "\t<tr><td>47</td><td>50</td><td>41</td><td> 9</td></tr>\n",
       "</tbody>\n",
       "</table>\n",
       "</dd>\n",
       "\t<dt>$A12</dt>\n",
       "\t\t<dd><table>\n",
       "<caption>A matrix: 4 × 3 of type int</caption>\n",
       "<tbody>\n",
       "\t<tr><td>42</td><td>50</td><td>39</td></tr>\n",
       "\t<tr><td>50</td><td>12</td><td>22</td></tr>\n",
       "\t<tr><td>50</td><td>15</td><td> 2</td></tr>\n",
       "\t<tr><td> 1</td><td>26</td><td>46</td></tr>\n",
       "</tbody>\n",
       "</table>\n",
       "</dd>\n",
       "\t<dt>$A21</dt>\n",
       "\t\t<dd><table>\n",
       "<caption>A matrix: 3 × 4 of type int</caption>\n",
       "<tbody>\n",
       "\t<tr><td> 8</td><td> 0</td><td>5</td><td>22</td></tr>\n",
       "\t<tr><td>42</td><td>32</td><td>7</td><td>16</td></tr>\n",
       "\t<tr><td> 8</td><td>11</td><td>6</td><td>32</td></tr>\n",
       "</tbody>\n",
       "</table>\n",
       "</dd>\n",
       "\t<dt>$A22</dt>\n",
       "\t\t<dd><table>\n",
       "<caption>A matrix: 3 × 3 of type int</caption>\n",
       "<tbody>\n",
       "\t<tr><td>30</td><td> 0</td><td>29</td></tr>\n",
       "\t<tr><td>14</td><td>35</td><td> 1</td></tr>\n",
       "\t<tr><td>29</td><td>19</td><td>43</td></tr>\n",
       "</tbody>\n",
       "</table>\n",
       "</dd>\n",
       "\t<dt>$b1</dt>\n",
       "\t\t<dd><style>\n",
       ".list-inline {list-style: none; margin:0; padding: 0}\n",
       ".list-inline>li {display: inline-block}\n",
       ".list-inline>li:not(:last-child)::after {content: \"\\00b7\"; padding: 0 .5ex}\n",
       "</style>\n",
       "<ol class=list-inline><li>1</li><li>2</li><li>3</li><li>4</li></ol>\n",
       "</dd>\n",
       "\t<dt>$b2</dt>\n",
       "\t\t<dd><style>\n",
       ".list-inline {list-style: none; margin:0; padding: 0}\n",
       ".list-inline>li {display: inline-block}\n",
       ".list-inline>li:not(:last-child)::after {content: \"\\00b7\"; padding: 0 .5ex}\n",
       "</style>\n",
       "<ol class=list-inline><li>5</li><li>6</li><li>7</li></ol>\n",
       "</dd>\n",
       "</dl>\n"
      ],
      "text/latex": [
       "\\begin{description}\n",
       "\\item[\\$A11] A matrix: 4 × 4 of type int\n",
       "\\begin{tabular}{llll}\n",
       "\t 46 & 48 & 34 & 19\\\\\n",
       "\t 33 & 26 &  1 & 42\\\\\n",
       "\t 38 & 50 &  7 & 45\\\\\n",
       "\t 47 & 50 & 41 &  9\\\\\n",
       "\\end{tabular}\n",
       "\n",
       "\\item[\\$A12] A matrix: 4 × 3 of type int\n",
       "\\begin{tabular}{lll}\n",
       "\t 42 & 50 & 39\\\\\n",
       "\t 50 & 12 & 22\\\\\n",
       "\t 50 & 15 &  2\\\\\n",
       "\t  1 & 26 & 46\\\\\n",
       "\\end{tabular}\n",
       "\n",
       "\\item[\\$A21] A matrix: 3 × 4 of type int\n",
       "\\begin{tabular}{llll}\n",
       "\t  8 &  0 & 5 & 22\\\\\n",
       "\t 42 & 32 & 7 & 16\\\\\n",
       "\t  8 & 11 & 6 & 32\\\\\n",
       "\\end{tabular}\n",
       "\n",
       "\\item[\\$A22] A matrix: 3 × 3 of type int\n",
       "\\begin{tabular}{lll}\n",
       "\t 30 &  0 & 29\\\\\n",
       "\t 14 & 35 &  1\\\\\n",
       "\t 29 & 19 & 43\\\\\n",
       "\\end{tabular}\n",
       "\n",
       "\\item[\\$b1] \\begin{enumerate*}\n",
       "\\item 1\n",
       "\\item 2\n",
       "\\item 3\n",
       "\\item 4\n",
       "\\end{enumerate*}\n",
       "\n",
       "\\item[\\$b2] \\begin{enumerate*}\n",
       "\\item 5\n",
       "\\item 6\n",
       "\\item 7\n",
       "\\end{enumerate*}\n",
       "\n",
       "\\end{description}\n"
      ],
      "text/markdown": [
       "$A11\n",
       ":   \n",
       "A matrix: 4 × 4 of type int\n",
       "\n",
       "| 46 | 48 | 34 | 19 |\n",
       "| 33 | 26 |  1 | 42 |\n",
       "| 38 | 50 |  7 | 45 |\n",
       "| 47 | 50 | 41 |  9 |\n",
       "\n",
       "\n",
       "$A12\n",
       ":   \n",
       "A matrix: 4 × 3 of type int\n",
       "\n",
       "| 42 | 50 | 39 |\n",
       "| 50 | 12 | 22 |\n",
       "| 50 | 15 |  2 |\n",
       "|  1 | 26 | 46 |\n",
       "\n",
       "\n",
       "$A21\n",
       ":   \n",
       "A matrix: 3 × 4 of type int\n",
       "\n",
       "|  8 |  0 | 5 | 22 |\n",
       "| 42 | 32 | 7 | 16 |\n",
       "|  8 | 11 | 6 | 32 |\n",
       "\n",
       "\n",
       "$A22\n",
       ":   \n",
       "A matrix: 3 × 3 of type int\n",
       "\n",
       "| 30 |  0 | 29 |\n",
       "| 14 | 35 |  1 |\n",
       "| 29 | 19 | 43 |\n",
       "\n",
       "\n",
       "$b1\n",
       ":   1. 1\n",
       "2. 2\n",
       "3. 3\n",
       "4. 4\n",
       "\n",
       "\n",
       "\n",
       "$b2\n",
       ":   1. 5\n",
       "2. 6\n",
       "3. 7\n",
       "\n",
       "\n",
       "\n",
       "\n",
       "\n"
      ],
      "text/plain": [
       "$A11\n",
       "     [,1] [,2] [,3] [,4]\n",
       "[1,]   46   48   34   19\n",
       "[2,]   33   26    1   42\n",
       "[3,]   38   50    7   45\n",
       "[4,]   47   50   41    9\n",
       "\n",
       "$A12\n",
       "     [,1] [,2] [,3]\n",
       "[1,]   42   50   39\n",
       "[2,]   50   12   22\n",
       "[3,]   50   15    2\n",
       "[4,]    1   26   46\n",
       "\n",
       "$A21\n",
       "     [,1] [,2] [,3] [,4]\n",
       "[1,]    8    0    5   22\n",
       "[2,]   42   32    7   16\n",
       "[3,]    8   11    6   32\n",
       "\n",
       "$A22\n",
       "     [,1] [,2] [,3]\n",
       "[1,]   30    0   29\n",
       "[2,]   14   35    1\n",
       "[3,]   29   19   43\n",
       "\n",
       "$b1\n",
       "[1] 1 2 3 4\n",
       "\n",
       "$b2\n",
       "[1] 5 6 7\n"
      ]
     },
     "metadata": {},
     "output_type": "display_data"
    }
   ],
   "source": [
    "#Prueba\n",
    "A = matrix(sample(0:50,7*7,replace=TRUE), c(7,7)) \n",
    "b = c(1:dim(A)[1])\n",
    "\n",
    "A\n",
    "b\n",
    "bloques(A,b,4)\n"
   ]
  },
  {
   "cell_type": "markdown",
   "metadata": {},
   "source": [
    "Algoritmo\n",
    "\n",
    "Sean $A$ y $A_{11}$ no singulares.\n",
    "\n",
    "1) Calcular $A_{11}^{-1}A_{12}$ y $A_{11}^{-1}b_1$ teniendo cuidado en no calcular la inversa sino un sistema de ecuaciones lineales:\n",
    "\n",
    "Para realizar la multiplicación $A_{11}^{-1}b_1$ definimos $y=A_{11}^{-1}b_1$ y por tanto $A_{11}y = b_1$ ($A_{11}$ es no singular). Así, resolvemos para $y$ el sistema anterior y habremos calculado $A_{11}^{-1}b_1$. Similarmente definimos $Y=A_{11}^{-1}A_{12}$ con lo que se tiene $A_{11}Y=A_{12}$. Resolvemos para $Y \\in \\mathbb{R} ^{n_1 \\times n_1}$ y habremos calculado $A_{11}^{-1}A_{12}$.\n",
    "2) Calcular el complemento de Schur del bloque $A_{11}$ en $A$: $S = A_{22}-A_{21}A_{11}^{-1}A_{12}$. Calcular $ \\hat{b} = b_2-A_{21}A_{11}^{-1}b_1$.\n",
    "\n",
    "3) Resolver $Sx_2 = \\hat{b}$.\n",
    "\n",
    "4) Resolver $A_{11}x_1 = b_1-A_{12}x_2$."
   ]
  },
  {
   "cell_type": "code",
   "execution_count": 13,
   "metadata": {},
   "outputs": [
    {
     "name": "stdout",
     "output_type": "stream",
     "text": [
      "\n",
      "The downloaded binary packages are in\n",
      "\t/var/folders/4h/pz7sf1h93mn0vsyplpp3jxx40000gn/T//RtmpNuUwE1/downloaded_packages\n"
     ]
    }
   ],
   "source": [
    "install.packages(\"matrixcalc\")\n",
    "library(\"matrixcalc\")"
   ]
  },
  {
   "cell_type": "code",
   "execution_count": 14,
   "metadata": {},
   "outputs": [],
   "source": [
    "\n",
    "\n",
    "eliminacion_bloques <- function(A,b,corte, TOL, maxsweep){\n",
    "  #Función que realiza el método de eliminación por bloques\n",
    "  #Args: A (matriz)-  matriz inicial(n*n)\n",
    "  #      b (vector) - Solución de Ax = b , (nx1)\n",
    "  #      corte (int) - tamaño del bloque (valor entre 1 y n)\n",
    "  #      TOL (double) - controla la convergencia del método (valor menor o igual a 10^{-8})\n",
    "  #      maxsweep (int) - número máximo de sweeps  (valor entre 1 y (n-1)*n/2)\n",
    "  #Returns: x: vector\n",
    "\n",
    "  bloq = bloques(A,b,corte)\n",
    "  if(is.singular.matrix(A,TOL) ==FALSE & is.singular.matrix(bloq$A11,TOL) == FALSE){\n",
    "    \n",
    "  y = sel_solver(bloq$A11,bloq$b1,TOL, maxsweep)\n",
    "      \n",
    "  Y= bloq$A12\n",
    "  for(i in 1:dim(bloq$A12)[2]){\n",
    "    Y[,i] = sel_solver(bloq$A11,bloq$A12[,i],TOL, maxsweep)\n",
    "  }\n",
    "      \n",
    "  S = bloq$A22 - bloq$A21%*%Y \n",
    "  b_hat = bloq$b2-bloq$A21%*%y \n",
    "  x_2 = sel_solver(S,b_hat,TOL, maxsweep)\n",
    "  b_hat2 = bloq$b1 -bloq$A12%*%x_2\n",
    "  x_1 = sel_solver(bloq$A11,b_hat2,TOL, maxsweep)\n",
    "  x <- c(x_1,x_2)\n",
    "  x\n",
    "  }else{\n",
    "    print(\"Singulraidad de las matrices involucradas; no hay solucion\")\n",
    "  }\n",
    "  \n",
    "}"
   ]
  },
  {
   "cell_type": "code",
   "execution_count": 15,
   "metadata": {},
   "outputs": [
    {
     "data": {
      "text/html": [
       "<style>\n",
       ".list-inline {list-style: none; margin:0; padding: 0}\n",
       ".list-inline>li {display: inline-block}\n",
       ".list-inline>li:not(:last-child)::after {content: \"\\00b7\"; padding: 0 .5ex}\n",
       "</style>\n",
       "<ol class=list-inline><li>0.0644751535166459</li><li>-7.09675733036989</li><li>3.62280314234066</li><li>1.0681651162762</li><li>2.65850157953542</li><li>-1.2011390985087</li><li>-1.2887123867176</li></ol>\n"
      ],
      "text/latex": [
       "\\begin{enumerate*}\n",
       "\\item 0.0644751535166459\n",
       "\\item -7.09675733036989\n",
       "\\item 3.62280314234066\n",
       "\\item 1.0681651162762\n",
       "\\item 2.65850157953542\n",
       "\\item -1.2011390985087\n",
       "\\item -1.2887123867176\n",
       "\\end{enumerate*}\n"
      ],
      "text/markdown": [
       "1. 0.0644751535166459\n",
       "2. -7.09675733036989\n",
       "3. 3.62280314234066\n",
       "4. 1.0681651162762\n",
       "5. 2.65850157953542\n",
       "6. -1.2011390985087\n",
       "7. -1.2887123867176\n",
       "\n",
       "\n"
      ],
      "text/plain": [
       "[1]  0.06447515 -7.09675733  3.62280314  1.06816512  2.65850158 -1.20113910\n",
       "[7] -1.28871239"
      ]
     },
     "metadata": {},
     "output_type": "display_data"
    }
   ],
   "source": [
    "A = matrix(sample(0:50,7*7,replace=TRUE), c(7,7)) \n",
    "b = c(1:dim(A)[1])\n",
    "TOL = 10**-8\n",
    "maxsweep=40\n",
    "corte = 4\n",
    "eliminacion_bloques(A,b,corte, TOL, maxsweep)"
   ]
  },
  {
   "cell_type": "code",
   "execution_count": null,
   "metadata": {},
   "outputs": [],
   "source": []
  }
 ],
 "metadata": {
  "kernelspec": {
   "display_name": "R",
   "language": "R",
   "name": "ir"
  },
  "language_info": {
   "codemirror_mode": "r",
   "file_extension": ".r",
   "mimetype": "text/x-r-source",
   "name": "R",
   "pygments_lexer": "r",
   "version": "3.6.2"
  }
 },
 "nbformat": 4,
 "nbformat_minor": 4
}
