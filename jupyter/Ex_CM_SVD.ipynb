{
 "cells": [
  {
   "cell_type": "markdown",
   "metadata": {},
   "source": [
    "# Examen de cómputo matricial equipo SVD\n",
    "\n",
    "**Fecha**\n",
    "\n",
    "19 de Abril de 2020\n",
    "\n",
    "**Objetivo**\n",
    "\n",
    "Programar en el lenguaje R el método de eliminación por bloques para la solución de un sistema de ecuaciones $$Ax=b$$ mediante el método de descomposición en valores singulares (DVS o SVD por siglas en inglés), a través del Algoritmo One-Sided Jacobi.\n",
    "\n",
    "**Especificaciones de ambiente común de trabajo**\n",
    "\n",
    "Para trabajar y a efecto de tener un entorno común de trabajo para el desarrollo del proyecto, por favor emplear la imagen de docker basada en R del curso MNO 2020 (palmoreck/jupyterlab_r_kernel:1.1.0)\n",
    "\n",
    "```\n",
    "docker run --rm -v `pwd`:/datos --name jupyterlab_r_kernel_local -p 8888:8888 -d palmoreck/jupyterlab_r_kernel:1.1.0\n",
    "\n",
    "```\n",
    "\n",
    "*Nota:* el comando \"-v \\`pwd\\`:/datos\", permite montar el directorio actual en donde el usuario se encuentre situada en terminal como un volumen de la imagen de docker, dentro del directorio \"/datos\".\n",
    "\n",
    "**Comentarios**\n",
    "\n",
    "Para mayor información consultar el [Project Board](https://github.com/mno-2020-gh-classroom/ex-modulo-3-comp-matricial-svd-czammar/projects/1), la [especificación simplificada del algoritmo](https://github.com/mno-2020-gh-classroom/ex-modulo-3-comp-matricial-svd-czammar/blob/master/References/Simplified_SVD_OneSidedJacobi_Algorithm.md) así como las instrucciones de los issues correspondientes\n",
    "\n",
    "\n",
    "## 1. Funciones auxiliares\n",
    "\n",
    "Las siguientes funciones serán procedimientos de apoyo en el diseño del método de eliminación por bloques para la solución de un sistema lineal mediante el método SVD.\n",
    "\n",
    "### 1.1 Generación de índices"
   ]
  },
  {
   "cell_type": "code",
   "execution_count": 1,
   "metadata": {},
   "outputs": [],
   "source": [
    "indices <- function(n) {\n",
    "  # Crea una lista de tamaño (n-1)n/2 con pares de índices de la siguiente\n",
    "  #  manera: (1,2),..,(1,n),(2,3),..,(2,n),...,(n-1,n)\n",
    "  # Args: \n",
    "  #    n: número entero postivo \n",
    "  #       se refiere al número de columnas\n",
    "  #Returns:\n",
    "  #    lista con pares de índices\n",
    "    a <- NULL\n",
    "    b <- NULL\n",
    "    indices <- NULL\n",
    "    for (i in 1:(n-1)){\n",
    "    a <- append(a,rep(i,n-i))\n",
    "    b <- append(b,seq(i+1,n))    \n",
    "    }\n",
    "    for(i in 1:round(n*(n-1)/2))\n",
    "    indices[[i]] <- list(c(a[i], b[i]))\n",
    "    indices\n",
    "\n",
    "\n",
    "}"
   ]
  },
  {
   "cell_type": "code",
   "execution_count": null,
   "metadata": {},
   "outputs": [],
   "source": []
  },
  {
   "cell_type": "code",
   "execution_count": null,
   "metadata": {},
   "outputs": [],
   "source": []
  },
  {
   "cell_type": "markdown",
   "metadata": {},
   "source": [
    "### 1.2 Verificación de ortogonalidad entre vectores"
   ]
  },
  {
   "cell_type": "code",
   "execution_count": null,
   "metadata": {},
   "outputs": [],
   "source": [
    "#Función Ortogonalidad\n",
    "ortogonal <- function(u,v,TOL){\n",
    "  #Función que verifica si dos vectores son ortogonales, arrojando un 1 \n",
    "  #si lo es, y un 0 si no lo es.\n",
    "  #Args: u, v como vectores y se solicta al usuario el valor de e (tolerancia), real.\n",
    "  #Returns: Valor booleano 0 (no son ortongoales), 1 (son ortogonales)\n",
    "  dot.prod <- u%*%v \n",
    "  norm.u <- norm(u,type=\"2\")\n",
    "  norm.v <- norm(v,type=\"2\")\n",
    "  orth <- dot.prod / (norm.u * norm.v)\n",
    "  if (orth< TOL){\n",
    "    print(\"1\")\n",
    "  } else {\n",
    "    print(\"0\")\n",
    "  }\n",
    "}\n"
   ]
  },
  {
   "cell_type": "code",
   "execution_count": null,
   "metadata": {},
   "outputs": [],
   "source": []
  },
  {
   "cell_type": "code",
   "execution_count": null,
   "metadata": {},
   "outputs": [],
   "source": []
  },
  {
   "cell_type": "markdown",
   "metadata": {},
   "source": [
    "### 1.3 Función signo"
   ]
  },
  {
   "cell_type": "code",
   "execution_count": 1,
   "metadata": {},
   "outputs": [],
   "source": [
    "signo<-function(x) {\n",
    "  # Indica el signo de un número\n",
    "  # Args: \n",
    "  #    X (numeric): número a revisar\n",
    "  #Returns:\n",
    "  #    TRUE si el número es positivo o cero\n",
    "  #    FALSE si el número es negativo\n",
    "  \n",
    "  ifelse(x<0,FALSE,TRUE)\n",
    "  }"
   ]
  },
  {
   "cell_type": "code",
   "execution_count": null,
   "metadata": {},
   "outputs": [],
   "source": []
  },
  {
   "cell_type": "code",
   "execution_count": null,
   "metadata": {},
   "outputs": [],
   "source": []
  },
  {
   "cell_type": "markdown",
   "metadata": {},
   "source": [
    "### 1.4 Solver dada descomposición SVD"
   ]
  },
  {
   "cell_type": "code",
   "execution_count": null,
   "metadata": {},
   "outputs": [],
   "source": [
    "# Función Solver\n",
    "\n",
    "solver <- function(U,S,V,b){\n",
    "    # Función que devuelve la solcuón del sistema de ecuaciones Ax =b.\n",
    "    # Se utilizó la función backsolve para resolver el sistema triangular.\n",
    "    # NOTA: al ser S diagonal es indistinto si es traingular inferior o superior.\n",
    "    # Args: U (mxm),V(nxn), S(mxn) matriz diagonal y b (m) un vector.\n",
    "    # Returns: Vector x\n",
    "  d = backsolve(t(U),b)\n",
    "  x = V%*%d\n",
    "  return(x)\n",
    "}"
   ]
  },
  {
   "cell_type": "code",
   "execution_count": null,
   "metadata": {},
   "outputs": [],
   "source": []
  },
  {
   "cell_type": "code",
   "execution_count": null,
   "metadata": {},
   "outputs": [],
   "source": []
  },
  {
   "cell_type": "markdown",
   "metadata": {},
   "source": [
    "## 2. Algoritmo SVD y solución de sistema lineal\n",
    "\n",
    "Esta sección aborda el diseño del método de eliminación por bloques para la solución de un sistema lineal mediante el método SVD.\n",
    "\n",
    "### 2.1 One-sided Jacobi numerical aproximación"
   ]
  },
  {
   "cell_type": "code",
   "execution_count": 5,
   "metadata": {},
   "outputs": [],
   "source": [
    "#algoritmo sin forma funcional\n",
    "\n",
    "#parametros de entrada\n",
    "A<-matrix(c(3,2,2,3,2,-2),nrow=2)\n",
    "TOL<-10**-8\n",
    "maxsweep<-20\n",
    "\n",
    "#dimensiones\n",
    "n<-dim(A)[2] #numero de columnas\n",
    "m<-dim(A)[1] #numero de filas\n",
    "nmax<-n*(n-1)/2\n",
    "\n",
    "#inicialza valores del ciclo\n",
    "ak<-A\n",
    "vk<-diag(n)\n",
    "num_col_ortogonal<-0\n",
    "k<-0\n",
    "\n",
    "while(k<=maxsweep & num_col_ortogonal<nmax){\n",
    "  num_col_ortogonal<-0\n",
    "  \n",
    "  #falta implementar que los ciclos se recorran sobre la salida de la funcion indices\n",
    "  for(i in seq(1,n-1)){\n",
    "    for(j in seq(i+1,n)){\n",
    "      col_j<-ak[,j]\n",
    "      col_i<-ak[,i]\n",
    "    \n",
    "      #comprueba ortogonalidad  \n",
    "      if(son_ortogonales(col_i,col_j,TOL)){\n",
    "        num_col_ortogonal<-num_col_ortogonal+1\n",
    "      }\n",
    "      else{\n",
    "        #calcula coeficientes de la matriz\n",
    "        a<-sum(col_i*col_i)\n",
    "        b<-sum(col_j*col_j)\n",
    "        c<-sum(col_i*col_j)\n",
    "        \n",
    "        #calcula la rotacion givens que diagonaliza\n",
    "        epsilon<-(b-a)/(2*c)\n",
    "        t<-signo(epsilon)/(abs(epsilon)+sqrt(1+epsilon**2))\n",
    "        cs<-1/sqrt(1+t**2)\n",
    "        sn<-cs*t\n",
    "        \n",
    "        #actualiza las columnas de la matriz ak\n",
    "        for(l in seq(1,m)){\n",
    "          temp<-ak[l,i]\n",
    "          ak[l,i]<-cs*temp-sn*ak[l,j]\n",
    "          ak[l,j]<-sn*temp+cs*ak[l,j]\n",
    "        }\n",
    "        \n",
    "        #actualiza las columnas de la matriz vk\n",
    "        for(l in seq(1,n)){\n",
    "          temp<-vk[l,i]\n",
    "          vk[l,i]<-cs*temp-sn*vk[l,j]\n",
    "          vk[l,j]<-sn*temp+cs*vk[l,j]\n",
    "          \n",
    "        }\n",
    "      }\n",
    "    }\n",
    "  }\n",
    "  k<-k+1\n",
    "}"
   ]
  },
  {
   "cell_type": "code",
   "execution_count": null,
   "metadata": {},
   "outputs": [],
   "source": [
    "La matriz v esta guardada como vk\n",
    "Los eigens son las normas de las columnas de a\n",
    "falta sacar la matriz U que tambien sale de A"
   ]
  },
  {
   "cell_type": "code",
   "execution_count": 14,
   "metadata": {},
   "outputs": [
    {
     "data": {
      "text/html": [
       "<table>\n",
       "<caption>A matrix: 3 × 3 of type dbl</caption>\n",
       "<tbody>\n",
       "\t<tr><td>0</td><td>0</td><td>0</td></tr>\n",
       "\t<tr><td>0</td><td>5</td><td>0</td></tr>\n",
       "\t<tr><td>0</td><td>0</td><td>3</td></tr>\n",
       "</tbody>\n",
       "</table>\n"
      ],
      "text/latex": [
       "A matrix: 3 × 3 of type dbl\n",
       "\\begin{tabular}{lll}\n",
       "\t 0 & 0 & 0\\\\\n",
       "\t 0 & 5 & 0\\\\\n",
       "\t 0 & 0 & 3\\\\\n",
       "\\end{tabular}\n"
      ],
      "text/markdown": [
       "\n",
       "A matrix: 3 × 3 of type dbl\n",
       "\n",
       "| 0 | 0 | 0 |\n",
       "| 0 | 5 | 0 |\n",
       "| 0 | 0 | 3 |\n",
       "\n"
      ],
      "text/plain": [
       "     [,1] [,2] [,3]\n",
       "[1,] 0    0    0   \n",
       "[2,] 0    5    0   \n",
       "[3,] 0    0    3   "
      ]
     },
     "metadata": {},
     "output_type": "display_data"
    }
   ],
   "source": [
    "norma<-function(x){\n",
    "    norm<-sqrt(sum(x*x))\n",
    "    norm<-ifelse(norm<10**-8,0,norm)\n",
    "}\n",
    "\n",
    "entradas_sigma<-apply(ak,MARGIN=2,norma)\n",
    "sigma<-diag(entradas_sigma)\n",
    "sigma"
   ]
  },
  {
   "cell_type": "code",
   "execution_count": 2,
   "metadata": {},
   "outputs": [],
   "source": [
    "#funciones auxilieres que aun no funcionan bien arriba\n",
    "signo<-function(x){\n",
    "  ifelse(x<0,-1,1)\n",
    "}\n",
    "\n",
    "son_ortogonales<-function(col_i,col_j,TOL){\n",
    "  if(sum(col_i*col_j)/(sqrt(sum(col_i*col_i))*sqrt(sum(col_j*col_j)))<TOL){\n",
    "    ret<-TRUE\n",
    "  }\n",
    "  else{\n",
    "    ret<-FALSE\n",
    "  }\n",
    "  ret\n",
    "}\n"
   ]
  },
  {
   "cell_type": "markdown",
   "metadata": {},
   "source": [
    "### 2.2 Linear solver aproximating SVD decomposition using One-sided Jacobi algorithm"
   ]
  },
  {
   "cell_type": "code",
   "execution_count": null,
   "metadata": {},
   "outputs": [],
   "source": []
  },
  {
   "cell_type": "code",
   "execution_count": null,
   "metadata": {},
   "outputs": [],
   "source": []
  },
  {
   "cell_type": "code",
   "execution_count": null,
   "metadata": {},
   "outputs": [],
   "source": []
  },
  {
   "cell_type": "code",
   "execution_count": null,
   "metadata": {},
   "outputs": [],
   "source": []
  }
 ],
 "metadata": {
  "kernelspec": {
   "display_name": "R",
   "language": "R",
   "name": "ir"
  },
  "language_info": {
   "codemirror_mode": "r",
   "file_extension": ".r",
   "mimetype": "text/x-r-source",
   "name": "R",
   "pygments_lexer": "r",
   "version": "3.6.2"
  }
 },
 "nbformat": 4,
 "nbformat_minor": 4
}
