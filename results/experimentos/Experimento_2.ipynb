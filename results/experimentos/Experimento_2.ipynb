{
 "cells": [
  {
   "cell_type": "markdown",
   "metadata": {},
   "source": [
    "# Experimento numérico \\#2 - Tema Aproximación SVD cambiando método de generación de matriz pseudo-aleatoria.\n",
    "\n",
    "**Responsable:** León Garay \n",
    "\n",
    "## 0. Objetivo\n",
    "\n",
    "Este documento pretende mostar los resultados obtenidos con la implementación realizada, en el contexto de la implementación de entradas normales con varianza cada vez más alta y matrices de $10^1$, $10^2$ y $10^3$.\n",
    "\n",
    "**Nota:** El reporte general de resultados obtenidos con las implementaciones realizadas en este proyecto se puede consultar en el siguiente [vínculo](https://github.com/mno-2020-gh-classroom/ex-modulo-3-comp-matricial-svd-czammar/blob/master/results/Reporte_resultados.ipynb)\n",
    "\n",
    "## 1. Consideraciones\n",
    "\n",
    "Al respecto de los experimentos numéricos realizados para consolidar el presente reporte, tales se basan en las siguientes premisas:\n",
    "\n",
    "[Pendiente: desarrollo]\n",
    "\n",
    "En este sentido, en particular para cada experimento realizado, se reportan según resulte aplicable:\n",
    "\n",
    "* los parámetros empleados en la simulaciones, \n",
    "* las dimensiones de las matrices y vectores involucrados, así como el prodecimiento pseudo-aleatorio que les dio origen, \n",
    "* 1) el tiempo involucrado en correr los experimentos, \n",
    "* 2) número de condición de las matrices pseudo-aleatorias, y \n",
    "* 3) el error relativo obtenido, para la solución de un sistema lineal de la forma $Ax=b$, es decir el cociente\n",
    "\n",
    "$$|| Ax - b ||_2 / || b ||_2$$\n",
    "* 4) La norma de $A$ y de la matriz obtenida al rearmar A tras multiplica las matrices resultantes de la aproximación de la descomposición SVD vía el algoritmo **One-Sided Jacobi**\n",
    "\n",
    "\n",
    "### 1.1 Consideraciones sobre la infraestructura empleada\n",
    "\n",
    "**Especificaciones de ambiente común de trabajo**\n",
    "\n",
    "Para realizar el presente experimento numérico se ha empleado la imagen de docker basada en R del curso MNO 2020 (palmoreck/jupyterlab_r_kernel:1.1.0)\n",
    "\n",
    "```\n",
    "docker run --rm -v `pwd`:/datos --name jupyterlab_r_kernel_local -p 8888:8888 -d palmoreck/jupyterlab_r_kernel:1.1.0\n",
    "\n",
    "```\n",
    "\n",
    "*Nota:* el comando \"-v \\`pwd\\`:/datos\", permite montar el directorio actual en donde el usuario se encuentre situada en terminal como un volumen de la imagen de docker, dentro del directorio \"/datos\".\n",
    "\n",
    "## 2. Experimento numérico\n",
    "\n",
    "**Objetivo**\n",
    "\n",
    "Modificar las entradas de la matriz y las dimensiones de los bloques para notar que efecto tiene sobre el tiempo de ejecución.\n",
    "\n",
    "A tal respecto, se destaca que se realizó este experimentos buscando probar el comportamiento correcto de la función y medir los tiempo de ejecución.\n",
    "\n",
    "**Cargamos codigo desarrollado previamente**\n",
    "\n",
    "* **utils.R:** contiene las funciones auxiliares desarrolladas para el proyecto\n",
    "* **00-load.R:** la implementación del método de eliminación por bloques, empleando la aproximación de la descomposición SVD vía el algoritmo **One-Sided Jacobi**."
   ]
  },
  {
   "cell_type": "code",
   "execution_count": 1,
   "metadata": {},
   "outputs": [
    {
     "data": {
      "text/html": [
       "<ol>\n",
       "\t<li>NULL</li>\n",
       "</ol>\n"
      ],
      "text/latex": [
       "\\begin{enumerate}\n",
       "\\item NULL\n",
       "\\end{enumerate}\n"
      ],
      "text/markdown": [
       "1. NULL\n",
       "\n",
       "\n"
      ],
      "text/plain": [
       "[[1]]\n",
       "NULL\n"
      ]
     },
     "metadata": {},
     "output_type": "display_data"
    }
   ],
   "source": [
    "## Instalamos paquetes\n",
    "rm(list = ls())\n",
    "\n",
    "paquetes <- c('matrixcalc')\n",
    "\n",
    "instalar <- function(paquete) {\n",
    "  if (!require(paquete,character.only = TRUE, quietly = TRUE, warn.conflicts = FALSE)) {\n",
    "    install.packages(as.character(paquete), dependecies = TRUE, repos = \"http://cran.us.r-project.org\")\n",
    "    library(paquete, character.only = TRUE, quietly = TRUE, warn.conflicts = FALSE)\n",
    "  }\n",
    "}\n",
    "\n",
    "\n",
    "lapply(paquetes, instalar)"
   ]
  },
  {
   "cell_type": "code",
   "execution_count": 2,
   "metadata": {},
   "outputs": [],
   "source": [
    "## Cargamos paquetes necesarios\n",
    "library(\"matrixcalc\")\n",
    "\n",
    "#source(\"metadata.R\")\n",
    "source(\"utils.R\")\n",
    "source(\"00-load.R\")"
   ]
  },
  {
   "cell_type": "markdown",
   "metadata": {},
   "source": [
    "### 2.1 Experimento X.1  \n",
    "\n",
    "Este experimento se basa en los siguientes parámetros \n",
    "\n",
    "| # |         Parámetros         | Valor/Rango de valores | Comentarios |\n",
    "|:-:|:--------------------------:|:----------------------:|:-----------:|\n",
    "| 1 |     Dimensiones de $A$     | $10x10$                | n=10        |\n",
    "| 2 |        Tolerancia          | $10^{-8}$                |             |\n",
    "| 3 |         Maxsweep           |   20                   |             |\n",
    "| 4 |   Metodo pseudo-aleatorio  |  rnorm(n^2,0,1)        |             |\n",
    "\n",
    "**Codigo:** Algoritmo que aplica el método de Jacobi para hacer la descomposición SVD de una matriz de entrada A (nxn)."
   ]
  },
  {
   "cell_type": "code",
   "execution_count": 3,
   "metadata": {},
   "outputs": [],
   "source": [
    "set.seed(231)\n",
    "n= 10**1\n",
    "\n",
    "A = matrix(rnorm(n**2,0,1), ncol=n)\n",
    "TOL = 10**-8\n",
    "maxsweep <- 20\n",
    "#Función aproximación SVD\n",
    "svd<-svd_jacobi_aprox(A,TOL,maxsweep)"
   ]
  },
  {
   "cell_type": "code",
   "execution_count": 4,
   "metadata": {},
   "outputs": [
    {
     "data": {
      "text/plain": [
       "   user  system elapsed \n",
       "  0.098   0.004   0.102 "
      ]
     },
     "metadata": {},
     "output_type": "display_data"
    }
   ],
   "source": [
    "system.time(svd<-svd_jacobi_aprox(A,TOL,maxsweep))"
   ]
  },
  {
   "cell_type": "code",
   "execution_count": 5,
   "metadata": {},
   "outputs": [],
   "source": [
    "#Regresamos a la matriz original usando SVD\n",
    "A_prima = svd$U%*%svd$S%*%t(svd$V)"
   ]
  },
  {
   "cell_type": "code",
   "execution_count": 6,
   "metadata": {},
   "outputs": [
    {
     "data": {
      "text/html": [
       "TRUE"
      ],
      "text/latex": [
       "TRUE"
      ],
      "text/markdown": [
       "TRUE"
      ],
      "text/plain": [
       "[1] TRUE"
      ]
     },
     "metadata": {},
     "output_type": "display_data"
    }
   ],
   "source": [
    "#Comprobamos que las matrices seán iguales.\n",
    "identical(round(A,5),round(A_prima,5))"
   ]
  },
  {
   "cell_type": "markdown",
   "metadata": {},
   "source": [
    "**Resultados**\n",
    "\n",
    "Los resultados obtenidos se resumen a través de la siguiente tabla\n",
    "\n",
    "| # |                Parámetros                | Valor/Rango de valores |            Comentarios            |\n",
    "|:-:|:----------------------------------------:|:----------------------:|:---------------------------------:|\n",
    "| 1 |            Tiempo de ejecución           |   0.098 s              |                                   |\n",
    "| 2 |        $A = U*S*V^{T}$                   |   TRUE                 | La función sí regresa la matriz de entrada A"
   ]
  },
  {
   "cell_type": "markdown",
   "metadata": {},
   "source": [
    "### 2.2  Experimento X.2 \n",
    "\n",
    "Este experimento se basa en los siguientes parámetros \n",
    "\n",
    "| # |         Parámetros         | Valor/Rango de valores | Comentarios |\n",
    "|:-:|:--------------------------:|:----------------------:|:-----------:|\n",
    "| 1 |     Dimensiones de $A$     | $10x10$                | n=10^2        |\n",
    "| 2 |        Tolerancia          | $10^{-8}$                |             |\n",
    "| 3 |         Maxsweep           |   20                   |             |\n",
    "| 4 |   Metodo pseudo-aleatorio  |  rnorm(n^2,0,10)        |             |\n",
    "\n",
    "**Codigo:** Algoritmo que aplica el método de Jacobi para hacer la descomposición SVD de una matriz de entrada A (nxn)."
   ]
  },
  {
   "cell_type": "code",
   "execution_count": 7,
   "metadata": {},
   "outputs": [],
   "source": [
    "set.seed(231)\n",
    "n= 10**2\n",
    "\n",
    "A = matrix(rnorm(n**2,0,10), ncol=n)\n",
    "TOL = 10**-8\n",
    "maxsweep <- 20\n",
    "#Función aproximación SVD\n",
    "svd<-svd_jacobi_aprox(A,TOL,maxsweep)"
   ]
  },
  {
   "cell_type": "code",
   "execution_count": 8,
   "metadata": {},
   "outputs": [
    {
     "data": {
      "text/plain": [
       "   user  system elapsed \n",
       " 12.146   0.000  12.148 "
      ]
     },
     "metadata": {},
     "output_type": "display_data"
    }
   ],
   "source": [
    "system.time(svd<-svd_jacobi_aprox(A,TOL,maxsweep))"
   ]
  },
  {
   "cell_type": "code",
   "execution_count": 9,
   "metadata": {},
   "outputs": [],
   "source": [
    "#Regresamos a la matriz original usando SVD\n",
    "A_prima = svd$U%*%svd$S%*%t(svd$V)"
   ]
  },
  {
   "cell_type": "code",
   "execution_count": 10,
   "metadata": {},
   "outputs": [
    {
     "data": {
      "text/html": [
       "TRUE"
      ],
      "text/latex": [
       "TRUE"
      ],
      "text/markdown": [
       "TRUE"
      ],
      "text/plain": [
       "[1] TRUE"
      ]
     },
     "metadata": {},
     "output_type": "display_data"
    }
   ],
   "source": [
    "#Comprobamos que las matrices seán iguales.\n",
    "identical(round(A,5),round(A_prima,5))"
   ]
  },
  {
   "cell_type": "markdown",
   "metadata": {},
   "source": [
    "**Resultados**\n",
    "\n",
    "Los resultados obtenidos se resumen a través de la siguiente tabla\n",
    "\n",
    "| # |                Parámetros                | Valor/Rango de valores |            Comentarios            |\n",
    "|:-:|:----------------------------------------:|:----------------------:|:---------------------------------:|\n",
    "| 1 |            Tiempo de ejecución           |   12.146 s              |                                   |\n",
    "| 2 |        $A = U*S*V^{T}$                   |   TRUE                 | La función sí regresa la matriz de entrada A"
   ]
  },
  {
   "cell_type": "markdown",
   "metadata": {},
   "source": [
    "### 2.3  Experimento X.3 \n",
    "\n",
    "Este experimento se basa en los siguientes parámetros \n",
    "\n",
    "| # |         Parámetros         | Valor/Rango de valores | Comentarios |\n",
    "|:-:|:--------------------------:|:----------------------:|:-----------:|\n",
    "| 1 |     Dimensiones de $A$     | $1000x1000$                | n=10^3        |\n",
    "| 2 |        Tolerancia          | $10^{-8}$                |             |\n",
    "| 3 |         Maxsweep           |   20                   |             |\n",
    "| 4 |   Metodo pseudo-aleatorio  |  rnorm(n^2,0,100)        |             |\n",
    "\n",
    "**Codigo:** Algoritmo que aplica el método de Jacobi para hacer la descomposición SVD de una matriz de entrada A (nxn)."
   ]
  },
  {
   "cell_type": "code",
   "execution_count": 13,
   "metadata": {},
   "outputs": [],
   "source": [
    "set.seed(231)\n",
    "n= 10**3\n",
    "\n",
    "A = matrix(rnorm(n**2,0,100), ncol=n)\n",
    "TOL = 10**-8\n",
    "maxsweep <- 20\n",
    "#Función aproximación SVD\n",
    "svd<-svd_jacobi_aprox(A,TOL,maxsweep)"
   ]
  },
  {
   "cell_type": "code",
   "execution_count": 14,
   "metadata": {},
   "outputs": [
    {
     "data": {
      "text/plain": [
       "    user   system  elapsed \n",
       "2330.452    0.940 2331.730 "
      ]
     },
     "metadata": {},
     "output_type": "display_data"
    }
   ],
   "source": [
    "system.time(svd<-svd_jacobi_aprox(A,TOL,maxsweep))"
   ]
  },
  {
   "cell_type": "code",
   "execution_count": 15,
   "metadata": {},
   "outputs": [],
   "source": [
    "#Regresamos a la matriz original usando SVD\n",
    "A_prima = svd$U%*%svd$S%*%t(svd$V)"
   ]
  },
  {
   "cell_type": "code",
   "execution_count": 16,
   "metadata": {},
   "outputs": [
    {
     "data": {
      "text/html": [
       "TRUE"
      ],
      "text/latex": [
       "TRUE"
      ],
      "text/markdown": [
       "TRUE"
      ],
      "text/plain": [
       "[1] TRUE"
      ]
     },
     "metadata": {},
     "output_type": "display_data"
    }
   ],
   "source": [
    "#Comprobamos que las matrices seán iguales.\n",
    "identical(round(A,5),round(A_prima,5))"
   ]
  },
  {
   "cell_type": "markdown",
   "metadata": {},
   "source": [
    "**Resultados**\n",
    "\n",
    "Los resultados obtenidos se resumen a través de la siguiente tabla\n",
    "\n",
    "| # |                Parámetros                | Valor/Rango de valores |            Comentarios            |\n",
    "|:-:|:----------------------------------------:|:----------------------:|:---------------------------------:|\n",
    "| 1 |            Tiempo de ejecución           |   2330.452 s              |                                   |\n",
    "| 2 |        $A = U*S*V^{T}$                   |   TRUE                 | La función sí regresa la matriz de entrada A"
   ]
  },
  {
   "cell_type": "markdown",
   "metadata": {},
   "source": [
    "**Resumen de resultados obtenidos en experimentos**\n",
    "\n",
    "Los resultados obtenidos, se compararan a través de la siguiente [Pendiente: por favor ajustar tabla/grafica según experimento]:\n",
    "\n",
    "| # | Experimento | Tiempo de desempeño | A = U * S * $V^T$ |\n",
    "|:-:|:-----------:|:-------------------:|----------------|\n",
    "| 1 |     X.1     |  0.098 s      |    True     |\n",
    "| 2 |     X.2     | 12.146 s            |       True         |\n",
    "| 3 |     X.3     | 2330.452 s           |         True       |"
   ]
  },
  {
   "cell_type": "markdown",
   "metadata": {},
   "source": [
    "## 3. Principalez hallazgos\n",
    "\n",
    "Al respecto, se destacan los siguientes hallazgos del experimento:\n",
    "\n",
    "* Hallazgo 1: Los tiempos de ejecución aumentar de manera considerable al aumentar la dimención de la matriz.\n",
    "* Hallazgo 2: El algoritmo fue consistente aumentando la dimención de la matriz y la varianza de las entradas, devolviendo la SVD correspondiente.\n"
   ]
  }
 ],
 "metadata": {
  "kernelspec": {
   "display_name": "Python 3",
   "language": "python",
   "name": "python3"
  },
  "language_info": {
   "codemirror_mode": {
    "name": "ipython",
    "version": 3
   },
   "file_extension": ".py",
   "mimetype": "text/x-python",
   "name": "python",
   "nbconvert_exporter": "python",
   "pygments_lexer": "ipython3",
   "version": "3.7.6"
  }
 },
 "nbformat": 4,
 "nbformat_minor": 4
}
