{
 "cells": [
  {
   "cell_type": "markdown",
   "metadata": {},
   "source": [
    "# Experimento numérico \\# 5 - Tema: Solución de bloques para diferentes números de condición\n",
    "\n",
    "**Responsable:** Dorely Morales Santiago\n",
    "\n",
    "## 0. Objetivo\n",
    "\n",
    "Este documento pretende mostar los resultados obtenidos con la implementación realizada, en el contexto del comportamiento del método de solución de bloques usando matrices de $10^2\\times10^2$ o de $10^3\\times10^3$ con número de condición de orden $10^0$ y $10^1$. \n",
    "\n",
    "## 1. Consideraciones\n",
    "\n",
    "Al respecto de los experimentos numéricos realizados para consolidar el presente reporte, tales se basan en las siguientes premisas:\n",
    "\n",
    "Las matrices con número de condición de orden $10^0$ y $10^1$ están bien condicionados (entre más cercano a 1 mejor) por lo que típicamente las soluciones de un sistema lineal son rápidas de encontrar y tienen buena precisión.\n",
    "\n",
    "\n",
    "En este sentido, en particular para cada experimento realizado, se reportan según resulte aplicable:\n",
    "\n",
    "* los parámetros empleados en la simulaciones, \n",
    "* las dimensiones de las matrices y vectores involucrados, así como el prodecimiento pseudo-aleatorio que les dio origen, \n",
    "* 1) el tiempo involucrado en correr los experimentos, \n",
    "* 2) número de condición de las matrices pseudo-aleatorias, y \n",
    "* 3) el error relativo obtenido, para la solución de un sistema lineal de la forma $Ax=b$, es decir el cociente\n",
    "\n",
    "$$|| Ax - b ||_2 / || b ||_2$$\n",
    "* 4) La norma de $A$ y de la matriz obtenida al rearmar A tras multiplicar las matrices resultantes de la aproximación de la descomposición SVD vía el algoritmo **One-Sided Jacobi**\n",
    "\n",
    "\n",
    "### 1.1 Consideraciones sobre la infraestructura empleada\n",
    "\n",
    "**Especificaciones de ambiente común de trabajo**\n",
    "\n",
    "Para realizar el presente experimento numérico se ha empleado la imagen de docker basada en R del curso MNO 2020 (palmoreck/jupyterlab_r_kernel:1.1.0)\n",
    "\n",
    "```\n",
    "docker run --rm -v `pwd`:/datos --name jupyterlab_r_kernel_local -p 8888:8888 -d palmoreck/jupyterlab_r_kernel:1.1.0\n",
    "\n",
    "```\n",
    "\n",
    "*Nota:* el comando \"-v \\`pwd\\`:/datos\", permite montar el directorio actual en donde el usuario se encuentre situada en terminal como un volumen de la imagen de docker, dentro del directorio \"/datos\".\n",
    "\n",
    "## 2. Experimento numérico\n",
    "\n",
    "**Objetivo**\n",
    "\n",
    "Modificar el número de condición de la matriz y las dimensiones de los bloques para notar el efecto que tiene sobre el error relativo y el tiempo de ejecución.\n",
    "\n",
    "A tal respecto, se destaca que se realizó este experimento buscando probar como afecta el tiempo de ejecución el número de bloques seleccionados.\n",
    "\n",
    "**Cargamos codigo desarrollado previamente**\n",
    "\n",
    "* **utils.R:** contiene las funciones auxiliares desarrolladas para el proyecto\n",
    "* **00-load.R:** la implementación del método de eliminación por bloques, empleando la aproximación de la descomposición SVD vía el algoritmo **One-Sided Jacobi**."
   ]
  },
  {
   "cell_type": "code",
   "execution_count": 1,
   "metadata": {},
   "outputs": [
    {
     "data": {
      "text/html": [
       "<ol>\n",
       "\t<li>NULL</li>\n",
       "\t<li>NULL</li>\n",
       "</ol>\n"
      ],
      "text/latex": [
       "\\begin{enumerate}\n",
       "\\item NULL\n",
       "\\item NULL\n",
       "\\end{enumerate}\n"
      ],
      "text/markdown": [
       "1. NULL\n",
       "2. NULL\n",
       "\n",
       "\n"
      ],
      "text/plain": [
       "[[1]]\n",
       "NULL\n",
       "\n",
       "[[2]]\n",
       "NULL\n"
      ]
     },
     "metadata": {},
     "output_type": "display_data"
    }
   ],
   "source": [
    "## Instalamos paquetes\n",
    "rm(list = ls())\n",
    "\n",
    "paquetes <- c('matrixcalc','pracma')\n",
    "\n",
    "instalar <- function(paquete) {\n",
    "  if (!require(paquete,character.only = TRUE, quietly = TRUE, warn.conflicts = FALSE)) {\n",
    "    install.packages(as.character(paquete), dependecies = TRUE, repos = \"http://cran.us.r-project.org\")\n",
    "    library(paquete, character.only = TRUE, quietly = TRUE, warn.conflicts = FALSE)\n",
    "  }\n",
    "}\n",
    "\n",
    "\n",
    "lapply(paquetes, instalar)"
   ]
  },
  {
   "cell_type": "code",
   "execution_count": 2,
   "metadata": {},
   "outputs": [],
   "source": [
    "## Cargamos paquetes necesarios\n",
    "library(\"matrixcalc\")\n",
    "library(\"pracma\")\n",
    "\n",
    "#source(\"metadata.R\")\n",
    "source(\"utils.R\")\n",
    "source(\"00-load.R\")"
   ]
  },
  {
   "cell_type": "markdown",
   "metadata": {},
   "source": [
    "### 2.1 Experimento 5.1\n",
    "\n",
    "Este experimento se basa en los siguientes parámetros:\n",
    "\n",
    "| # |         Parámetros         | Valor/Rango de valores | Comentarios |\n",
    "|:-:|:--------------------------:|:----------------------:|:-----------:|\n",
    "| 1 |     Dimensiones de $A$     |   $10^2$x$10^2$        |             |\n",
    "| 2 |        Dimensión $b$       |      $10^2$            |             |\n",
    "| 3 |         Tolerancia         |     $10^{-8}$          |             |\n",
    "| 4 |          Maxsweep          |           5            |             |\n",
    "| 5 |   Metodo pseudo-aleatorio $b$ |                        |        Obtenido con función rnorm    |\n",
    "| 6 |   Metodo pseudo-aleatorio $A$ |                        |        Obtenido con función randortho    |\n",
    "| 7 | Número de condición de $A$ |            $10^1$          |     Obtenido con función cond        |\n",
    "\n",
    "\n",
    "**Codigo:** breve descrición de que hace el código y resultados."
   ]
  },
  {
   "cell_type": "code",
   "execution_count": 31,
   "metadata": {},
   "outputs": [
    {
     "name": "stdout",
     "output_type": "stream",
     "text": [
      "[1] \"#####################\"\n",
      "[1] \"Error relativo\"\n"
     ]
    },
    {
     "data": {
      "text/html": [
       "0.280644030664077"
      ],
      "text/latex": [
       "0.280644030664077"
      ],
      "text/markdown": [
       "0.280644030664077"
      ],
      "text/plain": [
       "[1] 0.280644"
      ]
     },
     "metadata": {},
     "output_type": "display_data"
    },
    {
     "name": "stdout",
     "output_type": "stream",
     "text": [
      "[1] \"#####################\"\n",
      "[1] \"Número de condición\"\n"
     ]
    },
    {
     "data": {
      "text/html": [
       "10"
      ],
      "text/latex": [
       "10"
      ],
      "text/markdown": [
       "10"
      ],
      "text/plain": [
       "[1] 10"
      ]
     },
     "metadata": {},
     "output_type": "display_data"
    },
    {
     "name": "stdout",
     "output_type": "stream",
     "text": [
      "[1] \"#####################\"\n"
     ]
    },
    {
     "data": {
      "text/plain": [
       "Time difference of 14.0554 secs"
      ]
     },
     "metadata": {},
     "output_type": "display_data"
    }
   ],
   "source": [
    "set.seed(123)\n",
    "n= 10**2\n",
    "TOL = 10**-8\n",
    "\n",
    "A <- diag(n)\n",
    "A[1,1] <- 10\n",
    "Q<-matrix(randortho(n,type = c(\"orthonormal\")), ncol=n)\n",
    "A<-Q%*%A%*%t(Q)\n",
    "b = matrix(rnorm(n), ncol=1)\n",
    "\n",
    "inicio<-Sys.time()\n",
    "z<-eliminacion_bloques(A,b,n/2,10^-8,5)\n",
    "print(\"#####################\")\n",
    "print(\"Error relativo\")\n",
    "norm(A%*%z-b,\"2\")/norm(b,\"2\")\n",
    "print(\"#####################\")\n",
    "print(\"Número de condición\")\n",
    "cond(A)\n",
    "print(\"#####################\")\n",
    "fin<-Sys.time()\n",
    "fin-inicio"
   ]
  },
  {
   "cell_type": "markdown",
   "metadata": {},
   "source": [
    "**Resultados**\n",
    "\n",
    "Los resultados obtenidos se resumen a través de la siguiente tabla [Pendiente: por favor ajustar tabla según experimento]\n",
    "\n",
    "| # |                Parámetros                | Valor/Rango de valores |            Comentarios            |\n",
    "|:-:|:----------------------------------------:|:----------------------:|:---------------------------------:|\n",
    "| 1 |            Tiempo de ejecución           |           14.05 segs             |                                   |\n",
    "| 2 |      Error relativo $||Ax-b||/||b||$     |             0.2806           |                                   |\n"
   ]
  },
  {
   "cell_type": "markdown",
   "metadata": {},
   "source": [
    "### 2.2  Experimento 5.2\n",
    "\n",
    "Este experimento se basa en los siguientes parámetros:\n",
    "\n",
    "| # |         Parámetros         | Valor/Rango de valores | Comentarios |\n",
    "|:-:|:--------------------------:|:----------------------:|:-----------:|\n",
    "| 1 |     Dimensiones de $A$     |   $10^2$x$10^2$        |             |\n",
    "| 2 |        Dimensión $b$       |      $10^2$            |             |\n",
    "| 3 |         Tolerancia         |     $10^{-8}$          |             |\n",
    "| 4 |          Maxsweep          |           5            |             |\n",
    "| 5 |   Metodo pseudo-aleatorio $b$ |                        |        Obtenido con función rnorm    |\n",
    "| 6 |   Metodo pseudo-aleatorio $A$ |                        |        Obtenido con función randortho    |\n",
    "| 7 | Número de condición de $A$ |            $10^0$          |     Obtenido con función cond        |\n",
    "\n",
    "\n",
    "**Codigo:** breve descrición de que hace el código y resultados."
   ]
  },
  {
   "cell_type": "code",
   "execution_count": 32,
   "metadata": {},
   "outputs": [
    {
     "name": "stdout",
     "output_type": "stream",
     "text": [
      "[1] \"#####################\"\n",
      "[1] \"Error relativo\"\n"
     ]
    },
    {
     "data": {
      "text/html": [
       "1.80919620378472e-15"
      ],
      "text/latex": [
       "1.80919620378472e-15"
      ],
      "text/markdown": [
       "1.80919620378472e-15"
      ],
      "text/plain": [
       "[1] 1.809196e-15"
      ]
     },
     "metadata": {},
     "output_type": "display_data"
    },
    {
     "name": "stdout",
     "output_type": "stream",
     "text": [
      "[1] \"#####################\"\n",
      "[1] \"Número de condición\"\n"
     ]
    },
    {
     "data": {
      "text/html": [
       "1"
      ],
      "text/latex": [
       "1"
      ],
      "text/markdown": [
       "1"
      ],
      "text/plain": [
       "[1] 1"
      ]
     },
     "metadata": {},
     "output_type": "display_data"
    },
    {
     "name": "stdout",
     "output_type": "stream",
     "text": [
      "[1] \"#####################\"\n"
     ]
    },
    {
     "data": {
      "text/plain": [
       "Time difference of 7.094621 secs"
      ]
     },
     "metadata": {},
     "output_type": "display_data"
    }
   ],
   "source": [
    "set.seed(123)\n",
    "n= 10**2\n",
    "TOL = 10**-8\n",
    "\n",
    "A <- diag(n)\n",
    "Q<-matrix(randortho(n,type = c(\"orthonormal\")), ncol=n)\n",
    "A<-Q%*%A%*%t(Q)\n",
    "b = matrix(rnorm(n), ncol=1)\n",
    "\n",
    "inicio<-Sys.time()\n",
    "z<-eliminacion_bloques(A,b,n/2,10^-8,5)\n",
    "print(\"#####################\")\n",
    "print(\"Error relativo\")\n",
    "norm(A%*%z-b,\"2\")/norm(b,\"2\")\n",
    "print(\"#####################\")\n",
    "print(\"Número de condición\")\n",
    "cond(A)\n",
    "print(\"#####################\")\n",
    "fin<-Sys.time()\n",
    "fin-inicio"
   ]
  },
  {
   "cell_type": "markdown",
   "metadata": {},
   "source": [
    "**Resultados**\n",
    "\n",
    "Los resultados obtenidos se resumen a través de la siguiente tabla [Pendiente: por favor ajustar tabla según experimento]\n",
    "\n",
    "| # |                Parámetros                | Valor/Rango de valores |            Comentarios            |\n",
    "|:-:|:----------------------------------------:|:----------------------:|:---------------------------------:|\n",
    "| 1 |            Tiempo de ejecución           |           7.09 segs             |                                   |\n",
    "| 2 |      Error relativo $||Ax-b||/||b||$     |             1.80919620378472e-15           |                                   |\n"
   ]
  },
  {
   "cell_type": "markdown",
   "metadata": {},
   "source": [
    "### 2.1 Experimento 5.3\n",
    "\n",
    "Este experimento se basa en los siguientes parámetros:\n",
    "\n",
    "| # |         Parámetros         | Valor/Rango de valores | Comentarios |\n",
    "|:-:|:--------------------------:|:----------------------:|:-----------:|\n",
    "| 1 |     Dimensiones de $A$     |   $10^3$x$10^3$        |             |\n",
    "| 2 |        Dimensión $b$       |      $10^3$            |             |\n",
    "| 3 |         Tolerancia         |     $10^{-8}$          |             |\n",
    "| 4 |          Maxsweep          |           5            |             |\n",
    "| 5 |   Metodo pseudo-aleatorio $b$ |                        |        Obtenido con función rnorm    |\n",
    "| 6 |   Metodo pseudo-aleatorio $A$ |                        |        Obtenido con función randortho    |\n",
    "| 7 | Número de condición de $A$ |            $10^1$          |     Obtenido con función cond        |\n",
    "\n",
    "\n",
    "**Codigo:** breve descrición de que hace el código y resultados."
   ]
  },
  {
   "cell_type": "code",
   "execution_count": 31,
   "metadata": {},
   "outputs": [
    {
     "name": "stdout",
     "output_type": "stream",
     "text": [
      "[1] \"#####################\"\n",
      "[1] \"Error relativo\"\n"
     ]
    },
    {
     "data": {
      "text/html": [
       "0.280644030664077"
      ],
      "text/latex": [
       "0.280644030664077"
      ],
      "text/markdown": [
       "0.280644030664077"
      ],
      "text/plain": [
       "[1] 0.280644"
      ]
     },
     "metadata": {},
     "output_type": "display_data"
    },
    {
     "name": "stdout",
     "output_type": "stream",
     "text": [
      "[1] \"#####################\"\n",
      "[1] \"Número de condición\"\n"
     ]
    },
    {
     "data": {
      "text/html": [
       "10"
      ],
      "text/latex": [
       "10"
      ],
      "text/markdown": [
       "10"
      ],
      "text/plain": [
       "[1] 10"
      ]
     },
     "metadata": {},
     "output_type": "display_data"
    },
    {
     "name": "stdout",
     "output_type": "stream",
     "text": [
      "[1] \"#####################\"\n"
     ]
    },
    {
     "data": {
      "text/plain": [
       "Time difference of 14.0554 secs"
      ]
     },
     "metadata": {},
     "output_type": "display_data"
    }
   ],
   "source": [
    "set.seed(123)\n",
    "n= 10**3\n",
    "TOL = 10**-8\n",
    "\n",
    "A <- diag(n)\n",
    "A[1,1] <- 10\n",
    "Q<-matrix(randortho(n,type = c(\"orthonormal\")), ncol=n)\n",
    "A<-Q%*%A%*%t(Q)\n",
    "b = matrix(rnorm(n), ncol=1)\n",
    "\n",
    "inicio<-Sys.time()\n",
    "z<-eliminacion_bloques(A,b,n/2,10^-8,5)\n",
    "print(\"#####################\")\n",
    "print(\"Error relativo\")\n",
    "norm(A%*%z-b,\"2\")/norm(b,\"2\")\n",
    "print(\"#####################\")\n",
    "print(\"Número de condición\")\n",
    "cond(A)\n",
    "print(\"#####################\")\n",
    "fin<-Sys.time()\n",
    "fin-inicio"
   ]
  },
  {
   "cell_type": "markdown",
   "metadata": {},
   "source": [
    "**Resultados**\n",
    "\n",
    "Los resultados obtenidos se resumen a través de la siguiente tabla [Pendiente: por favor ajustar tabla según experimento]\n",
    "\n",
    "| # |                Parámetros                | Valor/Rango de valores |            Comentarios            |\n",
    "|:-:|:----------------------------------------:|:----------------------:|:---------------------------------:|\n",
    "| 1 |            Tiempo de ejecución           |           14.05 segs             |                                   |\n",
    "| 2 |      Error relativo $||Ax-b||/||b||$     |             0.2806           |                                   |\n"
   ]
  },
  {
   "cell_type": "markdown",
   "metadata": {},
   "source": [
    "### 2.2  Experimento 5.4\n",
    "\n",
    "Este experimento se basa en los siguientes parámetros:\n",
    "\n",
    "| # |         Parámetros         | Valor/Rango de valores | Comentarios |\n",
    "|:-:|:--------------------------:|:----------------------:|:-----------:|\n",
    "| 1 |     Dimensiones de $A$     |   $10^2$x$10^2$        |             |\n",
    "| 2 |        Dimensión $b$       |      $10^2$            |             |\n",
    "| 3 |         Tolerancia         |     $10^{-8}$          |             |\n",
    "| 4 |          Maxsweep          |           5            |             |\n",
    "| 5 |   Metodo pseudo-aleatorio $b$ |                        |        Obtenido con función rnorm    |\n",
    "| 6 |   Metodo pseudo-aleatorio $A$ |                        |        Obtenido con función randortho    |\n",
    "| 7 | Número de condición de $A$ |            $10^0$          |     Obtenido con función cond        |\n",
    "\n",
    "\n",
    "**Codigo:** breve descrición de que hace el código y resultados."
   ]
  },
  {
   "cell_type": "code",
   "execution_count": 32,
   "metadata": {},
   "outputs": [
    {
     "name": "stdout",
     "output_type": "stream",
     "text": [
      "[1] \"#####################\"\n",
      "[1] \"Error relativo\"\n"
     ]
    },
    {
     "data": {
      "text/html": [
       "1.80919620378472e-15"
      ],
      "text/latex": [
       "1.80919620378472e-15"
      ],
      "text/markdown": [
       "1.80919620378472e-15"
      ],
      "text/plain": [
       "[1] 1.809196e-15"
      ]
     },
     "metadata": {},
     "output_type": "display_data"
    },
    {
     "name": "stdout",
     "output_type": "stream",
     "text": [
      "[1] \"#####################\"\n",
      "[1] \"Número de condición\"\n"
     ]
    },
    {
     "data": {
      "text/html": [
       "1"
      ],
      "text/latex": [
       "1"
      ],
      "text/markdown": [
       "1"
      ],
      "text/plain": [
       "[1] 1"
      ]
     },
     "metadata": {},
     "output_type": "display_data"
    },
    {
     "name": "stdout",
     "output_type": "stream",
     "text": [
      "[1] \"#####################\"\n"
     ]
    },
    {
     "data": {
      "text/plain": [
       "Time difference of 7.094621 secs"
      ]
     },
     "metadata": {},
     "output_type": "display_data"
    }
   ],
   "source": [
    "set.seed(123)\n",
    "n= 10**3\n",
    "TOL = 10**-8\n",
    "\n",
    "A <- diag(n)\n",
    "Q<-matrix(randortho(n,type = c(\"orthonormal\")), ncol=n)\n",
    "A<-Q%*%A%*%t(Q)\n",
    "b = matrix(rnorm(n), ncol=1)\n",
    "\n",
    "inicio<-Sys.time()\n",
    "z<-eliminacion_bloques(A,b,n/2,10^-8,5)\n",
    "print(\"#####################\")\n",
    "print(\"Error relativo\")\n",
    "norm(A%*%z-b,\"2\")/norm(b,\"2\")\n",
    "print(\"#####################\")\n",
    "print(\"Número de condición\")\n",
    "cond(A)\n",
    "print(\"#####################\")\n",
    "fin<-Sys.time()\n",
    "fin-inicio"
   ]
  },
  {
   "cell_type": "markdown",
   "metadata": {},
   "source": [
    "**Resultados**\n",
    "\n",
    "Los resultados obtenidos se resumen a través de la siguiente tabla [Pendiente: por favor ajustar tabla según experimento]\n",
    "\n",
    "| # |                Parámetros                | Valor/Rango de valores |            Comentarios            |\n",
    "|:-:|:----------------------------------------:|:----------------------:|:---------------------------------:|\n",
    "| 1 |            Tiempo de ejecución           |           7.09 segs             |                                   |\n",
    "| 2 |      Error relativo $||Ax-b||/||b||$     |             1.80919620378472e-15           |                                   |\n"
   ]
  },
  {
   "cell_type": "markdown",
   "metadata": {},
   "source": [
    "**Resumen de resultados obtenidos en experimentos**\n",
    "\n",
    "Los resultados obtenidos, se compararán a través de la siguiente tabla:\n",
    "\n",
    "| # | Experimento | Dimensiones de $A$ | Número de condición de $A$ | Tiempo de desempeño | Error relativo | Comentarios |\n",
    "|:-:|:-----------:|:-------------------:|----------------|----------------|-------|-------|\n",
    "| 1 |     5.1     | $10^2$x$10^2$       |   $10^1$       | 14.05 segs     |  0.2806      |       |\n",
    "| 2 |     5.2     | $10^2$x$10^2$       |   $10^0$       | 7.09 segs      | 1.80919620378472e-15      |       |\n",
    "| 3 |     5.3     | $10^3$x$10^3$       |   $10^1$       |                |       |       |\n",
    "| 4 |     5.4     | $10^3$x$10^3$       |   $10^0$       |                |       |       |\n",
    "\n"
   ]
  },
  {
   "cell_type": "markdown",
   "metadata": {},
   "source": [
    "## 3. Principalez hallazgos\n",
    "\n",
    "Al respecto, se destacan los siguientes hallazgos del experimento:\n",
    "\n",
    "* Hallazgo 1: El tiempo de ejecución es mayor en matrices con número de condición de orden $10^1$ que de $10^0$\n",
    "* Hallazgo 2: El error relativo en matrices de condición de orden de $10^0$ es prácticamente cero.\n",
    "* Hallazgo 3: [Pendiente]\n",
    "* Hallazgo 4: [Pendiente]\n"
   ]
  }
 ],
 "metadata": {
  "kernelspec": {
   "display_name": "R",
   "language": "R",
   "name": "ir"
  },
  "language_info": {
   "codemirror_mode": "r",
   "file_extension": ".r",
   "mimetype": "text/x-r-source",
   "name": "R",
   "pygments_lexer": "r",
   "version": "3.6.2"
  }
 },
 "nbformat": 4,
 "nbformat_minor": 4
}
