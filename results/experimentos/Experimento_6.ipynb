{
 "cells": [
  {
   "cell_type": "markdown",
   "metadata": {},
   "source": [
    "# Experimento numérico \\#6 - Tema: Solución de bloques cambiando el tamaño del bloque\n",
    "\n",
    "**Responsable:** Juan Pablo Herrera \n",
    "\n",
    "## 0. Objetivo\n",
    "\n",
    "Este documento pretende mostar los resultados obtenidos con la implementación realizada, en el contexto del se hacen variaciones en el tamaño de los bloques para matrices con número de condición entre $1$ y $10$ del órden de $10^3$.\n",
    "\n",
    "**Nota:** El reporte general de resultados obtenidos con las implementaciones realizadas en este proyecto se puede consultar en el siguiente [vínculo](https://github.com/mno-2020-gh-classroom/ex-modulo-3-comp-matricial-svd-czammar/blob/master/results/Reporte_resultados.ipynb)\n",
    "\n",
    "## 1. Consideraciones\n",
    "\n",
    "Al respecto de los experimentos numéricos realizados para consolidar el presente reporte, tales se basan en las siguientes premisas:\n",
    "\n",
    "[Pendiente: desarrollo]\n",
    "\n",
    "En este sentido, en particular para cada experimento realizado, se reportan según resulte aplicable:\n",
    "\n",
    "* los parámetros empleados en la simulaciones, \n",
    "* las dimensiones de las matrices y vectores involucrados, así como el prodecimiento pseudo-aleatorio que les dio origen, \n",
    "* 1) el tiempo involucrado en correr los experimentos, \n",
    "* 2) número de condición de las matrices pseudo-aleatorias, y \n",
    "* 3) el error relativo obtenido, para la solución de un sistema lineal de la forma $Ax=b$, es decir el cociente\n",
    "\n",
    "$$|| Ax - b ||_2 / || b ||_2$$\n",
    "* 4) La norma de $A$ y de la matriz obtenida al rearmar A tras multiplica las matrices resultantes de la aproximación de la descomposición SVD vía el algoritmo **One-Sided Jacobi**\n",
    "\n",
    "\n",
    "### 1.1 Consideraciones sobre la infraestructura empleada\n",
    "\n",
    "**Especificaciones de ambiente común de trabajo**\n",
    "\n",
    "Para realizar el presente experimento numérico se ha empleado la imagen de docker basada en R del curso MNO 2020 (palmoreck/jupyterlab_r_kernel:1.1.0)\n",
    "\n",
    "```\n",
    "docker run --rm -v `pwd`:/datos --name jupyterlab_r_kernel_local -p 8888:8888 -d palmoreck/jupyterlab_r_kernel:1.1.0\n",
    "\n",
    "```\n",
    "\n",
    "*Nota:* el comando \"-v \\`pwd\\`:/datos\", permite montar el directorio actual en donde el usuario se encuentre situada en terminal como un volumen de la imagen de docker, dentro del directorio \"/datos\".\n",
    "\n",
    "## 2. Experimento numérico\n",
    "\n",
    "**Objetivo**\n",
    "\n",
    "Modificar el número de condición de la matriz y las dimensiones de los bloques para notar el efecto que tiene sobre el error relativo y el tiempo de ejecución.\n",
    "\n",
    "A tal respecto, se destaca que se realizó este experimentos buscando probar como afecta el tiempo de ejecución el número de bloques seleccionados.\n",
    "\n",
    "**Cargamos codigo desarrollado previamente**\n",
    "\n",
    "* **utils.R:** contiene las funciones auxiliares desarrolladas para el proyecto\n",
    "* **00-load.R:** la implementación del método de eliminación por bloques, empleando la aproximación de la descomposición SVD vía el algoritmo **One-Sided Jacobi**."
   ]
  },
  {
   "cell_type": "code",
   "execution_count": 7,
   "metadata": {},
   "outputs": [
    {
     "data": {
      "text/html": [
       "<ol>\n",
       "\t<li>NULL</li>\n",
       "\t<li>NULL</li>\n",
       "</ol>\n"
      ],
      "text/latex": [
       "\\begin{enumerate}\n",
       "\\item NULL\n",
       "\\item NULL\n",
       "\\end{enumerate}\n"
      ],
      "text/markdown": [
       "1. NULL\n",
       "2. NULL\n",
       "\n",
       "\n"
      ],
      "text/plain": [
       "[[1]]\n",
       "NULL\n",
       "\n",
       "[[2]]\n",
       "NULL\n"
      ]
     },
     "metadata": {},
     "output_type": "display_data"
    }
   ],
   "source": [
    "## Instalamos paquetes\n",
    "rm(list = ls())\n",
    "\n",
    "paquetes <- c('matrixcalc','pracma')\n",
    "\n",
    "instalar <- function(paquete) {\n",
    "  if (!require(paquete,character.only = TRUE, quietly = TRUE, warn.conflicts = FALSE)) {\n",
    "    install.packages(as.character(paquete), dependecies = TRUE, repos = \"http://cran.us.r-project.org\")\n",
    "    library(paquete, character.only = TRUE, quietly = TRUE, warn.conflicts = FALSE)\n",
    "  }\n",
    "}\n",
    "\n",
    "\n",
    "lapply(paquetes, instalar)"
   ]
  },
  {
   "cell_type": "code",
   "execution_count": 1,
   "metadata": {},
   "outputs": [],
   "source": [
    "## Cargamos paquetes necesarios\n",
    "library(\"matrixcalc\")\n",
    "library(\"pracma\")\n",
    "#source(\"metadata.R\")\n",
    "source(\"utils.R\")\n",
    "source(\"00-load.R\")"
   ]
  },
  {
   "cell_type": "markdown",
   "metadata": {},
   "source": [
    "### 2.1 Experimento 6.1\n",
    "\n",
    "Se cambia el número de bloques para diferentes corridas.\n",
    "\n",
    "| # |         Parámetros         | Valor/Rango de valores | Comentarios |\n",
    "|:-:|:--------------------------:|:----------------------:|:-----------:|\n",
    "| 1 |     Dimensiones de $A$     |     $10^2x10^2$                   |             |\n",
    "| 2 |        Dimensión $b$       |     $10^2$                   |             |\n",
    "| 3 |         Tolerancia         |     $10^{-8}$                   |             |\n",
    "| 4 |          Maxsweep          |           5             |             |\n",
    "| 5 |   Metodo pseudo-aleatorio  |          SVD jacobi              |        Obtenido con método XXX    |\n",
    "| 6 | Numero de condición de $A$ |          429.54              |     Obtenido con función cond        |\n",
    "\n",
    "\n",
    "**Codigo:** breve descrición de que hace el código y resultados."
   ]
  },
  {
   "cell_type": "code",
   "execution_count": 23,
   "metadata": {},
   "outputs": [
    {
     "name": "stdout",
     "output_type": "stream",
     "text": [
      "[1] \"#####################\"\n",
      "[1] \"Error relativo\"\n"
     ]
    },
    {
     "data": {
      "text/html": [
       "1.47576489206341"
      ],
      "text/latex": [
       "1.47576489206341"
      ],
      "text/markdown": [
       "1.47576489206341"
      ],
      "text/plain": [
       "[1] 1.475765"
      ]
     },
     "metadata": {},
     "output_type": "display_data"
    },
    {
     "name": "stdout",
     "output_type": "stream",
     "text": [
      "[1] \"#####################\"\n",
      "[1] \"Número de condición\"\n"
     ]
    },
    {
     "data": {
      "text/html": [
       "429.540775257275"
      ],
      "text/latex": [
       "429.540775257275"
      ],
      "text/markdown": [
       "429.540775257275"
      ],
      "text/plain": [
       "[1] 429.5408"
      ]
     },
     "metadata": {},
     "output_type": "display_data"
    },
    {
     "name": "stdout",
     "output_type": "stream",
     "text": [
      "[1] \"#####################\"\n"
     ]
    },
    {
     "data": {
      "text/plain": [
       "Time difference of 1.707352 mins"
      ]
     },
     "metadata": {},
     "output_type": "display_data"
    }
   ],
   "source": [
    "set.seed(231)\n",
    "n= 10**2\n",
    "TOL = 10**-8\n",
    "\n",
    "A = matrix(sample(-100:100,n*n,replace=TRUE), ncol=n)\n",
    "b = matrix(rnorm(n), ncol=1)\n",
    "\n",
    "\n",
    "inicio<-Sys.time()\n",
    "z<-eliminacion_bloques(A,b,n/2,10^-8,5)\n",
    "print(\"#####################\")\n",
    "print(\"Error relativo\")\n",
    "norm(A%*%z-b,\"2\")/norm(b,\"2\")\n",
    "print(\"#####################\")\n",
    "print(\"Número de condición\")\n",
    "cond(A)\n",
    "print(\"#####################\")\n",
    "fin<-Sys.time()\n",
    "fin-inicio"
   ]
  },
  {
   "cell_type": "markdown",
   "metadata": {},
   "source": [
    "**Resultados**\n",
    "\n",
    "Los resultados obtenidos se resumen a través de la siguiente tabla [Pendiente: por favor ajustar tabla según experimento]\n",
    "\n",
    "| # |                Parámetros                | Valor/Rango de valores |            Comentarios            |\n",
    "|:-:|:----------------------------------------:|:----------------------:|:---------------------------------:|\n",
    "| 1 |            Tiempo de ejecución           |1.70 mins                        |                                   |\n",
    "| 2 |      Error relativo $||Ax-b||/||b||$     |1.47576                        |                                   |\n",
    "| 3 | Tamaño de bloque                         |$50$                        |                                   |"
   ]
  },
  {
   "cell_type": "code",
   "execution_count": 24,
   "metadata": {},
   "outputs": [
    {
     "name": "stdout",
     "output_type": "stream",
     "text": [
      "[1] \"#####################\"\n",
      "[1] \"Error relativo\"\n"
     ]
    },
    {
     "data": {
      "text/html": [
       "2.33433916802793"
      ],
      "text/latex": [
       "2.33433916802793"
      ],
      "text/markdown": [
       "2.33433916802793"
      ],
      "text/plain": [
       "[1] 2.334339"
      ]
     },
     "metadata": {},
     "output_type": "display_data"
    },
    {
     "name": "stdout",
     "output_type": "stream",
     "text": [
      "[1] \"#####################\"\n",
      "[1] \"Número de condición\"\n"
     ]
    },
    {
     "data": {
      "text/html": [
       "429.540775257275"
      ],
      "text/latex": [
       "429.540775257275"
      ],
      "text/markdown": [
       "429.540775257275"
      ],
      "text/plain": [
       "[1] 429.5408"
      ]
     },
     "metadata": {},
     "output_type": "display_data"
    },
    {
     "name": "stdout",
     "output_type": "stream",
     "text": [
      "[1] \"#####################\"\n"
     ]
    },
    {
     "data": {
      "text/plain": [
       "Time difference of 28.57947 secs"
      ]
     },
     "metadata": {},
     "output_type": "display_data"
    }
   ],
   "source": [
    "inicio<-Sys.time()\n",
    "z<-eliminacion_bloques(A,b,20,10^-8,5)\n",
    "print(\"#####################\")\n",
    "print(\"Error relativo\")\n",
    "norm(A%*%z-b,\"2\")/norm(b,\"2\")\n",
    "print(\"#####################\")\n",
    "print(\"Número de condición\")\n",
    "cond(A)\n",
    "print(\"#####################\")\n",
    "fin<-Sys.time()\n",
    "fin-inicio"
   ]
  },
  {
   "cell_type": "markdown",
   "metadata": {},
   "source": [
    "| # |                Parámetros                | Valor/Rango de valores |            Comentarios            |\n",
    "|:-:|:----------------------------------------:|:----------------------:|:---------------------------------:|\n",
    "| 1 |            Tiempo de ejecución           |28.57 seg               |                                   |\n",
    "| 2 |      Error relativo $||Ax-b||/||b||$     |2.3343                  |                                   |\n",
    "| 3 | Tamaño de bloque                         |$20$                    |                                   |"
   ]
  },
  {
   "cell_type": "code",
   "execution_count": 25,
   "metadata": {},
   "outputs": [
    {
     "name": "stdout",
     "output_type": "stream",
     "text": [
      "[1] \"#####################\"\n",
      "[1] \"Error relativo\"\n"
     ]
    },
    {
     "data": {
      "text/html": [
       "2.12066292322701"
      ],
      "text/latex": [
       "2.12066292322701"
      ],
      "text/markdown": [
       "2.12066292322701"
      ],
      "text/plain": [
       "[1] 2.120663"
      ]
     },
     "metadata": {},
     "output_type": "display_data"
    },
    {
     "name": "stdout",
     "output_type": "stream",
     "text": [
      "[1] \"#####################\"\n",
      "[1] \"Número de condición\"\n"
     ]
    },
    {
     "data": {
      "text/html": [
       "429.540775257275"
      ],
      "text/latex": [
       "429.540775257275"
      ],
      "text/markdown": [
       "429.540775257275"
      ],
      "text/plain": [
       "[1] 429.5408"
      ]
     },
     "metadata": {},
     "output_type": "display_data"
    },
    {
     "name": "stdout",
     "output_type": "stream",
     "text": [
      "[1] \"#####################\"\n"
     ]
    },
    {
     "data": {
      "text/plain": [
       "Time difference of 12.77056 secs"
      ]
     },
     "metadata": {},
     "output_type": "display_data"
    }
   ],
   "source": [
    "inicio<-Sys.time()\n",
    "z<-eliminacion_bloques(A,b,10,10^-8,5)\n",
    "\n",
    "print(\"Error relativo\")\n",
    "norm(A%*%z-b,\"2\")/norm(b,\"2\")\n",
    "print(\"#####################\")\n",
    "print(\"Número de condición\")\n",
    "cond(A)\n",
    "print(\"#####################\")\n",
    "fin<-Sys.time()\n",
    "fin-inicio"
   ]
  },
  {
   "cell_type": "markdown",
   "metadata": {},
   "source": [
    "| # |                Parámetros                | Valor/Rango de valores |            Comentarios            |\n",
    "|:-:|:----------------------------------------:|:----------------------:|:---------------------------------:|\n",
    "| 1 |            Tiempo de ejecución           |12.77 seg                        |                                   |\n",
    "| 2 |      Error relativo $||Ax-b||/||b||$     |2.12                        |                                   |\n",
    "| 6 | Tamaño de bloque                         |$10$                        |                                   |"
   ]
  },
  {
   "cell_type": "markdown",
   "metadata": {},
   "source": [
    "### 2.2  Experimento 6.2\n",
    "\n",
    "Este experimento se basa en los siguientes parámetros [Pendiente: por favor ajustar tabla según experimento]\n",
    "\n",
    "| # |         Parámetros         | Valor/Rango de valores | Comentarios |\n",
    "|:-:|:--------------------------:|:----------------------:|:-----------:|\n",
    "| 1 |     Dimensiones de $A$     |         $10x10$               |             |\n",
    "| 2 |        Dimensión $b$       |      10                  |             |\n",
    "| 3 |         Tolerancia         |     $10^{-8}$                   |             |\n",
    "| 4 |          Maxsweep          |  5                      |             |\n",
    "| 5 |   Metodo pseudo-aleatorio  |              |       \n",
    "| 6 | Numero de condición de $A$ |   80.6159                       |      Obtenido con método cond()        |\n",
    "\n",
    "**Codigo:** breve descrición de que hace el código y resultados."
   ]
  },
  {
   "cell_type": "code",
   "execution_count": 47,
   "metadata": {},
   "outputs": [
    {
     "data": {
      "text/html": [
       "80.6159466482164"
      ],
      "text/latex": [
       "80.6159466482164"
      ],
      "text/markdown": [
       "80.6159466482164"
      ],
      "text/plain": [
       "[1] 80.61595"
      ]
     },
     "metadata": {},
     "output_type": "display_data"
    }
   ],
   "source": [
    "set.seed(231)\n",
    "n= 10**1\n",
    "TOL = 10**-8\n",
    "lim<-1\n",
    "\n",
    "A = matrix(runif(n*n,min=-lim,max=lim), ncol=n)\n",
    "b = matrix(runif(n,min=-lim,max=lim), ncol=1)\n",
    "\n",
    "cond(A)"
   ]
  },
  {
   "cell_type": "code",
   "execution_count": 50,
   "metadata": {},
   "outputs": [
    {
     "name": "stdout",
     "output_type": "stream",
     "text": [
      "[1] \"Error relativo\"\n"
     ]
    },
    {
     "data": {
      "text/html": [
       "0.748919609695528"
      ],
      "text/latex": [
       "0.748919609695528"
      ],
      "text/markdown": [
       "0.748919609695528"
      ],
      "text/plain": [
       "[1] 0.7489196"
      ]
     },
     "metadata": {},
     "output_type": "display_data"
    },
    {
     "name": "stdout",
     "output_type": "stream",
     "text": [
      "[1] \"#####################\"\n",
      "[1] \"Número de condición\"\n"
     ]
    },
    {
     "data": {
      "text/html": [
       "80.6159466482164"
      ],
      "text/latex": [
       "80.6159466482164"
      ],
      "text/markdown": [
       "80.6159466482164"
      ],
      "text/plain": [
       "[1] 80.61595"
      ]
     },
     "metadata": {},
     "output_type": "display_data"
    },
    {
     "name": "stdout",
     "output_type": "stream",
     "text": [
      "[1] \"#####################\"\n"
     ]
    },
    {
     "data": {
      "text/plain": [
       "Time difference of 0.05477023 secs"
      ]
     },
     "metadata": {},
     "output_type": "display_data"
    }
   ],
   "source": [
    "inicio<-Sys.time()\n",
    "z<-eliminacion_bloques(A,b,2,10^-8,5)\n",
    "\n",
    "print(\"Error relativo\")\n",
    "norm(A%*%z-b,\"2\")/norm(b,\"2\")\n",
    "print(\"#####################\")\n",
    "print(\"Número de condición\")\n",
    "cond(A)\n",
    "print(\"#####################\")\n",
    "fin<-Sys.time()\n",
    "fin-inicio"
   ]
  },
  {
   "cell_type": "markdown",
   "metadata": {},
   "source": [
    "**Resultados**\n",
    "\n",
    "Los resultados obtenidos se resumen a través de la siguiente tabla [Pendiente: por favor ajustar tabla según experimento]  \n",
    "\n",
    "| # |                Parámetros                | Valor/Rango de valores |            Comentarios            |\n",
    "|:-:|:----------------------------------------:|:----------------------:|:---------------------------------:|\n",
    "| 1 |            Tiempo de ejecución           |0.05477 seg                        |                                   |\n",
    "| 2 |      Error relativo $||Ax-b||/||b||$     |0.7489                        |                                   |\n",
    "| 6 | Tamaño de bloque                         |$2$                        |                                   |"
   ]
  },
  {
   "cell_type": "code",
   "execution_count": 51,
   "metadata": {},
   "outputs": [
    {
     "name": "stdout",
     "output_type": "stream",
     "text": [
      "[1] \"Error relativo\"\n"
     ]
    },
    {
     "data": {
      "text/html": [
       "1.02714609914043"
      ],
      "text/latex": [
       "1.02714609914043"
      ],
      "text/markdown": [
       "1.02714609914043"
      ],
      "text/plain": [
       "[1] 1.027146"
      ]
     },
     "metadata": {},
     "output_type": "display_data"
    },
    {
     "name": "stdout",
     "output_type": "stream",
     "text": [
      "[1] \"#####################\"\n",
      "[1] \"Número de condición\"\n"
     ]
    },
    {
     "data": {
      "text/html": [
       "80.6159466482164"
      ],
      "text/latex": [
       "80.6159466482164"
      ],
      "text/markdown": [
       "80.6159466482164"
      ],
      "text/plain": [
       "[1] 80.61595"
      ]
     },
     "metadata": {},
     "output_type": "display_data"
    },
    {
     "name": "stdout",
     "output_type": "stream",
     "text": [
      "[1] \"#####################\"\n"
     ]
    },
    {
     "data": {
      "text/plain": [
       "Time difference of 0.1097484 secs"
      ]
     },
     "metadata": {},
     "output_type": "display_data"
    }
   ],
   "source": [
    "inicio<-Sys.time()\n",
    "z<-eliminacion_bloques(A,b,5,10^-8,5)\n",
    "\n",
    "print(\"Error relativo\")\n",
    "norm(A%*%z-b,\"2\")/norm(b,\"2\")\n",
    "print(\"#####################\")\n",
    "print(\"Número de condición\")\n",
    "cond(A)\n",
    "print(\"#####################\")\n",
    "fin<-Sys.time()\n",
    "fin-inicio"
   ]
  },
  {
   "cell_type": "markdown",
   "metadata": {},
   "source": [
    "| # |                Parámetros                | Valor/Rango de valores |            Comentarios            |\n",
    "|:-:|:----------------------------------------:|:----------------------:|:---------------------------------:|\n",
    "| 1 |            Tiempo de ejecución           |.109 seg                        |                                   |\n",
    "| 2 |      Error relativo $||Ax-b||/||b||$     |1.0271                        |                                   |\n",
    "| 6 | Tamaño de bloque                         |$5$                        |                                   |"
   ]
  },
  {
   "cell_type": "code",
   "execution_count": 52,
   "metadata": {},
   "outputs": [
    {
     "name": "stdout",
     "output_type": "stream",
     "text": [
      "[1] \"Error relativo\"\n"
     ]
    },
    {
     "data": {
      "text/html": [
       "0.892225155982179"
      ],
      "text/latex": [
       "0.892225155982179"
      ],
      "text/markdown": [
       "0.892225155982179"
      ],
      "text/plain": [
       "[1] 0.8922252"
      ]
     },
     "metadata": {},
     "output_type": "display_data"
    },
    {
     "name": "stdout",
     "output_type": "stream",
     "text": [
      "[1] \"#####################\"\n",
      "[1] \"Número de condición\"\n"
     ]
    },
    {
     "data": {
      "text/html": [
       "80.6159466482164"
      ],
      "text/latex": [
       "80.6159466482164"
      ],
      "text/markdown": [
       "80.6159466482164"
      ],
      "text/plain": [
       "[1] 80.61595"
      ]
     },
     "metadata": {},
     "output_type": "display_data"
    },
    {
     "name": "stdout",
     "output_type": "stream",
     "text": [
      "[1] \"#####################\"\n"
     ]
    },
    {
     "data": {
      "text/plain": [
       "Time difference of 0.1003442 secs"
      ]
     },
     "metadata": {},
     "output_type": "display_data"
    }
   ],
   "source": [
    "inicio<-Sys.time()\n",
    "z<-eliminacion_bloques(A,b,7,10^-8,5)\n",
    "\n",
    "print(\"Error relativo\")\n",
    "norm(A%*%z-b,\"2\")/norm(b,\"2\")\n",
    "print(\"#####################\")\n",
    "print(\"Número de condición\")\n",
    "cond(A)\n",
    "print(\"#####################\")\n",
    "fin<-Sys.time()\n",
    "fin-inicio"
   ]
  },
  {
   "cell_type": "markdown",
   "metadata": {},
   "source": [
    "| # |                Parámetros                | Valor/Rango de valores |            Comentarios            |\n",
    "|:-:|:----------------------------------------:|:----------------------:|:---------------------------------:|\n",
    "| 1 |            Tiempo de ejecución           |0.1003 seg                        |                                   |\n",
    "| 2 |      Error relativo $||Ax-b||/||b||$     |0.8922                        |                                   |\n",
    "| 6 | Tamaño de bloque                         |$7$                        |                                   |"
   ]
  },
  {
   "cell_type": "markdown",
   "metadata": {},
   "source": [
    "### 2.3  Experimento 6.3\n",
    "\n",
    "Este experimento se basa en los siguientes parámetros \n",
    "\n",
    "| # |         Parámetros         | Valor/Rango de valores | Comentarios |\n",
    "|:-:|:--------------------------:|:----------------------:|:-----------:|\n",
    "| 1 |     Dimensiones de $A$     |    $10^3x10^3$                    |             |\n",
    "| 2 |        Dimensión $b$       |    $10^3$                    |             |\n",
    "| 3 |         Tolerancia         |    $10^{-8}$                    |             |\n",
    "| 4 |          Maxsweep          |    5                    |             |\n",
    "| 5 |   Metodo pseudo-aleatorio  |                        |        Obtenido con método XXX    |\n",
    "| 6 | Numero de condición de $A$ |    470296                    |     Obtenido con función cond()       |\n",
    "**Codigo:** breve descrición de que hace el código y resultados."
   ]
  },
  {
   "cell_type": "code",
   "execution_count": 2,
   "metadata": {},
   "outputs": [
    {
     "data": {
      "text/html": [
       "470296.628602267"
      ],
      "text/latex": [
       "470296.628602267"
      ],
      "text/markdown": [
       "470296.628602267"
      ],
      "text/plain": [
       "[1] 470296.6"
      ]
     },
     "metadata": {},
     "output_type": "display_data"
    }
   ],
   "source": [
    "set.seed(231)\n",
    "n= 10**2\n",
    "TOL = 10**-8\n",
    "lim<-10\n",
    "\n",
    "A = matrix(rnorm(n*n,mean=50,sd=12), ncol=n)\n",
    "b = matrix(runif(n,min=-lim,max=lim), ncol=1)\n",
    "\n",
    "cond(A)"
   ]
  },
  {
   "cell_type": "code",
   "execution_count": 3,
   "metadata": {},
   "outputs": [
    {
     "name": "stdout",
     "output_type": "stream",
     "text": [
      "[1] \"Error relativo\"\n"
     ]
    },
    {
     "data": {
      "text/html": [
       "1.49112718928426"
      ],
      "text/latex": [
       "1.49112718928426"
      ],
      "text/markdown": [
       "1.49112718928426"
      ],
      "text/plain": [
       "[1] 1.491127"
      ]
     },
     "metadata": {},
     "output_type": "display_data"
    },
    {
     "name": "stdout",
     "output_type": "stream",
     "text": [
      "[1] \"#####################\"\n",
      "[1] \"Número de condición\"\n"
     ]
    },
    {
     "data": {
      "text/html": [
       "470296.628602267"
      ],
      "text/latex": [
       "470296.628602267"
      ],
      "text/markdown": [
       "470296.628602267"
      ],
      "text/plain": [
       "[1] 470296.6"
      ]
     },
     "metadata": {},
     "output_type": "display_data"
    },
    {
     "name": "stdout",
     "output_type": "stream",
     "text": [
      "[1] \"#####################\"\n"
     ]
    },
    {
     "data": {
      "text/plain": [
       "Time difference of 1.08548 mins"
      ]
     },
     "metadata": {},
     "output_type": "display_data"
    }
   ],
   "source": [
    "inicio<-Sys.time()\n",
    "z<-eliminacion_bloques(A,b,50,10^-8,5)\n",
    "\n",
    "print(\"Error relativo\")\n",
    "norm(A%*%z-b,\"2\")/norm(b,\"2\")\n",
    "print(\"#####################\")\n",
    "print(\"Número de condición\")\n",
    "cond(A)\n",
    "print(\"#####################\")\n",
    "fin<-Sys.time()\n",
    "fin-inicio"
   ]
  },
  {
   "cell_type": "markdown",
   "metadata": {},
   "source": [
    "| # |                Parámetros                | Valor/Rango de valores |            Comentarios            |\n",
    "|:-:|:----------------------------------------:|:----------------------:|:---------------------------------:|\n",
    "| 1 |            Tiempo de ejecución           |1.085 min                        |                                   |\n",
    "| 2 |      Error relativo $||Ax-b||/||b||$     |1.4911|                                   |\n",
    "| 6 | Tamaño de bloque                         |50                      |                                   |"
   ]
  },
  {
   "cell_type": "code",
   "execution_count": 4,
   "metadata": {},
   "outputs": [
    {
     "name": "stdout",
     "output_type": "stream",
     "text": [
      "[1] \"Error relativo\"\n"
     ]
    },
    {
     "data": {
      "text/html": [
       "1.21415376388487"
      ],
      "text/latex": [
       "1.21415376388487"
      ],
      "text/markdown": [
       "1.21415376388487"
      ],
      "text/plain": [
       "[1] 1.214154"
      ]
     },
     "metadata": {},
     "output_type": "display_data"
    },
    {
     "name": "stdout",
     "output_type": "stream",
     "text": [
      "[1] \"#####################\"\n",
      "[1] \"Número de condición\"\n"
     ]
    },
    {
     "data": {
      "text/html": [
       "470296.628602267"
      ],
      "text/latex": [
       "470296.628602267"
      ],
      "text/markdown": [
       "470296.628602267"
      ],
      "text/plain": [
       "[1] 470296.6"
      ]
     },
     "metadata": {},
     "output_type": "display_data"
    },
    {
     "name": "stdout",
     "output_type": "stream",
     "text": [
      "[1] \"#####################\"\n"
     ]
    },
    {
     "data": {
      "text/plain": [
       "Time difference of 18.3024 secs"
      ]
     },
     "metadata": {},
     "output_type": "display_data"
    }
   ],
   "source": [
    "inicio<-Sys.time()\n",
    "z<-eliminacion_bloques(A,b,20,10^-8,5)\n",
    "\n",
    "print(\"Error relativo\")\n",
    "norm(A%*%z-b,\"2\")/norm(b,\"2\")\n",
    "print(\"#####################\")\n",
    "print(\"Número de condición\")\n",
    "cond(A)\n",
    "print(\"#####################\")\n",
    "fin<-Sys.time()\n",
    "fin-inicio"
   ]
  },
  {
   "cell_type": "markdown",
   "metadata": {},
   "source": [
    "| # |                Parámetros                | Valor/Rango de valores |            Comentarios            |\n",
    "|:-:|:----------------------------------------:|:----------------------:|:---------------------------------:|\n",
    "| 1 |            Tiempo de ejecución           |18.30 seg                        |                                   |\n",
    "| 2 |      Error relativo $||Ax-b||/||b||$     |1.2141                        |                                   |\n",
    "| 6 | Tamaño de bloque                         |20                      |                                   |"
   ]
  },
  {
   "cell_type": "code",
   "execution_count": 5,
   "metadata": {},
   "outputs": [
    {
     "name": "stdout",
     "output_type": "stream",
     "text": [
      "[1] \"Error relativo\"\n"
     ]
    },
    {
     "data": {
      "text/html": [
       "1.27453852909866"
      ],
      "text/latex": [
       "1.27453852909866"
      ],
      "text/markdown": [
       "1.27453852909866"
      ],
      "text/plain": [
       "[1] 1.274539"
      ]
     },
     "metadata": {},
     "output_type": "display_data"
    },
    {
     "name": "stdout",
     "output_type": "stream",
     "text": [
      "[1] \"#####################\"\n",
      "[1] \"Número de condición\"\n"
     ]
    },
    {
     "data": {
      "text/html": [
       "470296.628602267"
      ],
      "text/latex": [
       "470296.628602267"
      ],
      "text/markdown": [
       "470296.628602267"
      ],
      "text/plain": [
       "[1] 470296.6"
      ]
     },
     "metadata": {},
     "output_type": "display_data"
    },
    {
     "name": "stdout",
     "output_type": "stream",
     "text": [
      "[1] \"#####################\"\n"
     ]
    },
    {
     "data": {
      "text/plain": [
       "Time difference of 7.043236 secs"
      ]
     },
     "metadata": {},
     "output_type": "display_data"
    }
   ],
   "source": [
    "inicio<-Sys.time()\n",
    "z<-eliminacion_bloques(A,b,10,10^-8,5)\n",
    "\n",
    "print(\"Error relativo\")\n",
    "norm(A%*%z-b,\"2\")/norm(b,\"2\")\n",
    "print(\"#####################\")\n",
    "print(\"Número de condición\")\n",
    "cond(A)\n",
    "print(\"#####################\")\n",
    "fin<-Sys.time()\n",
    "fin-inicio"
   ]
  },
  {
   "cell_type": "markdown",
   "metadata": {},
   "source": [
    "| # |                Parámetros                | Valor/Rango de valores |            Comentarios            |\n",
    "|:-:|:----------------------------------------:|:----------------------:|:---------------------------------:|\n",
    "| 1 |            Tiempo de ejecución           |7.04 sec                        |                                   |\n",
    "| 2 |      Error relativo $||Ax-b||/||b||$     |1.2745                        |                                   |\n",
    "| 6 | Tamaño de bloque                         |10                      |                                   |"
   ]
  },
  {
   "cell_type": "markdown",
   "metadata": {},
   "source": [
    "## 3. Principalez hallazgos\n",
    "\n",
    "Al respecto, se destacan los siguientes hallazgos del experimento:\n",
    "\n",
    "* Hallazgo 1: Mientras más pequeños son los bloques el tiempo de ejecución es menor.\n",
    "* Hallazgo 2: El error relativo es menor conforme aumenta el número de bloques. \n",
    "* Hallazgo 3: LA condición de la matriz no tiene un efecto claro sobre las cantidades que se están revisando aunque esperabamos que se manifestará en el error relativo.\n"
   ]
  },
  {
   "cell_type": "code",
   "execution_count": null,
   "metadata": {},
   "outputs": [],
   "source": []
  }
 ],
 "metadata": {
  "kernelspec": {
   "display_name": "Python 3",
   "language": "python",
   "name": "python3"
  },
  "language_info": {
   "codemirror_mode": {
    "name": "ipython",
    "version": 3
   },
   "file_extension": ".py",
   "mimetype": "text/x-python",
   "name": "python",
   "nbconvert_exporter": "python",
   "pygments_lexer": "ipython3",
   "version": "3.7.6"
  }
 },
 "nbformat": 4,
 "nbformat_minor": 4
}
