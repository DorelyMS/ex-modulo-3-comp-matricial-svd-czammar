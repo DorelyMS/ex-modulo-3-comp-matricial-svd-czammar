{
 "cells": [
  {
   "cell_type": "markdown",
   "metadata": {},
   "source": [
    "# Experimento numérico \\#4 - Tema Solución de bloques cambiando método de generación de matriz pseudo-aleatoria de sistema.\n",
    "\n",
    "**Responsable:** León Garay \n",
    "\n",
    "## 0. Objetivo\n",
    "\n",
    "Este documento pretende mostar los resultados obtenidos con la implementación realizada, en el contexto de la implementación de entradas normales con varianza cada vez más alta y matrices de $10^1$, $10^2$.\n",
    "\n",
    "**Nota:** El reporte general de resultados obtenidos con las implementaciones realizadas en este proyecto se puede consultar en el siguiente [vínculo](https://github.com/mno-2020-gh-classroom/ex-modulo-3-comp-matricial-svd-czammar/blob/master/results/Reporte_resultados.ipynb)\n",
    "\n",
    "## 1. Consideraciones\n",
    "\n",
    "Al respecto de los experimentos numéricos realizados para consolidar el presente reporte como se ha dicho este pretende analizar los resultados obtenidos con la implementación realizada, restringido a entradas normales con varianza cada vez más alta y matrices de $10^1$, $10^2$.\n",
    "\n",
    "En este sentido, en particular para cada experimento realizado, se reportan según resulte aplicable:\n",
    "\n",
    "* los parámetros empleados en la simulaciones, \n",
    "* las dimensiones de las matrices y vectores involucrados, así como el prodecimiento pseudo-aleatorio que les dio origen, \n",
    "* 1) el tiempo involucrado en correr los experimentos, \n",
    "* 2) número de condición de las matrices pseudo-aleatorias, y \n",
    "* 3) el error relativo obtenido, para la solución de un sistema lineal de la forma $Ax=b$, es decir el cociente\n",
    "\n",
    "$$|| Ax - b ||_2 / || b ||_2$$\n",
    "* 4) La norma de $A$ y de la matriz obtenida al rearmar A tras multiplica las matrices resultantes de la aproximación de la descomposición SVD vía el algoritmo **One-Sided Jacobi**\n",
    "\n",
    "\n",
    "### 1.1 Consideraciones sobre la infraestructura empleada\n",
    "\n",
    "**Especificaciones de ambiente común de trabajo**\n",
    "\n",
    "Para realizar el presente experimento numérico se ha empleado la imagen de docker basada en R del curso MNO 2020 (palmoreck/jupyterlab_r_kernel:1.1.0)\n",
    "\n",
    "```\n",
    "docker run --rm -v `pwd`:/datos --name jupyterlab_r_kernel_local -p 8888:8888 -d palmoreck/jupyterlab_r_kernel:1.1.0\n",
    "\n",
    "```\n",
    "\n",
    "*Nota:* el comando \"-v \\`pwd\\`:/datos\", permite montar el directorio actual en donde el usuario se encuentre situada en terminal como un volumen de la imagen de docker, dentro del directorio \"/datos\".\n",
    "\n",
    "## 2. Experimento numérico\n",
    "\n",
    "**Objetivo**\n",
    "\n",
    "Modificar las entradas de la matriz y las dimensiones de los bloques para notar que efecto tiene sobre el error relativo y el tiempo de ejecución.\n",
    "\n",
    "A tal respecto, se destaca que se realizó este experimentos buscando probar el comportamiento correcto de la función y medir los tiempo de ejecución.\n",
    "\n",
    "**Cargamos codigo desarrollado previamente**\n",
    "\n",
    "* **utils.R:** contiene las funciones auxiliares desarrolladas para el proyecto\n",
    "* **00-load.R:** la implementación del método de eliminación por bloques, empleando la aproximación de la descomposición SVD vía el algoritmo **One-Sided Jacobi**."
   ]
  },
  {
   "cell_type": "code",
   "execution_count": 1,
   "metadata": {},
   "outputs": [
    {
     "data": {
      "text/html": [
       "<ol>\n",
       "\t<li>NULL</li>\n",
       "</ol>\n"
      ],
      "text/latex": [
       "\\begin{enumerate}\n",
       "\\item NULL\n",
       "\\end{enumerate}\n"
      ],
      "text/markdown": [
       "1. NULL\n",
       "\n",
       "\n"
      ],
      "text/plain": [
       "[[1]]\n",
       "NULL\n"
      ]
     },
     "metadata": {},
     "output_type": "display_data"
    }
   ],
   "source": [
    "## Instalamos paquetes\n",
    "rm(list = ls())\n",
    "\n",
    "paquetes <- c('matrixcalc')\n",
    "\n",
    "instalar <- function(paquete) {\n",
    "  if (!require(paquete,character.only = TRUE, quietly = TRUE, warn.conflicts = FALSE)) {\n",
    "    install.packages(as.character(paquete), dependecies = TRUE, repos = \"http://cran.us.r-project.org\")\n",
    "    library(paquete, character.only = TRUE, quietly = TRUE, warn.conflicts = FALSE)\n",
    "  }\n",
    "}\n",
    "\n",
    "\n",
    "lapply(paquetes, instalar)"
   ]
  },
  {
   "cell_type": "code",
   "execution_count": 2,
   "metadata": {},
   "outputs": [
    {
     "name": "stderr",
     "output_type": "stream",
     "text": [
      "\n",
      "Attaching package: 'matlib'\n",
      "\n",
      "The following object is masked from 'package:matrixcalc':\n",
      "\n",
      "    vec\n",
      "\n"
     ]
    }
   ],
   "source": [
    "## Cargamos paquetes necesarios\n",
    "library(\"matrixcalc\")\n",
    "library(\"matlib\")\n",
    "#source(\"metadata.R\")\n",
    "source(\"utils.R\")\n",
    "source(\"00-load.R\")"
   ]
  },
  {
   "cell_type": "code",
   "execution_count": 3,
   "metadata": {},
   "outputs": [
    {
     "name": "stderr",
     "output_type": "stream",
     "text": [
      "Warning message in install.packages(\"tictoc\", lib = \"/usr/local/lib/R/site-library/\", :\n",
      "\"'lib = \"/usr/local/lib/R/site-library/\"' is not writable\""
     ]
    },
    {
     "ename": "ERROR",
     "evalue": "Error in install.packages(\"tictoc\", lib = \"/usr/local/lib/R/site-library/\", : unable to install packages\n",
     "output_type": "error",
     "traceback": [
      "Error in install.packages(\"tictoc\", lib = \"/usr/local/lib/R/site-library/\", : unable to install packages\nTraceback:\n",
      "1. install.packages(\"tictoc\", lib = \"/usr/local/lib/R/site-library/\", \n .     repos = \"https://cran.itam.mx/\", verbose = TRUE)",
      "2. stop(\"unable to install packages\")"
     ]
    }
   ],
   "source": [
    "install.packages(\"tictoc\",lib=\"/usr/local/lib/R/site-library/\",\n",
    "                repos=\"https://cran.itam.mx/\",verbose=TRUE)"
   ]
  },
  {
   "cell_type": "code",
   "execution_count": 4,
   "metadata": {},
   "outputs": [],
   "source": [
    "library('tictoc')"
   ]
  },
  {
   "cell_type": "markdown",
   "metadata": {},
   "source": [
    "### 2.1 Experimento 4.1 \n",
    "\n",
    "Este experimento se basa en los siguientes parámetros [Pendiente: por favor ajustar tabla según experimento]\n",
    "\n",
    "| # |         Parámetros         | Valor/Rango de valores | Comentarios |\n",
    "|:-:|:--------------------------:|:----------------------:|:-----------:|\n",
    "| 1 |     Dimensiones de $A$     |      10x10             |             |\n",
    "| 2 |        Dimensión $b$       |        10x1            |             |\n",
    "| 3 |         Tolerancia         |      10**-8            |             |\n",
    "| 4 |          Maxsweep          |        20              |             |\n",
    "| 5 |   Metodo pseudo-aleatorio  |     números reales     |        Obtenido con método rnorm(n)    |\n",
    "| 6 | Numero de condición de $A$ |      9.7491            |     Obtenido con función $||A||*||A^{-1}||$        |\n",
    "\n",
    "**Codigo:** Dada una matriz A esta se subdivide en bloques para resolver el sistema $Ax=b$."
   ]
  },
  {
   "cell_type": "code",
   "execution_count": 5,
   "metadata": {},
   "outputs": [
    {
     "name": "stdout",
     "output_type": "stream",
     "text": [
      "0.71 sec elapsed\n"
     ]
    }
   ],
   "source": [
    "set.seed(231)\n",
    "n= 10**1\n",
    "\n",
    "A = matrix(rnorm(n**2), ncol=n)\n",
    "b = matrix(rnorm(n), ncol=1)\n",
    "TOL = 10**-8\n",
    "maxsweep <- 20\n",
    "tic()\n",
    "z <- eliminacion_bloques(A,b,n/2,TOL,maxsweep)\n",
    "toc()"
   ]
  },
  {
   "cell_type": "code",
   "execution_count": 6,
   "metadata": {},
   "outputs": [
    {
     "data": {
      "text/html": [
       "1.81054427769937"
      ],
      "text/latex": [
       "1.81054427769937"
      ],
      "text/markdown": [
       "1.81054427769937"
      ],
      "text/plain": [
       "[1] 1.810544"
      ]
     },
     "metadata": {},
     "output_type": "display_data"
    }
   ],
   "source": [
    "# Error relativo\n",
    "norm(A%*%z-b,\"2\")/norm(b,\"2\")"
   ]
  },
  {
   "cell_type": "code",
   "execution_count": 7,
   "metadata": {},
   "outputs": [
    {
     "data": {
      "text/html": [
       "8.84071484238578e-15"
      ],
      "text/latex": [
       "8.84071484238578e-15"
      ],
      "text/markdown": [
       "8.84071484238578e-15"
      ],
      "text/plain": [
       "[1] 8.840715e-15"
      ]
     },
     "metadata": {},
     "output_type": "display_data"
    }
   ],
   "source": [
    "# Error factorización\n",
    "svd_aprox <- svd_jacobi_aprox(A, TOL, maxsweep)\n",
    "norm(A-svd_aprox$U%*%svd_aprox$S%*%t(svd_aprox$V),'2')"
   ]
  },
  {
   "cell_type": "code",
   "execution_count": 8,
   "metadata": {},
   "outputs": [
    {
     "data": {
      "text/html": [
       "9.74916406178362"
      ],
      "text/latex": [
       "9.74916406178362"
      ],
      "text/markdown": [
       "9.74916406178362"
      ],
      "text/plain": [
       "[1] 9.749164"
      ]
     },
     "metadata": {},
     "output_type": "display_data"
    }
   ],
   "source": [
    "# Condición de A\n",
    "norm(A, \"2\")*norm(inv(A),\"2\")"
   ]
  },
  {
   "cell_type": "markdown",
   "metadata": {},
   "source": [
    "**Resultados**\n",
    "\n",
    "Los resultados obtenidos se resumen a través de la siguiente tabla \n",
    "\n",
    "| # |                Parámetros                | Valor/Rango de valores |            Comentarios            |\n",
    "|:-:|:----------------------------------------:|:----------------------:|:---------------------------------:|\n",
    "| 1 |            Tiempo de ejecución           |           0.71 s        |                                   |\n",
    "| 2 |      Error relativo $||Ax-b||/||b||$     |         1.8105         |                                   |\n",
    "| 3 | Error factorizacion SVD $||Ax-b||/||b||$ |        8.84071e-15          | norma $A-U\\cdot \\Sigma \\cdot V^T$ |\n"
   ]
  },
  {
   "cell_type": "markdown",
   "metadata": {},
   "source": [
    "### 2.2  Experimento 4.2\n",
    "\n",
    "Este experimento se basa en los siguientes parámetros\n",
    "\n",
    "| # |         Parámetros         | Valor/Rango de valores | Comentarios |\n",
    "|:-:|:--------------------------:|:----------------------:|:-----------:|\n",
    "| 1 |     Dimensiones de $A$     |      100x100             |             |\n",
    "| 2 |        Dimensión $b$       |        100x1            |             |\n",
    "| 3 |         Tolerancia         |      10**-8            |             |\n",
    "| 4 |          Maxsweep          |        20              |             |\n",
    "| 5 |   Metodo pseudo-aleatorio  |     números reales     |        Obtenido con método rnorm(n)    |\n",
    "| 6 | Numero de condición de $A$ |      109.1753            |     Obtenido con función $||A||*||A^{-1}||$        |\n",
    "\n",
    "**Codigo:** Dada una matriz A esta se subdivide en bloques para resolver el sistema $Ax=b$."
   ]
  },
  {
   "cell_type": "code",
   "execution_count": 9,
   "metadata": {},
   "outputs": [
    {
     "name": "stdout",
     "output_type": "stream",
     "text": [
      "371.67 sec elapsed\n"
     ]
    }
   ],
   "source": [
    "set.seed(231)\n",
    "n= 10**2\n",
    "\n",
    "A = matrix(rnorm(n**2,0,10), ncol=n)\n",
    "b = matrix(rnorm(n,0,10), ncol=1)\n",
    "TOL = 10**-8\n",
    "maxsweep <- 20\n",
    "tic()\n",
    "z <- eliminacion_bloques(A,b,n/2,TOL,maxsweep)\n",
    "toc()"
   ]
  },
  {
   "cell_type": "code",
   "execution_count": 10,
   "metadata": {},
   "outputs": [
    {
     "data": {
      "text/html": [
       "0.824009687211496"
      ],
      "text/latex": [
       "0.824009687211496"
      ],
      "text/markdown": [
       "0.824009687211496"
      ],
      "text/plain": [
       "[1] 0.8240097"
      ]
     },
     "metadata": {},
     "output_type": "display_data"
    }
   ],
   "source": [
    "# Error relativo\n",
    "norm(A%*%z-b,\"2\")/norm(b,\"2\")"
   ]
  },
  {
   "cell_type": "code",
   "execution_count": 11,
   "metadata": {},
   "outputs": [
    {
     "data": {
      "text/html": [
       "2.67606827235762e-12"
      ],
      "text/latex": [
       "2.67606827235762e-12"
      ],
      "text/markdown": [
       "2.67606827235762e-12"
      ],
      "text/plain": [
       "[1] 2.676068e-12"
      ]
     },
     "metadata": {},
     "output_type": "display_data"
    }
   ],
   "source": [
    "# Error factorización\n",
    "svd_aprox <- svd_jacobi_aprox(A, TOL, maxsweep)\n",
    "norm(A-svd_aprox$U%*%svd_aprox$S%*%t(svd_aprox$V),'2')"
   ]
  },
  {
   "cell_type": "code",
   "execution_count": 12,
   "metadata": {},
   "outputs": [
    {
     "data": {
      "text/html": [
       "109.175335945684"
      ],
      "text/latex": [
       "109.175335945684"
      ],
      "text/markdown": [
       "109.175335945684"
      ],
      "text/plain": [
       "[1] 109.1753"
      ]
     },
     "metadata": {},
     "output_type": "display_data"
    }
   ],
   "source": [
    "# Condición de A\n",
    "norm(A, \"2\")*norm(inv(A),\"2\")"
   ]
  },
  {
   "cell_type": "markdown",
   "metadata": {},
   "source": [
    "**Resultados**\n",
    "\n",
    "Los resultados obtenidos se resumen a través de la siguiente tabla \n",
    "\n",
    "| # |                Parámetros                | Valor/Rango de valores |            Comentarios            |\n",
    "|:-:|:----------------------------------------:|:----------------------:|:---------------------------------:|\n",
    "| 1 |            Tiempo de ejecución           |     371.67 s           |                                   |\n",
    "| 2 |      Error relativo $||Ax-b||/||b||$     |      0.82400           |                                   |\n",
    "| 3 | Error factorizacion SVD $||Ax-b||/||b||$ |     2.676068e-12          | norma $A-U\\cdot \\Sigma \\cdot V^T$ |"
   ]
  },
  {
   "cell_type": "markdown",
   "metadata": {},
   "source": [
    "**Resumen de resultados obtenidos en experimentos**\n",
    "\n",
    "Los resultados obtenidos, se compararan a través de la siguiente:\n",
    "\n",
    "| # | Experimento | Tiempo de desempeño | Error relativo | Error factorización | Comentarios |\n",
    "|:-:|:-----------:|:-------------------:|----------------|----------------|:-----------:|\n",
    "| 1 |     4.1     |       0.71 s        |     1.8105     |  8.84071e-15  |             |\n",
    "| 2 |     4.2     |      371.67 s            |    0.82400   |   2.676068e-12   |             |\n"
   ]
  },
  {
   "cell_type": "markdown",
   "metadata": {},
   "source": [
    "## 3. Principales hallazgos\n",
    "\n",
    "Al respecto, se destacan los siguientes hallazgos del experimento:\n",
    "\n",
    "* Hallazgo 1: El algoritmo fue consistente al aumentar la dimensión de la matriz y la varianza de las entradas.\n",
    "* Hallazgo 2: El tiempo de ejecución aumentó considerablemente al aumentar la dimensión de la matriz.\n"
   ]
  }
 ],
 "metadata": {
  "kernelspec": {
   "display_name": "Python 3",
   "language": "python",
   "name": "python3"
  },
  "language_info": {
   "codemirror_mode": {
    "name": "ipython",
    "version": 3
   },
   "file_extension": ".py",
   "mimetype": "text/x-python",
   "name": "python",
   "nbconvert_exporter": "python",
   "pygments_lexer": "ipython3",
   "version": "3.7.6"
  }
 },
 "nbformat": 4,
 "nbformat_minor": 4
}
