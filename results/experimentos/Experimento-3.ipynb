{
 "cells": [
  {
   "cell_type": "markdown",
   "metadata": {},
   "source": [
    "### Experimento numérico \\# 3- Tema: Variación de tamaños de matrices\n",
    "\n",
    "**Responsable:** Danahi Ramos Martínez\n",
    "\n",
    "## 0. Objetivo\n",
    "\n",
    "Este documento pretende mostar los resultados obtenidos con la implementación realizada, en el contexto del comportamiento del método de solución de bloques al variar tamaño de matriz de sistema\n",
    "\n",
    "\n",
    "## 1. Consideraciones\n",
    "\n",
    "Al respecto de los experimentos numéricos realizados para consolidar el presente reporte, tales se basan en las siguientes premisas:\n",
    "\n",
    "En este sentido, en particular para cada experimento realizado, se reportan según resulte aplicable:\n",
    "\n",
    "* los parámetros empleados en la simulaciones, \n",
    "* las dimensiones de las matrices y vectores involucrados, así como el prodecimiento pseudo-aleatorio que les dio origen, \n",
    "* 1) el tiempo involucrado en correr los experimentos, \n",
    "* 2) número de condición de las matrices pseudo-aleatorias, y \n",
    "* 3) el error relativo obtenido, para la solución de un sistema lineal de la forma $Ax=b$, es decir el cociente\n",
    "\n",
    "$$|| Ax - b ||_2 / || b ||_2$$\n",
    "* 4) La norma de $A$ y de la matriz obtenida al rearmar A tras multiplica las matrices resultantes de la aproximación de la descomposición SVD vía el algoritmo **One-Sided Jacobi**\n",
    "\n",
    "El siguiente experimento fue realizado en una máquina con las siguientes características:\n",
    "MacBook Pro (13-inch, 2019, Four Thunderbolt 3 ports)\n",
    "* Procesador: 2.4 GHz Intel Core i5 de cuatro núcleos\n",
    "* Memoria: 8 GB 2133 MHz LPDDR3\n",
    "\n",
    "\n",
    "### 1.1 Consideraciones sobre la infraestructura empleada\n",
    "\n",
    "**Especificaciones de ambiente común de trabajo**\n",
    "\n",
    "Para realizar el presente experimento numérico se ha empleado la imagen de docker basada en R del curso MNO 2020 (palmoreck/jupyterlab_r_kernel:1.1.0)\n",
    "\n",
    "```\n",
    "docker run --rm -v `pwd`:/datos --name jupyterlab_r_kernel_local -p 8888:8888 -d palmoreck/jupyterlab_r_kernel:1.1.0\n",
    "\n",
    "```\n",
    "\n",
    "*Nota:* el comando \"-v \\`pwd\\`:/datos\", permite montar el directorio actual en donde el usuario se encuentre situada en terminal como un volumen de la imagen de docker, dentro del directorio \"/datos\".\n",
    "\n",
    "## 2. Experimento numérico\n",
    "\n",
    "**Objetivo**\n",
    "\n",
    "Probar el desempeño de la eliminación por bloques por medio de SVD con respecto a diferentes tamaños de matrices, es decir matrices de tamaño: 10x10 y 100x100 \n",
    "\n",
    "A tal respecto, se destaca que se realizó este experimentos buscando probar [Pendiente: desarrollo]\n",
    "\n",
    "**Cargamos codigo desarrollado previamente**\n",
    "\n",
    "* **utils.R:** contiene las funciones auxiliares desarrolladas para el proyecto\n",
    "* **00-load.R:** la implementación del método de eliminación por bloques, empleando la aproximación de la descomposición SVD vía el algoritmo **One-Sided Jacobi**."
   ]
  },
  {
   "cell_type": "code",
   "execution_count": 2,
   "metadata": {},
   "outputs": [
    {
     "data": {
      "text/html": [
       "<ol>\n",
       "\t<li>NULL</li>\n",
       "</ol>\n"
      ],
      "text/latex": [
       "\\begin{enumerate}\n",
       "\\item NULL\n",
       "\\end{enumerate}\n"
      ],
      "text/markdown": [
       "1. NULL\n",
       "\n",
       "\n"
      ],
      "text/plain": [
       "[[1]]\n",
       "NULL\n"
      ]
     },
     "metadata": {},
     "output_type": "display_data"
    }
   ],
   "source": [
    "## Instalamos paquetes\n",
    "rm(list = ls())\n",
    "\n",
    "paquetes <- c('matrixcalc')\n",
    "\n",
    "instalar <- function(paquete) {\n",
    "  if (!require(paquete,character.only = TRUE, quietly = TRUE, warn.conflicts = FALSE)) {\n",
    "    install.packages(as.character(paquete), dependecies = TRUE, repos = \"http://cran.us.r-project.org\")\n",
    "    library(paquete, character.only = TRUE, quietly = TRUE, warn.conflicts = FALSE)\n",
    "  }\n",
    "}\n",
    "\n",
    "\n",
    "lapply(paquetes, instalar)"
   ]
  },
  {
   "cell_type": "code",
   "execution_count": 3,
   "metadata": {},
   "outputs": [
    {
     "name": "stderr",
     "output_type": "stream",
     "text": [
      "Warning message in rgl.init(initValue, onlyNULL):\n",
      "“RGL: unable to open X11 display”\n",
      "Warning message:\n",
      "“'rgl.init' failed, running with 'rgl.useNULL = TRUE'.”\n",
      "\n",
      "Attaching package: ‘matlib’\n",
      "\n",
      "\n",
      "The following object is masked from ‘package:matrixcalc’:\n",
      "\n",
      "    vec\n",
      "\n",
      "\n"
     ]
    }
   ],
   "source": [
    "## Cargamos paquetes necesarios\n",
    "library(\"matrixcalc\")\n",
    "library(matlib)\n",
    "library(tictoc)\n",
    "#source(\"metadata.R\")\n",
    "source(\"utils.R\")\n",
    "source(\"00-load.R\")"
   ]
  },
  {
   "cell_type": "markdown",
   "metadata": {},
   "source": [
    "### 2.1 Experimento 3.1 \n",
    "\n",
    "Este experimento se basa en los siguientes parámetros [Pendiente: por favor ajustar tabla según experimento]\n",
    "\n",
    "| # |         Parámetros         | Valor/Rango de valores | Comentarios |\n",
    "|:-:|:--------------------------:|:----------------------:|:-----------:|\n",
    "| 1 |     Dimensiones de $A$     |     10x10              |             |\n",
    "| 2 |        Dimensión $b$       |     10x1               |             |\n",
    "| 3 |         Tolerancia         |     $10^{-8}$            |             |\n",
    "| 4 |          Maxsweep          |     5                  |             |\n",
    "| 5 |          corte             |     5                  | Corte de bloque            |\n",
    "| 6 |   Metodo pseudo-aleatorio  |     números reales     |Números aleatorios de la distribución normal estándar|\n",
    "| 7 | Numero de condición de $A$ |     9.74               |cond(A) = $|| A ||.|| A^{-1}||$     |\n",
    "\n",
    "\n",
    "**Codigo:** Fijando una semilla y creando una matriz de tamaño 10x10 por medio de un método pseudoaleatorio conforme a la distribución normal estandandarizada, se probo el desempeño de la función eliminación por bloques."
   ]
  },
  {
   "cell_type": "code",
   "execution_count": 19,
   "metadata": {},
   "outputs": [
    {
     "name": "stdout",
     "output_type": "stream",
     "text": [
      "0.059 sec elapsed\n"
     ]
    },
    {
     "data": {
      "text/html": [
       "9.74916406178362"
      ],
      "text/latex": [
       "9.74916406178362"
      ],
      "text/markdown": [
       "9.74916406178362"
      ],
      "text/plain": [
       "[1] 9.749164"
      ]
     },
     "metadata": {},
     "output_type": "display_data"
    },
    {
     "data": {
      "text/html": [
       "1.78749566520204"
      ],
      "text/latex": [
       "1.78749566520204"
      ],
      "text/markdown": [
       "1.78749566520204"
      ],
      "text/plain": [
       "[1] 1.787496"
      ]
     },
     "metadata": {},
     "output_type": "display_data"
    },
    {
     "data": {
      "text/html": [
       "3.67028106314907e-15"
      ],
      "text/latex": [
       "3.67028106314907e-15"
      ],
      "text/markdown": [
       "3.67028106314907e-15"
      ],
      "text/plain": [
       "[1] 3.670281e-15"
      ]
     },
     "metadata": {},
     "output_type": "display_data"
    }
   ],
   "source": [
    "set.seed(231)\n",
    "n= 10**1\n",
    "\n",
    "A = matrix(rnorm(n**2), ncol=n)\n",
    "b = matrix(rnorm(n), ncol=1)\n",
    "TOL = 10**-8\n",
    "tic()\n",
    "z<-eliminacion_bloques(A,b,n/2,10^-8,5)\n",
    "toc()\n",
    "\n",
    "\n",
    "#Condición\n",
    "norm(A,\"2\")*norm(inv(A),\"2\")\n",
    "#Error relativo\n",
    "norm(A%*%z-b,\"2\")/norm(b,\"2\")\n",
    "#Error factorización\n",
    "svd_aprox = svd_jacobi_aprox(A,TOL,5)\n",
    "norm(A-svd_aprox$U%*%svd_aprox$S%*%t(svd_aprox$V),\"2\")"
   ]
  },
  {
   "cell_type": "markdown",
   "metadata": {},
   "source": [
    "**Resultados**\n",
    "\n",
    "Los resultados obtenidos se resumen a través de la siguiente tabla [Pendiente: por favor ajustar tabla según experimento]\n",
    "\n",
    "| # |                Parámetros                | Valor/Rango de valores |            Comentarios            |\n",
    "|:-:|:----------------------------------------:|:----------------------:|:---------------------------------:|\n",
    "| 1 |            Tiempo de ejecución           |      0.059 sec           |                                   |\n",
    "| 2 |      Error relativo $||Ax-b||/||b||$     |      1.78749566520204  |                                   |\n",
    "| 3 | Error factorizacion SVD $||A-U\\cdot \\Sigma \\cdot V^T||$ |  3.67028106314907e-15 |                     |\n"
   ]
  },
  {
   "cell_type": "markdown",
   "metadata": {},
   "source": [
    "### 2.2  Experimento 3.2\n",
    "\n",
    "Este experimento se basa en los siguientes parámetros \n",
    "\n",
    "| # |         Parámetros         | Valor/Rango de valores | Comentarios |\n",
    "|:-:|:--------------------------:|:----------------------:|:-----------:|\n",
    "| 1 |     Dimensiones de $A$     |    100x100                    |             |\n",
    "| 2 |        Dimensión $b$       |    100x1                    |             |\n",
    "| 3 |         Tolerancia         |    $10^{-8}$                     |             |\n",
    "| 4 |          Maxsweep          |    5                    |             |\n",
    "| 5 |     Corte    |    50                  |             |\n",
    "| 6 |   Metodo pseudo-aleatorio  |     números reales     |Números aleatorios de la distribución normal estándar|\n",
    "| 7 | Numero de condición de $A$ |     109.17              |cond(A) = $|| A ||.|| A^{-1}||$     |\n",
    "\n",
    "**Codigo:** Fijando una semilla y creando una matriz de tamaño 100x100 por medio de un método pseudoaleatorio conforme a la distribución normal estandandarizada, se probo el desempeño de la función eliminación por bloques."
   ]
  },
  {
   "cell_type": "code",
   "execution_count": 20,
   "metadata": {},
   "outputs": [
    {
     "name": "stdout",
     "output_type": "stream",
     "text": [
      "37.399 sec elapsed\n"
     ]
    },
    {
     "data": {
      "text/html": [
       "109.175337042792"
      ],
      "text/latex": [
       "109.175337042792"
      ],
      "text/markdown": [
       "109.175337042792"
      ],
      "text/plain": [
       "[1] 109.1753"
      ]
     },
     "metadata": {},
     "output_type": "display_data"
    },
    {
     "data": {
      "text/html": [
       "1.1633441561769"
      ],
      "text/latex": [
       "1.1633441561769"
      ],
      "text/markdown": [
       "1.1633441561769"
      ],
      "text/plain": [
       "[1] 1.163344"
      ]
     },
     "metadata": {},
     "output_type": "display_data"
    },
    {
     "data": {
      "text/html": [
       "9.09482723558874e-14"
      ],
      "text/latex": [
       "9.09482723558874e-14"
      ],
      "text/markdown": [
       "9.09482723558874e-14"
      ],
      "text/plain": [
       "[1] 9.094827e-14"
      ]
     },
     "metadata": {},
     "output_type": "display_data"
    }
   ],
   "source": [
    "set.seed(231)\n",
    "n= 10**2\n",
    "\n",
    "A = matrix(rnorm(n**2), ncol=n)\n",
    "b = matrix(rnorm(n), ncol=1)\n",
    "TOL = 10**-8\n",
    "tic()\n",
    "z<-eliminacion_bloques(A,b,n/2,10^-8,5)\n",
    "toc()\n",
    "\n",
    "\n",
    "#Condición\n",
    "norm(A,\"2\")*norm(inv(A),\"2\")\n",
    "#Error relativo\n",
    "norm(A%*%z-b,\"2\")/norm(b,\"2\")\n",
    "#Error factorización\n",
    "svd_aprox = svd_jacobi_aprox(A,TOL,5)\n",
    "norm(A-svd_aprox$U%*%svd_aprox$S%*%t(svd_aprox$V),\"2\")"
   ]
  },
  {
   "cell_type": "markdown",
   "metadata": {},
   "source": [
    "**Resultados**\n",
    "\n",
    "Los resultados obtenidos se resumen a través de la siguiente tabla:\n",
    "\n",
    "| # |                Parámetros                | Valor/Rango de valores |            Comentarios            |\n",
    "|:-:|:----------------------------------------:|:----------------------:|:---------------------------------:|\n",
    "| 1 |            Tiempo de ejecución           |      37.399 sec          |                                   |\n",
    "| 2 |      Error relativo $||Ax-b||/||b||$     |      1.1633441561769 |                                   |\n",
    "| 3 | Error factorizacion SVD $||A-U\\cdot \\Sigma \\cdot V^T||$ |  9.09482723558874e-14 |                     |"
   ]
  },
  {
   "cell_type": "markdown",
   "metadata": {},
   "source": [
    "**Resumen de resultados obtenidos en experimentos**\n",
    "\n",
    "Los resultados obtenidos, se compararan a través de la siguiente:\n",
    "\n",
    "| # | Experimento | Tiempo de desempeño | Error relativo | Error Factorización |\n",
    "|:-:|:-----------:|:-------------------:|----------------|----------------|\n",
    "| 1 |     3.1     | 0.059 sec           |1.78749566520204|3.67028106314907e-15 |    \n",
    "| 2 |     3.2     | 37.399              |1.1633441561769 |9.09482723558874e-14                | \n",
    "\n"
   ]
  },
  {
   "cell_type": "markdown",
   "metadata": {},
   "source": [
    "## 3. Principalez hallazgos\n",
    "\n",
    "Al respecto, se destacan los siguientes hallazgos del experimento:\n",
    "\n",
    "* Hallazgo 1: El tiempo aumenta considerablemente conforme aumenta el tamaño de la matriz\n",
    "* Hallazgo 2: El error relativo disminuye aumentando el tamaño de matriz\n",
    "* Hallazgo 3: El \n",
    "* Hallazgo 4: [Pendiente]\n"
   ]
  }
 ],
 "metadata": {
  "kernelspec": {
   "display_name": "R",
   "language": "R",
   "name": "ir"
  },
  "language_info": {
   "codemirror_mode": "r",
   "file_extension": ".r",
   "mimetype": "text/x-r-source",
   "name": "R",
   "pygments_lexer": "r",
   "version": "3.6.2"
  }
 },
 "nbformat": 4,
 "nbformat_minor": 4
}
