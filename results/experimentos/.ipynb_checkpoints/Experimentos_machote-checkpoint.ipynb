{
 "cells": [
  {
   "cell_type": "markdown",
   "metadata": {},
   "source": [
    "# Experimento numérico \\# [Pendiente: numero de experimento] - Tema [Pendiente: titulo breve del experimento]\n",
    "\n",
    "**Responsable:** Nombre del responsable \n",
    "\n",
    "## 0. Objetivo\n",
    "\n",
    "Este documento pretende mostar los resultados obtenidos con la implementación realizada, en el contexto del [Pendiente: breve descripción del experimento]\n",
    "\n",
    "\n",
    "## 1. Consideraciones\n",
    "\n",
    "Al respecto de los experimentos numéricos realizados para consolidar el presente reporte, tales se basan en las siguientes premisas:\n",
    "\n",
    "[Pendiente: desarrollo]\n",
    "\n",
    "En este sentido, en particular para cada experimento realizado, se reportan según resulte aplicable:\n",
    "\n",
    "* los parámetros empleados en la simulaciones, \n",
    "* las dimensiones de las matrices y vectores involucrados, así como el prodecimiento pseudo-aleatorio que les dio origen, \n",
    "* 1) el tiempo involucrado en correr los experimentos, \n",
    "* 2) número de condición de las matrices pseudo-aleatorias, y \n",
    "* 3) el error relativo obtenido, para la solución de un sistema lineal de la forma $Ax=b$, es decir el cociente\n",
    "\n",
    "$$|| Ax - b ||_2 / || b ||_2$$\n",
    "* 4) La norma de $A$ y de la matriz obtenida al rearmar A tras multiplica las matrices resultantes de la aproximación de la descomposición SVD vía el algoritmo **One-Sided Jacobi**\n",
    "\n",
    "\n",
    "### 1.1 Consideraciones sobre la infraestructura empleada\n",
    "\n",
    "**Especificaciones de ambiente común de trabajo**\n",
    "\n",
    "Para realizar el presente experimento numérico se ha empleado la imagen de docker basada en R del curso MNO 2020 (palmoreck/jupyterlab_r_kernel:1.1.0)\n",
    "\n",
    "```\n",
    "docker run --rm -v `pwd`:/datos --name jupyterlab_r_kernel_local -p 8888:8888 -d palmoreck/jupyterlab_r_kernel:1.1.0\n",
    "\n",
    "```\n",
    "\n",
    "*Nota:* el comando \"-v \\`pwd\\`:/datos\", permite montar el directorio actual en donde el usuario se encuentre situada en terminal como un volumen de la imagen de docker, dentro del directorio \"/datos\".\n",
    "\n",
    "## 2. Experimento numérico\n",
    "\n",
    "**Objetivo**\n",
    "\n",
    "[Pendiente: Descripción detallada del experimento y de lo que se pretende mostrar]\n",
    "\n",
    "A tal respecto, se destaca que se realizó este experimentos buscando probar [Pendiente: desarrollo]\n",
    "\n",
    "**Cargamos codigo desarrollado previamente**\n",
    "\n",
    "* **utils.R:** contiene las funciones auxiliares desarrolladas para el proyecto\n",
    "* **00-load.R:** la implementación del método de eliminación por bloques, empleando la aproximación de la descomposición SVD vía el algoritmo **One-Sided Jacobi**."
   ]
  },
  {
   "cell_type": "code",
   "execution_count": 1,
   "metadata": {},
   "outputs": [
    {
     "data": {
      "text/html": [
       "<ol>\n",
       "\t<li>NULL</li>\n",
       "</ol>\n"
      ],
      "text/latex": [
       "\\begin{enumerate}\n",
       "\\item NULL\n",
       "\\end{enumerate}\n"
      ],
      "text/markdown": [
       "1. NULL\n",
       "\n",
       "\n"
      ],
      "text/plain": [
       "[[1]]\n",
       "NULL\n"
      ]
     },
     "metadata": {},
     "output_type": "display_data"
    }
   ],
   "source": [
    "## Instalamos paquetes\n",
    "rm(list = ls())\n",
    "\n",
    "paquetes <- c('matrixcalc')\n",
    "\n",
    "instalar <- function(paquete) {\n",
    "  if (!require(paquete,character.only = TRUE, quietly = TRUE, warn.conflicts = FALSE)) {\n",
    "    install.packages(as.character(paquete), dependecies = TRUE, repos = \"http://cran.us.r-project.org\")\n",
    "    library(paquete, character.only = TRUE, quietly = TRUE, warn.conflicts = FALSE)\n",
    "  }\n",
    "}\n",
    "\n",
    "\n",
    "lapply(paquetes, instalar)"
   ]
  },
  {
   "cell_type": "code",
   "execution_count": 2,
   "metadata": {},
   "outputs": [],
   "source": [
    "## Cargamos paquetes necesarios\n",
    "library(\"matrixcalc\")\n",
    "\n",
    "#source(\"metadata.R\")\n",
    "source(\"utils.R\")\n",
    "source(\"00-load.R\")"
   ]
  },
  {
   "cell_type": "markdown",
   "metadata": {},
   "source": [
    "### 2.1 Experimento X.1 (Cambiar X por el numero de tema) \n",
    "\n",
    "Este experimento se basa en los siguientes parámetros [Pendiente: por favor ajustar tabla según experimento]\n",
    "\n",
    "| # |         Parámetros         | Valor/Rango de valores | Comentarios |\n",
    "|:-:|:--------------------------:|:----------------------:|:-----------:|\n",
    "| 1 |     Dimensiones de $A$     |                        |             |\n",
    "| 2 |        Dimensión $b$       |                        |             |\n",
    "| 3 |         Tolerancia         |                        |             |\n",
    "| 4 |          Maxsweep          |                        |             |\n",
    "| 5 |   Metodo pseudo-aleatorio  |                        |        Obtenido con método XXX    |\n",
    "| 6 | Numero de condición de $A$ |                        |     Obtenido con función XXX        |\n",
    "| 7 | Otros                      |                        |             |\n",
    "| 8 | Otros                      |                        |             |\n",
    "| 9 | Otros                      |                        |             |\n",
    "\n",
    "**Codigo:** breve descrición de que hace el código y resultados."
   ]
  },
  {
   "cell_type": "code",
   "execution_count": 2,
   "metadata": {},
   "outputs": [
    {
     "ename": "SyntaxError",
     "evalue": "invalid syntax (<ipython-input-2-073c86b560b7>, line 10)",
     "output_type": "error",
     "traceback": [
      "\u001b[0;36m  File \u001b[0;32m\"<ipython-input-2-073c86b560b7>\"\u001b[0;36m, line \u001b[0;32m10\u001b[0m\n\u001b[0;31m    norm(A%*%z-b,\"2\")/norm(b,\"2\")\u001b[0m\n\u001b[0m           ^\u001b[0m\n\u001b[0;31mSyntaxError\u001b[0m\u001b[0;31m:\u001b[0m invalid syntax\n"
     ]
    }
   ],
   "source": [
    "set.seed(231)\n",
    "n= 10**2\n",
    "\n",
    "A = matrix(rnorm(n**2), ncol=n)\n",
    "b = matrix(rnorm(n), ncol=1)\n",
    "TOL = 10**-8\n",
    "\n",
    "z<-eliminacion_bloques(A,b,n/2,10^-8,5)\n",
    "\n",
    "norm(A%*%z-b,\"2\")/norm(b,\"2\")"
   ]
  },
  {
   "cell_type": "markdown",
   "metadata": {},
   "source": [
    "**Resultados**\n",
    "\n",
    "Los resultados obtenidos se resumen a través de la siguiente tabla [Pendiente: por favor ajustar tabla según experimento]\n",
    "\n",
    "| # |                Parámetros                | Valor/Rango de valores |            Comentarios            |\n",
    "|:-:|:----------------------------------------:|:----------------------:|:---------------------------------:|\n",
    "| 1 |            Tiempo de ejecución           |                        |                                   |\n",
    "| 2 |      Error relativo $||Ax-b||/||b||$     |                        |                                   |\n",
    "| 3 | Error factorizacion SVD $||Ax-b||/||b||$ |                        | norma $A-U\\cdot \\Sigma \\cdot V^T$ |\n",
    "| 4 |                   Otros                  |                        |                                   |\n",
    "| 5 |                   Otros                  |                        |                                   |\n",
    "| 6 | Otros                                    |                        |                                   |"
   ]
  },
  {
   "cell_type": "markdown",
   "metadata": {},
   "source": [
    "### 2.2  Experimento X.2 (Cambiar X por el numero de tema) \n",
    "\n",
    "Este experimento se basa en los siguientes parámetros [Pendiente: por favor ajustar tabla según experimento]\n",
    "\n",
    "| # |         Parámetros         | Valor/Rango de valores | Comentarios |\n",
    "|:-:|:--------------------------:|:----------------------:|:-----------:|\n",
    "| 1 |     Dimensiones de $A$     |                        |             |\n",
    "| 2 |        Dimensión $b$       |                        |             |\n",
    "| 3 |         Tolerancia         |                        |             |\n",
    "| 4 |          Maxsweep          |                        |             |\n",
    "| 5 |   Metodo pseudo-aleatorio  |                        |        Obtenido con método XXX    |\n",
    "| 6 | Numero de condición de $A$ |                        |     Obtenido con función XXX        |\n",
    "| 7 | Otros                      |                        |             |\n",
    "| 8 | Otros                      |                        |             |\n",
    "| 9 | Otros                      |                        |             |\n",
    "\n",
    "**Codigo:** breve descrición de que hace el código y resultados."
   ]
  },
  {
   "cell_type": "code",
   "execution_count": null,
   "metadata": {},
   "outputs": [],
   "source": []
  },
  {
   "cell_type": "markdown",
   "metadata": {},
   "source": [
    "**Resultados**\n",
    "\n",
    "Los resultados obtenidos se resumen a través de la siguiente tabla [Pendiente: por favor ajustar tabla según experimento]\n",
    "\n",
    "| # |                Parámetros                | Valor/Rango de valores |            Comentarios            |\n",
    "|:-:|:----------------------------------------:|:----------------------:|:---------------------------------:|\n",
    "| 1 |            Tiempo de ejecución           |                        |                                   |\n",
    "| 2 |      Error relativo $||Ax-b||/||b||$     |                        |                                   |\n",
    "| 3 | Error factorizacion SVD $||Ax-b||/||b||$ |                        | norma $A-U\\cdot \\Sigma \\cdot V^T$ |\n",
    "| 4 |                   Otros                  |                        |                                   |\n",
    "| 5 |                   Otros                  |                        |                                   |\n",
    "| 6 | Otros                                    |                        |                                   |"
   ]
  },
  {
   "cell_type": "markdown",
   "metadata": {},
   "source": [
    "### 2.3  Experimento X.4 (Cambiar X por el numero de tema) \n",
    "\n",
    "Este experimento se basa en los siguientes parámetros [Pendiente: por favor ajustar tabla según experimento]\n",
    "\n",
    "| # |         Parámetros         | Valor/Rango de valores | Comentarios |\n",
    "|:-:|:--------------------------:|:----------------------:|:-----------:|\n",
    "| 1 |     Dimensiones de $A$     |                        |             |\n",
    "| 2 |        Dimensión $b$       |                        |             |\n",
    "| 3 |         Tolerancia         |                        |             |\n",
    "| 4 |          Maxsweep          |                        |             |\n",
    "| 5 |   Metodo pseudo-aleatorio  |                        |        Obtenido con método XXX    |\n",
    "| 6 | Numero de condición de $A$ |                        |     Obtenido con función XXX        |\n",
    "| 7 | Otros                      |                        |             |\n",
    "| 8 | Otros                      |                        |             |\n",
    "| 9 | Otros                      |                        |             |\n",
    "\n",
    "**Codigo:** breve descrición de que hace el código y resultados."
   ]
  },
  {
   "cell_type": "code",
   "execution_count": null,
   "metadata": {},
   "outputs": [],
   "source": []
  },
  {
   "cell_type": "markdown",
   "metadata": {},
   "source": [
    "**Resultados**\n",
    "\n",
    "Los resultados obtenidos se resumen a través de la siguiente tabla [Pendiente: por favor ajustar tabla según experimento]\n",
    "\n",
    "| # |                Parámetros                | Valor/Rango de valores |            Comentarios            |\n",
    "|:-:|:----------------------------------------:|:----------------------:|:---------------------------------:|\n",
    "| 1 |            Tiempo de ejecución           |                        |                                   |\n",
    "| 2 |      Error relativo $||Ax-b||/||b||$     |                        |                                   |\n",
    "| 3 |  Error relativo $||Ax-b||/||b||$ |                        | norma $A-U\\cdot \\Sigma \\cdot V^T$ |\n",
    "| 4 |                   Otros                  |                        |                                   |\n",
    "| 5 |                   Otros                  |                        |                                   |\n",
    "| 6 | Otros                                    |                        |                                   |"
   ]
  },
  {
   "cell_type": "markdown",
   "metadata": {},
   "source": [
    "**Resumen de resultados obtenidos en experimentos**\n",
    "\n",
    "Los resultados obtenidos, se compararan a través de la siguiente [Pendiente: por favor ajustar tabla/grafica según experimento]:\n",
    "\n",
    "| # | Experimento | Tiempo de desempeño | Error relativo | Error relativo | Otros | Otros | Comentarios |\n",
    "|:-:|:-----------:|:-------------------:|----------------|----------------|-------|-------|:-----------:|\n",
    "| 1 |     X.1     |                     |                |                |       |       |             |\n",
    "| 2 |     X.2     |                     |                |                |       |       |             |\n",
    "| 3 |     X.3     |                     |                |                |       |       |             |\n",
    "| 4 |    Otros    |                     |                |                |       |       |             |\n",
    "| 5 |    Otros    |                     |                |                |       |       |             |\n",
    "| 6 | Otros       |                     |                |                |       |       |             |\n",
    "\n",
    "[Pendiente: Incluir gráficos de considerarlo relevante para el análisis]"
   ]
  },
  {
   "cell_type": "markdown",
   "metadata": {},
   "source": [
    "## 3. Principalez hallazgos\n",
    "\n",
    "Al respecto, se destacan los siguientes hallazgos del experimento:\n",
    "\n",
    "* Hallazgo 1: [Pendiente]\n",
    "* Hallazgo 2: [Pendiente]\n",
    "* Hallazgo 3: [Pendiente]\n",
    "* Hallazgo 4: [Pendiente]\n"
   ]
  }
 ],
 "metadata": {
  "kernelspec": {
   "display_name": "Python 3",
   "language": "python",
   "name": "python3"
  },
  "language_info": {
   "codemirror_mode": {
    "name": "ipython",
    "version": 3
   },
   "file_extension": ".py",
   "mimetype": "text/x-python",
   "name": "python",
   "nbconvert_exporter": "python",
   "pygments_lexer": "ipython3",
   "version": "3.7.6"
  }
 },
 "nbformat": 4,
 "nbformat_minor": 4
}
