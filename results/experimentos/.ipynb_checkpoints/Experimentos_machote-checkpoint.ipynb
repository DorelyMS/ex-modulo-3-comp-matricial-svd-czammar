{
 "cells": [
  {
   "cell_type": "markdown",
   "metadata": {},
   "source": [
    "# Experimento numérico \\# [Pendiente: numero de experimento] - Tema: Comportamiento de algoritmo para aproximación SVD cambiando tamaño de matriz\n",
    "\n",
    "**Responsable:** Miguel Angel Millan Dorado\n",
    "\n",
    "## 0. Objetivo\n",
    "\n",
    "Este documento pretende mostar los resultados obtenidos con la implementación realizada, en el contexto del comportamiento del algoritmo para aproximación SVD cambiando el tamaño de matriz. Se usará el mismo método para generación de matriz pseudo-aleatoria con tamañoños de $10^1$, $10^2$ y $10^3$.\n",
    "\n",
    "\n",
    "## 1. Consideraciones\n",
    "\n",
    "Al respecto de los experimentos numéricos realizados para consolidar el presente reporte, tales se basan en las siguientes premisas:\n",
    "\n",
    "[Pendiente: desarrollo]\n",
    "\n",
    "En este sentido, en particular para cada experimento realizado, se reportan según resulte aplicable:\n",
    "\n",
    "* los parámetros empleados en la simulaciones, \n",
    "* las dimensiones de las matrices y vectores involucrados, así como el prodecimiento pseudo-aleatorio que les dio origen, \n",
    "* 1) el tiempo involucrado en correr los experimentos, \n",
    "* 2) número de condición de las matrices pseudo-aleatorias, y \n",
    "* 3) el error relativo obtenido, para la solución de un sistema lineal de la forma $Ax=b$, es decir el cociente\n",
    "\n",
    "$$|| Ax - b ||_2 / || b ||_2$$\n",
    "* 4) La norma de $A$ y de la matriz obtenida al rearmar A tras multiplica las matrices resultantes de la aproximación de la descomposición SVD vía el algoritmo **One-Sided Jacobi**\n",
    "\n",
    "\n",
    "### 1.1 Consideraciones sobre la infraestructura empleada\n",
    "\n",
    "**Especificaciones de ambiente común de trabajo**\n",
    "\n",
    "Para realizar el presente experimento numérico se ha empleado la imagen de docker basada en R del curso MNO 2020 (palmoreck/jupyterlab_r_kernel:1.1.0)\n",
    "\n",
    "```\n",
    "docker run --rm -v `pwd`:/datos --name jupyterlab_r_kernel_local -p 8888:8888 -d palmoreck/jupyterlab_r_kernel:1.1.0\n",
    "\n",
    "```\n",
    "\n",
    "*Nota:* el comando \"-v \\`pwd\\`:/datos\", permite montar el directorio actual en donde el usuario se encuentre situada en terminal como un volumen de la imagen de docker, dentro del directorio \"/datos\".\n",
    "\n",
    "## 2. Experimento numérico\n",
    "\n",
    "**Objetivo**\n",
    "\n",
    "Observar el comportamiento y tiempos de ejecución del algotirmo para aproximación SVD para diferentes tamaños de su matriz de entrada A, en específico para tamañanos de $10^1$, $10^2$ y $10^3$.\n",
    "\n",
    "A tal respecto, se destaca que se realizó este experimentos buscando probar que el algoritmo no presente fallos para tamaños diferentes de la matriz de entrada, así como medir los tiempos de ejecución.\n",
    "\n",
    "**Cargamos codigo desarrollado previamente**\n",
    "\n",
    "* **utils.R:** contiene las funciones auxiliares desarrolladas para el proyecto\n",
    "* **00-load.R:** la implementación del método de eliminación por bloques, empleando la aproximación de la descomposición SVD vía el algoritmo **One-Sided Jacobi**."
   ]
  },
  {
   "cell_type": "code",
   "execution_count": 1,
   "metadata": {},
   "outputs": [
    {
     "name": "stderr",
     "output_type": "stream",
     "text": [
      "Warning message in library(package, lib.loc = lib.loc, character.only = TRUE, logical.return = TRUE, :\n",
      "“there is no package called ‘matrixcalc’”\n",
      "Installing package into ‘/usr/local/lib/R/site-library’\n",
      "(as ‘lib’ is unspecified)\n",
      "\n"
     ]
    },
    {
     "data": {
      "text/html": [
       "<ol>\n",
       "\t<li><ol class=list-inline>\n",
       "\t<li>'matrixcalc'</li>\n",
       "\t<li>'stats'</li>\n",
       "\t<li>'graphics'</li>\n",
       "\t<li>'grDevices'</li>\n",
       "\t<li>'utils'</li>\n",
       "\t<li>'datasets'</li>\n",
       "\t<li>'methods'</li>\n",
       "\t<li>'base'</li>\n",
       "</ol>\n",
       "</li>\n",
       "</ol>\n"
      ],
      "text/latex": [
       "\\begin{enumerate}\n",
       "\\item \\begin{enumerate*}\n",
       "\\item 'matrixcalc'\n",
       "\\item 'stats'\n",
       "\\item 'graphics'\n",
       "\\item 'grDevices'\n",
       "\\item 'utils'\n",
       "\\item 'datasets'\n",
       "\\item 'methods'\n",
       "\\item 'base'\n",
       "\\end{enumerate*}\n",
       "\n",
       "\\end{enumerate}\n"
      ],
      "text/markdown": [
       "1. 1. 'matrixcalc'\n",
       "2. 'stats'\n",
       "3. 'graphics'\n",
       "4. 'grDevices'\n",
       "5. 'utils'\n",
       "6. 'datasets'\n",
       "7. 'methods'\n",
       "8. 'base'\n",
       "\n",
       "\n",
       "\n",
       "\n",
       "\n"
      ],
      "text/plain": [
       "[[1]]\n",
       "[1] \"matrixcalc\" \"stats\"      \"graphics\"   \"grDevices\"  \"utils\"     \n",
       "[6] \"datasets\"   \"methods\"    \"base\"      \n"
      ]
     },
     "metadata": {},
     "output_type": "display_data"
    }
   ],
   "source": [
    "## Instalamos paquetes\n",
    "rm(list = ls())\n",
    "\n",
    "paquetes <- c('matrixcalc')\n",
    "\n",
    "instalar <- function(paquete) {\n",
    "  if (!require(paquete,character.only = TRUE, quietly = TRUE, warn.conflicts = FALSE)) {\n",
    "    install.packages(as.character(paquete), dependecies = TRUE, repos = \"http://cran.us.r-project.org\")\n",
    "    library(paquete, character.only = TRUE, quietly = TRUE, warn.conflicts = FALSE)\n",
    "  }\n",
    "}\n",
    "\n",
    "\n",
    "lapply(paquetes, instalar)"
   ]
  },
  {
   "cell_type": "code",
   "execution_count": 61,
   "metadata": {},
   "outputs": [],
   "source": [
    "## Cargamos paquetes necesarios\n",
    "library(\"matrixcalc\")\n",
    "\n",
    "#source(\"metadata.R\")\n",
    "source(\"utils.R\")\n",
    "source(\"00-load.R\")"
   ]
  },
  {
   "cell_type": "markdown",
   "metadata": {},
   "source": [
    "### 2.1 Experimento X.1 Aproximación SVD con matriz de $10^1$\n",
    "\n",
    "Este experimento se basa en los siguientes parámetros:\n",
    "\n",
    "| # |         Parámetros         | Valor/Rango de valores | Comentarios |\n",
    "|:-:|:--------------------------:|:----------------------:|:-----------:|\n",
    "| 1 |     Dimensiones de $A$     |           $10x10$             |      n=10        |\n",
    "| 2 |         Tolerancia         |                $10^{-8}$        |             |\n",
    "| 3 |          Maxsweep          |               20         |             |\n",
    "| 4 |   Metodo pseudo-aleatorio  |             $rnorm(n^{2})$           |           |\n",
    "\n",
    "**Codigo:** Algoritmo que aplica el método de Jacobi para hacer la descomposición SVD de una matriz de entrada A (nxn)."
   ]
  },
  {
   "cell_type": "code",
   "execution_count": 70,
   "metadata": {},
   "outputs": [],
   "source": [
    "set.seed(231)\n",
    "n= 10**1\n",
    "A = matrix(rnorm(n**2), ncol=n)\n",
    "TOL<-10**-8\n",
    "maxsweep<-20\n",
    "#Función aproximación SVD\n",
    "svd<-svd_jacobi_aprox(A,TOL,maxsweep)"
   ]
  },
  {
   "cell_type": "code",
   "execution_count": 71,
   "metadata": {},
   "outputs": [
    {
     "data": {
      "text/plain": [
       "   user  system elapsed \n",
       "  0.085   0.000   0.085 "
      ]
     },
     "metadata": {},
     "output_type": "display_data"
    }
   ],
   "source": [
    "system.time(svd<-svd_jacobi_aprox(A,TOL,maxsweep))"
   ]
  },
  {
   "cell_type": "code",
   "execution_count": 72,
   "metadata": {},
   "outputs": [],
   "source": [
    "#Regresamos a la matriz original usando SVD\n",
    "A_prima = svd$U%*%svd$S%*%t(svd$V)"
   ]
  },
  {
   "cell_type": "code",
   "execution_count": 73,
   "metadata": {},
   "outputs": [
    {
     "data": {
      "text/html": [
       "TRUE"
      ],
      "text/latex": [
       "TRUE"
      ],
      "text/markdown": [
       "TRUE"
      ],
      "text/plain": [
       "[1] TRUE"
      ]
     },
     "metadata": {},
     "output_type": "display_data"
    }
   ],
   "source": [
    "#Comprobamos que las matrices seán iguales.\n",
    "identical(round(A,5),round(A_prima,5))"
   ]
  },
  {
   "cell_type": "markdown",
   "metadata": {},
   "source": [
    "**Resultados**\n",
    "\n",
    "Los resultados obtenidos se resumen a través de la siguiente tabla:\n",
    "\n",
    "| # |                Parámetros                | Valor/Rango de valores |            Comentarios            |\n",
    "|:-:|:----------------------------------------:|:----------------------:|:---------------------------------:|\n",
    "| 1 |            Tiempo de ejecución           |                 0.078 s       |                                   |\n",
    "| 2 |      $A = U*S*V^{t}$     |                    True    |  Si regresa a la matriz de entrada A                                 |\n"
   ]
  },
  {
   "cell_type": "markdown",
   "metadata": {},
   "source": [
    "### 2.2 Experimento X.1 Aproximación SVD con matriz de $10^2$\n",
    "\n",
    "Este experimento se basa en los siguientes parámetros:\n",
    "\n",
    "| # |         Parámetros         | Valor/Rango de valores | Comentarios |\n",
    "|:-:|:--------------------------:|:----------------------:|:-----------:|\n",
    "| 1 |     Dimensiones de $A$     |           $100x100$             |      n=100        |\n",
    "| 2 |         Tolerancia         |                $10^{-8}$        |             |\n",
    "| 3 |          Maxsweep          |               20         |             |\n",
    "| 4 |   Metodo pseudo-aleatorio  |             $rnorm(n^{2})$           |           |\n",
    "\n",
    "**Codigo:** Algoritmo que aplica el método de Jacobi para hacer la descomposición SVD de una matriz de entrada A (nxn)."
   ]
  },
  {
   "cell_type": "code",
   "execution_count": 76,
   "metadata": {},
   "outputs": [],
   "source": [
    "set.seed(231)\n",
    "n= 10**2\n",
    "A_2 = matrix(rnorm(n**2), ncol=n)\n",
    "TOL<-10**-8\n",
    "maxsweep<-20\n",
    "#Función aproximación SVD\n",
    "svd_2<-svd_jacobi_aprox(A_2,TOL,maxsweep)"
   ]
  },
  {
   "cell_type": "code",
   "execution_count": 77,
   "metadata": {},
   "outputs": [
    {
     "data": {
      "text/plain": [
       "   user  system elapsed \n",
       " 10.666   0.013  10.826 "
      ]
     },
     "metadata": {},
     "output_type": "display_data"
    }
   ],
   "source": [
    "system.time(svd_2<-svd_jacobi_aprox(A_2,TOL,maxsweep))"
   ]
  },
  {
   "cell_type": "code",
   "execution_count": 78,
   "metadata": {},
   "outputs": [],
   "source": [
    "#Regresamos a la matriz original usando SVD\n",
    "A_prima2 = svd_2$U%*%svd_2$S%*%t(svd_2$V)"
   ]
  },
  {
   "cell_type": "code",
   "execution_count": 80,
   "metadata": {},
   "outputs": [
    {
     "data": {
      "text/html": [
       "TRUE"
      ],
      "text/latex": [
       "TRUE"
      ],
      "text/markdown": [
       "TRUE"
      ],
      "text/plain": [
       "[1] TRUE"
      ]
     },
     "metadata": {},
     "output_type": "display_data"
    }
   ],
   "source": [
    "#Comprobamos que las matrices seán iguales.\n",
    "identical(round(A_2,5),round(A_prima2,5))"
   ]
  },
  {
   "cell_type": "markdown",
   "metadata": {},
   "source": [
    "**Resultados**\n",
    "\n",
    "Los resultados obtenidos se resumen a través de la siguiente tabla:\n",
    "\n",
    "| # |                Parámetros                | Valor/Rango de valores |            Comentarios            |\n",
    "|:-:|:----------------------------------------:|:----------------------:|:---------------------------------:|\n",
    "| 1 |            Tiempo de ejecución           |                 10.826 s       |                                   |\n",
    "| 2 |      $A = U*S*V^{t}$     |                    True    |  Si regresa a la matriz de entrada A_2                                 |\n"
   ]
  },
  {
   "cell_type": "markdown",
   "metadata": {},
   "source": [
    "### 2.3 Experimento X.1 Aproximación SVD con matriz de $10^3$\n",
    "\n",
    "Este experimento se basa en los siguientes parámetros:\n",
    "\n",
    "| # |         Parámetros         | Valor/Rango de valores | Comentarios |\n",
    "|:-:|:--------------------------:|:----------------------:|:-----------:|\n",
    "| 1 |     Dimensiones de $A$     |           $1000x1000$             |      n=1000        |\n",
    "| 2 |         Tolerancia         |                $10^{-8}$        |             |\n",
    "| 3 |          Maxsweep          |               20         |             |\n",
    "| 4 |   Metodo pseudo-aleatorio  |             $rnorm(n^{2})$           |           |\n",
    "\n",
    "**Codigo:** Algoritmo que aplica el método de Jacobi para hacer la descomposición SVD de una matriz de entrada A (nxn)."
   ]
  },
  {
   "cell_type": "code",
   "execution_count": 81,
   "metadata": {},
   "outputs": [],
   "source": [
    "set.seed(231)\n",
    "n= 10**3\n",
    "A_3 = matrix(rnorm(n**2), ncol=n)\n",
    "TOL<-10**-8\n",
    "maxsweep<-20\n",
    "#Función aproximación SVD\n",
    "svd_3<-svd_jacobi_aprox(A_3,TOL,maxsweep)"
   ]
  },
  {
   "cell_type": "code",
   "execution_count": 82,
   "metadata": {},
   "outputs": [
    {
     "data": {
      "text/plain": [
       "    user   system  elapsed \n",
       "1975.023    0.093 1986.465 "
      ]
     },
     "metadata": {},
     "output_type": "display_data"
    }
   ],
   "source": [
    "system.time(svd_3<-svd_jacobi_aprox(A_3,TOL,maxsweep))"
   ]
  },
  {
   "cell_type": "code",
   "execution_count": 83,
   "metadata": {},
   "outputs": [],
   "source": [
    "#Regresamos a la matriz original usando SVD\n",
    "A_prima3 = svd_3$U%*%svd_3$S%*%t(svd_3$V)"
   ]
  },
  {
   "cell_type": "code",
   "execution_count": 84,
   "metadata": {},
   "outputs": [
    {
     "data": {
      "text/html": [
       "TRUE"
      ],
      "text/latex": [
       "TRUE"
      ],
      "text/markdown": [
       "TRUE"
      ],
      "text/plain": [
       "[1] TRUE"
      ]
     },
     "metadata": {},
     "output_type": "display_data"
    }
   ],
   "source": [
    "#Comprobamos que las matrices seán iguales.\n",
    "identical(round(A_3,5),round(A_prima3,5))"
   ]
  },
  {
   "cell_type": "markdown",
   "metadata": {},
   "source": [
    "**Resultados**\n",
    "\n",
    "Los resultados obtenidos se resumen a través de la siguiente tabla:\n",
    "\n",
    "| # |                Parámetros                | Valor/Rango de valores |            Comentarios            |\n",
    "|:-:|:----------------------------------------:|:----------------------:|:---------------------------------:|\n",
    "| 1 |            Tiempo de ejecución           |                 1986.465 s       |                                   |\n",
    "| 2 |      $A = U*S*V^{t}$     |                    True    |  Si regresa a la matriz de entrada A_3                                 |\n"
   ]
  },
  {
   "cell_type": "markdown",
   "metadata": {},
   "source": [
    "**Resumen de resultados obtenidos en experimentos**\n",
    "\n",
    "Los resultados obtenidos, se compararan a través de la siguiente:\n",
    "\n",
    "| # | Experimento | Tiempo de ejecución (s) |     $A = U*S*V^{t}$  | \n",
    "|:-:|:-----------:|:-------------------:|----------------|\n",
    "| 1 |     X.1     |  0.078              |         T      |               \n",
    "| 2 |     X.2     |       10.826              |    T           |               \n",
    "| 3 |     X.3     |        1986.465              |  T              |                \n",
    "\n",
    "[Pendiente: Incluir gráficos de considerarlo relevante para el análisis]"
   ]
  },
  {
   "cell_type": "markdown",
   "metadata": {},
   "source": [
    "## 3. Principalez hallazgos\n",
    "\n",
    "Al respecto, se destacan los siguientes hallazgos del experimento:\n",
    "\n",
    "* Hallazgo 1: Los tiempos de ejecución aumentaron de forma considerable al aumentar la dimensión de la matriz en potencias de 10.\n",
    "* Hallazgo 2: El Algoritmo fue consistente con estas dimensiones,devolviendo la SVD correspondiente.\n",
    "\n"
   ]
  }
 ],
 "metadata": {
  "kernelspec": {
   "display_name": "R",
   "language": "R",
   "name": "ir"
  },
  "language_info": {
   "codemirror_mode": "r",
   "file_extension": ".r",
   "mimetype": "text/x-r-source",
   "name": "R",
   "pygments_lexer": "r",
   "version": "3.6.2"
  }
 },
 "nbformat": 4,
 "nbformat_minor": 4
}
