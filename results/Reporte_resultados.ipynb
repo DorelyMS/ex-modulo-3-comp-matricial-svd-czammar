{
 "cells": [
  {
   "cell_type": "markdown",
   "metadata": {},
   "source": [
    "# Reporte de resultados\n",
    "\n",
    "**19 de Abril de 2019**\n",
    "\n",
    "## 0. Introducción\n",
    "Este documento presenta un resumen de los resultados obtenidos con la [implementación](https://github.com/mno-2020-gh-classroom/ex-modulo-3-comp-matricial-svd-czammar/blob/master/jupyter/Ex_CM_SVD.ipynb) del método de eliminación por bloques, empleando la aproximación de la descomposición SVD vía el algoritmo **One-Sided Jacobi**. Cabe destacar que se emplean matrices de dimensiones dadas a lo más por $10^3 \\times 10^3$ entradas.\n",
    "\n",
    "## 1. Consideraciones\n",
    "\n",
    "Al respecto para consolidar el presente reporte se realizaron una serie de experimentos numéricos realizados en torno a diferentes ejes:\n",
    "\n",
    "**Algoritmo One-Sided Jacobi para aproximar la descomposición SVD**\n",
    "\n",
    "* **Experimento 1:** analizar el comportamiento de la implementación realizada para el algoritmo One-Sided Jacobi para aproximar la descomposición SVD cambiando tamaño de matriz.\n",
    "* **Experimento 2:** estudiar el comportamiento de la implementación realizada para el algoritmo One-Sided Jacobi para aproximar la descomposición SVD cambiando el método de generación aleatoria de la matriz pseudo-aleatoria.\n",
    "\n",
    "**Algoritmo de eliminación por bloques usando la descomposición SVD**\n",
    "\n",
    "* **Experimento 3:** revisar el desempeño de la implementación realizada para el método de eliminación por bloques al variar tamaño de matriz de sistema.\n",
    "* **Experimento 4:** estudiar el comportamiento de la implementación realizada para el método de solución de bloques al variar tamaño de matriz de sistema.\n",
    "* **Experimento 5:** analizar el comportamiento de la implementación del método de eliminación por bloques cambiando número de condición de la matriz del sistema.\n",
    "* **Experimento 6:** revisar el comportamiento de método de eliminación por bloques cambiando el tamaño del bloque.\n",
    "\n",
    "A continuación se abordaran los resultados obtenidos tras los experimentos llevados a cabo.\n",
    "\n",
    "### 2. Sobre la infraestructura empleada\n",
    "\n",
    "**Especificaciones de ambiente común de trabajo**\n",
    "\n",
    "Para realizar el presente experimento numérico se ha empleado la imagen de docker basada en R del curso MNO 2020 (palmoreck/jupyterlab_r_kernel:1.1.0)\n",
    "\n",
    "```\n",
    "docker run --rm -v `pwd`:/datos --name jupyterlab_r_kernel_local -p 8888:8888 -d palmoreck/jupyterlab_r_kernel:1.1.0\n",
    "\n",
    "```\n",
    "\n",
    "*Nota:* el comando \"-v \\`pwd\\`:/datos\", permite montar el directorio actual en donde el usuario se encuentre situada en terminal como un volumen de la imagen de docker, dentro del directorio \"/datos\".\n",
    "\n",
    "## 3. Experimentos numéricos\n",
    "\n",
    "\n",
    "Los experimentos llevados a cabo se documentaron a través de una serie de reporte de resultados, cuyo detalle y vínculo para consultarlos se presentan en la siguiente tabla:\n",
    "\n",
    "|   | Tema                                         | Experimento |  Vinculo |\n",
    "|:-:|----------------------------------------------|-------------|:--------:|\n",
    "| 1 | Algoritmo One-Sided Jacobi                   | 1           | [Exp1](https://github.com/mno-2020-gh-classroom/ex-modulo-3-comp-matricial-svd-czammar/blob/master/results/experimentos/Experimento_1.ipynb) |\n",
    "| 2 | Algoritmo One-Sided Jacobi                   | 2           | [Exp2](https://github.com/mno-2020-gh-classroom/ex-modulo-3-comp-matricial-svd-czammar/blob/master/results/experimentos/Experimento_2.ipynb) |\n",
    "| 3 | Método de eliminación por bloques usando SVD | 3           | [Exp3](https://github.com/mno-2020-gh-classroom/ex-modulo-3-comp-matricial-svd-czammar/blob/master/results/experimentos/Experimento_3.ipynb) |\n",
    "| 4 | Método de eliminación por bloques usando SVD | 4           | [Exp4](https://github.com/mno-2020-gh-classroom/ex-modulo-3-comp-matricial-svd-czammar/blob/master/results/experimentos/Experimento_4.ipynb) |\n",
    "| 5 | Método de eliminación por bloques usando SVD | 5           | [Exp5](https://github.com/mno-2020-gh-classroom/ex-modulo-3-comp-matricial-svd-czammar/blob/master/results/experimentos/Experimento_5.ipynb) |\n",
    "| 6 | Método de eliminación por bloques usando SVD | 6           | [Exp6](https://github.com/mno-2020-gh-classroom/ex-modulo-3-comp-matricial-svd-czammar/blob/master/results/experimentos/Experimento_6.ipynb) |\n",
    "\n",
    "En este sentido, en particular para cada experimento realizado, dentro de cada documento de reporte de resultados de los experimentos recién descritos, se provee los siguientes datos según resulte aplicable:\n",
    "\n",
    "* los parámetros empleados en la simulaciones, \n",
    "* las dimensiones de las matrices y vectores involucrados, así como el prodecimiento pseudo-aleatorio que les dio origen, \n",
    "* 1) el tiempo involucrado en correr los experimentos, \n",
    "* 2) número de condición de las matrices pseudo-aleatorias, y \n",
    "* 3) el error relativo obtenido, para la solución de un sistema lineal de la forma $Ax=b$, es decir el cociente\n",
    "\n",
    "$$|| Ax - b ||_2 / || b ||_2$$\n",
    "* 4) La norma de $A$ y de la matriz obtenida al rearmar A tras multiplica las matrices resultantes de la aproximación de la descomposición SVD vía el algoritmo **One-Sided Jacobi**\n"
   ]
  },
  {
   "cell_type": "markdown",
   "metadata": {},
   "source": [
    "A continuación se mostrará una versión ejecutiva de los experimentos realizados junto con los principales hallazgos."
   ]
  },
  {
   "cell_type": "markdown",
   "metadata": {},
   "source": [
    "### 2.1 Experimento 1\n",
    "\n",
    "**Objetivo:** analizar el comportamiento de la implementación realizada para el algoritmo One-Sided Jacobi para aproximar la descomposición SVD cambiando tamaño de matriz.\n",
    "\n",
    "En este caso, se emplearon diveras hipótesis entre las que destacan:\n",
    "\n",
    "* a) Se consideró la función $r\\_norm$ de R para generar las entradas de las matrices, **empleandose una varianza constante en todos los casos**.\n",
    "* b) Para evaluar la igualdad entre $A$ y la matriz $U*\\Sigma*V$ obtenida al multiplicar las aproximaciones numéricas de la descomposición SVD de $A$ a través de las matrices $U$, $\\Sigma$ y $V$, se redondearon las entradas a 5 decimales\n",
    "* c) Se realizaron tres experimentos $1.1,1.2$ y $1.3$ variando el tamaño de la matriz cuadrada del sistema, es decir se consideraron dimensiones $n=10,10^2, 10^3$.\n",
    "\n",
    "Los resultados obtenidos, se compararan a través de la siguiente:\n",
    "\n",
    "| # | Experimento | Tiempo de ejecución (s) |     $$¿A == U*\\Sigma*V^{t}?^*$$  | \n",
    "|:-:|:-----------:|:-------------------:|----------------|\n",
    "| 1 |     1.1     |  0.078              |         Si     |               \n",
    "| 2 |     1.2     |       10.826              |    Si           |               \n",
    "| 3 |     1.3     |        1986.465              |  Si              |       \n",
    "\n",
    "**Nota:**\\* se refiere a la igualdad en al menos 5 decimales al usar redondeo."
   ]
  },
  {
   "cell_type": "markdown",
   "metadata": {},
   "source": [
    "**Principales hallazgos**\n",
    "\n",
    "Al respecto, se destacan los siguientes hallazgos del experimento:\n",
    "\n",
    "* Hallazgo 1: Los tiempos de ejecución aumentaron de forma considerable al aumentar la dimensión de la matriz en potencias de 10.\n",
    "* Hallazgo 2: El Algoritmo fue consistente con estas dimensiones,devolviendo la SVD correspondiente."
   ]
  },
  {
   "cell_type": "markdown",
   "metadata": {},
   "source": [
    "### 2.2 Experimento 2\n",
    "\n",
    "**Objetivo:** estudiar el comportamiento de la implementación realizada para el algoritmo One-Sided Jacobi para aproximar la descomposición SVD cambiando el método de generación aleatoria de la matriz pseudo-aleatoria.\n",
    "\n",
    "Al respecto se emplearon diveras hipótesis entre las que destacan:\n",
    "\n",
    "* a) Se consideró la función $r\\_norm$ de R para generar las entradas de las matrices,\n",
    "* b) Sin embargo, **la varianza fue aumentándose en valores de** $10,10^2, 10^3$\n",
    "* d) Para evaluar la igualdad entre $A$ y la matriz $U*\\Sigma*V$ obtenida al multiplicar las aproximaciones numéricas de la descomposición SVD de $A$ a través de las matrices $U$, $\\Sigma$ y $V$, se redondearon las entradas a 5 decimales.\n",
    "* c) Se realizaron tres experimentos $X.1,X.2$ y $X.3$ variando el tamaño de la matriz cuadrada del sistema, es decir se consideraron dimensiones $n=10,10^2, 10^3$.\n",
    "\n",
    "Los resultados obtenidos, se compararan a través de la siguiente:\n",
    "\n",
    "| # | Experimento | Tiempo de ejecución (s) |     $$¿A == U*\\Sigma*V^{t}?^*$$  | \n",
    "|:-:|:-----------:|:-------------------:|----------------|\n",
    "| 1 |     2.1     |  0.098 s      |    Si     |\n",
    "| 2 |     2.2     | 12.146 s            |       Si         |\n",
    "| 3 |     2.3     | 2330.452 s           |         Si       |      \n",
    "\n",
    "**Nota:**\\* se refiere a la igualdad en al menos 5 decimales al usar redondeo."
   ]
  },
  {
   "cell_type": "markdown",
   "metadata": {},
   "source": [
    "**Principales hallazgos**\n",
    "\n",
    "Los siguientes hallazgos del experimento se destacan:\n",
    "\n",
    "* Hallazgo 1: Los tiempos de ejecución aumentar de manera considerable al aumentar la dimensión de la matriz.\n",
    "* Hallazgo 2: El algoritmo fue consistente aumentando la dimención de la matriz y la varianza de las entradas, devolviendo la SVD correspondiente."
   ]
  },
  {
   "cell_type": "markdown",
   "metadata": {},
   "source": [
    "### 2.3 Experimento 3\n",
    "\n",
    "**Objetivo:** revisar el desempeño de la implementación realizada para el método de eliminación por bloques al variar tamaño de matriz de sistema.\n",
    "\n",
    "Al respecto se emplearon diversas hipótesis entre las que destacan:\n",
    "\n",
    "* a) Se consideró la función $r\\_norm$ de R para generar las entradas de las matrices,\n",
    "* b) Sin embargo, **la varianza fue considerada como constante** $1$\n",
    "* d) Para evaluar la igualdad entre $A$ y la matriz $U*\\Sigma*V$ obtenida al multiplicar las aproximaciones numéricas de la descomposición SVD de $A$ a través de las matrices $U$, $\\Sigma$ y $V$, obteniendo la norma 2 de la diferencia de ambas matrices (error de factorización).\n",
    "e) Se calculo el error relativo obtenido\n",
    "* f) Se realizaron dos experimentos $3.1,3.2$ variando el tamaño de la matriz cuadrada del sistema, es decir se consideraron dimensiones $n=10,10^2$.\n",
    "\n",
    "\n",
    "Los resultados obtenidos, se resumen en la siguiente tabla:\n",
    "\n",
    "| # | Experimento | Tiempo de desempeño | Error relativo | Error Factorización |\n",
    "|:-:|:-----------:|:-------------------:|----------------|----------------|\n",
    "| 1 |     3.1     | 0.059 sec           |1.78749566520204|3.67028106314907e-15 |    \n",
    "| 2 |     3.2     | 37.399              |1.1633441561769 |9.09482723558874e-14                | \n",
    "\n"
   ]
  },
  {
   "cell_type": "markdown",
   "metadata": {},
   "source": [
    "**Principales hallazgos**\n",
    "\n",
    "Los principales hallazgos del experimento fueron:\n",
    "\n",
    "* Hallazgo 1: El tiempo aumenta considerablemente conforme aumenta el tamaño de la matriz\n",
    "* Hallazgo 2: El error relativo disminuye aumentando el tamaño de matriz."
   ]
  },
  {
   "cell_type": "markdown",
   "metadata": {},
   "source": [
    "### 2.4 Experimento 4\n",
    "\n",
    "**Objetivo:** estudiar el comportamiento de la implementación realizada para el método de solución de bloques al variar tamaño de matriz de sistema.\n",
    "\n",
    "Al respecto se emplearon diversas hipótesis entre las que destacan:\n",
    "\n",
    "* a) Se consideró la función $r\\_norm$ de R para generar las entradas de las matrices,\n",
    "* b) Sin embargo, **la varianza cada vez más alta** $10^1, 10^2, 10^3$\n",
    "* d) Para evaluar la igualdad entre $A$ y la matriz $U*\\Sigma*V$ obtenida al multiplicar las aproximaciones numéricas de la descomposición SVD de $A$ a través de las matrices $U$, $\\Sigma$ y $V$, obteniendo la norma 2 de la diferencia de ambas matrices (error de factorización).\n",
    "e) Se calculo el error relativo obtenido\n",
    "* f) Se realizaron dos experimentos $4.1,4.2$ variando el tamaño de la matriz cuadrada del sistema, es decir se consideraron dimensiones $n=10,10^2$.\n",
    "\n",
    "Los resultados obtenidos, se resumen en la siguiente tabla:\n",
    "\n",
    "| # | Experimento | Tiempo de desempeño | Error relativo | Error factorización | Comentarios |\n",
    "|:-:|:-----------:|:-------------------:|----------------|----------------|:-----------:|\n",
    "| 1 |     4.1     |       0.71 s        |     1.8105     |  8.84071e-15  |             |\n",
    "| 2 |     4.2     |      371.67 s            |    0.82400   |   2.676068e-12   |             |\n",
    "\n"
   ]
  },
  {
   "cell_type": "markdown",
   "metadata": {},
   "source": [
    "**Principales hallazgos**\n",
    "\n",
    "Al respecto, se destacan los siguientes hallazgos del experimento:\n",
    "\n",
    "* Hallazgo 1: El algoritmo fue consistente al aumentar la dimensión de la matriz y la varianza de las entradas.\n",
    "* Hallazgo 2: El tiempo de ejecución aumentó considerablemente al aumentar la dimensión de la matriz."
   ]
  },
  {
   "cell_type": "markdown",
   "metadata": {},
   "source": [
    "### 2.5 Experimento 5\n",
    "\n",
    "**Objetivo:** analizar el comportamiento de la implementación del método de eliminación por bloques cambiando número de condición de la matriz del sistema.\n",
    "\n",
    "Al respecto de los experimentos numéricos realizados estos se basan en la idea de que:\n",
    "\n",
    "**Las matrices con número de condición de orden $10^0$ y $10^1$ generan sistemas lineales bien condicionados (entre más cercano a 1 mejor) por lo que típicamente sus soluciones son rápidas de encontrar y tienen buena precisión.**\n",
    "\n",
    "Al respecto se emplearon diversas hipótesis entre las que destacan:\n",
    "\n",
    "* a) Se consideró la función $r\\_norm$ de R para generar el lado derecho de los sistema,\n",
    "* b) las entradas de las matrices emplearon la función $randortho$,\n",
    "* d) Se calculo el error relativo obtenido\n",
    "* e) Se realizaron dos experimentos $5.1,5.2,5.3,5.4,5.5$ variando el tamaño de la matriz cuadrada del sistema, es decir se consideraron dimensiones $n=10,10^2$.\n",
    "\n",
    "Los resultados obtenidos se resumen a través de la siguiente tabla:\n"
   ]
  },
  {
   "cell_type": "markdown",
   "metadata": {},
   "source": [
    "| # | Experimento | Dimensiones de $A$ | Número de condición de $A$ | Tiempo de desempeño | Error relativo | Resultado |\n",
    "|:-:|:-----------:|:-------------------:|----------------|----------------|-------|-------|\n",
    "| 1 |     5.1     | $10^2$x$10^2$       |   $10^1$       | 1.58 segs      | 0.11203583997784      | rápido con error relativo alto      |\n",
    "| 2 |     5.2     | $10^2$x$10^2$       |   $10^0$       | 0.91 segs      | 2.21095218644761e-15  | rápido y preciso      |\n",
    "| 3 |     5.3     | $10^3$x$10^3$       |   $10^1$       | 3.50 mins      | 0.0396874119847479    | muy lento con error relativo alto     |\n",
    "| 4 |     5.4     | $10^3$x$10^3$       |   $10^0$       | 1.91 mins      | 7.46364171625283e-15  | lento y preciso      |\n",
    "\n"
   ]
  },
  {
   "cell_type": "markdown",
   "metadata": {},
   "source": [
    "**Principales hallazgos**\n",
    "\n",
    "Se encontraron diferentes hallazgos del experimento:\n",
    "\n",
    "* Hallazgo 1: El tiempo de ejecución es mayor en matrices con número de condición de orden $10^1$ que de $10^0$. \n",
    "* Hallazgo 2: El error relativo en matrices de condición de orden de $10^0$ es prácticamente cero.\n",
    "* Hallazgo 3: El error relativo en matrices de dimensión $10^2$x$10^2$ es significativamente superior al de matrices de $10^3$x$10^3$"
   ]
  },
  {
   "cell_type": "markdown",
   "metadata": {},
   "source": [
    "### 2.6 Experimento 6\n",
    "\n",
    "**Objetivo:** revisar el comportamiento de método de eliminación por bloques cambiando el tamaño del bloque.\n",
    "\n",
    "Al respecto se emplearon diversas hipótesis entre las que destacan:\n",
    "\n",
    "* a) Se consideró la función $r\\_norm$ de R para generar el lado derecho de los sistema,\n",
    "* b) las entradas de las matrices emplearon la función $randortho$,\n",
    "* d) Se calculo el error relativo obtenido\n",
    "* e) Se realizaron dversos experimentos $5.1,5.2,5.3,5.4,5.5$ variando el tamaño del bloque, es decir se consideraron dimensiones $n=10,10^2$.\n"
   ]
  },
  {
   "cell_type": "markdown",
   "metadata": {},
   "source": [
    "Los resultados obtenidos, se compararan a través de la siguiente:\n",
    "\n",
    "| # | Experimento | Tiempo de ejecución (s) |     Error relativo $||Ax-b||/||b||$  | Dimensión $A$   | Tamaño del bloque| \n",
    "|:-:|:-----------:|:-------------------:|----------------|----------------|----------------|\n",
    "| 1 |     6.1.1     |   1.70 min      |    1.47576     | $10^2x10^2$ | 50 |\n",
    "| 2 |     6.1.2     |  28.57 s        |      2.3343         | $10^2x10^2$ | 20 |\n",
    "| 3 |     6.1.3     |  12.77 s           |         2.12       | $10^2x10^2$ | 10 |\n",
    "| 1 |     6.2.1     |   0.05477 s      |    0.7489   | $10^1x10^1$ | 2 |\n",
    "| 2 |     6.2.2     |    .109 s        |      1.0271         | $10^1x10^1$ | 5 |\n",
    "| 3 |     6.2.3     |   0.1003 s           |     0.8922           | $10^1x10^1$ | 7 |\n",
    "| 1 |     6.3.1     |    1.085 min      |    1.4911     | $10^2x10^2$ | 50 |\n",
    "| 2 |     6.3.2     |   18.30 s        |     1.2141          | $10^2x10^2$ | 20 |\n",
    "| 3 |     6.3.3     |   7.04 s           |       1.2745        | $10^2x10^2$ | 10 |"
   ]
  },
  {
   "cell_type": "markdown",
   "metadata": {},
   "source": [
    "**Principales hallazgos**\n",
    "\n",
    "Al respecto, se destacan los siguientes hallazgos del experimento:\n",
    "\n",
    "* Hallazgo 1: Mientras más pequeños son los bloques el tiempo de ejecución es menor.\n",
    "* Hallazgo 2: El error relativo es menor conforme aumenta el número de bloques. \n",
    "* Hallazgo 3: El número de condición de la matriz del sistema no tiene un efecto claro sobre las cantidades que se están revisando aunque esperabamos que se manifestará en el error relativo, sin embargo dado el número bajo de sweeps realizados se entiende que este efecto podría esta afectando los resultados correspondientes."
   ]
  },
  {
   "cell_type": "markdown",
   "metadata": {},
   "source": [
    "## 3. Conclusiones\n",
    "\n",
    "* Este proyecto se encargó de realizar una implementación a través del lenguaje R del método de eliminación por bloques, apoyandose en el algoritmo **One-Sided Jacobi** para aproximar numéricamente la descomposición SVD y emplear para resolver sistema lineales de menor dimensión.\n",
    "\n",
    "* El algoritmo **One-Sided Jacobi** es de tipo iterativo y se encarga de aproximar la descomposición SVD de una matriz, empleando una sucesión de rotaciones de Givens.\n",
    "\n",
    "* El método de eliminación por bloques se encarga de intentar reducir la solución de un sistema lineal a través de replantear el sistema original en mucho otros sistemas lineales con menor dimensión.\n",
    "\n",
    "Sin perjuicio de lo anterior, también se considera relevante destacar una serie de experiencias y aprendizajes obtenidas en el desarrollo de este proyecto:\n",
    "\n",
    "**Sobre teoría e implementación**\n",
    "* Aunque la teoría puede tener resultados sólidos sobre temas de métodos numéricos, se requiere tiempo y discusión para aterrizar el proceso creativo en código realista,\n",
    "* El diseño de un buen método para implementar un algoritmo es crucial. *Nota:* Se corrió un solver de eliminación por bloques para una matriz de $10^4 \\times 10^4$ tardando 16 horas!! \n",
    "* No se puede pensar solo en el diseño de la implementación, sin tener en cuenta la infraestructura necesaria para lograrlo,\n",
    "* Se requiere aprender estrategiar y herramientas de software/hardware para bajar tiempos, mejorar pruebas y demás que aseguren el éxito de los proyectos,\n",
    "* Siempre es necesario correr pruebas sobre el código, aunque se piense que la implementación funciona bien,\n",
    "\n",
    "**Sobre trabajo en equipo y Github**\n",
    "\n",
    "* Github puede ser una gran herramienta para el desarrollo colaborativo,\n",
    "* El fácil asignar tareas y resolver conflictos usando flujos basados en branches de Github,\n",
    "* Se pueden obtener parámetros del desempeño de todos el proyecto y de los individuos que participan a través de las interfaces de Github,\n",
    "* Aún con lo anterior, errores puedes ocurrir si las personas no se comunican con claridad,\n",
    "* El trabajo en equipo necesita compromiso y tiempo de los integrantes, además de que el project manager tenga suficiente visión para organizar al equipo en harás de conseguir las metas del proyecto.\n"
   ]
  }
 ],
 "metadata": {
  "kernelspec": {
   "display_name": "Python 3",
   "language": "python",
   "name": "python3"
  },
  "language_info": {
   "codemirror_mode": {
    "name": "ipython",
    "version": 3
   },
   "file_extension": ".py",
   "mimetype": "text/x-python",
   "name": "python",
   "nbconvert_exporter": "python",
   "pygments_lexer": "ipython3",
   "version": "3.7.6"
  }
 },
 "nbformat": 4,
 "nbformat_minor": 4
}
