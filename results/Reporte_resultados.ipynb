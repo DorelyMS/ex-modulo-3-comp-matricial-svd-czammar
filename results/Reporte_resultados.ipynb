{
 "cells": [
  {
   "cell_type": "markdown",
   "metadata": {},
   "source": [
    "# Reporte de resultados\n",
    "\n",
    "## 0. Introducción\n",
    "Este documento presente un resumen de los resultados obtenidos con la implementación del método de eliminación por bloques, empleando la aproximación de la descomposición SVD vía el algoritmo **One-Sided Jacobi**. Cabe destacar que se emplean matrices de dimensiones dadas a lo más por $10^3 \\times 10^3$ entradas.\n",
    "\n",
    "## 1. Consideraciones\n",
    "\n",
    "Al respecto de los experimentos numéricos realizados para consolidar el presente reporte, tales se basan en las siguientes premisas:\n",
    "\n",
    "[Pendiente: desarrollo]\n",
    "\n",
    "En este sentido, en particular para cada experimento realizado, se reportan:\n",
    "\n",
    "* los parámetros empleados en la simulaciones, \n",
    "* las dimensiones de las matrices y vectores involucrados, así como el prodecimiento pseudo-aleatorio que les dio origen, \n",
    "* 1) el tiempo involucrado en correr los experimentos, \n",
    "* 2) número de condición de las matrices pseudo-aleatorias, y \n",
    "* 3) el número de condición aproximado de la matriz. \n",
    "\n",
    "### 1. Consideraciones sobre la infraestructura empleada\n",
    "\n",
    "Las características del/de los equipos que se emplearon para correr los en la que se realizaron experimentos son:\n",
    "\n",
    "[Pendiente: desarrollo]\n",
    "\n",
    "## 2. Experimentos numéricos\n",
    "\n",
    "[Pendiente: desarrollo]\n",
    "\n",
    "A tal respecto, se destaca que se realizaron experimentos buscando probar .... \n",
    "\n",
    "[Pendiente: desarrollo]\n",
    "\n",
    "**Cargamos codigo desarrollado previamente**\n",
    "\n",
    "* **utils.R:** contiene...\n",
    "* **00-load.R:** contiene..."
   ]
  },
  {
   "cell_type": "code",
   "execution_count": 4,
   "metadata": {},
   "outputs": [
    {
     "data": {
      "text/html": [
       "<ol>\n",
       "\t<li>NULL</li>\n",
       "\t<li>NULL</li>\n",
       "</ol>\n"
      ],
      "text/latex": [
       "\\begin{enumerate}\n",
       "\\item NULL\n",
       "\\item NULL\n",
       "\\end{enumerate}\n"
      ],
      "text/markdown": [
       "1. NULL\n",
       "2. NULL\n",
       "\n",
       "\n"
      ],
      "text/plain": [
       "[[1]]\n",
       "NULL\n",
       "\n",
       "[[2]]\n",
       "NULL\n"
      ]
     },
     "metadata": {},
     "output_type": "display_data"
    }
   ],
   "source": [
    "## Instalamos paquetes\n",
    "rm(list = ls())\n",
    "\n",
    "paquetes <- c('matrixcalc', 'wordspace')\n",
    "\n",
    "instalar <- function(paquete) {\n",
    "  if (!require(paquete,character.only = TRUE, quietly = TRUE, warn.conflicts = FALSE)) {\n",
    "    install.packages(as.character(paquete), dependecies = TRUE, repos = \"http://cran.us.r-project.org\")\n",
    "    library(paquete, character.only = TRUE, quietly = TRUE, warn.conflicts = FALSE)\n",
    "  }\n",
    "}\n",
    "\n",
    "\n",
    "lapply(paquetes, instalar)"
   ]
  },
  {
   "cell_type": "code",
   "execution_count": 8,
   "metadata": {},
   "outputs": [],
   "source": [
    "## Cargamos paquetes necesarios\n",
    "library(\"matrixcalc\")\n",
    "library(\"wordspace\")\n",
    "\n",
    "#source(\"metadata.R\")\n",
    "source(\"utils.R\")\n",
    "source(\"00-load.R\")"
   ]
  },
  {
   "cell_type": "markdown",
   "metadata": {},
   "source": [
    "### 2.1 Experimento 1 \n",
    "\n",
    "**Objetivo:** [Pendiente: desarrollo]\n",
    "\n"
   ]
  },
  {
   "cell_type": "code",
   "execution_count": 9,
   "metadata": {},
   "outputs": [
    {
     "data": {
      "text/html": [
       "<ol class=list-inline>\n",
       "\t<li>0.276013478096693</li>\n",
       "\t<li>-0.650999244596714</li>\n",
       "\t<li>0.469711022026989</li>\n",
       "\t<li>0.289978041305091</li>\n",
       "\t<li>-0.245786711285197</li>\n",
       "\t<li>-0.191165822229504</li>\n",
       "\t<li>-0.467882010624796</li>\n",
       "\t<li>0.483345073285565</li>\n",
       "\t<li>-0.708702282304546</li>\n",
       "\t<li>0.293150039323609</li>\n",
       "</ol>\n"
      ],
      "text/latex": [
       "\\begin{enumerate*}\n",
       "\\item 0.276013478096693\n",
       "\\item -0.650999244596714\n",
       "\\item 0.469711022026989\n",
       "\\item 0.289978041305091\n",
       "\\item -0.245786711285197\n",
       "\\item -0.191165822229504\n",
       "\\item -0.467882010624796\n",
       "\\item 0.483345073285565\n",
       "\\item -0.708702282304546\n",
       "\\item 0.293150039323609\n",
       "\\end{enumerate*}\n"
      ],
      "text/markdown": [
       "1. 0.276013478096693\n",
       "2. -0.650999244596714\n",
       "3. 0.469711022026989\n",
       "4. 0.289978041305091\n",
       "5. -0.245786711285197\n",
       "6. -0.191165822229504\n",
       "7. -0.467882010624796\n",
       "8. 0.483345073285565\n",
       "9. -0.708702282304546\n",
       "10. 0.293150039323609\n",
       "\n",
       "\n"
      ],
      "text/plain": [
       " [1]  0.2760135 -0.6509992  0.4697110  0.2899780 -0.2457867 -0.1911658\n",
       " [7] -0.4678820  0.4833451 -0.7087023  0.2931500"
      ]
     },
     "metadata": {},
     "output_type": "display_data"
    }
   ],
   "source": [
    "set.seed(231)\n",
    "n= 10**1\n",
    "\n",
    "A = matrix(rnorm(n**2), ncol=n)\n",
    "b = matrix(rnorm(n), ncol=1)\n",
    "TOL = 10**-8\n",
    "\n",
    "eliminacion_bloques(A,b,5,10^-8,1)"
   ]
  },
  {
   "cell_type": "code",
   "execution_count": null,
   "metadata": {},
   "outputs": [],
   "source": []
  },
  {
   "cell_type": "code",
   "execution_count": null,
   "metadata": {},
   "outputs": [],
   "source": []
  },
  {
   "cell_type": "markdown",
   "metadata": {},
   "source": [
    "### 2.2 Experimento 2\n",
    "\n",
    "**Objetivo:** [Pendiente: desarrollo]\n"
   ]
  },
  {
   "cell_type": "code",
   "execution_count": null,
   "metadata": {},
   "outputs": [],
   "source": []
  },
  {
   "cell_type": "code",
   "execution_count": null,
   "metadata": {},
   "outputs": [],
   "source": []
  },
  {
   "cell_type": "code",
   "execution_count": null,
   "metadata": {},
   "outputs": [],
   "source": []
  },
  {
   "cell_type": "markdown",
   "metadata": {},
   "source": [
    "### 2.3 Experimento 3\n",
    "\n",
    "**Objetivo:** [Pendiente: desarrollo]\n",
    "\n"
   ]
  },
  {
   "cell_type": "code",
   "execution_count": null,
   "metadata": {},
   "outputs": [],
   "source": []
  },
  {
   "cell_type": "code",
   "execution_count": null,
   "metadata": {},
   "outputs": [],
   "source": []
  },
  {
   "cell_type": "code",
   "execution_count": null,
   "metadata": {},
   "outputs": [],
   "source": []
  },
  {
   "cell_type": "markdown",
   "metadata": {},
   "source": [
    "## 3. Principalez hallazgos\n",
    "\n",
    "Al respecto, se destacan los siguientes hallazgos de la implementación realizada para resolver un sistema lineal $Ax=b$, empleando el método de eliminación por bloques, basado en la solución de sistemas más pequeños aproximando la descomposición SVD asociada a través del algoritmo **One-Sided Jacobi**:\n",
    "\n",
    "* Hallazgo 1: [Pendiente]\n",
    "* Hallazgo 2: [Pendiente]\n",
    "* Hallazgo 3: [Pendiente]\n",
    "* Hallazgo 4: [Pendiente]\n",
    "\n",
    "Respecto a los problemas y cuestiones que enfrentamos en la implementación de esto algoritmo:"
   ]
  },
  {
   "cell_type": "markdown",
   "metadata": {},
   "source": [
    "## 4.Trabajo a futuro\n",
    "\n",
    "[Pendiente]\n"
   ]
  },
  {
   "cell_type": "markdown",
   "metadata": {},
   "source": [
    "## 5.Conclusiones\n",
    "\n",
    "[Pendiente]\n",
    "\n"
   ]
  }
 ],
 "metadata": {
  "kernelspec": {
   "display_name": "R",
   "language": "R",
   "name": "ir"
  },
  "language_info": {
   "codemirror_mode": "r",
   "file_extension": ".r",
   "mimetype": "text/x-r-source",
   "name": "R",
   "pygments_lexer": "r",
   "version": "3.6.2"
  }
 },
 "nbformat": 4,
 "nbformat_minor": 4
}
