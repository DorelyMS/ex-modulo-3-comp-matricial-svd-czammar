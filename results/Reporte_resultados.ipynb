{
 "cells": [
  {
   "cell_type": "markdown",
   "metadata": {},
   "source": [
    "# Reporte de resultados\n",
    "\n",
    "**19 de Abril de 2019**\n",
    "\n",
    "## 0. Introducción\n",
    "Este documento presenta un resumen de los resultados obtenidos con la implementación del método de eliminación por bloques, empleando la aproximación de la descomposición SVD vía el algoritmo **One-Sided Jacobi**. Cabe destacar que se emplean matrices de dimensiones dadas a lo más por $10^3 \\times 10^3$ entradas.\n",
    "\n",
    "## 1. Consideraciones\n",
    "\n",
    "Al respecto para consolidar el presente reporte se realizaron una serie de experimentos numéricos realizados en torno a diferentes ejes:\n",
    "\n",
    "**Algoritmo One-Sided Jacobi para aproximar la descomposición SVD**\n",
    "\n",
    "* **Experimento 1:** analizar el comportamiento de la implementación realizada para el algoritmo One-Sided Jacobi para aproximar la descomposición SVD cambiando tamaño de matriz.\n",
    "* **Experimento 2:** estudiar el comportamiento de la implementación realizada para el algoritmo One-Sided Jacobi para aproximar la descomposición SVD cambiando el método de generación aleatoria de la matriz pseudo-aleatoria.\n",
    "\n",
    "**Algoritmo de eliminación por bloques usando la descomposición SVD**\n",
    "\n",
    "* **Experimento 3:** revisar el desempeño de la implementación realizada para el método de eliminación por bloques al variar tamaño de matriz de sistema.\n",
    "* **Experimento 4:** estudiar el comportamiento de la implementación realizada para el método de solución de bloques al variar tamaño de matriz de sistema.\n",
    "* **Experimento 5:** analizar el comportamiento de la implementación del método de eliminación por bloques cambiando número de condición de la matriz del sistema.\n",
    "* **Experimento 6:** revisar el comportamiento de método de eliminación por bloques cambiando el tamaño del bloque.\n",
    "\n",
    "A continuación se abordaran los resultados obtenidos tras los experimentos llevados a cabo.\n",
    "\n",
    "### 2. Sobre la infraestructura empleada\n",
    "\n",
    "**Especificaciones de ambiente común de trabajo**\n",
    "\n",
    "Para realizar el presente experimento numérico se ha empleado la imagen de docker basada en R del curso MNO 2020 (palmoreck/jupyterlab_r_kernel:1.1.0)\n",
    "\n",
    "```\n",
    "docker run --rm -v `pwd`:/datos --name jupyterlab_r_kernel_local -p 8888:8888 -d palmoreck/jupyterlab_r_kernel:1.1.0\n",
    "\n",
    "```\n",
    "\n",
    "*Nota:* el comando \"-v \\`pwd\\`:/datos\", permite montar el directorio actual en donde el usuario se encuentre situada en terminal como un volumen de la imagen de docker, dentro del directorio \"/datos\".\n",
    "\n",
    "## 3. Experimentos numéricos\n",
    "\n",
    "\n",
    "Los experimentos llevados a cabo se documentaron a través de una serie de reporte de resultados, cuyo detalle y vínculo de \n",
    "\n",
    "\n",
    "En este sentido, en particular para cada experimento realizado, dentro de cada documento de reporte de resultados de los experimentos recién descritos, se provee los siguientes datos según resulte aplicable:\n",
    "\n",
    "* los parámetros empleados en la simulaciones, \n",
    "* las dimensiones de las matrices y vectores involucrados, así como el prodecimiento pseudo-aleatorio que les dio origen, \n",
    "* 1) el tiempo involucrado en correr los experimentos, \n",
    "* 2) número de condición de las matrices pseudo-aleatorias, y \n",
    "* 3) el error relativo obtenido, para la solución de un sistema lineal de la forma $Ax=b$, es decir el cociente\n",
    "\n",
    "$$|| Ax - b ||_2 / || b ||_2$$\n",
    "* 4) La norma de $A$ y de la matriz obtenida al rearmar A tras multiplica las matrices resultantes de la aproximación de la descomposición SVD vía el algoritmo **One-Sided Jacobi**\n"
   ]
  },
  {
   "cell_type": "markdown",
   "metadata": {},
   "source": []
  },
  {
   "cell_type": "markdown",
   "metadata": {},
   "source": []
  },
  {
   "cell_type": "markdown",
   "metadata": {},
   "source": [
    "### 2.1 Experimento X\n",
    "\n",
    "**Objetivo:** [Pendiente: desarrollo]\n"
   ]
  },
  {
   "cell_type": "markdown",
   "metadata": {},
   "source": []
  },
  {
   "cell_type": "code",
   "execution_count": null,
   "metadata": {},
   "outputs": [],
   "source": []
  },
  {
   "cell_type": "code",
   "execution_count": null,
   "metadata": {},
   "outputs": [],
   "source": []
  },
  {
   "cell_type": "markdown",
   "metadata": {},
   "source": [
    "### 2.2 Experimento 2\n",
    "\n",
    "**Objetivo:** [Pendiente: desarrollo]\n"
   ]
  },
  {
   "cell_type": "code",
   "execution_count": null,
   "metadata": {},
   "outputs": [],
   "source": []
  },
  {
   "cell_type": "code",
   "execution_count": null,
   "metadata": {},
   "outputs": [],
   "source": []
  },
  {
   "cell_type": "code",
   "execution_count": null,
   "metadata": {},
   "outputs": [],
   "source": []
  },
  {
   "cell_type": "markdown",
   "metadata": {},
   "source": [
    "### 2.3 Experimento 3\n",
    "\n",
    "**Objetivo:** [Pendiente: desarrollo]\n",
    "\n"
   ]
  },
  {
   "cell_type": "code",
   "execution_count": null,
   "metadata": {},
   "outputs": [],
   "source": []
  },
  {
   "cell_type": "code",
   "execution_count": null,
   "metadata": {},
   "outputs": [],
   "source": []
  },
  {
   "cell_type": "code",
   "execution_count": null,
   "metadata": {},
   "outputs": [],
   "source": []
  },
  {
   "cell_type": "markdown",
   "metadata": {},
   "source": [
    "## 3. Principalez hallazgos\n",
    "\n",
    "Al respecto, se destacan los siguientes hallazgos de la implementación realizada para resolver un sistema lineal $Ax=b$, empleando el método de eliminación por bloques, basado en la solución de sistemas más pequeños aproximando la descomposición SVD asociada a través del algoritmo **One-Sided Jacobi**:\n",
    "\n",
    "* Hallazgo 1: [Pendiente]\n",
    "* Hallazgo 2: [Pendiente]\n",
    "* Hallazgo 3: [Pendiente]\n",
    "* Hallazgo 4: [Pendiente]\n",
    "\n",
    "Respecto a los problemas y cuestiones que enfrentamos en la implementación de esto algoritmo:"
   ]
  },
  {
   "cell_type": "markdown",
   "metadata": {},
   "source": [
    "## 5. Conclusiones\n",
    "\n",
    "[Pendiente]\n",
    "\n"
   ]
  }
 ],
 "metadata": {
  "kernelspec": {
   "display_name": "Python 3",
   "language": "python",
   "name": "python3"
  },
  "language_info": {
   "codemirror_mode": {
    "name": "ipython",
    "version": 3
   },
   "file_extension": ".py",
   "mimetype": "text/x-python",
   "name": "python",
   "nbconvert_exporter": "python",
   "pygments_lexer": "ipython3",
   "version": "3.7.6"
  }
 },
 "nbformat": 4,
 "nbformat_minor": 4
}
