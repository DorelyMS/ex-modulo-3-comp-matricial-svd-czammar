{
 "cells": [
  {
   "cell_type": "markdown",
   "metadata": {},
   "source": [
    "# Revisión de código para función signo\n",
    "\n",
    "**Fecha:** 9 de Abril de 2020\n",
    "\n",
    "**Responsable de revisión:** Dorely Morales\n",
    "\n",
    "**Código revisado**"
   ]
  },
  {
   "cell_type": "code",
   "execution_count": 8,
   "metadata": {},
   "outputs": [],
   "source": [
    "signo<-function(x) {\n",
    "  # Indica el signo de un número\n",
    "  # Args: \n",
    "  #    X (numeric): número a revisar\n",
    "  #Returns:\n",
    "  #    TRUE si el número es positivo o cero\n",
    "  #    FALSE si el número es negativo\n",
    "  ifelse(x<0,FALSE,TRUE)\n",
    "  }"
   ]
  },
  {
   "cell_type": "markdown",
   "metadata": {},
   "source": [
    "**1.Sobre la documentación del código/de la función**\n",
    "\n",
    "¿Se encuentran presentes en la implementación los siguientes elementos? Por favor, ingrese explicaciones detalladas.\n",
    "\n",
    "**a) Descripción concisa y breve de lo que hace el código/la función**\n",
    "\n",
    "Sí.\n",
    "\n",
    "**b) Descripción de sus argumentos de entrada, su significado y rango de valores que pueden tomar**\n",
    "\n",
    "Sí.\n",
    "\n",
    "**c) Descripción de los tipos de argumentos de entrada y de salida (por ejemplo, valores enteros, reales, strings, dataframe, matrices, etc)**\n",
    "\n",
    "Sí.\n",
    "\n",
    "**d) Descripción de la salida de la función, su significado y valores/objetos que deben regresar**\n",
    "\n",
    "El issue #21 indica que la salida de esta función debe corregirse. Según las notas de SVD, la función signo(a) toma el valor de 1 si a>=0 y -1 si a<0 \n"
   ]
  },
  {
   "cell_type": "markdown",
   "metadata": {},
   "source": [
    "**2. Cumplimiento de objetivos del código/de la función**\n",
    "\n",
    "**a) ¿El código cumple los objetivos para los que fue diseñado?**\n",
    "\n",
    "Sí.\n",
    "\n",
    "**b) ¿La salida de la función genera el valor necesario?**\n",
    "\n",
    "No, es necesario hacer un ajuste a la salida de la función para que en lugar de devolver logical: TRUE, FALSE devuelvan numeric: 1, -1."
   ]
  },
  {
   "cell_type": "markdown",
   "metadata": {},
   "source": [
    "**3. Pruebas**\n",
    "\n",
    "Ocupe la presente sección para hacer diseño de pruebas variando los parámetros que recibe el código la función en diferentes rangos para evaluar su comportamiento y/o detectar posibles fallos\n",
    "\n",
    "**Test 1**\n",
    "\n",
    "**Objetivo del test:** Verificar que la función signo evalúa correctamente para el valor de cero.\n",
    "\n",
    "**Implementación del test:**"
   ]
  },
  {
   "cell_type": "code",
   "execution_count": 9,
   "metadata": {},
   "outputs": [
    {
     "data": {
      "text/html": [
       "TRUE"
      ],
      "text/latex": [
       "TRUE"
      ],
      "text/markdown": [
       "TRUE"
      ],
      "text/plain": [
       "[1] TRUE"
      ]
     },
     "metadata": {},
     "output_type": "display_data"
    }
   ],
   "source": [
    "signo(0)"
   ]
  },
  {
   "cell_type": "markdown",
   "metadata": {},
   "source": [
    "Principales hallazos del test:\n",
    "\n",
    "* La función reconoce correctamente que el signo del número cero es positivo.\n",
    "\n",
    "**Test 2***\n",
    "\n",
    "**Objetivo del test:** Verificar que la función signo evalúa correctamente para números muy pequeños menores a cero.\n",
    "\n",
    "**Implementación del test:**"
   ]
  },
  {
   "cell_type": "code",
   "execution_count": 10,
   "metadata": {},
   "outputs": [
    {
     "data": {
      "text/html": [
       "FALSE"
      ],
      "text/latex": [
       "FALSE"
      ],
      "text/markdown": [
       "FALSE"
      ],
      "text/plain": [
       "[1] FALSE"
      ]
     },
     "metadata": {},
     "output_type": "display_data"
    }
   ],
   "source": [
    "signo(-1e-16)"
   ]
  },
  {
   "cell_type": "markdown",
   "metadata": {},
   "source": [
    "**Test 3***\n",
    "\n",
    "**Objetivo del test:** Verificar que la función signo evalúa correctamente para números muy pequeños mayores a cero.\n",
    "\n",
    "**Implementación del test:**"
   ]
  },
  {
   "cell_type": "code",
   "execution_count": 6,
   "metadata": {},
   "outputs": [
    {
     "data": {
      "text/html": [
       "FALSE"
      ],
      "text/latex": [
       "FALSE"
      ],
      "text/markdown": [
       "FALSE"
      ],
      "text/plain": [
       "[1] FALSE"
      ]
     },
     "metadata": {},
     "output_type": "display_data"
    }
   ],
   "source": [
    "signo(0)"
   ]
  },
  {
   "cell_type": "markdown",
   "metadata": {},
   "source": [
    "**4. Resumen detallado de posibles puntos faltantes en implementación**\n",
    "\n",
    "* Necesita modificarse la salida de la función: TRUE por 1 y FALSE por -1\n",
    "* Hay que cambiar la documentación de la salida de la función para que corresponda con lo mencionado en el punto anterior\n",
    "\n",
    "**Sugerencias para resolver los puntos anteriores**\n",
    "\n",
    "Se propone ajustarla función de la siguiente forma:"
   ]
  },
  {
   "cell_type": "code",
   "execution_count": 11,
   "metadata": {},
   "outputs": [],
   "source": [
    "signo<-function(a) {\n",
    "  # Indica el signo de un número\n",
    "  # Args: \n",
    "  #    a (numeric): número a revisar\n",
    "  #Returns:\n",
    "  # (numeric)\n",
    "  #    1 si el número es positivo o cero\n",
    "  #    -1 si el número es negativo\n",
    "  ifelse(a<0,-1,1)\n",
    "  }"
   ]
  }
 ],
 "metadata": {
  "kernelspec": {
   "display_name": "R",
   "language": "R",
   "name": "ir"
  },
  "language_info": {
   "codemirror_mode": "r",
   "file_extension": ".r",
   "mimetype": "text/x-r-source",
   "name": "R",
   "pygments_lexer": "r",
   "version": "3.6.2"
  }
 },
 "nbformat": 4,
 "nbformat_minor": 4
}
