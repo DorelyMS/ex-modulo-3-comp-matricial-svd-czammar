{
 "cells": [
  {
   "cell_type": "markdown",
   "metadata": {},
   "source": [
    "# Revisión de código para Linear solver aproximating SVD decomposition using One-sided Jacobi algorithm\n",
    "\n",
    "**Fecha:** 9 de Abril de 2020 8:30 pm\n",
    "\n",
    "**Responsable de revisión:** Javier Valencia y León Garay\n",
    "\n",
    "**Código revisado**"
   ]
  },
  {
   "cell_type": "code",
   "execution_count": 64,
   "metadata": {},
   "outputs": [],
   "source": [
    "# Función Solver\n",
    "\n",
    "solver <- function(U,S,V,b){\n",
    "    # Función que devuelve la solución del sistema de ecuaciones Ax =b.\n",
    "    # Se utilizó la función backsolve para resolver el sistema triangular.\n",
    "    # NOTA: al ser S diagonal es indistinto si es triangular inferior o superior.\n",
    "    # Args: U (mxm),V(nxn), S(mxn) matriz diagonal y b (m) un vector.\n",
    "    # Returns: Vector x\n",
    "  d = backsolve(t(U),b)\n",
    "  x = V%*%d\n",
    "  return(x)\n",
    "}"
   ]
  },
  {
   "cell_type": "code",
   "execution_count": 117,
   "metadata": {},
   "outputs": [],
   "source": [
    "x <- c(0,0,1)\n",
    "y <- c(1,0,0)"
   ]
  },
  {
   "cell_type": "code",
   "execution_count": 118,
   "metadata": {},
   "outputs": [
    {
     "name": "stdout",
     "output_type": "stream",
     "text": [
      "[1] \"1\"\n"
     ]
    }
   ],
   "source": [
    "ortogonal(x,y,.0001)"
   ]
  },
  {
   "cell_type": "markdown",
   "metadata": {},
   "source": [
    "**1.Sobre la documentación del código/de la función**\n",
    "\n",
    "¿Se encuentran presentes en la implementación los siguientes elementos? Por favor, ingrese explicaciones detalladas.\n",
    "\n",
    "**a) Descripción concisa y breve de lo que hace el código/la función**\n",
    "\n",
    "Hay algunos typos en \n",
    "\n",
    "**b) Descripción de sus argumentos de entrada, su significado y rango de valores que pueden tomar**\n",
    "\n",
    "Se sugiere detallar el rango de los valores permitidos y los que no estan permitidos tanto para el parametro TOL y los vectores u,v\n",
    "\n",
    "**c) Descripción de los tipos de argumentos de entrada y de salida (por ejemplo, valores enteros, reales, strings, dataframe, matrices, etc)**\n",
    "\n",
    "Es completa la documentación \n",
    "\n",
    "**d) Descripción de la salida de la función, su significado y valores/objetos que deben regresa**\n",
    "\n",
    "La documentación de salida esta completa, especifica los argumentos de salida de la función y su significado\n"
   ]
  },
  {
   "cell_type": "markdown",
   "metadata": {},
   "source": [
    "**2. Cumplimiento de objetivos del código/de la función**\n",
    "\n",
    "Por favor, ingrese explicaciones detalladas.\n",
    "\n",
    "**a) ¿El código cumple los objetivos para los que fue diseñado?**\n",
    "\n",
    "Sí, la función cumple su objetivo regresando un booleano que indica si el vector es ortogonal o no\n",
    "\n",
    "**b) ¿La salida de la función regresa un booleano?**\n",
    "\n",
    "Sí"
   ]
  },
  {
   "cell_type": "markdown",
   "metadata": {},
   "source": [
    "**3. Pruebas**\n",
    "\n",
    "Ocupe la presente sección para hacer diseño de pruebas variando los parámetros que recibe el código la función en diferentes rangos para evaluae su comportamiento y/o detectar posibles fallos\n",
    "\n",
    "**Test 1 Falsos Positivos y Falsos Negativos**\n",
    "\n",
    "**Objetivo del test:** Revisar en donde la función da valores erroneos variando el parametro TOL con numeros negativos, cero, numeros cercanos a cero (UNDERFLOW), 1 , numeros mayores a 1, numeros muy grandes(OVERFLOW).\n",
    "\n",
    "**Implementación del test:**\n",
    "pruebas numericas"
   ]
  },
  {
   "cell_type": "code",
   "execution_count": 108,
   "metadata": {},
   "outputs": [
    {
     "name": "stdout",
     "output_type": "stream",
     "text": [
      "[1] \"Prueba falsos Negativos:\"\n",
      "vector 1\t 0 0 1 \n",
      "vector 2\t 1 0 0 \n",
      "[1] \"0\"\n",
      "Prueba 1:TOL=0\tResultado: 0 \n",
      "[1] \"1\"\n",
      "Prueba 2:TOL=1*10^-323\tResultado: 1 \n",
      "[1] \"0\"\n",
      "Prueba 3:TOL=1*10^-324\tResultado: 0 \n",
      "[1] \"1\"\n",
      "Prueba 4:TOL=1*10^308\tResultado: 1 \n",
      "[1] \"0\"\n",
      "Prueba 5:TOL=-1\tResultado: 0 \n",
      "[1] \"Prueba falsos Positivos:\"\n",
      "vector 1\t 1 0 0 \n",
      "vector 2\t 1 0 0 \n",
      "[1] \"0\"\n",
      "Prueba 1:TOL=0\tResultado: 0 \n",
      "[1] \"0\"\n",
      "Prueba 2:TOL=1*10^-323\tResultado: 0 \n",
      "[1] \"0\"\n",
      "Prueba 3:TOL=1*10^-324\tResultado: 0 \n",
      "[1] \"1\"\n",
      "Prueba 4:TOL=1*10^308\tResultado: 1 \n",
      "[1] \"0\"\n",
      "Prueba 5:TOL=-1\tResultado: 0 \n"
     ]
    }
   ],
   "source": []
  },
  {
   "cell_type": "markdown",
   "metadata": {},
   "source": [
    "Principales hallazos del test:   \n",
    "**Rango de error de parametro TOL**  \n",
    "* Hallazgo 1: La función falla dando un *Falso Negativo* si el parametro TOL es menor o igual al valor de UNDERFLOW ($TOL<=1*10^{-324}$).\n",
    "* Hallazgo 2: La función falla dando un *Falso Positivo* si el parametro es mayor a 1 hasta el valor de OVERFLOW ($TOL>1$).  \n",
    "\n",
    "\n",
    "\n",
    "**Test 2 valores que generan que la función mande un mensaje de error ***\n",
    "\n",
    "**Objetivo del test:** probar en que valores de los parametros u,v genera que la función marque un mensaje de error\n",
    "\n",
    "**Implementación del test:**"
   ]
  },
  {
   "cell_type": "code",
   "execution_count": 115,
   "metadata": {},
   "outputs": [
    {
     "name": "stdout",
     "output_type": "stream",
     "text": [
      "[1] \"Prueba vectores diferente longitud:\"\n",
      "vector 1\t 0 0 1 1 \n",
      "vector 2\t 1 0 0 \n",
      " TOL= 5e-04"
     ]
    },
    {
     "ename": "ERROR",
     "evalue": "Error in u %*% v: non-conformable arguments\n",
     "output_type": "error",
     "traceback": [
      "Error in u %*% v: non-conformable arguments\nTraceback:\n",
      "1. cat(\"Prueba 1:TOL=0\\tResultado:\", ortogonal(x, y, tol), \"\\n\")",
      "2. ortogonal(x, y, tol)"
     ]
    }
   ],
   "source": []
  },
  {
   "cell_type": "code",
   "execution_count": 116,
   "metadata": {},
   "outputs": [
    {
     "name": "stdout",
     "output_type": "stream",
     "text": [
      "[1] \"Prueba vectores diferente longitud:\"\n",
      "vector 1\t 0 0 0 \n",
      "vector 2\t 1 0 0 \n",
      " TOL= 5e-04"
     ]
    },
    {
     "ename": "ERROR",
     "evalue": "Error in if (orth < TOL) {: missing value where TRUE/FALSE needed\n",
     "output_type": "error",
     "traceback": [
      "Error in if (orth < TOL) {: missing value where TRUE/FALSE needed\nTraceback:\n",
      "1. cat(\"Prueba 1:TOL=0\\tResultado:\", ortogonal(x, y, tol), \"\\n\")",
      "2. ortogonal(x, y, tol)"
     ]
    }
   ],
   "source": []
  },
  {
   "cell_type": "markdown",
   "metadata": {},
   "source": [
    "Principales hallazos del test:   \n",
    "**Otras causas de errores  \n",
    "* Hallazgo 3: la función da un error si el *vector u* y el *vector v* tienen diferente longitud\n",
    "* Hallazgo 4: la función falla si el vector es el vector nulo (0,0,....,0)"
   ]
  },
  {
   "cell_type": "markdown",
   "metadata": {},
   "source": [
    "**4. Resumen detallado de posibles puntos faltantes en implementación**\n",
    "\n",
    "* Se puede poner en la documentación de los parametros de entrada el rango permitido de TOL\n",
    "* Poner en la documentación de los parametros de entrada de los vectores \"no se aceptan vector nulo o vectores de diferente longitud\"\n",
    "\n",
    "\n",
    "**Sugerencias para resolver los puntos anteriores**\n",
    "\n",
    "* Para resolver el problema de Falsos positivos o negativos sugiero 2 cosas: la primera, podriamos fijar el valor de TOL (a un numero razonable) y no pedirle al usuario que lo ingrese como parametro; segunda, si no se quita el parametro TOL verificar con un IF que el rango este en los valores permitidos\n"
   ]
  }
 ],
 "metadata": {
  "kernelspec": {
   "display_name": "R",
   "language": "R",
   "name": "ir"
  },
  "language_info": {
   "codemirror_mode": "r",
   "file_extension": ".r",
   "mimetype": "text/x-r-source",
   "name": "R",
   "pygments_lexer": "r",
   "version": "3.6.2"
  }
 },
 "nbformat": 4,
 "nbformat_minor": 4
}
