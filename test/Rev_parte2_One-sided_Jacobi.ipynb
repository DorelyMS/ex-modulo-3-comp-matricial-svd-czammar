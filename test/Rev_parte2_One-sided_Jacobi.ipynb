{
 "cells": [
  {
   "cell_type": "markdown",
   "metadata": {},
   "source": [
    "# Segunda Parte de Revisión de código para 2.1 One-sided Jacobi numerical aproximación\n",
    "\n",
    "**Fecha:** 12 de Abril de 2020\n",
    "\n",
    "**Responsable de revisión:** Dorely Morales\n",
    "\n",
    "**Código revisado**"
   ]
  },
  {
   "cell_type": "code",
   "execution_count": 1,
   "metadata": {},
   "outputs": [],
   "source": [
    "indices <- function(n) {\n",
    "  # Crea una lista de tamaño (n-1)n/2 con pares de índices de la siguiente\n",
    "  #  manera: (1,2),..,(1,n),(2,3),..,(2,n),...,(n-1,n)\n",
    "  # Args: \n",
    "  #    n: número entero postivo \n",
    "  #       se refiere al número de columnas\n",
    "  #Returns:\n",
    "  #    lista con pares de índices\n",
    "    a <- NULL\n",
    "    b <- NULL\n",
    "    indices <- NULL\n",
    "    for (i in 1:(n-1)){\n",
    "    a <- append(a,rep(i,n-i))\n",
    "    b <- append(b,seq(i+1,n))    \n",
    "    }\n",
    "    for(i in 1:round(n*(n-1)/2))\n",
    "    indices[[i]] <- list(c(a[i], b[i]))\n",
    "    indices\n",
    "\n",
    "\n",
    "}"
   ]
  },
  {
   "cell_type": "code",
   "execution_count": 2,
   "metadata": {},
   "outputs": [],
   "source": [
    "ortogonal <- function(u,v,TOL=10^-8){\n",
    "  # Verifica si dos vectores son ortogonales, arrojando un 1 si lo es, y un 0 si no lo es.\n",
    "  # Args: \n",
    "    # u, v como vectores de la misma dimensión.Y un valor real de tolerancia TOL(10^-8).\n",
    "    # Nota: Se sugiere una TOL mayor a 10^-32.\n",
    "  # Returns: \n",
    "    # Valor booleano 0 (no son ortongoales), 1 (son ortogonales)\n",
    "    if ( norm(u,type =\"2\") < TOL | norm(v,type =\"2\") < TOL){\n",
    "        ret<-0\n",
    "    } else{ \n",
    "        \n",
    "        if( (u%*%v)  /(norm(u,type =\"2\")*norm(v,type =\"2\")) < TOL   ){\n",
    "    ret<-1\n",
    "  }\n",
    "  else{\n",
    "    ret<-0\n",
    "  }  \n",
    "        \n",
    "    }\n",
    "  ret\n",
    "}"
   ]
  },
  {
   "cell_type": "code",
   "execution_count": 3,
   "metadata": {},
   "outputs": [],
   "source": [
    "signo<-function(x) {\n",
    "  # Indica el signo de un número x\n",
    "  # Args: \n",
    "  #    x (numeric): número a revisar\n",
    "  # Returns:\n",
    "  #    1 si el número es positivo o cero\n",
    "  #    -1 si el número es negativo\n",
    "  \n",
    "  ifelse(x<0,-1,1)\n",
    "  }"
   ]
  },
  {
   "cell_type": "code",
   "execution_count": 4,
   "metadata": {},
   "outputs": [],
   "source": [
    "solver <- function(U,S,V,b){\n",
    "    # Construye la solución de un sistema de ecuaciones a partir de matrices \n",
    "    # U, S, V, y vector b. Se asume que S es diagonal. \n",
    "    # Para ello resuelve S d = U^Tb, para construir x=Vd.\n",
    "    # Notas:\n",
    "    # 1) Se utilizó la función backsolve para resolver el sistema triangular.\n",
    "    # 2) Al ser S diagonal, es indistinto si usar un solver para matrices traingulares inferiores o superiores.\n",
    "    # Args: \n",
    "    #  \t    U (mxm),V(nxn), S(mxn) matriz diagonal y b (m) un vector.\n",
    "    # Returns: \n",
    "    #      x vector (m)\n",
    "  d = backsolve(S, t(U)%*%b)\n",
    "  x = V%*%d\n",
    "  return(x)\n",
    "}"
   ]
  },
  {
   "cell_type": "code",
   "execution_count": 5,
   "metadata": {},
   "outputs": [],
   "source": [
    "svd_jacobi_aprox <- function(A,TOL,maxsweep){\n",
    "    # Función que calcula la descomposición de una matriz A en sus componentes U, S V, \n",
    "    # utilizando el método de Jacobi para calcular la factorización SVD.De esta forma \n",
    "    # la matriz A queda descompuesta de la siguiente forma: A = U*S*t(V).\n",
    "    # Args: \n",
    "    #    A (matriz): Matriz de entrada (nxm) de números reales a la que se le calculará la descomposición SVD.\n",
    "    #    TOL (numeric): controla la convergencia del método, siendo un valor real de 10^-8 (sugerido en la nota 3.3.d.SVD)\n",
    "    #    Nota: Se sugiere una TOL mayor a 10^-32.\n",
    "    #    maxsweep (numeric): número máximo de sweeps,donde cada sweep consiste de un número máximo(nmax)\n",
    "    #    de rotaciones; y en cada sweep se ortogonalizan 2 columnas.\n",
    "    # Returns: \n",
    "    #   Lista con 3 elementos, donde el primer elemento representan a las matriz S(mxm) matriz diagonal,el segundo a la matriz U(nxm)\n",
    "    #   y el tercero y último a la matriz V (mxm).En conjunto estas tres matrices componen la factorización SVD de la matriz de entrada A.\n",
    "    \n",
    "    #dimensiones\n",
    "    n<-dim(A)[2] #numero de columnas\n",
    "    m<-dim(A)[1] #numero de filas\n",
    "    nmax<-n*(n-1)/2\n",
    "\n",
    "    #inicialza valores del ciclo\n",
    "    ak<-A\n",
    "    vk<-diag(n)\n",
    "    sig <- NULL\n",
    "    uk <- ak\n",
    "    num_col_ortogonal<-0\n",
    "    k<-0\n",
    "\n",
    "    while(k<=maxsweep & num_col_ortogonal<nmax){\n",
    "    num_col_ortogonal<-0\n",
    "  \n",
    "    ind <- indices(n)\n",
    "    for(i in 1:nmax){\n",
    "      col_j<-ak[,ind[[i]][[1]][2]]\n",
    "      col_i<-ak[,ind[[i]][[1]][1]]\n",
    "    \n",
    "      #comprueba ortogonalidad  \n",
    "      if(ortogonal(col_i,col_j,TOL)==1){\n",
    "        num_col_ortogonal<-num_col_ortogonal+1\n",
    "      }\n",
    "      else{\n",
    "        #calcula coeficientes de la matriz\n",
    "        a<-sum(col_i*col_i)\n",
    "        b<-sum(col_j*col_j)\n",
    "        c<-col_i%*%col_j\n",
    "        \n",
    "        #calcula la rotacion givens que diagonaliza\n",
    "        epsilon<-(b-a)/(2*c)\n",
    "        t<-signo(epsilon)/(abs(epsilon)+sqrt(1+epsilon**2))\n",
    "        cs<-1/sqrt(1+t**2)\n",
    "        sn<-cs*t\n",
    "        \n",
    "        #actualiza las columnas de la matriz ak\n",
    "        for(l in seq(1,m)){\n",
    "          temp<-ak[l,ind[[i]][[1]][1]]\n",
    "          ak[l,ind[[i]][[1]][1]]<-cs*temp-sn*ak[l,ind[[i]][[1]][2]]\n",
    "          ak[l,ind[[i]][[1]][2]]<-sn*temp+cs*ak[l,ind[[i]][[1]][2]]\n",
    "        }\n",
    "        \n",
    "        #actualiza las columnas de la matriz vk\n",
    "        for(l in seq(1,n)){\n",
    "          temp<-vk[l,ind[[i]][[1]][1]]\n",
    "          vk[l,ind[[i]][[1]][1]]<-cs*temp-sn*vk[l,ind[[i]][[1]][2]]\n",
    "          vk[l,ind[[i]][[1]][2]]<-sn*temp+cs*vk[l,ind[[i]][[1]][2]]\n",
    "        \n",
    "      }\n",
    "    }\n",
    "  }\n",
    "  k<-k+1\n",
    "}\n",
    "    #Obtener sigma\n",
    "        for(i in 1:n){\n",
    "        sig<- append(sig,norm(ak[,i],type =\"2\"))\n",
    "    }\n",
    "\n",
    "    #Obtener U\n",
    "    for(i in 1:n){\n",
    "        if (sig[i]<TOL){\n",
    "            \n",
    "            uk[,i]<-0\n",
    "            \n",
    "        } else{\n",
    "        uk[,i] <- ak[,i]/sig[i]\n",
    "        }\n",
    "    }\n",
    "\n",
    "    # Indices de sigma ordenada en forma decreciente para ordenar V,S,U\n",
    "    index <- order(sig,decreasing = TRUE)\n",
    "    vk <- vk[,index]\n",
    "    S <- diag(sig[index])\n",
    "    uk <- uk[,index]\n",
    "\n",
    "    list(S = S, U = uk, V= vk)\n",
    " }"
   ]
  },
  {
   "cell_type": "markdown",
   "metadata": {},
   "source": [
    "**3. Pruebas**\n",
    "\n",
    "Ocupe la presente sección para hacer diseño de pruebas variando los parámetros que recibe el código la función en diferentes rangos para evaluar su comportamiento y/o detectar posibles fallos\n"
   ]
  },
  {
   "cell_type": "markdown",
   "metadata": {},
   "source": [
    "**1.Sobre la documentación del código/de la función**\n",
    "\n",
    "¿Se encuentran presentes en la implementación los siguientes elementos? Por favor, ingrese explicaciones detalladas.\n",
    "\n",
    "**a) Descripción concisa y breve de lo que hace el código/la función**\n",
    "\n",
    "Sí.\n",
    "\n",
    "**b) Descripción de sus argumentos de entrada, su significado y rango de valores que pueden tomar**\n",
    "\n",
    "Sí.\n",
    "\n",
    "**c) Descripción de los tipos de argumentos de entrada y de salida (por ejemplo, valores enteros, reales, strings, dataframe, matrices, etc)**\n",
    "\n",
    "Sí.\n",
    "\n",
    "**d) Descripción de la salida de la función, su significado y valores/objetos que deben regresar**\n",
    "\n",
    "Sí."
   ]
  },
  {
   "cell_type": "markdown",
   "metadata": {},
   "source": [
    "**2. Cumplimiento de objetivos del código/de la función**\n",
    "\n",
    "**a) ¿El código cumple los objetivos para los que fue diseñado?**\n",
    "\n",
    "Sí.\n",
    "\n",
    "**b) ¿La salida de la función genera el valor necesario?**\n",
    "\n",
    "Parcialmente, es necesario corregir algunos errores que ocurren cuando se introduce una matriz renglón y matriz columna. "
   ]
  },
  {
   "cell_type": "markdown",
   "metadata": {},
   "source": [
    "**Test 6**\n",
    "\n",
    "**Objetivo del test 6:** Verificar que la función se comporta correctamente para A **matriz renglón**.\n",
    "\n",
    "**Implementación del test 6:**"
   ]
  },
  {
   "cell_type": "code",
   "execution_count": 79,
   "metadata": {},
   "outputs": [
    {
     "ename": "ERROR",
     "evalue": "Error in svd(x, nu = 0L, nv = 0L): infinite or missing values in 'x'\n",
     "output_type": "error",
     "traceback": [
      "Error in svd(x, nu = 0L, nv = 0L): infinite or missing values in 'x'\nTraceback:\n",
      "1. svd_jacobi_aprox(A, TOL, maxsweep)",
      "2. ortogonal(col_i, col_j, TOL)   # at line 37-66 of file <text>",
      "3. norm(u, type = \"2\")   # at line 8-19 of file <text>",
      "4. svd(x, nu = 0L, nv = 0L)",
      "5. stop(\"infinite or missing values in 'x'\")"
     ]
    }
   ],
   "source": [
    "#Definimos A matriz de 1x10\n",
    "A <- matrix(c(1:10), nrow=1, ncol=10, byrow = T)\n",
    "TOL<-10**-8\n",
    "maxsweep<-20\n",
    "#Función\n",
    "svd<-svd_jacobi_aprox(A,TOL,maxsweep)"
   ]
  },
  {
   "cell_type": "markdown",
   "metadata": {},
   "source": [
    "**Principales hallazgos del test 6**\n",
    "\n",
    "La función arroja el mismo error que el mencionado en test 1 y test 2 del archivo \"Rev_One-sided_Jacobi.ipynb\"."
   ]
  },
  {
   "cell_type": "markdown",
   "metadata": {},
   "source": [
    "**Test 7**\n",
    "\n",
    "**Objetivo del test 7:** Verificar que la función se comporta correctamente para A **matriz columna**.\n",
    "\n",
    "**Implementación del test 7:**"
   ]
  },
  {
   "cell_type": "code",
   "execution_count": 6,
   "metadata": {},
   "outputs": [],
   "source": [
    "#Definimos A matriz de 2x1, es decir n=2, m=1\n",
    "A <- matrix(c(1:2), nrow=2, ncol=1, byrow = T)\n",
    "TOL<-10**-8\n",
    "maxsweep<-20\n",
    "#Función\n",
    "svd<-svd_jacobi_aprox(A,TOL,maxsweep)"
   ]
  },
  {
   "cell_type": "markdown",
   "metadata": {},
   "source": [
    "Aunque la función no genera un error, si intentamos comprobar que se obtuvo la SVD de A, obtenemos un error."
   ]
  },
  {
   "cell_type": "code",
   "execution_count": 7,
   "metadata": {},
   "outputs": [
    {
     "data": {
      "text/html": [
       "<table>\n",
       "<caption>A matrix: 2 × 1 of type int</caption>\n",
       "<tbody>\n",
       "\t<tr><td>1</td></tr>\n",
       "\t<tr><td>2</td></tr>\n",
       "</tbody>\n",
       "</table>\n"
      ],
      "text/latex": [
       "A matrix: 2 × 1 of type int\n",
       "\\begin{tabular}{l}\n",
       "\t 1\\\\\n",
       "\t 2\\\\\n",
       "\\end{tabular}\n"
      ],
      "text/markdown": [
       "\n",
       "A matrix: 2 × 1 of type int\n",
       "\n",
       "| 1 |\n",
       "| 2 |\n",
       "\n"
      ],
      "text/plain": [
       "     [,1]\n",
       "[1,] 1   \n",
       "[2,] 2   "
      ]
     },
     "metadata": {},
     "output_type": "display_data"
    },
    {
     "ename": "ERROR",
     "evalue": "Error in svd$U %*% svd$S %*% t(svd$V): non-conformable arguments\n",
     "output_type": "error",
     "traceback": [
      "Error in svd$U %*% svd$S %*% t(svd$V): non-conformable arguments\nTraceback:\n"
     ]
    }
   ],
   "source": [
    "A\n",
    "svd$U%*%svd$S%*%t(svd$V)"
   ]
  },
  {
   "cell_type": "markdown",
   "metadata": {},
   "source": [
    "Al revisar la lista con las matrices S, U y V, encontramos que las dimensiones de S no coinciden con las salidas que debe generar la función. Es decir, si n=2 y m=1 S debe ser de 1x1, U de 1x2 y V de 1x1. Sin embargo, S regresa una matriz identidad de 2x2 aunque U y V sí son correctos."
   ]
  },
  {
   "cell_type": "code",
   "execution_count": 8,
   "metadata": {},
   "outputs": [
    {
     "data": {
      "text/html": [
       "<dl>\n",
       "\t<dt>$S</dt>\n",
       "\t\t<dd><table>\n",
       "<caption>A matrix: 2 × 2 of type dbl</caption>\n",
       "<tbody>\n",
       "\t<tr><td>1</td><td>0</td></tr>\n",
       "\t<tr><td>0</td><td>1</td></tr>\n",
       "</tbody>\n",
       "</table>\n",
       "</dd>\n",
       "\t<dt>$U</dt>\n",
       "\t\t<dd><ol class=list-inline>\n",
       "\t<li>0.447213595499958</li>\n",
       "\t<li>0.894427190999916</li>\n",
       "</ol>\n",
       "</dd>\n",
       "\t<dt>$V</dt>\n",
       "\t\t<dd>1</dd>\n",
       "</dl>\n"
      ],
      "text/latex": [
       "\\begin{description}\n",
       "\\item[\\$S] A matrix: 2 × 2 of type dbl\n",
       "\\begin{tabular}{ll}\n",
       "\t 1 & 0\\\\\n",
       "\t 0 & 1\\\\\n",
       "\\end{tabular}\n",
       "\n",
       "\\item[\\$U] \\begin{enumerate*}\n",
       "\\item 0.447213595499958\n",
       "\\item 0.894427190999916\n",
       "\\end{enumerate*}\n",
       "\n",
       "\\item[\\$V] 1\n",
       "\\end{description}\n"
      ],
      "text/markdown": [
       "$S\n",
       ":   \n",
       "A matrix: 2 × 2 of type dbl\n",
       "\n",
       "| 1 | 0 |\n",
       "| 0 | 1 |\n",
       "\n",
       "\n",
       "$U\n",
       ":   1. 0.447213595499958\n",
       "2. 0.894427190999916\n",
       "\n",
       "\n",
       "\n",
       "$V\n",
       ":   1\n",
       "\n",
       "\n"
      ],
      "text/plain": [
       "$S\n",
       "     [,1] [,2]\n",
       "[1,]    1    0\n",
       "[2,]    0    1\n",
       "\n",
       "$U\n",
       "[1] 0.4472136 0.8944272\n",
       "\n",
       "$V\n",
       "[1] 1\n"
      ]
     },
     "metadata": {},
     "output_type": "display_data"
    }
   ],
   "source": [
    "svd"
   ]
  },
  {
   "cell_type": "markdown",
   "metadata": {},
   "source": [
    "Si sustituimos por el valor correcto de S, obtenemos la misma matriz A."
   ]
  },
  {
   "cell_type": "code",
   "execution_count": 10,
   "metadata": {},
   "outputs": [
    {
     "data": {
      "text/html": [
       "<table>\n",
       "<caption>A matrix: 2 × 1 of type dbl</caption>\n",
       "<tbody>\n",
       "\t<tr><td>1</td></tr>\n",
       "\t<tr><td>2</td></tr>\n",
       "</tbody>\n",
       "</table>\n"
      ],
      "text/latex": [
       "A matrix: 2 × 1 of type dbl\n",
       "\\begin{tabular}{l}\n",
       "\t 1\\\\\n",
       "\t 2\\\\\n",
       "\\end{tabular}\n"
      ],
      "text/markdown": [
       "\n",
       "A matrix: 2 × 1 of type dbl\n",
       "\n",
       "| 1 |\n",
       "| 2 |\n",
       "\n"
      ],
      "text/plain": [
       "     [,1]\n",
       "[1,] 1   \n",
       "[2,] 2   "
      ]
     },
     "metadata": {},
     "output_type": "display_data"
    }
   ],
   "source": [
    "Scorr <- matrix(c(2.2360679774998), nrow=1, ncol=1, byrow = T)\n",
    "svd$U%*%Scorr%*%t(svd$V)"
   ]
  },
  {
   "cell_type": "markdown",
   "metadata": {},
   "source": [
    "Ahora repetiremos el ejercicio para una matriz A de 3x1:"
   ]
  },
  {
   "cell_type": "code",
   "execution_count": 13,
   "metadata": {},
   "outputs": [],
   "source": [
    "#Definimos A matriz de 3x1, es decir n=3, m=1\n",
    "A <- matrix(c(1:3), nrow=3, ncol=1, byrow = T)\n",
    "TOL<-10**-8\n",
    "maxsweep<-20\n",
    "#Función\n",
    "svd<-svd_jacobi_aprox(A,TOL,maxsweep)"
   ]
  },
  {
   "cell_type": "code",
   "execution_count": 14,
   "metadata": {},
   "outputs": [
    {
     "data": {
      "text/html": [
       "<table>\n",
       "<caption>A matrix: 3 × 1 of type int</caption>\n",
       "<tbody>\n",
       "\t<tr><td>1</td></tr>\n",
       "\t<tr><td>2</td></tr>\n",
       "\t<tr><td>3</td></tr>\n",
       "</tbody>\n",
       "</table>\n"
      ],
      "text/latex": [
       "A matrix: 3 × 1 of type int\n",
       "\\begin{tabular}{l}\n",
       "\t 1\\\\\n",
       "\t 2\\\\\n",
       "\t 3\\\\\n",
       "\\end{tabular}\n"
      ],
      "text/markdown": [
       "\n",
       "A matrix: 3 × 1 of type int\n",
       "\n",
       "| 1 |\n",
       "| 2 |\n",
       "| 3 |\n",
       "\n"
      ],
      "text/plain": [
       "     [,1]\n",
       "[1,] 1   \n",
       "[2,] 2   \n",
       "[3,] 3   "
      ]
     },
     "metadata": {},
     "output_type": "display_data"
    },
    {
     "ename": "ERROR",
     "evalue": "Error in svd$U %*% svd$S %*% t(svd$V): non-conformable arguments\n",
     "output_type": "error",
     "traceback": [
      "Error in svd$U %*% svd$S %*% t(svd$V): non-conformable arguments\nTraceback:\n"
     ]
    }
   ],
   "source": [
    "A\n",
    "svd$U%*%svd$S%*%t(svd$V)"
   ]
  },
  {
   "cell_type": "markdown",
   "metadata": {},
   "source": [
    "Al revisar la lista con las matrices S, U y V, encontramos que las dimensiones de S nuevamente no coinciden con las salidas que debe generar la función. Es decir, si n=3 y m=1 S debe ser de 1x1, U de 1x3 y V de 1x1. Sin embargo, S regresa una matriz identidad de 3x3 aunque U y V sí son correctos."
   ]
  },
  {
   "cell_type": "code",
   "execution_count": 15,
   "metadata": {},
   "outputs": [
    {
     "data": {
      "text/html": [
       "<dl>\n",
       "\t<dt>$S</dt>\n",
       "\t\t<dd><table>\n",
       "<caption>A matrix: 3 × 3 of type dbl</caption>\n",
       "<tbody>\n",
       "\t<tr><td>1</td><td>0</td><td>0</td></tr>\n",
       "\t<tr><td>0</td><td>1</td><td>0</td></tr>\n",
       "\t<tr><td>0</td><td>0</td><td>1</td></tr>\n",
       "</tbody>\n",
       "</table>\n",
       "</dd>\n",
       "\t<dt>$U</dt>\n",
       "\t\t<dd><ol class=list-inline>\n",
       "\t<li>0.267261241912424</li>\n",
       "\t<li>0.534522483824849</li>\n",
       "\t<li>0.801783725737273</li>\n",
       "</ol>\n",
       "</dd>\n",
       "\t<dt>$V</dt>\n",
       "\t\t<dd>1</dd>\n",
       "</dl>\n"
      ],
      "text/latex": [
       "\\begin{description}\n",
       "\\item[\\$S] A matrix: 3 × 3 of type dbl\n",
       "\\begin{tabular}{lll}\n",
       "\t 1 & 0 & 0\\\\\n",
       "\t 0 & 1 & 0\\\\\n",
       "\t 0 & 0 & 1\\\\\n",
       "\\end{tabular}\n",
       "\n",
       "\\item[\\$U] \\begin{enumerate*}\n",
       "\\item 0.267261241912424\n",
       "\\item 0.534522483824849\n",
       "\\item 0.801783725737273\n",
       "\\end{enumerate*}\n",
       "\n",
       "\\item[\\$V] 1\n",
       "\\end{description}\n"
      ],
      "text/markdown": [
       "$S\n",
       ":   \n",
       "A matrix: 3 × 3 of type dbl\n",
       "\n",
       "| 1 | 0 | 0 |\n",
       "| 0 | 1 | 0 |\n",
       "| 0 | 0 | 1 |\n",
       "\n",
       "\n",
       "$U\n",
       ":   1. 0.267261241912424\n",
       "2. 0.534522483824849\n",
       "3. 0.801783725737273\n",
       "\n",
       "\n",
       "\n",
       "$V\n",
       ":   1\n",
       "\n",
       "\n"
      ],
      "text/plain": [
       "$S\n",
       "     [,1] [,2] [,3]\n",
       "[1,]    1    0    0\n",
       "[2,]    0    1    0\n",
       "[3,]    0    0    1\n",
       "\n",
       "$U\n",
       "[1] 0.2672612 0.5345225 0.8017837\n",
       "\n",
       "$V\n",
       "[1] 1\n"
      ]
     },
     "metadata": {},
     "output_type": "display_data"
    }
   ],
   "source": [
    "svd"
   ]
  },
  {
   "cell_type": "markdown",
   "metadata": {},
   "source": [
    "Si sustituimos por el valor correcto de S, obtenemos la misma matriz A."
   ]
  },
  {
   "cell_type": "code",
   "execution_count": 16,
   "metadata": {},
   "outputs": [
    {
     "data": {
      "text/html": [
       "<table>\n",
       "<caption>A matrix: 3 × 1 of type dbl</caption>\n",
       "<tbody>\n",
       "\t<tr><td>1</td></tr>\n",
       "\t<tr><td>2</td></tr>\n",
       "\t<tr><td>3</td></tr>\n",
       "</tbody>\n",
       "</table>\n"
      ],
      "text/latex": [
       "A matrix: 3 × 1 of type dbl\n",
       "\\begin{tabular}{l}\n",
       "\t 1\\\\\n",
       "\t 2\\\\\n",
       "\t 3\\\\\n",
       "\\end{tabular}\n"
      ],
      "text/markdown": [
       "\n",
       "A matrix: 3 × 1 of type dbl\n",
       "\n",
       "| 1 |\n",
       "| 2 |\n",
       "| 3 |\n",
       "\n"
      ],
      "text/plain": [
       "     [,1]\n",
       "[1,] 1   \n",
       "[2,] 2   \n",
       "[3,] 3   "
      ]
     },
     "metadata": {},
     "output_type": "display_data"
    }
   ],
   "source": [
    "Scorr <- matrix(c(3.7416573867739), nrow=1, ncol=1, byrow = T)\n",
    "svd$U%*%Scorr%*%t(svd$V)"
   ]
  },
  {
   "cell_type": "markdown",
   "metadata": {},
   "source": [
    "**Principales hallazos del test 7**\n",
    "\n",
    "La función genera una lista con S, U y V para matrices renglón A de nx1. Sin embargo, las dimensiones de S corresponden a la matriz identidad de nxn en lugar del valor singular sigma."
   ]
  },
  {
   "cell_type": "markdown",
   "metadata": {},
   "source": [
    "**Test 8**\n",
    "\n",
    "**Objetivo del test 8:** Verificar que la función se comporta correctamente para A **matriz simétrica**\n",
    "\n",
    "**Implementación del test 8:**"
   ]
  },
  {
   "cell_type": "code",
   "execution_count": 21,
   "metadata": {},
   "outputs": [],
   "source": [
    "#Definimos A matriz columna de 3x3\n",
    "A <- matrix(c(5,1/3,pi,1/3,3,-7,pi,-7,8), nrow=3, ncol=3, byrow = T)\n",
    "TOL<-10**-8\n",
    "maxsweep<-20\n",
    "#Función\n",
    "svd<-svd_jacobi_aprox(A,TOL,maxsweep)"
   ]
  },
  {
   "cell_type": "code",
   "execution_count": 22,
   "metadata": {},
   "outputs": [
    {
     "data": {
      "text/html": [
       "<table>\n",
       "<caption>A matrix: 3 × 3 of type dbl</caption>\n",
       "<tbody>\n",
       "\t<tr><td>5.0000000</td><td> 0.3333333</td><td> 3.141593</td></tr>\n",
       "\t<tr><td>0.3333333</td><td> 3.0000000</td><td>-7.000000</td></tr>\n",
       "\t<tr><td>3.1415927</td><td>-7.0000000</td><td> 8.000000</td></tr>\n",
       "</tbody>\n",
       "</table>\n"
      ],
      "text/latex": [
       "A matrix: 3 × 3 of type dbl\n",
       "\\begin{tabular}{lll}\n",
       "\t 5.0000000 &  0.3333333 &  3.141593\\\\\n",
       "\t 0.3333333 &  3.0000000 & -7.000000\\\\\n",
       "\t 3.1415927 & -7.0000000 &  8.000000\\\\\n",
       "\\end{tabular}\n"
      ],
      "text/markdown": [
       "\n",
       "A matrix: 3 × 3 of type dbl\n",
       "\n",
       "| 5.0000000 |  0.3333333 |  3.141593 |\n",
       "| 0.3333333 |  3.0000000 | -7.000000 |\n",
       "| 3.1415927 | -7.0000000 |  8.000000 |\n",
       "\n"
      ],
      "text/plain": [
       "     [,1]      [,2]       [,3]     \n",
       "[1,] 5.0000000  0.3333333  3.141593\n",
       "[2,] 0.3333333  3.0000000 -7.000000\n",
       "[3,] 3.1415927 -7.0000000  8.000000"
      ]
     },
     "metadata": {},
     "output_type": "display_data"
    },
    {
     "data": {
      "text/html": [
       "<table>\n",
       "<caption>A matrix: 3 × 3 of type dbl</caption>\n",
       "<tbody>\n",
       "\t<tr><td>5.0000000</td><td> 0.3333333</td><td> 3.141593</td></tr>\n",
       "\t<tr><td>0.3333333</td><td> 3.0000000</td><td>-7.000000</td></tr>\n",
       "\t<tr><td>3.1415927</td><td>-7.0000000</td><td> 8.000000</td></tr>\n",
       "</tbody>\n",
       "</table>\n"
      ],
      "text/latex": [
       "A matrix: 3 × 3 of type dbl\n",
       "\\begin{tabular}{lll}\n",
       "\t 5.0000000 &  0.3333333 &  3.141593\\\\\n",
       "\t 0.3333333 &  3.0000000 & -7.000000\\\\\n",
       "\t 3.1415927 & -7.0000000 &  8.000000\\\\\n",
       "\\end{tabular}\n"
      ],
      "text/markdown": [
       "\n",
       "A matrix: 3 × 3 of type dbl\n",
       "\n",
       "| 5.0000000 |  0.3333333 |  3.141593 |\n",
       "| 0.3333333 |  3.0000000 | -7.000000 |\n",
       "| 3.1415927 | -7.0000000 |  8.000000 |\n",
       "\n"
      ],
      "text/plain": [
       "     [,1]      [,2]       [,3]     \n",
       "[1,] 5.0000000  0.3333333  3.141593\n",
       "[2,] 0.3333333  3.0000000 -7.000000\n",
       "[3,] 3.1415927 -7.0000000  8.000000"
      ]
     },
     "metadata": {},
     "output_type": "display_data"
    }
   ],
   "source": [
    "A\n",
    "svd$U%*%svd$S%*%t(svd$V)"
   ]
  },
  {
   "cell_type": "markdown",
   "metadata": {},
   "source": [
    "**Principales hallazos del test 8**\n",
    "\n",
    "La función arroja resultados correctos encontrando la SVD de A."
   ]
  },
  {
   "cell_type": "markdown",
   "metadata": {},
   "source": [
    "**Test 9**\n",
    "\n",
    "**Objetivo del test 9:** Verificar que la función se comporta correctamente para A **matriz diagonal**\n",
    "\n",
    "**Implementación del test 9:**"
   ]
  },
  {
   "cell_type": "code",
   "execution_count": 23,
   "metadata": {},
   "outputs": [],
   "source": [
    "#Definimos A matriz diagonal\n",
    "A <- matrix(c(10**30,0,0,0,0,-1,0,0,0,0,-1/3,0,0,0,0,log(2)), nrow=4, ncol=4, byrow = T)\n",
    "TOL<-10**-8\n",
    "maxsweep<-20\n",
    "#Función\n",
    "svd<-svd_jacobi_aprox(A,TOL,maxsweep)"
   ]
  },
  {
   "cell_type": "code",
   "execution_count": 24,
   "metadata": {},
   "outputs": [
    {
     "data": {
      "text/html": [
       "<table>\n",
       "<caption>A matrix: 4 × 4 of type dbl</caption>\n",
       "<tbody>\n",
       "\t<tr><td>1e+30</td><td> 0</td><td> 0.0000000</td><td>0.0000000</td></tr>\n",
       "\t<tr><td>0e+00</td><td>-1</td><td> 0.0000000</td><td>0.0000000</td></tr>\n",
       "\t<tr><td>0e+00</td><td> 0</td><td>-0.3333333</td><td>0.0000000</td></tr>\n",
       "\t<tr><td>0e+00</td><td> 0</td><td> 0.0000000</td><td>0.6931472</td></tr>\n",
       "</tbody>\n",
       "</table>\n"
      ],
      "text/latex": [
       "A matrix: 4 × 4 of type dbl\n",
       "\\begin{tabular}{llll}\n",
       "\t 1e+30 &  0 &  0.0000000 & 0.0000000\\\\\n",
       "\t 0e+00 & -1 &  0.0000000 & 0.0000000\\\\\n",
       "\t 0e+00 &  0 & -0.3333333 & 0.0000000\\\\\n",
       "\t 0e+00 &  0 &  0.0000000 & 0.6931472\\\\\n",
       "\\end{tabular}\n"
      ],
      "text/markdown": [
       "\n",
       "A matrix: 4 × 4 of type dbl\n",
       "\n",
       "| 1e+30 |  0 |  0.0000000 | 0.0000000 |\n",
       "| 0e+00 | -1 |  0.0000000 | 0.0000000 |\n",
       "| 0e+00 |  0 | -0.3333333 | 0.0000000 |\n",
       "| 0e+00 |  0 |  0.0000000 | 0.6931472 |\n",
       "\n"
      ],
      "text/plain": [
       "     [,1]  [,2] [,3]       [,4]     \n",
       "[1,] 1e+30  0    0.0000000 0.0000000\n",
       "[2,] 0e+00 -1    0.0000000 0.0000000\n",
       "[3,] 0e+00  0   -0.3333333 0.0000000\n",
       "[4,] 0e+00  0    0.0000000 0.6931472"
      ]
     },
     "metadata": {},
     "output_type": "display_data"
    },
    {
     "data": {
      "text/html": [
       "<table>\n",
       "<caption>A matrix: 4 × 4 of type dbl</caption>\n",
       "<tbody>\n",
       "\t<tr><td>1e+30</td><td> 0</td><td> 0.0000000</td><td>0.0000000</td></tr>\n",
       "\t<tr><td>0e+00</td><td>-1</td><td> 0.0000000</td><td>0.0000000</td></tr>\n",
       "\t<tr><td>0e+00</td><td> 0</td><td>-0.3333333</td><td>0.0000000</td></tr>\n",
       "\t<tr><td>0e+00</td><td> 0</td><td> 0.0000000</td><td>0.6931472</td></tr>\n",
       "</tbody>\n",
       "</table>\n"
      ],
      "text/latex": [
       "A matrix: 4 × 4 of type dbl\n",
       "\\begin{tabular}{llll}\n",
       "\t 1e+30 &  0 &  0.0000000 & 0.0000000\\\\\n",
       "\t 0e+00 & -1 &  0.0000000 & 0.0000000\\\\\n",
       "\t 0e+00 &  0 & -0.3333333 & 0.0000000\\\\\n",
       "\t 0e+00 &  0 &  0.0000000 & 0.6931472\\\\\n",
       "\\end{tabular}\n"
      ],
      "text/markdown": [
       "\n",
       "A matrix: 4 × 4 of type dbl\n",
       "\n",
       "| 1e+30 |  0 |  0.0000000 | 0.0000000 |\n",
       "| 0e+00 | -1 |  0.0000000 | 0.0000000 |\n",
       "| 0e+00 |  0 | -0.3333333 | 0.0000000 |\n",
       "| 0e+00 |  0 |  0.0000000 | 0.6931472 |\n",
       "\n"
      ],
      "text/plain": [
       "     [,1]  [,2] [,3]       [,4]     \n",
       "[1,] 1e+30  0    0.0000000 0.0000000\n",
       "[2,] 0e+00 -1    0.0000000 0.0000000\n",
       "[3,] 0e+00  0   -0.3333333 0.0000000\n",
       "[4,] 0e+00  0    0.0000000 0.6931472"
      ]
     },
     "metadata": {},
     "output_type": "display_data"
    }
   ],
   "source": [
    "A\n",
    "svd$U%*%svd$S%*%t(svd$V)"
   ]
  },
  {
   "cell_type": "markdown",
   "metadata": {},
   "source": [
    "**Principales hallazos del test 9**\n",
    "\n",
    "La función arroja resultados correctos encontrando la SVD de A."
   ]
  },
  {
   "cell_type": "markdown",
   "metadata": {},
   "source": [
    "**Test 10**\n",
    "\n",
    "**Objetivo del test 10:** Verificar que la función se comporta correctamente para matrices A **triangular superior e inferior**.\n",
    "\n",
    "**Implementación del test 10:**"
   ]
  },
  {
   "cell_type": "code",
   "execution_count": 37,
   "metadata": {},
   "outputs": [],
   "source": [
    "#Definimos A matriz triangular superior\n",
    "A <- matrix(c(3,1,2,0,4,3,0,0,6), nrow=3, ncol=3, byrow = T)\n",
    "TOL<-10**-8\n",
    "maxsweep<-20\n",
    "#Función\n",
    "svd<-svd_jacobi_aprox(A,TOL,maxsweep)"
   ]
  },
  {
   "cell_type": "code",
   "execution_count": 42,
   "metadata": {},
   "outputs": [
    {
     "data": {
      "text/html": [
       "<table>\n",
       "<caption>A matrix: 3 × 3 of type dbl</caption>\n",
       "<tbody>\n",
       "\t<tr><td>3</td><td>1</td><td>2</td></tr>\n",
       "\t<tr><td>0</td><td>4</td><td>3</td></tr>\n",
       "\t<tr><td>0</td><td>0</td><td>6</td></tr>\n",
       "</tbody>\n",
       "</table>\n"
      ],
      "text/latex": [
       "A matrix: 3 × 3 of type dbl\n",
       "\\begin{tabular}{lll}\n",
       "\t 3 & 1 & 2\\\\\n",
       "\t 0 & 4 & 3\\\\\n",
       "\t 0 & 0 & 6\\\\\n",
       "\\end{tabular}\n"
      ],
      "text/markdown": [
       "\n",
       "A matrix: 3 × 3 of type dbl\n",
       "\n",
       "| 3 | 1 | 2 |\n",
       "| 0 | 4 | 3 |\n",
       "| 0 | 0 | 6 |\n",
       "\n"
      ],
      "text/plain": [
       "     [,1] [,2] [,3]\n",
       "[1,] 3    1    2   \n",
       "[2,] 0    4    3   \n",
       "[3,] 0    0    6   "
      ]
     },
     "metadata": {},
     "output_type": "display_data"
    },
    {
     "data": {
      "text/html": [
       "<table>\n",
       "<caption>A matrix: 3 × 3 of type dbl</caption>\n",
       "<tbody>\n",
       "\t<tr><td> 3.000000e+00</td><td>1.000000e+00</td><td>2</td></tr>\n",
       "\t<tr><td>-4.440892e-16</td><td>4.000000e+00</td><td>3</td></tr>\n",
       "\t<tr><td> 8.326673e-17</td><td>1.873501e-16</td><td>6</td></tr>\n",
       "</tbody>\n",
       "</table>\n"
      ],
      "text/latex": [
       "A matrix: 3 × 3 of type dbl\n",
       "\\begin{tabular}{lll}\n",
       "\t  3.000000e+00 & 1.000000e+00 & 2\\\\\n",
       "\t -4.440892e-16 & 4.000000e+00 & 3\\\\\n",
       "\t  8.326673e-17 & 1.873501e-16 & 6\\\\\n",
       "\\end{tabular}\n"
      ],
      "text/markdown": [
       "\n",
       "A matrix: 3 × 3 of type dbl\n",
       "\n",
       "|  3.000000e+00 | 1.000000e+00 | 2 |\n",
       "| -4.440892e-16 | 4.000000e+00 | 3 |\n",
       "|  8.326673e-17 | 1.873501e-16 | 6 |\n",
       "\n"
      ],
      "text/plain": [
       "     [,1]          [,2]         [,3]\n",
       "[1,]  3.000000e+00 1.000000e+00 2   \n",
       "[2,] -4.440892e-16 4.000000e+00 3   \n",
       "[3,]  8.326673e-17 1.873501e-16 6   "
      ]
     },
     "metadata": {},
     "output_type": "display_data"
    }
   ],
   "source": [
    "A\n",
    "svd$U%*%svd$S%*%t(svd$V)"
   ]
  },
  {
   "cell_type": "code",
   "execution_count": 51,
   "metadata": {},
   "outputs": [],
   "source": [
    "#Definimos A matriz triangular inferior\n",
    "A <- matrix(c(1/7,0,0,0,1,4,0,0,pi,-2,sqrt(2),0,sqrt(2),3,0,0), nrow=4, ncol=4, byrow = T)\n",
    "TOL<-10**-8\n",
    "maxsweep<-20\n",
    "#Función\n",
    "svd<-svd_jacobi_aprox(A,TOL,maxsweep)"
   ]
  },
  {
   "cell_type": "code",
   "execution_count": 52,
   "metadata": {},
   "outputs": [
    {
     "data": {
      "text/html": [
       "<table>\n",
       "<caption>A matrix: 4 × 4 of type dbl</caption>\n",
       "<tbody>\n",
       "\t<tr><td>0.1428571</td><td> 0</td><td>0.000000</td><td>0</td></tr>\n",
       "\t<tr><td>1.0000000</td><td> 4</td><td>0.000000</td><td>0</td></tr>\n",
       "\t<tr><td>3.1415927</td><td>-2</td><td>1.414214</td><td>0</td></tr>\n",
       "\t<tr><td>1.4142136</td><td> 3</td><td>0.000000</td><td>0</td></tr>\n",
       "</tbody>\n",
       "</table>\n"
      ],
      "text/latex": [
       "A matrix: 4 × 4 of type dbl\n",
       "\\begin{tabular}{llll}\n",
       "\t 0.1428571 &  0 & 0.000000 & 0\\\\\n",
       "\t 1.0000000 &  4 & 0.000000 & 0\\\\\n",
       "\t 3.1415927 & -2 & 1.414214 & 0\\\\\n",
       "\t 1.4142136 &  3 & 0.000000 & 0\\\\\n",
       "\\end{tabular}\n"
      ],
      "text/markdown": [
       "\n",
       "A matrix: 4 × 4 of type dbl\n",
       "\n",
       "| 0.1428571 |  0 | 0.000000 | 0 |\n",
       "| 1.0000000 |  4 | 0.000000 | 0 |\n",
       "| 3.1415927 | -2 | 1.414214 | 0 |\n",
       "| 1.4142136 |  3 | 0.000000 | 0 |\n",
       "\n"
      ],
      "text/plain": [
       "     [,1]      [,2] [,3]     [,4]\n",
       "[1,] 0.1428571  0   0.000000 0   \n",
       "[2,] 1.0000000  4   0.000000 0   \n",
       "[3,] 3.1415927 -2   1.414214 0   \n",
       "[4,] 1.4142136  3   0.000000 0   "
      ]
     },
     "metadata": {},
     "output_type": "display_data"
    },
    {
     "data": {
      "text/html": [
       "<table>\n",
       "<caption>A matrix: 4 × 4 of type dbl</caption>\n",
       "<tbody>\n",
       "\t<tr><td>0.1428571</td><td>-1.734723e-18</td><td>-6.938894e-18</td><td>0</td></tr>\n",
       "\t<tr><td>1.0000000</td><td> 4.000000e+00</td><td> 0.000000e+00</td><td>0</td></tr>\n",
       "\t<tr><td>3.1415927</td><td>-2.000000e+00</td><td> 1.414214e+00</td><td>0</td></tr>\n",
       "\t<tr><td>1.4142136</td><td> 3.000000e+00</td><td>-5.551115e-17</td><td>0</td></tr>\n",
       "</tbody>\n",
       "</table>\n"
      ],
      "text/latex": [
       "A matrix: 4 × 4 of type dbl\n",
       "\\begin{tabular}{llll}\n",
       "\t 0.1428571 & -1.734723e-18 & -6.938894e-18 & 0\\\\\n",
       "\t 1.0000000 &  4.000000e+00 &  0.000000e+00 & 0\\\\\n",
       "\t 3.1415927 & -2.000000e+00 &  1.414214e+00 & 0\\\\\n",
       "\t 1.4142136 &  3.000000e+00 & -5.551115e-17 & 0\\\\\n",
       "\\end{tabular}\n"
      ],
      "text/markdown": [
       "\n",
       "A matrix: 4 × 4 of type dbl\n",
       "\n",
       "| 0.1428571 | -1.734723e-18 | -6.938894e-18 | 0 |\n",
       "| 1.0000000 |  4.000000e+00 |  0.000000e+00 | 0 |\n",
       "| 3.1415927 | -2.000000e+00 |  1.414214e+00 | 0 |\n",
       "| 1.4142136 |  3.000000e+00 | -5.551115e-17 | 0 |\n",
       "\n"
      ],
      "text/plain": [
       "     [,1]      [,2]          [,3]          [,4]\n",
       "[1,] 0.1428571 -1.734723e-18 -6.938894e-18 0   \n",
       "[2,] 1.0000000  4.000000e+00  0.000000e+00 0   \n",
       "[3,] 3.1415927 -2.000000e+00  1.414214e+00 0   \n",
       "[4,] 1.4142136  3.000000e+00 -5.551115e-17 0   "
      ]
     },
     "metadata": {},
     "output_type": "display_data"
    }
   ],
   "source": [
    "A\n",
    "svd$U%*%svd$S%*%t(svd$V)"
   ]
  },
  {
   "cell_type": "markdown",
   "metadata": {},
   "source": [
    "**Principales hallazos del test 10**\n",
    "\n",
    "La función arroja resultados correctos encontrando la SVD de A."
   ]
  },
  {
   "cell_type": "markdown",
   "metadata": {},
   "source": [
    "**Test 11**\n",
    "\n",
    "**Objetivo del test 11:** Verificar que la función se comporta correctamente para matrices A **ortogonales**.\n",
    "\n",
    "**Implementación del test 11:**"
   ]
  },
  {
   "cell_type": "code",
   "execution_count": 65,
   "metadata": {},
   "outputs": [],
   "source": [
    "#Definimos A matriz ortogonal\n",
    "theta<-pi/4\n",
    "A <- matrix(c(cos(theta),sin(theta),-sin(theta),cos(theta)), nrow=2, ncol=2, byrow = T)\n",
    "TOL<-10**-8\n",
    "maxsweep<-20\n",
    "#Función\n",
    "svd<-svd_jacobi_aprox(A,TOL,maxsweep)"
   ]
  },
  {
   "cell_type": "code",
   "execution_count": 66,
   "metadata": {},
   "outputs": [
    {
     "data": {
      "text/html": [
       "<table>\n",
       "<caption>A matrix: 2 × 2 of type dbl</caption>\n",
       "<tbody>\n",
       "\t<tr><td> 0.7071068</td><td>0.7071068</td></tr>\n",
       "\t<tr><td>-0.7071068</td><td>0.7071068</td></tr>\n",
       "</tbody>\n",
       "</table>\n"
      ],
      "text/latex": [
       "A matrix: 2 × 2 of type dbl\n",
       "\\begin{tabular}{ll}\n",
       "\t  0.7071068 & 0.7071068\\\\\n",
       "\t -0.7071068 & 0.7071068\\\\\n",
       "\\end{tabular}\n"
      ],
      "text/markdown": [
       "\n",
       "A matrix: 2 × 2 of type dbl\n",
       "\n",
       "|  0.7071068 | 0.7071068 |\n",
       "| -0.7071068 | 0.7071068 |\n",
       "\n"
      ],
      "text/plain": [
       "     [,1]       [,2]     \n",
       "[1,]  0.7071068 0.7071068\n",
       "[2,] -0.7071068 0.7071068"
      ]
     },
     "metadata": {},
     "output_type": "display_data"
    },
    {
     "data": {
      "text/html": [
       "<table>\n",
       "<caption>A matrix: 2 × 2 of type dbl</caption>\n",
       "<tbody>\n",
       "\t<tr><td> 0.7071068</td><td>0.7071068</td></tr>\n",
       "\t<tr><td>-0.7071068</td><td>0.7071068</td></tr>\n",
       "</tbody>\n",
       "</table>\n"
      ],
      "text/latex": [
       "A matrix: 2 × 2 of type dbl\n",
       "\\begin{tabular}{ll}\n",
       "\t  0.7071068 & 0.7071068\\\\\n",
       "\t -0.7071068 & 0.7071068\\\\\n",
       "\\end{tabular}\n"
      ],
      "text/markdown": [
       "\n",
       "A matrix: 2 × 2 of type dbl\n",
       "\n",
       "|  0.7071068 | 0.7071068 |\n",
       "| -0.7071068 | 0.7071068 |\n",
       "\n"
      ],
      "text/plain": [
       "     [,1]       [,2]     \n",
       "[1,]  0.7071068 0.7071068\n",
       "[2,] -0.7071068 0.7071068"
      ]
     },
     "metadata": {},
     "output_type": "display_data"
    }
   ],
   "source": [
    "A\n",
    "svd$U%*%svd$S%*%t(svd$V)"
   ]
  },
  {
   "cell_type": "markdown",
   "metadata": {},
   "source": [
    "**Principales hallazos del test 11**\n",
    "\n",
    "La función arroja resultados correctos encontrando la SVD de A."
   ]
  },
  {
   "cell_type": "markdown",
   "metadata": {},
   "source": [
    "**Test 12**\n",
    "\n",
    "**Objetivo del test 12:** Verificar que la función se comporta correctamente para matrices A **pseudoaleatorias**.\n",
    "\n",
    "**Implementación del test 12:**"
   ]
  },
  {
   "cell_type": "markdown",
   "metadata": {},
   "source": [
    "Para la creación de matrices pseudoaleatorias, haremos uso del paquete **mlsjunkgen** que dado un conjunto de input seeds: w,x,y,z genera matrices de números pseudo-aleatorios entre 0 y 1."
   ]
  },
  {
   "cell_type": "code",
   "execution_count": 67,
   "metadata": {},
   "outputs": [
    {
     "name": "stderr",
     "output_type": "stream",
     "text": [
      "system (cmd0): /usr/lib/R/bin/R CMD INSTALL\n",
      "\n",
      "foundpkgs: mlsjunkgen, /tmp/RtmpiMujwy/downloaded_packages/mlsjunkgen_0.1.1.tar.gz\n",
      "\n",
      "files: /tmp/RtmpiMujwy/downloaded_packages/mlsjunkgen_0.1.1.tar.gz\n",
      "\n",
      "1): succeeded '/usr/lib/R/bin/R CMD INSTALL -l '/usr/local/lib/R/site-library' /tmp/RtmpiMujwy/downloaded_packages/mlsjunkgen_0.1.1.tar.gz'\n",
      "\n"
     ]
    }
   ],
   "source": [
    "install.packages(\"mlsjunkgen\",lib=\"/usr/local/lib/R/site-library/\",\n",
    "                repos=\"https://cran.itam.mx/\",verbose=TRUE)"
   ]
  },
  {
   "cell_type": "code",
   "execution_count": 68,
   "metadata": {},
   "outputs": [],
   "source": [
    "library(mlsjunkgen)"
   ]
  },
  {
   "cell_type": "code",
   "execution_count": 72,
   "metadata": {},
   "outputs": [],
   "source": [
    "w <- 1\n",
    "x <- 5\n",
    "y <- 3\n",
    "z <- 4\n",
    "\n",
    "n<-10**1\n",
    "m<-10**2\n",
    "\n",
    "#Definimos A matriz pseudo-aleatoria con 16 decimales\n",
    "A<-mlsjunkgenm(nrow = n, ncol = m, w = w, x = x, y = y, z = z, round = 16)"
   ]
  },
  {
   "cell_type": "code",
   "execution_count": 73,
   "metadata": {},
   "outputs": [],
   "source": [
    "#Calculamos SVD\n",
    "TOL<-10**-8\n",
    "maxsweep<-20\n",
    "#Función\n",
    "svd<-svd_jacobi_aprox(A,TOL,maxsweep)"
   ]
  },
  {
   "cell_type": "markdown",
   "metadata": {},
   "source": [
    "**Comprobamos que estas matrices son una SVD de A:**"
   ]
  },
  {
   "cell_type": "code",
   "execution_count": 74,
   "metadata": {},
   "outputs": [
    {
     "data": {
      "text/html": [
       "<table>\n",
       "<caption>A matrix: 10 × 100 of type dbl</caption>\n",
       "<tbody>\n",
       "\t<tr><td>0.847093986</td><td>0.9713891</td><td>0.8645104</td><td>0.28206127</td><td>0.78764684</td><td>0.45964341</td><td>0.4361059</td><td>0.438944685</td><td>0.42980199</td><td>0.01005201</td><td>⋯</td><td>0.74882670</td><td>0.8188853</td><td>0.989349674</td><td>0.49023124</td><td>0.97576613</td><td>0.02157832</td><td>0.76989782</td><td>0.65482397</td><td>0.7021928</td><td>0.71941684</td></tr>\n",
       "\t<tr><td>0.746115227</td><td>0.2617650</td><td>0.6417098</td><td>0.70219179</td><td>0.36677052</td><td>0.52111346</td><td>0.5854412</td><td>0.056552321</td><td>0.05502361</td><td>0.84160455</td><td>⋯</td><td>0.05447558</td><td>0.3645880</td><td>0.904140326</td><td>0.65201960</td><td>0.15020663</td><td>0.18483044</td><td>0.26247519</td><td>0.20666534</td><td>0.6172786</td><td>0.70417696</td></tr>\n",
       "\t<tr><td>0.436393491</td><td>0.7464926</td><td>0.5071930</td><td>0.70899268</td><td>0.98794839</td><td>0.45742096</td><td>0.8007255</td><td>0.612099773</td><td>0.17579378</td><td>0.27279581</td><td>⋯</td><td>0.34716929</td><td>0.7755368</td><td>0.001245041</td><td>0.07234552</td><td>0.91508382</td><td>0.08790926</td><td>0.79592559</td><td>0.88401396</td><td>0.6684382</td><td>0.40465812</td></tr>\n",
       "\t<tr><td>0.003548722</td><td>0.1802593</td><td>0.1615858</td><td>0.26811666</td><td>0.85106955</td><td>0.79418897</td><td>0.4221502</td><td>0.603443788</td><td>0.23405934</td><td>0.23172384</td><td>⋯</td><td>0.52805271</td><td>0.9417318</td><td>0.632140143</td><td>0.54758199</td><td>0.39665862</td><td>0.02055855</td><td>0.16395987</td><td>0.83004709</td><td>0.2921833</td><td>0.12434679</td></tr>\n",
       "\t<tr><td>0.262946911</td><td>0.5545452</td><td>0.3542665</td><td>0.03499987</td><td>0.07751327</td><td>0.95024571</td><td>0.6641080</td><td>0.775671734</td><td>0.70373065</td><td>0.47395619</td><td>⋯</td><td>0.78832661</td><td>0.4253929</td><td>0.680083204</td><td>0.54389721</td><td>0.86239717</td><td>0.63226288</td><td>0.37929488</td><td>0.67474536</td><td>0.3536653</td><td>0.46241680</td></tr>\n",
       "\t<tr><td>0.324979464</td><td>0.5617152</td><td>0.3767844</td><td>0.40179265</td><td>0.26776372</td><td>0.54135361</td><td>0.8696630</td><td>0.298280690</td><td>0.59194178</td><td>0.16926407</td><td>⋯</td><td>0.08068649</td><td>0.1915935</td><td>0.150201330</td><td>0.96017753</td><td>0.19802047</td><td>0.77022926</td><td>0.47367800</td><td>0.26243975</td><td>0.3274193</td><td>0.97928390</td></tr>\n",
       "\t<tr><td>0.622638935</td><td>0.1296170</td><td>0.4159080</td><td>0.04488852</td><td>0.59169089</td><td>0.45936268</td><td>0.9651222</td><td>0.860343546</td><td>0.89873455</td><td>0.42812996</td><td>⋯</td><td>0.75523578</td><td>0.4340762</td><td>0.115650597</td><td>0.82741591</td><td>0.05444877</td><td>0.58248787</td><td>0.42891557</td><td>0.48317931</td><td>0.1326457</td><td>0.13997958</td></tr>\n",
       "\t<tr><td>0.118732307</td><td>0.5340533</td><td>0.6795494</td><td>0.96684736</td><td>0.28750470</td><td>0.07005899</td><td>0.9454620</td><td>0.538394625</td><td>0.47723770</td><td>0.66889826</td><td>⋯</td><td>0.41111114</td><td>0.5945681</td><td>0.573897145</td><td>0.76166239</td><td>0.94460606</td><td>0.64410071</td><td>0.17243377</td><td>0.97231242</td><td>0.3712654</td><td>0.99718068</td></tr>\n",
       "\t<tr><td>0.733660081</td><td>0.9825798</td><td>0.1018399</td><td>0.01974215</td><td>0.65805039</td><td>0.58552912</td><td>0.1830504</td><td>0.699020421</td><td>0.05117424</td><td>0.32957337</td><td>⋯</td><td>0.85311347</td><td>0.8587276</td><td>0.760295039</td><td>0.41981185</td><td>0.25307472</td><td>0.42000691</td><td>0.03837538</td><td>0.05813527</td><td>0.7954330</td><td>0.09108484</td></tr>\n",
       "\t<tr><td>0.039080997</td><td>0.3026420</td><td>0.5166428</td><td>0.32624773</td><td>0.13347826</td><td>0.35099209</td><td>0.4242837</td><td>0.005065657</td><td>0.08016398</td><td>0.14428638</td><td>⋯</td><td>0.66653807</td><td>0.2004193</td><td>0.422205387</td><td>0.69730008</td><td>0.00503290</td><td>0.73931438</td><td>0.42735495</td><td>0.20582356</td><td>0.7614863</td><td>0.01202526</td></tr>\n",
       "</tbody>\n",
       "</table>\n"
      ],
      "text/latex": [
       "A matrix: 10 × 100 of type dbl\n",
       "\\begin{tabular}{lllllllllllllllllllll}\n",
       "\t 0.847093986 & 0.9713891 & 0.8645104 & 0.28206127 & 0.78764684 & 0.45964341 & 0.4361059 & 0.438944685 & 0.42980199 & 0.01005201 & ⋯ & 0.74882670 & 0.8188853 & 0.989349674 & 0.49023124 & 0.97576613 & 0.02157832 & 0.76989782 & 0.65482397 & 0.7021928 & 0.71941684\\\\\n",
       "\t 0.746115227 & 0.2617650 & 0.6417098 & 0.70219179 & 0.36677052 & 0.52111346 & 0.5854412 & 0.056552321 & 0.05502361 & 0.84160455 & ⋯ & 0.05447558 & 0.3645880 & 0.904140326 & 0.65201960 & 0.15020663 & 0.18483044 & 0.26247519 & 0.20666534 & 0.6172786 & 0.70417696\\\\\n",
       "\t 0.436393491 & 0.7464926 & 0.5071930 & 0.70899268 & 0.98794839 & 0.45742096 & 0.8007255 & 0.612099773 & 0.17579378 & 0.27279581 & ⋯ & 0.34716929 & 0.7755368 & 0.001245041 & 0.07234552 & 0.91508382 & 0.08790926 & 0.79592559 & 0.88401396 & 0.6684382 & 0.40465812\\\\\n",
       "\t 0.003548722 & 0.1802593 & 0.1615858 & 0.26811666 & 0.85106955 & 0.79418897 & 0.4221502 & 0.603443788 & 0.23405934 & 0.23172384 & ⋯ & 0.52805271 & 0.9417318 & 0.632140143 & 0.54758199 & 0.39665862 & 0.02055855 & 0.16395987 & 0.83004709 & 0.2921833 & 0.12434679\\\\\n",
       "\t 0.262946911 & 0.5545452 & 0.3542665 & 0.03499987 & 0.07751327 & 0.95024571 & 0.6641080 & 0.775671734 & 0.70373065 & 0.47395619 & ⋯ & 0.78832661 & 0.4253929 & 0.680083204 & 0.54389721 & 0.86239717 & 0.63226288 & 0.37929488 & 0.67474536 & 0.3536653 & 0.46241680\\\\\n",
       "\t 0.324979464 & 0.5617152 & 0.3767844 & 0.40179265 & 0.26776372 & 0.54135361 & 0.8696630 & 0.298280690 & 0.59194178 & 0.16926407 & ⋯ & 0.08068649 & 0.1915935 & 0.150201330 & 0.96017753 & 0.19802047 & 0.77022926 & 0.47367800 & 0.26243975 & 0.3274193 & 0.97928390\\\\\n",
       "\t 0.622638935 & 0.1296170 & 0.4159080 & 0.04488852 & 0.59169089 & 0.45936268 & 0.9651222 & 0.860343546 & 0.89873455 & 0.42812996 & ⋯ & 0.75523578 & 0.4340762 & 0.115650597 & 0.82741591 & 0.05444877 & 0.58248787 & 0.42891557 & 0.48317931 & 0.1326457 & 0.13997958\\\\\n",
       "\t 0.118732307 & 0.5340533 & 0.6795494 & 0.96684736 & 0.28750470 & 0.07005899 & 0.9454620 & 0.538394625 & 0.47723770 & 0.66889826 & ⋯ & 0.41111114 & 0.5945681 & 0.573897145 & 0.76166239 & 0.94460606 & 0.64410071 & 0.17243377 & 0.97231242 & 0.3712654 & 0.99718068\\\\\n",
       "\t 0.733660081 & 0.9825798 & 0.1018399 & 0.01974215 & 0.65805039 & 0.58552912 & 0.1830504 & 0.699020421 & 0.05117424 & 0.32957337 & ⋯ & 0.85311347 & 0.8587276 & 0.760295039 & 0.41981185 & 0.25307472 & 0.42000691 & 0.03837538 & 0.05813527 & 0.7954330 & 0.09108484\\\\\n",
       "\t 0.039080997 & 0.3026420 & 0.5166428 & 0.32624773 & 0.13347826 & 0.35099209 & 0.4242837 & 0.005065657 & 0.08016398 & 0.14428638 & ⋯ & 0.66653807 & 0.2004193 & 0.422205387 & 0.69730008 & 0.00503290 & 0.73931438 & 0.42735495 & 0.20582356 & 0.7614863 & 0.01202526\\\\\n",
       "\\end{tabular}\n"
      ],
      "text/markdown": [
       "\n",
       "A matrix: 10 × 100 of type dbl\n",
       "\n",
       "| 0.847093986 | 0.9713891 | 0.8645104 | 0.28206127 | 0.78764684 | 0.45964341 | 0.4361059 | 0.438944685 | 0.42980199 | 0.01005201 | ⋯ | 0.74882670 | 0.8188853 | 0.989349674 | 0.49023124 | 0.97576613 | 0.02157832 | 0.76989782 | 0.65482397 | 0.7021928 | 0.71941684 |\n",
       "| 0.746115227 | 0.2617650 | 0.6417098 | 0.70219179 | 0.36677052 | 0.52111346 | 0.5854412 | 0.056552321 | 0.05502361 | 0.84160455 | ⋯ | 0.05447558 | 0.3645880 | 0.904140326 | 0.65201960 | 0.15020663 | 0.18483044 | 0.26247519 | 0.20666534 | 0.6172786 | 0.70417696 |\n",
       "| 0.436393491 | 0.7464926 | 0.5071930 | 0.70899268 | 0.98794839 | 0.45742096 | 0.8007255 | 0.612099773 | 0.17579378 | 0.27279581 | ⋯ | 0.34716929 | 0.7755368 | 0.001245041 | 0.07234552 | 0.91508382 | 0.08790926 | 0.79592559 | 0.88401396 | 0.6684382 | 0.40465812 |\n",
       "| 0.003548722 | 0.1802593 | 0.1615858 | 0.26811666 | 0.85106955 | 0.79418897 | 0.4221502 | 0.603443788 | 0.23405934 | 0.23172384 | ⋯ | 0.52805271 | 0.9417318 | 0.632140143 | 0.54758199 | 0.39665862 | 0.02055855 | 0.16395987 | 0.83004709 | 0.2921833 | 0.12434679 |\n",
       "| 0.262946911 | 0.5545452 | 0.3542665 | 0.03499987 | 0.07751327 | 0.95024571 | 0.6641080 | 0.775671734 | 0.70373065 | 0.47395619 | ⋯ | 0.78832661 | 0.4253929 | 0.680083204 | 0.54389721 | 0.86239717 | 0.63226288 | 0.37929488 | 0.67474536 | 0.3536653 | 0.46241680 |\n",
       "| 0.324979464 | 0.5617152 | 0.3767844 | 0.40179265 | 0.26776372 | 0.54135361 | 0.8696630 | 0.298280690 | 0.59194178 | 0.16926407 | ⋯ | 0.08068649 | 0.1915935 | 0.150201330 | 0.96017753 | 0.19802047 | 0.77022926 | 0.47367800 | 0.26243975 | 0.3274193 | 0.97928390 |\n",
       "| 0.622638935 | 0.1296170 | 0.4159080 | 0.04488852 | 0.59169089 | 0.45936268 | 0.9651222 | 0.860343546 | 0.89873455 | 0.42812996 | ⋯ | 0.75523578 | 0.4340762 | 0.115650597 | 0.82741591 | 0.05444877 | 0.58248787 | 0.42891557 | 0.48317931 | 0.1326457 | 0.13997958 |\n",
       "| 0.118732307 | 0.5340533 | 0.6795494 | 0.96684736 | 0.28750470 | 0.07005899 | 0.9454620 | 0.538394625 | 0.47723770 | 0.66889826 | ⋯ | 0.41111114 | 0.5945681 | 0.573897145 | 0.76166239 | 0.94460606 | 0.64410071 | 0.17243377 | 0.97231242 | 0.3712654 | 0.99718068 |\n",
       "| 0.733660081 | 0.9825798 | 0.1018399 | 0.01974215 | 0.65805039 | 0.58552912 | 0.1830504 | 0.699020421 | 0.05117424 | 0.32957337 | ⋯ | 0.85311347 | 0.8587276 | 0.760295039 | 0.41981185 | 0.25307472 | 0.42000691 | 0.03837538 | 0.05813527 | 0.7954330 | 0.09108484 |\n",
       "| 0.039080997 | 0.3026420 | 0.5166428 | 0.32624773 | 0.13347826 | 0.35099209 | 0.4242837 | 0.005065657 | 0.08016398 | 0.14428638 | ⋯ | 0.66653807 | 0.2004193 | 0.422205387 | 0.69730008 | 0.00503290 | 0.73931438 | 0.42735495 | 0.20582356 | 0.7614863 | 0.01202526 |\n",
       "\n"
      ],
      "text/plain": [
       "      [,1]        [,2]      [,3]      [,4]       [,5]       [,6]      \n",
       " [1,] 0.847093986 0.9713891 0.8645104 0.28206127 0.78764684 0.45964341\n",
       " [2,] 0.746115227 0.2617650 0.6417098 0.70219179 0.36677052 0.52111346\n",
       " [3,] 0.436393491 0.7464926 0.5071930 0.70899268 0.98794839 0.45742096\n",
       " [4,] 0.003548722 0.1802593 0.1615858 0.26811666 0.85106955 0.79418897\n",
       " [5,] 0.262946911 0.5545452 0.3542665 0.03499987 0.07751327 0.95024571\n",
       " [6,] 0.324979464 0.5617152 0.3767844 0.40179265 0.26776372 0.54135361\n",
       " [7,] 0.622638935 0.1296170 0.4159080 0.04488852 0.59169089 0.45936268\n",
       " [8,] 0.118732307 0.5340533 0.6795494 0.96684736 0.28750470 0.07005899\n",
       " [9,] 0.733660081 0.9825798 0.1018399 0.01974215 0.65805039 0.58552912\n",
       "[10,] 0.039080997 0.3026420 0.5166428 0.32624773 0.13347826 0.35099209\n",
       "      [,7]      [,8]        [,9]       [,10]      [,11] [,12]      [,13]    \n",
       " [1,] 0.4361059 0.438944685 0.42980199 0.01005201 ⋯     0.74882670 0.8188853\n",
       " [2,] 0.5854412 0.056552321 0.05502361 0.84160455 ⋯     0.05447558 0.3645880\n",
       " [3,] 0.8007255 0.612099773 0.17579378 0.27279581 ⋯     0.34716929 0.7755368\n",
       " [4,] 0.4221502 0.603443788 0.23405934 0.23172384 ⋯     0.52805271 0.9417318\n",
       " [5,] 0.6641080 0.775671734 0.70373065 0.47395619 ⋯     0.78832661 0.4253929\n",
       " [6,] 0.8696630 0.298280690 0.59194178 0.16926407 ⋯     0.08068649 0.1915935\n",
       " [7,] 0.9651222 0.860343546 0.89873455 0.42812996 ⋯     0.75523578 0.4340762\n",
       " [8,] 0.9454620 0.538394625 0.47723770 0.66889826 ⋯     0.41111114 0.5945681\n",
       " [9,] 0.1830504 0.699020421 0.05117424 0.32957337 ⋯     0.85311347 0.8587276\n",
       "[10,] 0.4242837 0.005065657 0.08016398 0.14428638 ⋯     0.66653807 0.2004193\n",
       "      [,14]       [,15]      [,16]      [,17]      [,18]      [,19]     \n",
       " [1,] 0.989349674 0.49023124 0.97576613 0.02157832 0.76989782 0.65482397\n",
       " [2,] 0.904140326 0.65201960 0.15020663 0.18483044 0.26247519 0.20666534\n",
       " [3,] 0.001245041 0.07234552 0.91508382 0.08790926 0.79592559 0.88401396\n",
       " [4,] 0.632140143 0.54758199 0.39665862 0.02055855 0.16395987 0.83004709\n",
       " [5,] 0.680083204 0.54389721 0.86239717 0.63226288 0.37929488 0.67474536\n",
       " [6,] 0.150201330 0.96017753 0.19802047 0.77022926 0.47367800 0.26243975\n",
       " [7,] 0.115650597 0.82741591 0.05444877 0.58248787 0.42891557 0.48317931\n",
       " [8,] 0.573897145 0.76166239 0.94460606 0.64410071 0.17243377 0.97231242\n",
       " [9,] 0.760295039 0.41981185 0.25307472 0.42000691 0.03837538 0.05813527\n",
       "[10,] 0.422205387 0.69730008 0.00503290 0.73931438 0.42735495 0.20582356\n",
       "      [,20]     [,21]     \n",
       " [1,] 0.7021928 0.71941684\n",
       " [2,] 0.6172786 0.70417696\n",
       " [3,] 0.6684382 0.40465812\n",
       " [4,] 0.2921833 0.12434679\n",
       " [5,] 0.3536653 0.46241680\n",
       " [6,] 0.3274193 0.97928390\n",
       " [7,] 0.1326457 0.13997958\n",
       " [8,] 0.3712654 0.99718068\n",
       " [9,] 0.7954330 0.09108484\n",
       "[10,] 0.7614863 0.01202526"
      ]
     },
     "metadata": {},
     "output_type": "display_data"
    },
    {
     "data": {
      "text/html": [
       "<table>\n",
       "<caption>A matrix: 10 × 100 of type dbl</caption>\n",
       "<tbody>\n",
       "\t<tr><td>0.847093986</td><td>0.9713891</td><td>0.8645104</td><td>0.28206127</td><td>0.78764684</td><td>0.45964341</td><td>0.4361059</td><td>0.438944685</td><td>0.42980199</td><td>0.01005201</td><td>⋯</td><td>0.74882670</td><td>0.8188853</td><td>0.989349674</td><td>0.49023124</td><td>0.97576613</td><td>0.02157832</td><td>0.76989782</td><td>0.65482397</td><td>0.7021928</td><td>0.71941684</td></tr>\n",
       "\t<tr><td>0.746115227</td><td>0.2617650</td><td>0.6417098</td><td>0.70219179</td><td>0.36677052</td><td>0.52111346</td><td>0.5854412</td><td>0.056552321</td><td>0.05502361</td><td>0.84160455</td><td>⋯</td><td>0.05447558</td><td>0.3645880</td><td>0.904140326</td><td>0.65201960</td><td>0.15020663</td><td>0.18483044</td><td>0.26247519</td><td>0.20666534</td><td>0.6172786</td><td>0.70417696</td></tr>\n",
       "\t<tr><td>0.436393491</td><td>0.7464926</td><td>0.5071930</td><td>0.70899268</td><td>0.98794839</td><td>0.45742096</td><td>0.8007255</td><td>0.612099773</td><td>0.17579378</td><td>0.27279581</td><td>⋯</td><td>0.34716929</td><td>0.7755368</td><td>0.001245041</td><td>0.07234552</td><td>0.91508382</td><td>0.08790926</td><td>0.79592559</td><td>0.88401396</td><td>0.6684382</td><td>0.40465812</td></tr>\n",
       "\t<tr><td>0.003548722</td><td>0.1802593</td><td>0.1615858</td><td>0.26811666</td><td>0.85106955</td><td>0.79418897</td><td>0.4221502</td><td>0.603443788</td><td>0.23405934</td><td>0.23172384</td><td>⋯</td><td>0.52805271</td><td>0.9417318</td><td>0.632140143</td><td>0.54758199</td><td>0.39665862</td><td>0.02055855</td><td>0.16395987</td><td>0.83004709</td><td>0.2921833</td><td>0.12434679</td></tr>\n",
       "\t<tr><td>0.262946911</td><td>0.5545452</td><td>0.3542665</td><td>0.03499987</td><td>0.07751327</td><td>0.95024571</td><td>0.6641080</td><td>0.775671734</td><td>0.70373065</td><td>0.47395619</td><td>⋯</td><td>0.78832661</td><td>0.4253929</td><td>0.680083204</td><td>0.54389721</td><td>0.86239717</td><td>0.63226288</td><td>0.37929488</td><td>0.67474536</td><td>0.3536653</td><td>0.46241680</td></tr>\n",
       "\t<tr><td>0.324979464</td><td>0.5617152</td><td>0.3767844</td><td>0.40179265</td><td>0.26776372</td><td>0.54135361</td><td>0.8696630</td><td>0.298280690</td><td>0.59194178</td><td>0.16926407</td><td>⋯</td><td>0.08068649</td><td>0.1915935</td><td>0.150201330</td><td>0.96017753</td><td>0.19802047</td><td>0.77022926</td><td>0.47367800</td><td>0.26243975</td><td>0.3274193</td><td>0.97928390</td></tr>\n",
       "\t<tr><td>0.622638935</td><td>0.1296170</td><td>0.4159080</td><td>0.04488852</td><td>0.59169089</td><td>0.45936268</td><td>0.9651222</td><td>0.860343546</td><td>0.89873455</td><td>0.42812996</td><td>⋯</td><td>0.75523578</td><td>0.4340762</td><td>0.115650597</td><td>0.82741591</td><td>0.05444877</td><td>0.58248787</td><td>0.42891557</td><td>0.48317931</td><td>0.1326457</td><td>0.13997958</td></tr>\n",
       "\t<tr><td>0.118732307</td><td>0.5340533</td><td>0.6795494</td><td>0.96684736</td><td>0.28750470</td><td>0.07005899</td><td>0.9454620</td><td>0.538394625</td><td>0.47723770</td><td>0.66889826</td><td>⋯</td><td>0.41111114</td><td>0.5945681</td><td>0.573897145</td><td>0.76166239</td><td>0.94460606</td><td>0.64410071</td><td>0.17243377</td><td>0.97231242</td><td>0.3712654</td><td>0.99718068</td></tr>\n",
       "\t<tr><td>0.733660081</td><td>0.9825798</td><td>0.1018399</td><td>0.01974215</td><td>0.65805039</td><td>0.58552912</td><td>0.1830504</td><td>0.699020421</td><td>0.05117424</td><td>0.32957337</td><td>⋯</td><td>0.85311347</td><td>0.8587276</td><td>0.760295039</td><td>0.41981185</td><td>0.25307472</td><td>0.42000691</td><td>0.03837538</td><td>0.05813527</td><td>0.7954330</td><td>0.09108484</td></tr>\n",
       "\t<tr><td>0.039080997</td><td>0.3026420</td><td>0.5166428</td><td>0.32624773</td><td>0.13347826</td><td>0.35099209</td><td>0.4242837</td><td>0.005065657</td><td>0.08016398</td><td>0.14428638</td><td>⋯</td><td>0.66653807</td><td>0.2004193</td><td>0.422205387</td><td>0.69730008</td><td>0.00503290</td><td>0.73931438</td><td>0.42735495</td><td>0.20582356</td><td>0.7614863</td><td>0.01202526</td></tr>\n",
       "</tbody>\n",
       "</table>\n"
      ],
      "text/latex": [
       "A matrix: 10 × 100 of type dbl\n",
       "\\begin{tabular}{lllllllllllllllllllll}\n",
       "\t 0.847093986 & 0.9713891 & 0.8645104 & 0.28206127 & 0.78764684 & 0.45964341 & 0.4361059 & 0.438944685 & 0.42980199 & 0.01005201 & ⋯ & 0.74882670 & 0.8188853 & 0.989349674 & 0.49023124 & 0.97576613 & 0.02157832 & 0.76989782 & 0.65482397 & 0.7021928 & 0.71941684\\\\\n",
       "\t 0.746115227 & 0.2617650 & 0.6417098 & 0.70219179 & 0.36677052 & 0.52111346 & 0.5854412 & 0.056552321 & 0.05502361 & 0.84160455 & ⋯ & 0.05447558 & 0.3645880 & 0.904140326 & 0.65201960 & 0.15020663 & 0.18483044 & 0.26247519 & 0.20666534 & 0.6172786 & 0.70417696\\\\\n",
       "\t 0.436393491 & 0.7464926 & 0.5071930 & 0.70899268 & 0.98794839 & 0.45742096 & 0.8007255 & 0.612099773 & 0.17579378 & 0.27279581 & ⋯ & 0.34716929 & 0.7755368 & 0.001245041 & 0.07234552 & 0.91508382 & 0.08790926 & 0.79592559 & 0.88401396 & 0.6684382 & 0.40465812\\\\\n",
       "\t 0.003548722 & 0.1802593 & 0.1615858 & 0.26811666 & 0.85106955 & 0.79418897 & 0.4221502 & 0.603443788 & 0.23405934 & 0.23172384 & ⋯ & 0.52805271 & 0.9417318 & 0.632140143 & 0.54758199 & 0.39665862 & 0.02055855 & 0.16395987 & 0.83004709 & 0.2921833 & 0.12434679\\\\\n",
       "\t 0.262946911 & 0.5545452 & 0.3542665 & 0.03499987 & 0.07751327 & 0.95024571 & 0.6641080 & 0.775671734 & 0.70373065 & 0.47395619 & ⋯ & 0.78832661 & 0.4253929 & 0.680083204 & 0.54389721 & 0.86239717 & 0.63226288 & 0.37929488 & 0.67474536 & 0.3536653 & 0.46241680\\\\\n",
       "\t 0.324979464 & 0.5617152 & 0.3767844 & 0.40179265 & 0.26776372 & 0.54135361 & 0.8696630 & 0.298280690 & 0.59194178 & 0.16926407 & ⋯ & 0.08068649 & 0.1915935 & 0.150201330 & 0.96017753 & 0.19802047 & 0.77022926 & 0.47367800 & 0.26243975 & 0.3274193 & 0.97928390\\\\\n",
       "\t 0.622638935 & 0.1296170 & 0.4159080 & 0.04488852 & 0.59169089 & 0.45936268 & 0.9651222 & 0.860343546 & 0.89873455 & 0.42812996 & ⋯ & 0.75523578 & 0.4340762 & 0.115650597 & 0.82741591 & 0.05444877 & 0.58248787 & 0.42891557 & 0.48317931 & 0.1326457 & 0.13997958\\\\\n",
       "\t 0.118732307 & 0.5340533 & 0.6795494 & 0.96684736 & 0.28750470 & 0.07005899 & 0.9454620 & 0.538394625 & 0.47723770 & 0.66889826 & ⋯ & 0.41111114 & 0.5945681 & 0.573897145 & 0.76166239 & 0.94460606 & 0.64410071 & 0.17243377 & 0.97231242 & 0.3712654 & 0.99718068\\\\\n",
       "\t 0.733660081 & 0.9825798 & 0.1018399 & 0.01974215 & 0.65805039 & 0.58552912 & 0.1830504 & 0.699020421 & 0.05117424 & 0.32957337 & ⋯ & 0.85311347 & 0.8587276 & 0.760295039 & 0.41981185 & 0.25307472 & 0.42000691 & 0.03837538 & 0.05813527 & 0.7954330 & 0.09108484\\\\\n",
       "\t 0.039080997 & 0.3026420 & 0.5166428 & 0.32624773 & 0.13347826 & 0.35099209 & 0.4242837 & 0.005065657 & 0.08016398 & 0.14428638 & ⋯ & 0.66653807 & 0.2004193 & 0.422205387 & 0.69730008 & 0.00503290 & 0.73931438 & 0.42735495 & 0.20582356 & 0.7614863 & 0.01202526\\\\\n",
       "\\end{tabular}\n"
      ],
      "text/markdown": [
       "\n",
       "A matrix: 10 × 100 of type dbl\n",
       "\n",
       "| 0.847093986 | 0.9713891 | 0.8645104 | 0.28206127 | 0.78764684 | 0.45964341 | 0.4361059 | 0.438944685 | 0.42980199 | 0.01005201 | ⋯ | 0.74882670 | 0.8188853 | 0.989349674 | 0.49023124 | 0.97576613 | 0.02157832 | 0.76989782 | 0.65482397 | 0.7021928 | 0.71941684 |\n",
       "| 0.746115227 | 0.2617650 | 0.6417098 | 0.70219179 | 0.36677052 | 0.52111346 | 0.5854412 | 0.056552321 | 0.05502361 | 0.84160455 | ⋯ | 0.05447558 | 0.3645880 | 0.904140326 | 0.65201960 | 0.15020663 | 0.18483044 | 0.26247519 | 0.20666534 | 0.6172786 | 0.70417696 |\n",
       "| 0.436393491 | 0.7464926 | 0.5071930 | 0.70899268 | 0.98794839 | 0.45742096 | 0.8007255 | 0.612099773 | 0.17579378 | 0.27279581 | ⋯ | 0.34716929 | 0.7755368 | 0.001245041 | 0.07234552 | 0.91508382 | 0.08790926 | 0.79592559 | 0.88401396 | 0.6684382 | 0.40465812 |\n",
       "| 0.003548722 | 0.1802593 | 0.1615858 | 0.26811666 | 0.85106955 | 0.79418897 | 0.4221502 | 0.603443788 | 0.23405934 | 0.23172384 | ⋯ | 0.52805271 | 0.9417318 | 0.632140143 | 0.54758199 | 0.39665862 | 0.02055855 | 0.16395987 | 0.83004709 | 0.2921833 | 0.12434679 |\n",
       "| 0.262946911 | 0.5545452 | 0.3542665 | 0.03499987 | 0.07751327 | 0.95024571 | 0.6641080 | 0.775671734 | 0.70373065 | 0.47395619 | ⋯ | 0.78832661 | 0.4253929 | 0.680083204 | 0.54389721 | 0.86239717 | 0.63226288 | 0.37929488 | 0.67474536 | 0.3536653 | 0.46241680 |\n",
       "| 0.324979464 | 0.5617152 | 0.3767844 | 0.40179265 | 0.26776372 | 0.54135361 | 0.8696630 | 0.298280690 | 0.59194178 | 0.16926407 | ⋯ | 0.08068649 | 0.1915935 | 0.150201330 | 0.96017753 | 0.19802047 | 0.77022926 | 0.47367800 | 0.26243975 | 0.3274193 | 0.97928390 |\n",
       "| 0.622638935 | 0.1296170 | 0.4159080 | 0.04488852 | 0.59169089 | 0.45936268 | 0.9651222 | 0.860343546 | 0.89873455 | 0.42812996 | ⋯ | 0.75523578 | 0.4340762 | 0.115650597 | 0.82741591 | 0.05444877 | 0.58248787 | 0.42891557 | 0.48317931 | 0.1326457 | 0.13997958 |\n",
       "| 0.118732307 | 0.5340533 | 0.6795494 | 0.96684736 | 0.28750470 | 0.07005899 | 0.9454620 | 0.538394625 | 0.47723770 | 0.66889826 | ⋯ | 0.41111114 | 0.5945681 | 0.573897145 | 0.76166239 | 0.94460606 | 0.64410071 | 0.17243377 | 0.97231242 | 0.3712654 | 0.99718068 |\n",
       "| 0.733660081 | 0.9825798 | 0.1018399 | 0.01974215 | 0.65805039 | 0.58552912 | 0.1830504 | 0.699020421 | 0.05117424 | 0.32957337 | ⋯ | 0.85311347 | 0.8587276 | 0.760295039 | 0.41981185 | 0.25307472 | 0.42000691 | 0.03837538 | 0.05813527 | 0.7954330 | 0.09108484 |\n",
       "| 0.039080997 | 0.3026420 | 0.5166428 | 0.32624773 | 0.13347826 | 0.35099209 | 0.4242837 | 0.005065657 | 0.08016398 | 0.14428638 | ⋯ | 0.66653807 | 0.2004193 | 0.422205387 | 0.69730008 | 0.00503290 | 0.73931438 | 0.42735495 | 0.20582356 | 0.7614863 | 0.01202526 |\n",
       "\n"
      ],
      "text/plain": [
       "      [,1]        [,2]      [,3]      [,4]       [,5]       [,6]      \n",
       " [1,] 0.847093986 0.9713891 0.8645104 0.28206127 0.78764684 0.45964341\n",
       " [2,] 0.746115227 0.2617650 0.6417098 0.70219179 0.36677052 0.52111346\n",
       " [3,] 0.436393491 0.7464926 0.5071930 0.70899268 0.98794839 0.45742096\n",
       " [4,] 0.003548722 0.1802593 0.1615858 0.26811666 0.85106955 0.79418897\n",
       " [5,] 0.262946911 0.5545452 0.3542665 0.03499987 0.07751327 0.95024571\n",
       " [6,] 0.324979464 0.5617152 0.3767844 0.40179265 0.26776372 0.54135361\n",
       " [7,] 0.622638935 0.1296170 0.4159080 0.04488852 0.59169089 0.45936268\n",
       " [8,] 0.118732307 0.5340533 0.6795494 0.96684736 0.28750470 0.07005899\n",
       " [9,] 0.733660081 0.9825798 0.1018399 0.01974215 0.65805039 0.58552912\n",
       "[10,] 0.039080997 0.3026420 0.5166428 0.32624773 0.13347826 0.35099209\n",
       "      [,7]      [,8]        [,9]       [,10]      [,11] [,12]      [,13]    \n",
       " [1,] 0.4361059 0.438944685 0.42980199 0.01005201 ⋯     0.74882670 0.8188853\n",
       " [2,] 0.5854412 0.056552321 0.05502361 0.84160455 ⋯     0.05447558 0.3645880\n",
       " [3,] 0.8007255 0.612099773 0.17579378 0.27279581 ⋯     0.34716929 0.7755368\n",
       " [4,] 0.4221502 0.603443788 0.23405934 0.23172384 ⋯     0.52805271 0.9417318\n",
       " [5,] 0.6641080 0.775671734 0.70373065 0.47395619 ⋯     0.78832661 0.4253929\n",
       " [6,] 0.8696630 0.298280690 0.59194178 0.16926407 ⋯     0.08068649 0.1915935\n",
       " [7,] 0.9651222 0.860343546 0.89873455 0.42812996 ⋯     0.75523578 0.4340762\n",
       " [8,] 0.9454620 0.538394625 0.47723770 0.66889826 ⋯     0.41111114 0.5945681\n",
       " [9,] 0.1830504 0.699020421 0.05117424 0.32957337 ⋯     0.85311347 0.8587276\n",
       "[10,] 0.4242837 0.005065657 0.08016398 0.14428638 ⋯     0.66653807 0.2004193\n",
       "      [,14]       [,15]      [,16]      [,17]      [,18]      [,19]     \n",
       " [1,] 0.989349674 0.49023124 0.97576613 0.02157832 0.76989782 0.65482397\n",
       " [2,] 0.904140326 0.65201960 0.15020663 0.18483044 0.26247519 0.20666534\n",
       " [3,] 0.001245041 0.07234552 0.91508382 0.08790926 0.79592559 0.88401396\n",
       " [4,] 0.632140143 0.54758199 0.39665862 0.02055855 0.16395987 0.83004709\n",
       " [5,] 0.680083204 0.54389721 0.86239717 0.63226288 0.37929488 0.67474536\n",
       " [6,] 0.150201330 0.96017753 0.19802047 0.77022926 0.47367800 0.26243975\n",
       " [7,] 0.115650597 0.82741591 0.05444877 0.58248787 0.42891557 0.48317931\n",
       " [8,] 0.573897145 0.76166239 0.94460606 0.64410071 0.17243377 0.97231242\n",
       " [9,] 0.760295039 0.41981185 0.25307472 0.42000691 0.03837538 0.05813527\n",
       "[10,] 0.422205387 0.69730008 0.00503290 0.73931438 0.42735495 0.20582356\n",
       "      [,20]     [,21]     \n",
       " [1,] 0.7021928 0.71941684\n",
       " [2,] 0.6172786 0.70417696\n",
       " [3,] 0.6684382 0.40465812\n",
       " [4,] 0.2921833 0.12434679\n",
       " [5,] 0.3536653 0.46241680\n",
       " [6,] 0.3274193 0.97928390\n",
       " [7,] 0.1326457 0.13997958\n",
       " [8,] 0.3712654 0.99718068\n",
       " [9,] 0.7954330 0.09108484\n",
       "[10,] 0.7614863 0.01202526"
      ]
     },
     "metadata": {},
     "output_type": "display_data"
    }
   ],
   "source": [
    "A\n",
    "svd$U%*%svd$S%*%t(svd$V)"
   ]
  },
  {
   "cell_type": "markdown",
   "metadata": {},
   "source": [
    "Haremos uso del paquete tictoc para medir los tiempos"
   ]
  },
  {
   "cell_type": "code",
   "execution_count": 76,
   "metadata": {},
   "outputs": [
    {
     "name": "stderr",
     "output_type": "stream",
     "text": [
      "system (cmd0): /usr/lib/R/bin/R CMD INSTALL\n",
      "\n",
      "foundpkgs: tictoc, /tmp/RtmpiMujwy/downloaded_packages/tictoc_1.0.tar.gz\n",
      "\n",
      "files: /tmp/RtmpiMujwy/downloaded_packages/tictoc_1.0.tar.gz\n",
      "\n",
      "1): succeeded '/usr/lib/R/bin/R CMD INSTALL -l '/usr/local/lib/R/site-library' /tmp/RtmpiMujwy/downloaded_packages/tictoc_1.0.tar.gz'\n",
      "\n"
     ]
    }
   ],
   "source": [
    "install.packages(\"tictoc\",lib=\"/usr/local/lib/R/site-library/\",\n",
    "                repos=\"https://cran.itam.mx/\",verbose=TRUE)"
   ]
  },
  {
   "cell_type": "code",
   "execution_count": 77,
   "metadata": {},
   "outputs": [],
   "source": [
    "library(tictoc)"
   ]
  },
  {
   "cell_type": "markdown",
   "metadata": {},
   "source": [
    "**Y verificamos que la función encuentra solución para A pseudo-aleatoria de $10^1 \\times 10^2$ en 47 segundos**"
   ]
  },
  {
   "cell_type": "code",
   "execution_count": 78,
   "metadata": {},
   "outputs": [
    {
     "name": "stdout",
     "output_type": "stream",
     "text": [
      "medición de tiempo de svd con tictoc: 46.725 sec elapsed\n",
      "medición de sleep + svd: 47.732 sec elapsed\n"
     ]
    }
   ],
   "source": [
    "tic(\"medición de sleep + svd\")\n",
    "tic(\"medición de tiempo de svd con tictoc\")\n",
    "tic()\n",
    "svd<-svd_jacobi_aprox(A,TOL,maxsweep)\n",
    "toc()\n",
    "Sys.sleep(1)\n",
    "toc()"
   ]
  },
  {
   "cell_type": "markdown",
   "metadata": {},
   "source": [
    "**Principales hallazos del test 12**\n",
    "\n",
    "* La función arroja resultados correctos para matrices pseudoaleatorias."
   ]
  },
  {
   "cell_type": "markdown",
   "metadata": {},
   "source": [
    "**4. Resumen detallado de posibles puntos faltantes en implementación**\n",
    "\n",
    "* Se sugiere corregir un typo en el comentario de la función: #inicialza valores del ciclo por #inicializa valores del ciclo\n",
    "* Necesita revisarse la función para A matrices renglón pues arrojan el mismo error que en los Test 1 y Test 2 comentados en la parte 1 de esta revisión.\n",
    "* Para el caso de matrices columna, aunque la función encuentra U y V ortogonales, parece ser que la matriz sigma que devuelve es la matriz identidad en lugar de devolver el valor singular.\n",
    "\n",
    "**Sugerencias para resolver los puntos anteriores**\n",
    "\n",
    "Se propone ajustar la función con respecto a cada uno de los puntos mencionados de la siguiente forma:\n",
    "\n",
    "* Se sugiere corregir un typo en el comentario de la función: #inicialza valores del ciclo por #inicializa valores del ciclo\n",
    "* Se sugiere imprimir S para detectar desde qué parte se almacena como la matriz identidad en lugar de tener el valor singular que satisface A = U*S*t(V)."
   ]
  }
 ],
 "metadata": {
  "kernelspec": {
   "display_name": "R",
   "language": "R",
   "name": "ir"
  },
  "language_info": {
   "codemirror_mode": "r",
   "file_extension": ".r",
   "mimetype": "text/x-r-source",
   "name": "R",
   "pygments_lexer": "r",
   "version": "3.6.2"
  }
 },
 "nbformat": 4,
 "nbformat_minor": 4
}
