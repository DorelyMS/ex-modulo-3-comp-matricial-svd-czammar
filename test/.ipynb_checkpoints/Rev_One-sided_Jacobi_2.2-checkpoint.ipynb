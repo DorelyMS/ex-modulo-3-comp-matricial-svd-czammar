{
 "cells": [
  {
   "cell_type": "markdown",
   "metadata": {},
   "source": [
    "# Revisión de código para 2.2 One-sided Jacobi numerical aproximación\n",
    "\n",
    "**Fecha:** 13 de Abril de 2020\n",
    "\n",
    "**Responsable de revisión:** León Garay y Dorely Morales\n",
    "\n",
    "**Código revisado**"
   ]
  },
  {
   "cell_type": "code",
   "execution_count": 1,
   "metadata": {},
   "outputs": [],
   "source": [
    "indices <- function(n) {\n",
    "  # Crea una lista de tamaño (n-1)n/2 con pares de índices de la siguiente\n",
    "  #  manera: (1,2),..,(1,n),(2,3),..,(2,n),...,(n-1,n)\n",
    "  # Args: \n",
    "  #    n: número entero postivo \n",
    "  #       se refiere al número de columnas\n",
    "  #Returns:\n",
    "  #    lista con pares de índices\n",
    "    a <- NULL\n",
    "    b <- NULL\n",
    "    indices <- NULL\n",
    "    for (i in 1:(n-1)){\n",
    "    a <- append(a,rep(i,n-i))\n",
    "    b <- append(b,seq(i+1,n))    \n",
    "    }\n",
    "    for(i in 1:round(n*(n-1)/2))\n",
    "    indices[[i]] <- list(c(a[i], b[i]))\n",
    "    indices\n",
    "}"
   ]
  },
  {
   "cell_type": "code",
   "execution_count": 2,
   "metadata": {},
   "outputs": [],
   "source": [
    "ortogonal <- function(u,v,TOL=10^-8){\n",
    "  # Verifica si dos vectores son ortogonales, arrojando un 1 si lo es, y un 0 si no lo es.\n",
    "  # Args: \n",
    "    # u, v como vectores de la misma dimensión.Y un valor real de tolerancia TOL(10^-8).\n",
    "    # Nota: Se sugiere una TOL mayor a 10^-32.\n",
    "  # Returns: \n",
    "    # Valor booleano 0 (no son ortongoales), 1 (son ortogonales)\n",
    "    if ( norm(u,type =\"2\") < TOL | norm(v,type =\"2\") < TOL){\n",
    "        ret<-0\n",
    "    } else{ \n",
    "        \n",
    "        if( (u%*%v)  /(norm(u,type =\"2\")*norm(v,type =\"2\")) < TOL   ){\n",
    "    ret<-1\n",
    "  }\n",
    "  else{\n",
    "    ret<-0\n",
    "  }       \n",
    "    }\n",
    "  ret\n",
    "}"
   ]
  },
  {
   "cell_type": "code",
   "execution_count": 3,
   "metadata": {},
   "outputs": [],
   "source": [
    "signo<-function(x) {\n",
    "  # Indica el signo de un número x\n",
    "  # Args: \n",
    "  #    x (numeric): número a revisar\n",
    "  # Returns:\n",
    "  #    1 si el número es positivo o cero\n",
    "  #    -1 si el número es negativo\n",
    "  \n",
    "  ifelse(x<0,-1,1)\n",
    "  }"
   ]
  },
  {
   "cell_type": "code",
   "execution_count": 4,
   "metadata": {},
   "outputs": [],
   "source": [
    "solver <- function(U,S,V,b){\n",
    "    # Construye la solución de un sistema de ecuaciones a partir de matrices \n",
    "    # U, S, V, y vector b. Se asume que S es diagonal. \n",
    "    # Para ello resuelve S d = U^Tb, para construir x=Vd.\n",
    "    # Notas:\n",
    "    # 1) Se utilizó la función backsolve para resolver el sistema triangular.\n",
    "    # 2) Al ser S diagonal, es indistinto si usar un solver para matrices traingulares inferiores o superiores.\n",
    "    # Args: \n",
    "    #  \t    U (mxm),V(nxn), S(mxn) matriz diagonal y b (m) un vector.\n",
    "    # Returns: \n",
    "    #      x vector (m)\n",
    "  d = backsolve(S, t(U)%*%b)\n",
    "  x = V%*%d\n",
    "  return(x)\n",
    "}"
   ]
  },
  {
   "cell_type": "code",
   "execution_count": 5,
   "metadata": {},
   "outputs": [],
   "source": [
    "svd_jacobi_aprox <- function(A,TOL,maxsweep){\n",
    "    # Función que calcula la descomposición de una matriz A en sus componentes U, S V, \n",
    "    # utilizando el método de Jacobi para calcular la factorización SVD.De esta forma \n",
    "    # la matriz A queda descompuesta de la siguiente forma: A = U*S*t(V).\n",
    "    # Args: \n",
    "    #    A (matriz): Matriz de entrada (nxm) de números reales a la que se le calculará la descomposición SVD.\n",
    "    #    TOL (numeric): controla la convergencia del método, siendo un valor real de 10^-8 (sugerido en la nota 3.3.d.SVD)\n",
    "    #    Nota: Se sugiere una TOL mayor a 10^-32.\n",
    "    #    maxsweep (numeric): número máximo de sweeps,donde cada sweep consiste de un número máximo(nmax)\n",
    "    #    de rotaciones; y en cada sweep se ortogonalizan 2 columnas.\n",
    "    # Returns: \n",
    "    #   Lista con 3 elementos, donde el primer elemento representan a las matriz S(mxm) matriz diagonal,el segundo a la matriz U(nxm)\n",
    "    #   y el tercero y último a la matriz V (mxm).En conjunto estas tres matrices componen la factorización SVD de la matriz de entrada A.\n",
    "    \n",
    "    #dimensiones\n",
    "    n<-dim(A)[2] #numero de columnas\n",
    "    m<-dim(A)[1] #numero de filas\n",
    "    nmax<-n*(n-1)/2\n",
    "\n",
    "    #inicialza valores del ciclo\n",
    "    ak<-A\n",
    "    vk<-diag(n)\n",
    "    sig <- NULL\n",
    "    uk <- ak\n",
    "    num_col_ortogonal<-0\n",
    "    k<-0\n",
    "\n",
    "    while(k<=maxsweep & num_col_ortogonal<nmax){\n",
    "    num_col_ortogonal<-0\n",
    "    ind <- indices(n)\n",
    "    for(i in 1:nmax){\n",
    "      col_j<-ak[,ind[[i]][[1]][2]]\n",
    "      col_i<-ak[,ind[[i]][[1]][1]]\n",
    "    \n",
    "      #comprueba ortogonalidad  \n",
    "      if(ortogonal(col_i,col_j,TOL)==1){\n",
    "        num_col_ortogonal<-num_col_ortogonal+1\n",
    "      }\n",
    "      else{\n",
    "        #calcula coeficientes de la matriz\n",
    "        a<-sum(col_i*col_i)\n",
    "        b<-sum(col_j*col_j)\n",
    "        c<-col_i%*%col_j\n",
    "        \n",
    "        if(c<TOL){break}\n",
    "        #calcula la rotacion givens que diagonaliza\n",
    "        epsilon<-(b-a)/(2*c)\n",
    "        t<-signo(epsilon)/(abs(epsilon)+sqrt(1+epsilon**2))\n",
    "        cs<-1/sqrt(1+t**2)\n",
    "        sn<-cs*t\n",
    "        \n",
    "        #actualiza las columnas de la matriz ak\n",
    "        for(l in seq(1,m)){\n",
    "          temp<-ak[l,ind[[i]][[1]][1]]\n",
    "          ak[l,ind[[i]][[1]][1]]<-cs*temp-sn*ak[l,ind[[i]][[1]][2]]\n",
    "          ak[l,ind[[i]][[1]][2]]<-sn*temp+cs*ak[l,ind[[i]][[1]][2]]\n",
    "        }\n",
    "        \n",
    "        #actualiza las columnas de la matriz vk\n",
    "        for(l in seq(1,n)){\n",
    "          temp<-vk[l,ind[[i]][[1]][1]]\n",
    "          vk[l,ind[[i]][[1]][1]]<-cs*temp-sn*vk[l,ind[[i]][[1]][2]]\n",
    "          vk[l,ind[[i]][[1]][2]]<-sn*temp+cs*vk[l,ind[[i]][[1]][2]]\n",
    "        \n",
    "        }\n",
    "       }\n",
    "  }\n",
    "  k<-k+1\n",
    " }\n",
    "    #Obtener sigma\n",
    "        for(i in 1:n){\n",
    "        sig<- append(sig,norm(ak[,i],type =\"2\"))\n",
    "    }\n",
    "\n",
    "    #Obtener U\n",
    "    for(i in 1:n){\n",
    "        if (sig[i]<TOL){\n",
    "            uk[,i]<-0  \n",
    "        } else{\n",
    "        uk[,i] <- ak[,i]/sig[i]\n",
    "        }\n",
    "    }\n",
    "\n",
    "    # Indices de sigma ordenada en forma decreciente para ordenar V,S,U\n",
    "    index <- order(sig,decreasing = TRUE)\n",
    "    vk <- vk[,index]\n",
    "    S <- diag(sig[index])\n",
    "    uk <- uk[,index]\n",
    "\n",
    "    list(S = S, U = uk, V= vk)\n",
    " }   "
   ]
  },
  {
   "cell_type": "code",
   "execution_count": 6,
   "metadata": {},
   "outputs": [],
   "source": [
    "sel_solver<-function(A,b,TOL=10**-8,maxsweep=20){\n",
    "    #Función resuelve un sistema de ecuaciones lineales (SEL) utilizando la descomposición SVD\n",
    "    #por medio del método de One-sided Jacobi \n",
    "    #El SEL es de la forma Ax=b\n",
    "    # Args: \n",
    "    #    A (float): matriz de incógnitas del SEL\n",
    "    #    b (float): vector de igualdada del sistema\n",
    "    #    TOL (numeric): controla la convergencia del método\n",
    "    #    maxsweep (int): número máximo de sweeps \n",
    "    #Returns: x (float): vector solución \n",
    "\n",
    "    svd<-svd_jacobi_aprox(A,TOL,maxsweep)\n",
    "    x<-solver(svd$U,svd$S,svd$V,b)\n",
    "    x\n",
    "}"
   ]
  },
  {
   "cell_type": "markdown",
   "metadata": {},
   "source": [
    "**1.Sobre la documentación del código/de la función**\n",
    "\n",
    "¿Se encuentran presentes en la implementación los siguientes elementos? Por favor, ingrese explicaciones detalladas.\n",
    "\n",
    "**a) Descripción concisa y breve de lo que hace el código/la función**\n",
    "\n",
    "La función de encuentra bien documentada.\n",
    "\n",
    "**b) Descripción de sus argumentos de entrada, su significado y rango de valores que pueden tomar**\n",
    "\n",
    "Parcialmente, se sugiere complementar la descripción de los argumentos de entrada especificando que A tiene que ser una matriz de números reales de dimensión mxn.\n",
    "\n",
    "**c) Descripción de los tipos de argumentos de entrada y de salida (por ejemplo, valores enteros, reales, strings, dataframe, matrices, etc)**\n",
    "\n",
    "Sí se encuentra bien documentado.\n",
    "\n",
    "**d) Descripción de la salida de la función, su significado y valores/objetos que deben regresar**\n",
    "\n",
    "Sí se encuentra bien documentado."
   ]
  },
  {
   "cell_type": "markdown",
   "metadata": {},
   "source": [
    "**2. Cumplimiento de objetivos del código/de la función**\n",
    "\n",
    "**a) ¿El código cumple los objetivos para los que fue diseñado?**\n",
    "\n",
    "Sí dado que genera un vector x.\n",
    "\n",
    "**b) ¿La salida de la función genera el valor necesario?**\n",
    "\n",
    "Parcialmente, es necesario corregir algunos errores que ocurren cuando se introduce una matriz A de mxn con todos sus elementos aij iguales a un mismo valor constante. Adicionalmente, se necesita hacer optimizaciones a la función ya que para matrices A de tamaño mediano no encuentra la SVD."
   ]
  },
  {
   "cell_type": "markdown",
   "metadata": {},
   "source": [
    "**3. Pruebas**\n",
    "\n",
    "Ocupe la presente sección para hacer diseño de pruebas variando los parámetros que recibe el código la función en diferentes rangos para evaluar su comportamiento y/o detectar posibles fallos\n"
   ]
  },
  {
   "cell_type": "markdown",
   "metadata": {},
   "source": [
    "**Test 1**\n",
    "\n",
    "**Objetivo del test 1:** Verificar que la función se comporta correctamente para una matriz nula A de mxn.\n",
    "\n",
    "**Implementación del test 1:**"
   ]
  },
  {
   "cell_type": "code",
   "execution_count": 7,
   "metadata": {},
   "outputs": [
    {
     "name": "stdout",
     "output_type": "stream",
     "text": [
      "     [,1] [,2]\n",
      "[1,]    0    0\n",
      "[2,]    0    0\n",
      "     [,1] [,2] [,3]\n",
      "[1,]    0    0    0\n",
      "[2,]    0    0    0\n",
      "[3,]    0    0    0\n",
      "     [,1] [,2] [,3] [,4]\n",
      "[1,]    0    0    0    0\n",
      "[2,]    0    0    0    0\n",
      "[3,]    0    0    0    0\n",
      "[4,]    0    0    0    0\n",
      "     [,1] [,2] [,3] [,4] [,5]\n",
      "[1,]    0    0    0    0    0\n",
      "[2,]    0    0    0    0    0\n",
      "[3,]    0    0    0    0    0\n",
      "[4,]    0    0    0    0    0\n",
      "[5,]    0    0    0    0    0\n"
     ]
    }
   ],
   "source": [
    "c5 <- rep(0,25)\n",
    "b5 <- c(7,1,33,24,-49)\n",
    "A5 <- matrix(c5, nrow=5, ncol=5, byrow = T)\n",
    "c4 <- rep(0,16)\n",
    "b4 <- c(15,-6,17,-7)\n",
    "A4 <- matrix(c4, nrow=4, ncol=4, byrow = T)\n",
    "c3 <- rep(0,9)\n",
    "b3 <- c(2,9,-5)\n",
    "A3 <- matrix(c3, nrow=3, ncol=3, byrow = T)\n",
    "c2 <- rep(0,4)\n",
    "A2 <- matrix(c2, nrow=2, ncol=2, byrow = T)\n",
    "b2 <- c(2,9)\n",
    "\n",
    "TOL<-10**-8\n",
    "maxsweep<-20\n",
    "\n",
    "print(A2)\n",
    "print(A3)\n",
    "print(A4)\n",
    "print(A5)\n",
    "#x_sel1<-sel_solver(A1,b1,TOL = 10**-15,maxsweep=10000)"
   ]
  },
  {
   "cell_type": "code",
   "execution_count": 8,
   "metadata": {},
   "outputs": [
    {
     "ename": "ERROR",
     "evalue": "Error in backsolve(S, t(U) %*% b): singular matrix in 'backsolve'. First zero in diagonal [1]\n",
     "output_type": "error",
     "traceback": [
      "Error in backsolve(S, t(U) %*% b): singular matrix in 'backsolve'. First zero in diagonal [1]\nTraceback:\n",
      "1. sel_solver(A2, b2, TOL, maxsweep)",
      "2. solver(svd$U, svd$S, svd$V, b)   # at line 13 of file <text>",
      "3. backsolve(S, t(U) %*% b)   # at line 12 of file <text>"
     ]
    }
   ],
   "source": [
    "x_sel2 <- sel_solver(A2,b2,TOL,maxsweep)\n",
    "#x_sel3 <- sel_solver(A3,b3,TOL,maxsweep)\n",
    "#x_sel4 <- sel_solver(A4,b4,TOL,maxsweep)\n",
    "#x_sel5 <- sel_solver(A5,b5,TOL,maxsweep)"
   ]
  },
  {
   "cell_type": "markdown",
   "metadata": {},
   "source": [
    "**Principales hallazos del test 1**\n",
    "\n",
    "La función arroja un error pues existen infinitas soluciones que satisfacen A=U*S*V^T. Esto debido a que si tomamos la matriz S nula de mxn y cualesquiera matrices U de mxm y V de nxn ortogonales tenemos una solución.\n",
    "\n",
    "**Test 2**\n",
    "\n",
    "**Objetivo del test 2:** Verificar que la función se comporta correctamente para una matriz no nula A de mxn con entradas constantes.\n",
    "\n",
    "**Implementación del test 2:**"
   ]
  },
  {
   "cell_type": "code",
   "execution_count": 9,
   "metadata": {},
   "outputs": [
    {
     "name": "stdout",
     "output_type": "stream",
     "text": [
      "     [,1] [,2]\n",
      "[1,]    5    5\n",
      "[2,]    5    5\n",
      "     [,1] [,2] [,3]\n",
      "[1,]    5    5    5\n",
      "[2,]    5    5    5\n",
      "[3,]    5    5    5\n",
      "     [,1] [,2] [,3] [,4]\n",
      "[1,]    5    5    5    5\n",
      "[2,]    5    5    5    5\n",
      "[3,]    5    5    5    5\n",
      "[4,]    5    5    5    5\n",
      "     [,1] [,2] [,3] [,4] [,5]\n",
      "[1,]    5    5    5    5    5\n",
      "[2,]    5    5    5    5    5\n",
      "[3,]    5    5    5    5    5\n",
      "[4,]    5    5    5    5    5\n",
      "[5,]    5    5    5    5    5\n"
     ]
    }
   ],
   "source": [
    "cte <- 5\n",
    "c5 <- rep(cte,25)\n",
    "b5 <- c(7,1,33,24,-49)\n",
    "A5 <- matrix(c5, nrow=5, ncol=5, byrow = T)\n",
    "c4 <- rep(cte,16)\n",
    "b4 <- c(15,-6,17,-7)\n",
    "A4 <- matrix(c4, nrow=4, ncol=4, byrow = T)\n",
    "c3 <- rep(cte,9)\n",
    "b3 <- c(2,9,-5)\n",
    "A3 <- matrix(c3, nrow=3, ncol=3, byrow = T)\n",
    "c2 <- rep(cte,4)\n",
    "A2 <- matrix(c2, nrow=2, ncol=2, byrow = T)\n",
    "b2 <- c(2,9)\n",
    "\n",
    "TOL<-10**-8\n",
    "maxsweep<-20\n",
    "\n",
    "print(A2)\n",
    "print(A3)\n",
    "print(A4)\n",
    "print(A5)\n",
    "#x_sel1<-sel_solver(A1,b1,TOL = 10**-15,maxsweep=10000)"
   ]
  },
  {
   "cell_type": "code",
   "execution_count": 10,
   "metadata": {},
   "outputs": [
    {
     "ename": "ERROR",
     "evalue": "Error in backsolve(S, t(U) %*% b): singular matrix in 'backsolve'. First zero in diagonal [2]\n",
     "output_type": "error",
     "traceback": [
      "Error in backsolve(S, t(U) %*% b): singular matrix in 'backsolve'. First zero in diagonal [2]\nTraceback:\n",
      "1. sel_solver(A2, b2, TOL, maxsweep)",
      "2. solver(svd$U, svd$S, svd$V, b)   # at line 13 of file <text>",
      "3. backsolve(S, t(U) %*% b)   # at line 12 of file <text>"
     ]
    }
   ],
   "source": [
    "x_sel2 <- sel_solver(A2,b2,TOL,maxsweep)\n",
    "#x_sel3 <- sel_solver(A3,b3,TOL,maxsweep)\n",
    "#x_sel4 <- sel_solver(A4,b4,TOL,maxsweep)\n",
    "#x_sel5 <- sel_solver(A5,b5,TOL,maxsweep)"
   ]
  },
  {
   "cell_type": "markdown",
   "metadata": {},
   "source": [
    "**Principales hallazos del test 2**\n",
    "\n",
    "La función arroja un error pues existen infinitas soluciones que satisfacen A=U*S*V^T. Esto debido a que si tomamos la matriz S nula de mxn y cualesquiera matrices U de mxm y V de nxn ortogonales tenemos una solución.\n",
    "\n",
    "**Test 3**\n",
    "\n",
    "**Objetivo del test 3:** Verificar que la función se comporta correctamente para una matriz A de nxn con n = 2,3,4,5.\n",
    "\n",
    "**Implementación del test 3:**"
   ]
  },
  {
   "cell_type": "code",
   "execution_count": 11,
   "metadata": {},
   "outputs": [
    {
     "name": "stdout",
     "output_type": "stream",
     "text": [
      "     [,1] [,2]\n",
      "[1,]    2   -3\n",
      "[2,]    5    2\n",
      "     [,1] [,2] [,3]\n",
      "[1,]    2   -1    1\n",
      "[2,]    3    1   -2\n",
      "[3,]   -1    2    5\n",
      "     [,1] [,2] [,3] [,4]\n",
      "[1,]    1   -2    2   -3\n",
      "[2,]    3    4   -1    1\n",
      "[3,]    2   -3    2   -1\n",
      "[4,]    1    1   -3   -2\n",
      "     [,1] [,2] [,3] [,4] [,5]\n",
      "[1,]    2   -1    4    1   -1\n",
      "[2,]   -1    3   -2   -1    2\n",
      "[3,]    5    1    3   -4    1\n",
      "[4,]    3   -2   -2   -2    3\n",
      "[5,]   -4   -1   -5    3   -4\n"
     ]
    }
   ],
   "source": [
    "c5 <- c(2,-1,4,1,-1,-1,3,-2,-1,2,5,1,3,-4,1,3,-2,-2,-2,3,-4,-1,-5,3,-4)\n",
    "b5 <- c(7,1,33,24,-49)\n",
    "A5 <- matrix(c5, nrow=5, ncol=5, byrow = T)\n",
    "c4 <- c(1,-2,2,-3,3,4,-1,1,2,-3,2,-1,1,1,-3,-2)\n",
    "b4 <- c(15,-6,17,-7)\n",
    "A4 <- matrix(c4, nrow=4, ncol=4, byrow = T)\n",
    "c3 <- c(2,-1,1,3,1,-2,-1,2,5)\n",
    "b3 <- c(2,9,-5)\n",
    "A3 <- matrix(c3, nrow=3, ncol=3, byrow = T)\n",
    "c2 <- c(2,-3,5,2)\n",
    "A2 <- matrix(c2, nrow=2, ncol=2, byrow = T)\n",
    "b2 <- c(2,9)\n",
    "\n",
    "TOL<-10**-8\n",
    "maxsweep<-20\n",
    "\n",
    "print(A2)\n",
    "print(A3)\n",
    "print(A4)\n",
    "print(A5)\n",
    "#x_sel1<-sel_solver(A1,b1,TOL = 10**-15,maxsweep=10000)"
   ]
  },
  {
   "cell_type": "code",
   "execution_count": 12,
   "metadata": {},
   "outputs": [],
   "source": [
    "x_sel2 <- sel_solver(A2,b2,TOL,maxsweep)\n",
    "x_sel3 <- sel_solver(A3,b3,TOL,maxsweep)\n",
    "x_sel4 <- sel_solver(A4,b4,TOL,maxsweep)\n",
    "x_sel5 <- sel_solver(A5,b5,TOL,maxsweep)"
   ]
  },
  {
   "cell_type": "markdown",
   "metadata": {},
   "source": [
    "Buscamos que la función nos regrese aproximadamente $b2 = (2,9) $"
   ]
  },
  {
   "cell_type": "code",
   "execution_count": 13,
   "metadata": {},
   "outputs": [
    {
     "data": {
      "text/html": [
       "<table>\n",
       "<caption>A matrix: 2 × 1 of type dbl</caption>\n",
       "<tbody>\n",
       "\t<tr><td>2</td></tr>\n",
       "\t<tr><td>9</td></tr>\n",
       "</tbody>\n",
       "</table>\n"
      ],
      "text/latex": [
       "A matrix: 2 × 1 of type dbl\n",
       "\\begin{tabular}{l}\n",
       "\t 2\\\\\n",
       "\t 9\\\\\n",
       "\\end{tabular}\n"
      ],
      "text/markdown": [
       "\n",
       "A matrix: 2 × 1 of type dbl\n",
       "\n",
       "| 2 |\n",
       "| 9 |\n",
       "\n"
      ],
      "text/plain": [
       "     [,1]\n",
       "[1,] 2   \n",
       "[2,] 9   "
      ]
     },
     "metadata": {},
     "output_type": "display_data"
    }
   ],
   "source": [
    "A2%*%x_sel2"
   ]
  },
  {
   "cell_type": "markdown",
   "metadata": {},
   "source": [
    "Podemos ver que funcionó correctamente, ya que Ax=b.\n",
    "\n",
    "Ahora probaremos con $A_{3x3}$ buscamos $b3 = (2,9,-5)$"
   ]
  },
  {
   "cell_type": "code",
   "execution_count": 14,
   "metadata": {},
   "outputs": [
    {
     "data": {
      "text/html": [
       "<table>\n",
       "<caption>A matrix: 3 × 1 of type dbl</caption>\n",
       "<tbody>\n",
       "\t<tr><td> 2.327966</td></tr>\n",
       "\t<tr><td>11.280633</td></tr>\n",
       "\t<tr><td>-8.629119</td></tr>\n",
       "</tbody>\n",
       "</table>\n"
      ],
      "text/latex": [
       "A matrix: 3 × 1 of type dbl\n",
       "\\begin{tabular}{l}\n",
       "\t  2.327966\\\\\n",
       "\t 11.280633\\\\\n",
       "\t -8.629119\\\\\n",
       "\\end{tabular}\n"
      ],
      "text/markdown": [
       "\n",
       "A matrix: 3 × 1 of type dbl\n",
       "\n",
       "|  2.327966 |\n",
       "| 11.280633 |\n",
       "| -8.629119 |\n",
       "\n"
      ],
      "text/plain": [
       "     [,1]     \n",
       "[1,]  2.327966\n",
       "[2,] 11.280633\n",
       "[3,] -8.629119"
      ]
     },
     "metadata": {},
     "output_type": "display_data"
    }
   ],
   "source": [
    "A3%*%x_sel3"
   ]
  },
  {
   "cell_type": "markdown",
   "metadata": {},
   "source": [
    "En este caso podemos ver que la función no arrojó correctamente los valores de Ax=b.\n",
    "\n",
    "Seguimos con el caso $A_{4x4}$ y buscamos que $b4 = (15,-6,17,-7)$"
   ]
  },
  {
   "cell_type": "code",
   "execution_count": 15,
   "metadata": {},
   "outputs": [
    {
     "data": {
      "text/html": [
       "<table>\n",
       "<caption>A matrix: 4 × 1 of type dbl</caption>\n",
       "<tbody>\n",
       "\t<tr><td> 22.127278</td></tr>\n",
       "\t<tr><td>-12.551705</td></tr>\n",
       "\t<tr><td> 23.677302</td></tr>\n",
       "\t<tr><td> -8.309975</td></tr>\n",
       "</tbody>\n",
       "</table>\n"
      ],
      "text/latex": [
       "A matrix: 4 × 1 of type dbl\n",
       "\\begin{tabular}{l}\n",
       "\t  22.127278\\\\\n",
       "\t -12.551705\\\\\n",
       "\t  23.677302\\\\\n",
       "\t  -8.309975\\\\\n",
       "\\end{tabular}\n"
      ],
      "text/markdown": [
       "\n",
       "A matrix: 4 × 1 of type dbl\n",
       "\n",
       "|  22.127278 |\n",
       "| -12.551705 |\n",
       "|  23.677302 |\n",
       "|  -8.309975 |\n",
       "\n"
      ],
      "text/plain": [
       "     [,1]      \n",
       "[1,]  22.127278\n",
       "[2,] -12.551705\n",
       "[3,]  23.677302\n",
       "[4,]  -8.309975"
      ]
     },
     "metadata": {},
     "output_type": "display_data"
    }
   ],
   "source": [
    "A4%*%x_sel4"
   ]
  },
  {
   "cell_type": "markdown",
   "metadata": {},
   "source": [
    "Podemos observar que tampoco arrojó balores cercanos de Ax=b.\n",
    "\n",
    "Finalmente probaremos con $A-{5x5}$ y buscamos $b5 = (7,1,33,24,-49)$"
   ]
  },
  {
   "cell_type": "code",
   "execution_count": 16,
   "metadata": {},
   "outputs": [
    {
     "data": {
      "text/html": [
       "<table>\n",
       "<caption>A matrix: 5 × 1 of type dbl</caption>\n",
       "<tbody>\n",
       "\t<tr><td>  1.013013</td></tr>\n",
       "\t<tr><td> 10.506870</td></tr>\n",
       "\t<tr><td> 62.822134</td></tr>\n",
       "\t<tr><td> 39.049742</td></tr>\n",
       "\t<tr><td>-84.244898</td></tr>\n",
       "</tbody>\n",
       "</table>\n"
      ],
      "text/latex": [
       "A matrix: 5 × 1 of type dbl\n",
       "\\begin{tabular}{l}\n",
       "\t   1.013013\\\\\n",
       "\t  10.506870\\\\\n",
       "\t  62.822134\\\\\n",
       "\t  39.049742\\\\\n",
       "\t -84.244898\\\\\n",
       "\\end{tabular}\n"
      ],
      "text/markdown": [
       "\n",
       "A matrix: 5 × 1 of type dbl\n",
       "\n",
       "|   1.013013 |\n",
       "|  10.506870 |\n",
       "|  62.822134 |\n",
       "|  39.049742 |\n",
       "| -84.244898 |\n",
       "\n"
      ],
      "text/plain": [
       "     [,1]      \n",
       "[1,]   1.013013\n",
       "[2,]  10.506870\n",
       "[3,]  62.822134\n",
       "[4,]  39.049742\n",
       "[5,] -84.244898"
      ]
     },
     "metadata": {},
     "output_type": "display_data"
    }
   ],
   "source": [
    "A5%*%x_sel5"
   ]
  },
  {
   "cell_type": "markdown",
   "metadata": {},
   "source": [
    "Podemos observar que tampoco arrojó valores correctos.\n",
    "\n",
    "**Principales hallazos del test 3**\n",
    "\n",
    "La función arroja valores lejamos a los esperados para matrices con dimensiones mayores a 2x2.\n",
    "\n",
    "**Test 4**\n",
    "\n",
    "**Objetivo del test 4:** Verificar que la función se comporta correctamente para una matriz A de mxn con n = 2,3,4,5 y m = 2,3,4.\n",
    "\n",
    "**Implementación del test 4:**"
   ]
  },
  {
   "cell_type": "code",
   "execution_count": 17,
   "metadata": {},
   "outputs": [
    {
     "name": "stdout",
     "output_type": "stream",
     "text": [
      "     [,1] [,2]\n",
      "[1,]    2   -3\n",
      "[2,]    5    2\n",
      "     [,1] [,2]\n",
      "[1,]    2   -1\n",
      "[2,]    1    3\n",
      "[3,]    1   -2\n",
      "     [,1] [,2] [,3]\n",
      "[1,]    1   -2    2\n",
      "[2,]   -3    3    4\n",
      "[3,]   -1    1    2\n",
      "[4,]   -3    2    1\n",
      "     [,1] [,2] [,3] [,4]\n",
      "[1,]    2   -1    4    1\n",
      "[2,]   -1   -1    3   -2\n",
      "[3,]   -1    2    5    1\n",
      "[4,]    3   -4    1    3\n",
      "[5,]   -2   -2   -2    3\n"
     ]
    }
   ],
   "source": [
    "c5 <- c(2,-1,4,1,-1,-1,3,-2,-1,2,5,1,3,-4,1,3,-2,-2,-2,3)\n",
    "b5 <- c(7,1,33,24,-49)\n",
    "A5 <- matrix(c5, nrow=5, ncol=4, byrow = T)\n",
    "c4 <- c(1,-2,2,-3,3,4,-1,1,2,-3,2,1)\n",
    "b4 <- c(15,-6,17,-7)\n",
    "A4 <- matrix(c4, nrow=4, ncol=3, byrow = T)\n",
    "c3 <- c(2,-1,1,3,1,-2)\n",
    "b3 <- c(2,9,-5)\n",
    "A3 <- matrix(c3, nrow=3, ncol=2, byrow = T)\n",
    "c2 <- c(2,-3,5,2)\n",
    "A2 <- matrix(c2, nrow=2, ncol=2, byrow = T)\n",
    "b2 <- c(2,9)\n",
    "\n",
    "TOL<-10**-8\n",
    "maxsweep<-20\n",
    "\n",
    "print(A2)\n",
    "print(A3)\n",
    "print(A4)\n",
    "print(A5)\n",
    "#x_sel1<-sel_solver(A1,b1,TOL = 10**-15,maxsweep=10000)"
   ]
  },
  {
   "cell_type": "code",
   "execution_count": 18,
   "metadata": {},
   "outputs": [],
   "source": [
    "x_sel2 <- sel_solver(A2,b2,TOL,maxsweep)\n",
    "x_sel3 <- sel_solver(A3,b3,TOL,maxsweep)\n",
    "x_sel4 <- sel_solver(A4,b4,TOL,maxsweep)\n",
    "x_sel5 <- sel_solver(A5,b5,TOL,maxsweep)"
   ]
  },
  {
   "cell_type": "markdown",
   "metadata": {},
   "source": [
    "Buscamos que la función nos regrese aproximadamente $b2 = (2,9) $"
   ]
  },
  {
   "cell_type": "code",
   "execution_count": 19,
   "metadata": {},
   "outputs": [
    {
     "data": {
      "text/html": [
       "<table>\n",
       "<caption>A matrix: 2 × 1 of type dbl</caption>\n",
       "<tbody>\n",
       "\t<tr><td>2</td></tr>\n",
       "\t<tr><td>9</td></tr>\n",
       "</tbody>\n",
       "</table>\n"
      ],
      "text/latex": [
       "A matrix: 2 × 1 of type dbl\n",
       "\\begin{tabular}{l}\n",
       "\t 2\\\\\n",
       "\t 9\\\\\n",
       "\\end{tabular}\n"
      ],
      "text/markdown": [
       "\n",
       "A matrix: 2 × 1 of type dbl\n",
       "\n",
       "| 2 |\n",
       "| 9 |\n",
       "\n"
      ],
      "text/plain": [
       "     [,1]\n",
       "[1,] 2   \n",
       "[2,] 9   "
      ]
     },
     "metadata": {},
     "output_type": "display_data"
    }
   ],
   "source": [
    "A2%*%x_sel2"
   ]
  },
  {
   "cell_type": "markdown",
   "metadata": {},
   "source": [
    "Podemos ver que funcionó correctamente, ya que Ax=b.\n",
    "\n",
    "Ahora probaremos con $A_{3x3}$ buscamos $b3 = (2,9,-5)$"
   ]
  },
  {
   "cell_type": "code",
   "execution_count": 20,
   "metadata": {},
   "outputs": [
    {
     "data": {
      "text/html": [
       "<table>\n",
       "<caption>A matrix: 3 × 1 of type dbl</caption>\n",
       "<tbody>\n",
       "\t<tr><td> 0.1666667</td></tr>\n",
       "\t<tr><td> 8.8333333</td></tr>\n",
       "\t<tr><td>-3.6666667</td></tr>\n",
       "</tbody>\n",
       "</table>\n"
      ],
      "text/latex": [
       "A matrix: 3 × 1 of type dbl\n",
       "\\begin{tabular}{l}\n",
       "\t  0.1666667\\\\\n",
       "\t  8.8333333\\\\\n",
       "\t -3.6666667\\\\\n",
       "\\end{tabular}\n"
      ],
      "text/markdown": [
       "\n",
       "A matrix: 3 × 1 of type dbl\n",
       "\n",
       "|  0.1666667 |\n",
       "|  8.8333333 |\n",
       "| -3.6666667 |\n",
       "\n"
      ],
      "text/plain": [
       "     [,1]      \n",
       "[1,]  0.1666667\n",
       "[2,]  8.8333333\n",
       "[3,] -3.6666667"
      ]
     },
     "metadata": {},
     "output_type": "display_data"
    }
   ],
   "source": [
    "A3%*%x_sel3"
   ]
  },
  {
   "cell_type": "markdown",
   "metadata": {},
   "source": [
    "En este caso podemos ver que la función no arrojó correctamente los valores de Ax=b.\n",
    "\n",
    "Seguimos con el caso $A_{4x4}$ y buscamos que $b4 = (15,-6,17,-7)$"
   ]
  },
  {
   "cell_type": "code",
   "execution_count": 21,
   "metadata": {},
   "outputs": [
    {
     "data": {
      "text/html": [
       "<table>\n",
       "<caption>A matrix: 4 × 1 of type dbl</caption>\n",
       "<tbody>\n",
       "\t<tr><td> 19.2029412</td></tr>\n",
       "\t<tr><td> -5.6382353</td></tr>\n",
       "\t<tr><td>  0.5911765</td></tr>\n",
       "\t<tr><td>-11.7852941</td></tr>\n",
       "</tbody>\n",
       "</table>\n"
      ],
      "text/latex": [
       "A matrix: 4 × 1 of type dbl\n",
       "\\begin{tabular}{l}\n",
       "\t  19.2029412\\\\\n",
       "\t  -5.6382353\\\\\n",
       "\t   0.5911765\\\\\n",
       "\t -11.7852941\\\\\n",
       "\\end{tabular}\n"
      ],
      "text/markdown": [
       "\n",
       "A matrix: 4 × 1 of type dbl\n",
       "\n",
       "|  19.2029412 |\n",
       "|  -5.6382353 |\n",
       "|   0.5911765 |\n",
       "| -11.7852941 |\n",
       "\n"
      ],
      "text/plain": [
       "     [,1]       \n",
       "[1,]  19.2029412\n",
       "[2,]  -5.6382353\n",
       "[3,]   0.5911765\n",
       "[4,] -11.7852941"
      ]
     },
     "metadata": {},
     "output_type": "display_data"
    }
   ],
   "source": [
    "A4%*%x_sel4"
   ]
  },
  {
   "cell_type": "markdown",
   "metadata": {},
   "source": [
    "Podemos observar que tampoco arrojó balores cercanos de Ax=b.\n",
    "\n",
    "Finalmente probaremos con $A-{5x5}$ y buscamos $b5 = (7,1,33,24,-49)$"
   ]
  },
  {
   "cell_type": "code",
   "execution_count": 22,
   "metadata": {},
   "outputs": [
    {
     "data": {
      "text/html": [
       "<table>\n",
       "<caption>A matrix: 5 × 1 of type dbl</caption>\n",
       "<tbody>\n",
       "\t<tr><td> 27.976974</td></tr>\n",
       "\t<tr><td> 11.503845</td></tr>\n",
       "\t<tr><td> 18.094858</td></tr>\n",
       "\t<tr><td>  8.093239</td></tr>\n",
       "\t<tr><td>-37.052412</td></tr>\n",
       "</tbody>\n",
       "</table>\n"
      ],
      "text/latex": [
       "A matrix: 5 × 1 of type dbl\n",
       "\\begin{tabular}{l}\n",
       "\t  27.976974\\\\\n",
       "\t  11.503845\\\\\n",
       "\t  18.094858\\\\\n",
       "\t   8.093239\\\\\n",
       "\t -37.052412\\\\\n",
       "\\end{tabular}\n"
      ],
      "text/markdown": [
       "\n",
       "A matrix: 5 × 1 of type dbl\n",
       "\n",
       "|  27.976974 |\n",
       "|  11.503845 |\n",
       "|  18.094858 |\n",
       "|   8.093239 |\n",
       "| -37.052412 |\n",
       "\n"
      ],
      "text/plain": [
       "     [,1]      \n",
       "[1,]  27.976974\n",
       "[2,]  11.503845\n",
       "[3,]  18.094858\n",
       "[4,]   8.093239\n",
       "[5,] -37.052412"
      ]
     },
     "metadata": {},
     "output_type": "display_data"
    }
   ],
   "source": [
    "A5%*%x_sel5"
   ]
  },
  {
   "cell_type": "markdown",
   "metadata": {},
   "source": [
    "Podemos observar que tampoco arrojó valores esperados.\n",
    "\n",
    "**Principales hallazos del test 4**\n",
    "\n",
    "La función arroja valores lejamos a los esperados para matrices con dimensiones mayores a 2x2.\n"
   ]
  },
  {
   "cell_type": "markdown",
   "metadata": {},
   "source": [
    "**4. Resumen detallado de posibles puntos faltantes en implementación**\n",
    "\n",
    "* Se sugiere añadir complementar la documentación con más información sobre la descripción de la función, args y returns.\n",
    "* Necesita revisarse el caso de matrices con todos sus elementos iguales a una constante pues no encuentra la SVD.\n",
    "* Es necesario mejorar el rendimiento de la función a partir del while que se encuentra en la línea 24 pues para matrices A de tamaño mediano: $10^4 \\times 10^4$ la función no devuelve la lista con las matrices U,S,V.\n",
    "\n",
    "**Sugerencias para resolver los puntos anteriores**\n",
    "\n",
    "Se propone ajustar la función con respecto a cada uno de los puntos mencionados de la siguiente forma:"
   ]
  }
 ],
 "metadata": {
  "kernelspec": {
   "display_name": "R",
   "language": "R",
   "name": "ir"
  },
  "language_info": {
   "codemirror_mode": "r",
   "file_extension": ".r",
   "mimetype": "text/x-r-source",
   "name": "R",
   "pygments_lexer": "r",
   "version": "3.6.3"
  }
 },
 "nbformat": 4,
 "nbformat_minor": 4
}
