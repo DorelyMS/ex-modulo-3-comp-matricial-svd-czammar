{
 "cells": [
  {
   "cell_type": "markdown",
   "metadata": {},
   "source": [
    "# Revisión de código para generación de índices\n",
    "\n",
    "**Fecha:** 8 de Abril de 2020 7:30 pm\n",
    "\n",
    "**Responsable de revisión:** Javier Valencia\n",
    "\n",
    "**Código revisado**"
   ]
  },
  {
   "cell_type": "code",
   "execution_count": null,
   "metadata": {},
   "outputs": [],
   "source": [
    "#Función Ortogonalidad\n",
    "ortogonal <- function(u,v,TOL){\n",
    "  #Función que verifica si dos vectores son ortogonales, arrojando un 1 \n",
    "  #si lo es, y un 0 si no lo es.\n",
    "  #Args: u, v como vectores y se solicta al usuario el valor de e (tolerancia), real.\n",
    "  #Returns: Valor booleano 0 (no son ortongoales), 1 (son ortogonales)\n",
    "  dot.prod <- u%*%v \n",
    "  norm.u <- norm(u,type=\"2\")\n",
    "  norm.v <- norm(v,type=\"2\")\n",
    "  orth <- dot.prod / (norm.u * norm.v)\n",
    "  if (orth< TOL){\n",
    "    print(\"1\")\n",
    "  } else {\n",
    "    print(\"0\")\n",
    "  }\n",
    "}"
   ]
  },
  {
   "cell_type": "code",
   "execution_count": null,
   "metadata": {},
   "outputs": [],
   "source": []
  },
  {
   "cell_type": "code",
   "execution_count": null,
   "metadata": {},
   "outputs": [],
   "source": []
  },
  {
   "cell_type": "markdown",
   "metadata": {},
   "source": [
    "**1.Sobre la documentación del código/de la función**\n",
    "\n",
    "¿Se encuentran presentes en la implementación los siguientes elementos? Por favor, ingrese explicaciones detalladas.\n",
    "\n",
    "**a) Descripción concisa y breve de lo que hace el código/la función**\n",
    "\n",
    "[Pendiente: desarollo]\n",
    "\n",
    "**b) Descripción de sus argumentos de entrada, su significado y rango de valores que pueden tomar**\n",
    "\n",
    "[Pendiente: desarollo]\n",
    "\n",
    "**c) Descripción de los tipos de argumentos de entrada y de salida (por ejemplo, valores enteros, reales, strings, dataframe, matrices, etc)**\n",
    "\n",
    "[Pendiente: desarollo]\n",
    "\n",
    "**d) Descripción de la salida de la función, su significado y valores/objetos que deben regresa**\n",
    "\n",
    "[Pendiente: desarollo]\n"
   ]
  },
  {
   "cell_type": "markdown",
   "metadata": {},
   "source": [
    "**2. Cumplimiento de objetivos del código/de la función**\n",
    "\n",
    "Por favor, ingrese explicaciones detalladas.\n",
    "\n",
    "**a) ¿El código cumple los objetivos para los que fue diseñado?**\n",
    "\n",
    "[Pendiente: desarrollo]\n",
    "\n",
    "**b) ¿La salida de la función genera una lista de tamaño n(n+1)/2?**\n",
    "\n",
    "[Pendiente: desarrollo]\n",
    "\n",
    "**b) ¿La salida de la función genera una lista de elementos (tuplas) cuyos elementos son accesibles en coordenadas (x,y)?**\n",
    "\n",
    "[Pendiente: desarrollo]"
   ]
  },
  {
   "cell_type": "markdown",
   "metadata": {},
   "source": [
    "**3. Pruebas**\n",
    "\n",
    "Ocupe la presente sección para hacer diseño de pruebas variando los parámetros que recibe el código la función en diferentes rangos para evaluae su comportamiento y/o detectar posibles fallos\n",
    "\n",
    "**Test 1**\n",
    "\n",
    "**Objetivo del test:** [Pendiente: desarrollo]\n",
    "\n",
    "**Implementación del test:**"
   ]
  },
  {
   "cell_type": "code",
   "execution_count": null,
   "metadata": {},
   "outputs": [],
   "source": []
  },
  {
   "cell_type": "markdown",
   "metadata": {},
   "source": [
    "Principales hallazos del test:\n",
    "\n",
    "* Hallazgo 1,\n",
    "* Hallazgo 2.\n",
    "\n",
    "**Test 2***\n",
    "\n",
    "**Objetivo del test:** [Pendiente: desarrollo]\n",
    "\n",
    "**Implementación del test:**"
   ]
  },
  {
   "cell_type": "code",
   "execution_count": null,
   "metadata": {},
   "outputs": [],
   "source": []
  },
  {
   "cell_type": "markdown",
   "metadata": {},
   "source": []
  },
  {
   "cell_type": "markdown",
   "metadata": {},
   "source": [
    "**4. Resumen detallado de posibles puntos faltantes en implementación**\n",
    "\n",
    "* [Pendiente: desarollo]\n",
    "* [Pendiente: desarollo]\n",
    "* [Pendiente: desarollo]\n",
    "\n",
    "\n",
    "**Sugerencias para resolver los puntos anteriores**\n",
    "\n",
    "* [Pendiente: desarollo]\n",
    "* [Pendiente: desarollo]\n",
    "* [Pendiente: desarollo]\n"
   ]
  }
 ],
 "metadata": {
  "kernelspec": {
   "display_name": "R",
   "language": "R",
   "name": "ir"
  },
  "language_info": {
   "codemirror_mode": "r",
   "file_extension": ".r",
   "mimetype": "text/x-r-source",
   "name": "R",
   "pygments_lexer": "r",
   "version": "3.6.2"
  }
 },
 "nbformat": 4,
 "nbformat_minor": 4
}
