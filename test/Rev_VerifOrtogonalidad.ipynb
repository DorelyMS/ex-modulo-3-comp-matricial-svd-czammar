{
 "cells": [
  {
   "cell_type": "markdown",
   "metadata": {},
   "source": [
    "# Revisión de código para generación de índices\n",
    "\n",
    "**Fecha:** 8 de Abril de 2020 7:30 pm\n",
    "\n",
    "**Responsable de revisión:** Javier Valencia\n",
    "\n",
    "**Código revisado**"
   ]
  },
  {
   "cell_type": "code",
   "execution_count": 64,
   "metadata": {},
   "outputs": [],
   "source": [
    "#Función Ortogonalidad\n",
    "ortogonal <- function(u,v,TOL){\n",
    "  #Función que verifica si dos vectores son ortogonales, arrojando un 1 \n",
    "  #si lo es, y un 0 si no lo es.\n",
    "  #Args: u, v como vectores y se solicta al usuario el valor de e (tolerancia), real.\n",
    "  #Returns: Valor booleano 0 (no son ortongoales), 1 (son ortogonales)\n",
    "  dot.prod <- u%*%v \n",
    "  norm.u <- norm(u,type=\"2\")\n",
    "  norm.v <- norm(v,type=\"2\")\n",
    "  orth <- dot.prod / (norm.u * norm.v)\n",
    "  if (orth< TOL){\n",
    "    print(\"1\")\n",
    "  } else {\n",
    "    print(\"0\")\n",
    "  }\n",
    "}"
   ]
  },
  {
   "cell_type": "code",
   "execution_count": 104,
   "metadata": {},
   "outputs": [],
   "source": [
    "x <- c(0,0,0)\n",
    "y <- c(1,0,0)"
   ]
  },
  {
   "cell_type": "code",
   "execution_count": 105,
   "metadata": {},
   "outputs": [
    {
     "ename": "ERROR",
     "evalue": "Error in if (orth < TOL) {: missing value where TRUE/FALSE needed\n",
     "output_type": "error",
     "traceback": [
      "Error in if (orth < TOL) {: missing value where TRUE/FALSE needed\nTraceback:\n",
      "1. ortogonal(x, y, 1)"
     ]
    }
   ],
   "source": [
    "ortogonal(x,y,1)"
   ]
  },
  {
   "cell_type": "markdown",
   "metadata": {},
   "source": [
    "**1.Sobre la documentación del código/de la función**\n",
    "\n",
    "¿Se encuentran presentes en la implementación los siguientes elementos? Por favor, ingrese explicaciones detalladas.\n",
    "\n",
    "**a) Descripción concisa y breve de lo que hace el código/la función**\n",
    "\n",
    "[Pendiente: desarollo]\n",
    "\n",
    "**b) Descripción de sus argumentos de entrada, su significado y rango de valores que pueden tomar**\n",
    "\n",
    "Se sugiere cambiar el comentario de argumentos de entrada \n",
    "\n",
    "**c) Descripción de los tipos de argumentos de entrada y de salida (por ejemplo, valores enteros, reales, strings, dataframe, matrices, etc)**\n",
    "\n",
    "Cambiar \n",
    "\n",
    "**d) Descripción de la salida de la función, su significado y valores/objetos que deben regresa**\n",
    "\n",
    "La documentación de salida esta completa, especifica los argumentos de salida de la función y su significado\n"
   ]
  },
  {
   "cell_type": "markdown",
   "metadata": {},
   "source": [
    "**2. Cumplimiento de objetivos del código/de la función**\n",
    "\n",
    "Por favor, ingrese explicaciones detalladas.\n",
    "\n",
    "**a) ¿El código cumple los objetivos para los que fue diseñado?**\n",
    "\n",
    "[Pendiente: desarrollo]\n",
    "\n",
    "**b) ¿La salida de la función genera una lista de tamaño n(n+1)/2?**\n",
    "\n",
    "[Pendiente: desarrollo]\n",
    "\n",
    "**b) ¿La salida de la función genera una lista de elementos (tuplas) cuyos elementos son accesibles en coordenadas (x,y)?**\n",
    "\n",
    "[Pendiente: desarrollo]"
   ]
  },
  {
   "cell_type": "markdown",
   "metadata": {},
   "source": [
    "**3. Pruebas**\n",
    "\n",
    "Ocupe la presente sección para hacer diseño de pruebas variando los parámetros que recibe el código la función en diferentes rangos para evaluae su comportamiento y/o detectar posibles fallos\n",
    "\n",
    "**Test 1**\n",
    "\n",
    "**Objetivo del test:** Revisar la funcion con diferentes valores numericos: numeros grandes, chicos, cero un numero cercano a $10^{-324}$ que nos arroje un underflow.\n",
    "\n",
    "**Implementación del test:**\n",
    "pruebas numericas"
   ]
  },
  {
   "cell_type": "code",
   "execution_count": 100,
   "metadata": {},
   "outputs": [
    {
     "name": "stdout",
     "output_type": "stream",
     "text": [
      "vector 1\t 0 0 1 \n",
      "vector 2\t 1 0 0 \n",
      "[1] \"0\"\n",
      "Prueba 1:TOL=0\tResultado: 0 \n",
      "[1] \"1\"\n",
      "Prueba 2:TOL=1*10^-323\tResultado: 1 \n",
      "[1] \"0\"\n",
      "Prueba 3:TOL=1*10^-324\tResultado: 0 \n",
      "[1] \"1\"\n",
      "Prueba 4:TOL=1*10^308\tResultado: 1 \n",
      "[1] \"0\"\n",
      "Prueba 5:TOL=-1\tResultado: 0 \n",
      "vector 1\t 1 0 0 \n",
      "vector 2\t 1 0 0 \n",
      "[1] \"0\"\n",
      "Prueba 1:TOL=0\tResultado: 0 \n",
      "[1] \"0\"\n",
      "Prueba 2:TOL=1*10^-323\tResultado: 0 \n",
      "[1] \"0\"\n",
      "Prueba 3:TOL=1*10^-324\tResultado: 0 \n",
      "[1] \"0\"\n",
      "Prueba 4:TOL=1*10^308\tResultado: 0 \n",
      "[1] \"0\"\n",
      "Prueba 5:TOL=-1\tResultado: 0 \n"
     ]
    }
   ],
   "source": [
    "#prueba con vector x, y que sabemos SI son ortogonales\n",
    "x <- c(0,0,1)\n",
    "y <- c(1,0,0)\n",
    "cat(\"vector 1\\t\",x,\"\\nvector 2\\t\",y,\"\\n\")\n",
    "#Probamos la funcion con TOL=0\n",
    "tol<-0\n",
    "cat(\"Prueba 1:TOL=0\\tResultado:\",ortogonal(x,y,tol),\"\\n\")\n",
    "#Probamos la funcion con TOL= 1*10^-323 que es cercano a underflow\n",
    "tol<-1*10^-323\n",
    "cat(\"Prueba 2:TOL=1*10^-323\\tResultado:\",ortogonal(x,y,tol),\"\\n\")\n",
    "#Probamos la funcion con TOL=1*10^-324 que nos da underflow\n",
    "tol<-1*10^-324\n",
    "cat(\"Prueba 3:TOL=1*10^-324\\tResultado:\",ortogonal(x,y,tol),\"\\n\")\n",
    "#Probamos la funcion con TOL=1*10^-324 que nos da OVERFLOW\n",
    "tol<-1*10^308\n",
    "cat(\"Prueba 4:TOL=1*10^308\\tResultado:\",ortogonal(x,y,tol),\"\\n\")\n",
    "#Probamos la funcion con un numero negativo de TOL=-1\n",
    "tol<--1\n",
    "cat(\"Prueba 5:TOL=-1\\tResultado:\",ortogonal(x,y,tol),\"\\n\")\n",
    "\n",
    "#prueba con vector x, y que sabemos NO son ortogonales\n",
    "x <- c(1,0,0)\n",
    "y <- c(1,0,0)\n",
    "cat(\"vector 1\\t\",x,\"\\nvector 2\\t\",y,\"\\n\")\n",
    "#Probamos la funcion con TOL=0\n",
    "tol<-0\n",
    "cat(\"Prueba 1:TOL=0\\tResultado:\",ortogonal(x,y,tol),\"\\n\")\n",
    "#Probamos la funcion con TOL= 1*10^-323 que es cercano a underflow\n",
    "tol<-1*10^-323\n",
    "cat(\"Prueba 2:TOL=1*10^-323\\tResultado:\",ortogonal(x,y,tol),\"\\n\")\n",
    "#Probamos la funcion con TOL=1*10^-324 que nos da underflow\n",
    "tol<-1*10^-324\n",
    "cat(\"Prueba 3:TOL=1*10^-324\\tResultado:\",ortogonal(x,y,tol),\"\\n\")\n",
    "#Probamos la funcion con TOL=1*10^308 que nos da OVERFLOW\n",
    "tol<-1*10^308\n",
    "cat(\"Prueba 4:TOL=1*10^308\\tResultado:\",ortogonal(x,y,tol),\"\\n\")\n",
    "#Probamos la funcion con un numero negativo de TOL=-1\n",
    "tol<--1\n",
    "cat(\"Prueba 5:TOL=-1\\tResultado:\",ortogonal(x,y,tol),\"\\n\")"
   ]
  },
  {
   "cell_type": "markdown",
   "metadata": {},
   "source": [
    "Principales hallazos del test:   \n",
    "**Rango de error de parametro TOL**  \n",
    "* Hallazgo 1: La función falla dando un *Falso Negativo* si el parametro TOL es menor o igual al valor de UNDERFLOW ($TOL<=1*10^{-324}$).\n",
    "* Hallazgo 2: La función falla dando un *Falso Positivo* si el parametro es mayor a 1 hasta el valor de OVERFLOW ($TOL>1$).  \n",
    "\n",
    "**Otros errores**  \n",
    "* Hallazgo 3: la función da un error si el *vector u* y el *vector v* tienen diferente longitud\n",
    "* Hallazgo 4: la función falla si el vector es el vector nulo 0\n",
    "\n",
    "**Test 2***\n",
    "\n",
    "**Objetivo del test:** [Pendiente: desarrollo]\n",
    "\n",
    "**Implementación del test:**"
   ]
  },
  {
   "cell_type": "code",
   "execution_count": null,
   "metadata": {},
   "outputs": [],
   "source": []
  },
  {
   "cell_type": "markdown",
   "metadata": {},
   "source": []
  },
  {
   "cell_type": "markdown",
   "metadata": {},
   "source": [
    "**4. Resumen detallado de posibles puntos faltantes en implementación**\n",
    "\n",
    "* [Pendiente: desarollo]\n",
    "* [Pendiente: desarollo]\n",
    "* [Pendiente: desarollo]\n",
    "\n",
    "\n",
    "**Sugerencias para resolver los puntos anteriores**\n",
    "\n",
    "* [Pendiente: desarollo]\n",
    "* [Pendiente: desarollo]\n",
    "* [Pendiente: desarollo]\n"
   ]
  }
 ],
 "metadata": {
  "kernelspec": {
   "display_name": "R",
   "language": "R",
   "name": "ir"
  },
  "language_info": {
   "codemirror_mode": "r",
   "file_extension": ".r",
   "mimetype": "text/x-r-source",
   "name": "R",
   "pygments_lexer": "r",
   "version": "3.6.2"
  }
 },
 "nbformat": 4,
 "nbformat_minor": 4
}
