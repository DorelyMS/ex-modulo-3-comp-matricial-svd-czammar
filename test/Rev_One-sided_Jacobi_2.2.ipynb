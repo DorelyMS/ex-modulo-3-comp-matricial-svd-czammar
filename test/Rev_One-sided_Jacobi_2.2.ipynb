{
 "cells": [
  {
   "cell_type": "markdown",
   "metadata": {},
   "source": [
    "# Revisión de código para 2.2 One-sided Jacobi numerical aproximación\n",
    "\n",
    "**Fecha:** 13 de Abril de 2020\n",
    "\n",
    "**Responsable de revisión:** León Garay (Test 1 al 4) y Dorely Morales (Test 5 y 6)\n",
    "\n",
    "**Código revisado**"
   ]
  },
  {
   "cell_type": "code",
   "execution_count": 1,
   "metadata": {},
   "outputs": [],
   "source": [
    "indices <- function(n) {\n",
    "  # Crea una lista de tamaño (n-1)n/2 con pares de índices de la siguiente\n",
    "  #  manera: (1,2),..,(1,n),(2,3),..,(2,n),...,(n-1,n)\n",
    "  # Args: \n",
    "  #    n: número entero postivo \n",
    "  #       se refiere al número de columnas\n",
    "  #Returns:\n",
    "  #    lista con pares de índices\n",
    "    a <- NULL\n",
    "    b <- NULL\n",
    "    indices <- NULL\n",
    "    for (i in 1:(n-1)){\n",
    "    a <- append(a,rep(i,n-i))\n",
    "    b <- append(b,seq(i+1,n))    \n",
    "    }\n",
    "    for(i in 1:round(n*(n-1)/2))\n",
    "    indices[[i]] <- list(c(a[i], b[i]))\n",
    "    indices\n",
    "}"
   ]
  },
  {
   "cell_type": "code",
   "execution_count": 2,
   "metadata": {},
   "outputs": [],
   "source": [
    "ortogonal <- function(u,v,TOL=10^-8){\n",
    "  # Verifica si dos vectores son ortogonales, arrojando un 1 si lo es, y un 0 si no lo es.\n",
    "  # Args: \n",
    "    # u, v como vectores de la misma dimensión.Y un valor real de tolerancia TOL(10^-8).\n",
    "    # Nota: Se sugiere una TOL mayor a 10^-32.\n",
    "  # Returns: \n",
    "    # Valor booleano 0 (no son ortongoales), 1 (son ortogonales)\n",
    "    if ( norm(u,type =\"2\") < TOL | norm(v,type =\"2\") < TOL){\n",
    "        ret<-0\n",
    "    } else{ \n",
    "        \n",
    "        if( (u%*%v)  /(norm(u,type =\"2\")*norm(v,type =\"2\")) < TOL   ){\n",
    "    ret<-1\n",
    "  }\n",
    "  else{\n",
    "    ret<-0\n",
    "  }       \n",
    "    }\n",
    "  ret\n",
    "}"
   ]
  },
  {
   "cell_type": "code",
   "execution_count": 3,
   "metadata": {},
   "outputs": [],
   "source": [
    "signo<-function(x) {\n",
    "  # Indica el signo de un número x\n",
    "  # Args: \n",
    "  #    x (numeric): número a revisar\n",
    "  # Returns:\n",
    "  #    1 si el número es positivo o cero\n",
    "  #    -1 si el número es negativo\n",
    "  \n",
    "  ifelse(x<0,-1,1)\n",
    "  }"
   ]
  },
  {
   "cell_type": "code",
   "execution_count": 4,
   "metadata": {},
   "outputs": [],
   "source": [
    "solver <- function(U,S,V,b){\n",
    "    # Construye la solución de un sistema de ecuaciones a partir de matrices \n",
    "    # U, S, V, y vector b. Se asume que S es diagonal. \n",
    "    # Para ello resuelve S d = U^Tb, para construir x=Vd.\n",
    "    # Notas:\n",
    "    # 1) Se utilizó la función backsolve para resolver el sistema triangular.\n",
    "    # 2) Al ser S diagonal, es indistinto si usar un solver para matrices traingulares inferiores o superiores.\n",
    "    # Args: \n",
    "    #  \t    U (mxm),V(nxn), S(mxn) matriz diagonal y b (m) un vector.\n",
    "    # Returns: \n",
    "    #      x vector (m)\n",
    "  d = backsolve(S, t(U)%*%b)\n",
    "  x = V%*%d\n",
    "  return(x)\n",
    "}"
   ]
  },
  {
   "cell_type": "code",
   "execution_count": 5,
   "metadata": {},
   "outputs": [],
   "source": [
    "svd_jacobi_aprox <- function(A,TOL,maxsweep){\n",
    "    # Función que calcula la descomposición de una matriz A en sus componentes U, S V, \n",
    "    # utilizando el método de Jacobi para calcular la factorización SVD.De esta forma \n",
    "    # la matriz A queda descompuesta de la siguiente forma: A = U*S*t(V).\n",
    "    # Args: \n",
    "    #    A (matriz): Matriz de entrada (nxm) de números reales a la que se le calculará la descomposición SVD.\n",
    "    #    TOL (numeric): controla la convergencia del método, siendo un valor real de 10^-8 (sugerido en la nota 3.3.d.SVD)\n",
    "    #    Nota: Se sugiere una TOL mayor a 10^-32.\n",
    "    #    maxsweep (numeric): número máximo de sweeps,donde cada sweep consiste de un número máximo(nmax)\n",
    "    #    de rotaciones; y en cada sweep se ortogonalizan 2 columnas.\n",
    "    # Returns: \n",
    "    #   Lista con 3 elementos, donde el primer elemento representan a las matriz S(mxm) matriz diagonal,el segundo a la matriz U(nxm)\n",
    "    #   y el tercero y último a la matriz V (mxm).En conjunto estas tres matrices componen la factorización SVD de la matriz de entrada A.\n",
    "    \n",
    "    #dimensiones\n",
    "    n<-dim(A)[2] #numero de columnas\n",
    "    m<-dim(A)[1] #numero de filas\n",
    "    nmax<-n*(n-1)/2\n",
    "\n",
    "    #inicialza valores del ciclo\n",
    "    ak<-A\n",
    "    vk<-diag(n)\n",
    "    sig <- NULL\n",
    "    uk <- ak\n",
    "    num_col_ortogonal<-0\n",
    "    k<-0\n",
    "\n",
    "    while(k<=maxsweep & num_col_ortogonal<nmax){\n",
    "    num_col_ortogonal<-0\n",
    "    ind <- indices(n)\n",
    "    for(i in 1:nmax){\n",
    "      col_j<-ak[,ind[[i]][[1]][2]]\n",
    "      col_i<-ak[,ind[[i]][[1]][1]]\n",
    "    \n",
    "      #comprueba ortogonalidad  \n",
    "      if(ortogonal(col_i,col_j,TOL)==1){\n",
    "        num_col_ortogonal<-num_col_ortogonal+1\n",
    "      }\n",
    "      else{\n",
    "        #calcula coeficientes de la matriz\n",
    "        a<-sum(col_i*col_i)\n",
    "        b<-sum(col_j*col_j)\n",
    "        c<-col_i%*%col_j\n",
    "        \n",
    "        if(c<TOL){break}\n",
    "        #calcula la rotacion givens que diagonaliza\n",
    "        epsilon<-(b-a)/(2*c)\n",
    "        t<-signo(epsilon)/(abs(epsilon)+sqrt(1+epsilon**2))\n",
    "        cs<-1/sqrt(1+t**2)\n",
    "        sn<-cs*t\n",
    "        \n",
    "        #actualiza las columnas de la matriz ak\n",
    "        for(l in seq(1,m)){\n",
    "          temp<-ak[l,ind[[i]][[1]][1]]\n",
    "          ak[l,ind[[i]][[1]][1]]<-cs*temp-sn*ak[l,ind[[i]][[1]][2]]\n",
    "          ak[l,ind[[i]][[1]][2]]<-sn*temp+cs*ak[l,ind[[i]][[1]][2]]\n",
    "        }\n",
    "        \n",
    "        #actualiza las columnas de la matriz vk\n",
    "        for(l in seq(1,n)){\n",
    "          temp<-vk[l,ind[[i]][[1]][1]]\n",
    "          vk[l,ind[[i]][[1]][1]]<-cs*temp-sn*vk[l,ind[[i]][[1]][2]]\n",
    "          vk[l,ind[[i]][[1]][2]]<-sn*temp+cs*vk[l,ind[[i]][[1]][2]]\n",
    "        \n",
    "        }\n",
    "       }\n",
    "  }\n",
    "  k<-k+1\n",
    " }\n",
    "    #Obtener sigma\n",
    "        for(i in 1:n){\n",
    "        sig<- append(sig,norm(ak[,i],type =\"2\"))\n",
    "    }\n",
    "\n",
    "    #Obtener U\n",
    "    for(i in 1:n){\n",
    "        if (sig[i]<TOL){\n",
    "            uk[,i]<-0  \n",
    "        } else{\n",
    "        uk[,i] <- ak[,i]/sig[i]\n",
    "        }\n",
    "    }\n",
    "\n",
    "    # Indices de sigma ordenada en forma decreciente para ordenar V,S,U\n",
    "    index <- order(sig,decreasing = TRUE)\n",
    "    vk <- vk[,index]\n",
    "    S <- diag(sig[index])\n",
    "    uk <- uk[,index]\n",
    "\n",
    "    list(S = S, U = uk, V= vk)\n",
    " }   "
   ]
  },
  {
   "cell_type": "code",
   "execution_count": 6,
   "metadata": {},
   "outputs": [],
   "source": [
    "sel_solver<-function(A,b,TOL=10**-8,maxsweep=20){\n",
    "    #Función resuelve un sistema de ecuaciones lineales (SEL) utilizando la descomposición SVD\n",
    "    #por medio del método de One-sided Jacobi \n",
    "    #El SEL es de la forma Ax=b\n",
    "    # Args: \n",
    "    #    A (float): matriz de incógnitas del SEL\n",
    "    #    b (float): vector de igualdada del sistema\n",
    "    #    TOL (numeric): controla la convergencia del método\n",
    "    #    maxsweep (int): número máximo de sweeps \n",
    "    #Returns: x (float): vector solución \n",
    "\n",
    "    svd<-svd_jacobi_aprox(A,TOL,maxsweep)\n",
    "    x<-solver(svd$U,svd$S,svd$V,b)\n",
    "    x\n",
    "}"
   ]
  },
  {
   "cell_type": "markdown",
   "metadata": {},
   "source": [
    "**1.Sobre la documentación del código/de la función**\n",
    "\n",
    "¿Se encuentran presentes en la implementación los siguientes elementos? Por favor, ingrese explicaciones detalladas.\n",
    "\n",
    "**a) Descripción concisa y breve de lo que hace el código/la función**\n",
    "\n",
    "La función de encuentra bien documentada.\n",
    "\n",
    "**b) Descripción de sus argumentos de entrada, su significado y rango de valores que pueden tomar**\n",
    "\n",
    "Parcialmente, se sugiere complementar la descripción de los argumentos de entrada especificando que A tiene que ser una matriz de números reales de dimensión nxm. Además, A es una matriz de coeficientes del sistema (en lugar de incógnitas) para SEL. Y hay que corregir un typo en la descripción de b: \"#    b (float): vector de igualdad o lado derecho del sistema\"\n",
    "\n",
    "**c) Descripción de los tipos de argumentos de entrada y de salida (por ejemplo, valores enteros, reales, strings, dataframe, matrices, etc)**\n",
    "\n",
    "Sí se encuentra bien documentado.\n",
    "\n",
    "**d) Descripción de la salida de la función, su significado y valores/objetos que deben regresar**\n",
    "\n",
    "Parcialmente, se sugiere complementar la descripción del argumento de salida especificando que x es de tamaño n."
   ]
  },
  {
   "cell_type": "markdown",
   "metadata": {},
   "source": [
    "**2. Cumplimiento de objetivos del código/de la función**\n",
    "\n",
    "**a) ¿El código cumple los objetivos para los que fue diseñado?**\n",
    "\n",
    "Sí dado que genera un vector x.\n",
    "\n",
    "**b) ¿La salida de la función genera el valor necesario?**\n",
    "\n",
    "Parcialmente, es necesario corregir algunos errores que ocurren cuando se introduce una matriz A de mxn con todos sus elementos aij iguales a un mismo valor constante. Adicionalmente, se necesita hacer optimizaciones a la función ya que para matrices A de tamaño mediano no encuentra la SVD."
   ]
  },
  {
   "cell_type": "markdown",
   "metadata": {},
   "source": [
    "**3. Pruebas**\n",
    "\n",
    "Ocupe la presente sección para hacer diseño de pruebas variando los parámetros que recibe el código la función en diferentes rangos para evaluar su comportamiento y/o detectar posibles fallos\n"
   ]
  },
  {
   "cell_type": "markdown",
   "metadata": {},
   "source": [
    "**Test 1**\n",
    "\n",
    "**Objetivo del test 1:** Verificar que la función se comporta correctamente para una matriz nula A de mxn.\n",
    "\n",
    "**Implementación del test 1:**"
   ]
  },
  {
   "cell_type": "code",
   "execution_count": 7,
   "metadata": {},
   "outputs": [
    {
     "name": "stdout",
     "output_type": "stream",
     "text": [
      "     [,1] [,2]\n",
      "[1,]    0    0\n",
      "[2,]    0    0\n",
      "     [,1] [,2] [,3]\n",
      "[1,]    0    0    0\n",
      "[2,]    0    0    0\n",
      "[3,]    0    0    0\n",
      "     [,1] [,2] [,3] [,4]\n",
      "[1,]    0    0    0    0\n",
      "[2,]    0    0    0    0\n",
      "[3,]    0    0    0    0\n",
      "[4,]    0    0    0    0\n",
      "     [,1] [,2] [,3] [,4] [,5]\n",
      "[1,]    0    0    0    0    0\n",
      "[2,]    0    0    0    0    0\n",
      "[3,]    0    0    0    0    0\n",
      "[4,]    0    0    0    0    0\n",
      "[5,]    0    0    0    0    0\n"
     ]
    }
   ],
   "source": [
    "c5 <- rep(0,25)\n",
    "b5 <- c(7,1,33,24,-49)\n",
    "A5 <- matrix(c5, nrow=5, ncol=5, byrow = T)\n",
    "c4 <- rep(0,16)\n",
    "b4 <- c(15,-6,17,-7)\n",
    "A4 <- matrix(c4, nrow=4, ncol=4, byrow = T)\n",
    "c3 <- rep(0,9)\n",
    "b3 <- c(2,9,-5)\n",
    "A3 <- matrix(c3, nrow=3, ncol=3, byrow = T)\n",
    "c2 <- rep(0,4)\n",
    "A2 <- matrix(c2, nrow=2, ncol=2, byrow = T)\n",
    "b2 <- c(2,9)\n",
    "\n",
    "TOL<-10**-8\n",
    "maxsweep<-20\n",
    "\n",
    "print(A2)\n",
    "print(A3)\n",
    "print(A4)\n",
    "print(A5)\n",
    "#x_sel1<-sel_solver(A1,b1,TOL = 10**-15,maxsweep=10000)"
   ]
  },
  {
   "cell_type": "code",
   "execution_count": 8,
   "metadata": {},
   "outputs": [
    {
     "ename": "ERROR",
     "evalue": "Error in backsolve(S, t(U) %*% b): singular matrix in 'backsolve'. First zero in diagonal [1]\n",
     "output_type": "error",
     "traceback": [
      "Error in backsolve(S, t(U) %*% b): singular matrix in 'backsolve'. First zero in diagonal [1]\nTraceback:\n",
      "1. sel_solver(A2, b2, TOL, maxsweep)",
      "2. solver(svd$U, svd$S, svd$V, b)   # at line 13 of file <text>",
      "3. backsolve(S, t(U) %*% b)   # at line 12 of file <text>"
     ]
    }
   ],
   "source": [
    "x_sel2 <- sel_solver(A2,b2,TOL,maxsweep)\n",
    "#x_sel3 <- sel_solver(A3,b3,TOL,maxsweep)\n",
    "#x_sel4 <- sel_solver(A4,b4,TOL,maxsweep)\n",
    "#x_sel5 <- sel_solver(A5,b5,TOL,maxsweep)"
   ]
  },
  {
   "cell_type": "markdown",
   "metadata": {},
   "source": [
    "**Principales hallazos del test 1**\n",
    "\n",
    "La función arroja un error pues existen infinitas soluciones que satisfacen A=U*S*V^T. Esto debido a que si tomamos la matriz S nula de mxn y cualesquiera matrices U de mxm y V de nxn ortogonales tenemos una solución.\n",
    "\n",
    "**Test 2**\n",
    "\n",
    "**Objetivo del test 2:** Verificar que la función se comporta correctamente para una matriz no nula A de mxn con entradas constantes.\n",
    "\n",
    "**Implementación del test 2:**"
   ]
  },
  {
   "cell_type": "code",
   "execution_count": 9,
   "metadata": {},
   "outputs": [
    {
     "name": "stdout",
     "output_type": "stream",
     "text": [
      "     [,1] [,2]\n",
      "[1,]    5    5\n",
      "[2,]    5    5\n",
      "     [,1] [,2] [,3]\n",
      "[1,]    5    5    5\n",
      "[2,]    5    5    5\n",
      "[3,]    5    5    5\n",
      "     [,1] [,2] [,3] [,4]\n",
      "[1,]    5    5    5    5\n",
      "[2,]    5    5    5    5\n",
      "[3,]    5    5    5    5\n",
      "[4,]    5    5    5    5\n",
      "     [,1] [,2] [,3] [,4] [,5]\n",
      "[1,]    5    5    5    5    5\n",
      "[2,]    5    5    5    5    5\n",
      "[3,]    5    5    5    5    5\n",
      "[4,]    5    5    5    5    5\n",
      "[5,]    5    5    5    5    5\n"
     ]
    }
   ],
   "source": [
    "cte <- 5\n",
    "c5 <- rep(cte,25)\n",
    "b5 <- c(7,1,33,24,-49)\n",
    "A5 <- matrix(c5, nrow=5, ncol=5, byrow = T)\n",
    "c4 <- rep(cte,16)\n",
    "b4 <- c(15,-6,17,-7)\n",
    "A4 <- matrix(c4, nrow=4, ncol=4, byrow = T)\n",
    "c3 <- rep(cte,9)\n",
    "b3 <- c(2,9,-5)\n",
    "A3 <- matrix(c3, nrow=3, ncol=3, byrow = T)\n",
    "c2 <- rep(cte,4)\n",
    "A2 <- matrix(c2, nrow=2, ncol=2, byrow = T)\n",
    "b2 <- c(2,9)\n",
    "\n",
    "TOL<-10**-8\n",
    "maxsweep<-20\n",
    "\n",
    "print(A2)\n",
    "print(A3)\n",
    "print(A4)\n",
    "print(A5)\n",
    "#x_sel1<-sel_solver(A1,b1,TOL = 10**-15,maxsweep=10000)"
   ]
  },
  {
   "cell_type": "code",
   "execution_count": 10,
   "metadata": {},
   "outputs": [
    {
     "ename": "ERROR",
     "evalue": "Error in backsolve(S, t(U) %*% b): singular matrix in 'backsolve'. First zero in diagonal [2]\n",
     "output_type": "error",
     "traceback": [
      "Error in backsolve(S, t(U) %*% b): singular matrix in 'backsolve'. First zero in diagonal [2]\nTraceback:\n",
      "1. sel_solver(A2, b2, TOL, maxsweep)",
      "2. solver(svd$U, svd$S, svd$V, b)   # at line 13 of file <text>",
      "3. backsolve(S, t(U) %*% b)   # at line 12 of file <text>"
     ]
    }
   ],
   "source": [
    "x_sel2 <- sel_solver(A2,b2,TOL,maxsweep)\n",
    "#x_sel3 <- sel_solver(A3,b3,TOL,maxsweep)\n",
    "#x_sel4 <- sel_solver(A4,b4,TOL,maxsweep)\n",
    "#x_sel5 <- sel_solver(A5,b5,TOL,maxsweep)"
   ]
  },
  {
   "cell_type": "markdown",
   "metadata": {},
   "source": [
    "**Principales hallazos del test 2**\n",
    "\n",
    "La función arroja un error pues existen infinitas soluciones que satisfacen A=U*S*V^T. Esto debido a que si tomamos la matriz S nula de mxn y cualesquiera matrices U de mxm y V de nxn ortogonales tenemos una solución.\n",
    "\n",
    "**Test 3**\n",
    "\n",
    "**Objetivo del test 3:** Verificar que la función se comporta correctamente para una matriz A de nxn con n = 2,3,4,5.\n",
    "\n",
    "**Implementación del test 3:**"
   ]
  },
  {
   "cell_type": "code",
   "execution_count": 11,
   "metadata": {},
   "outputs": [
    {
     "name": "stdout",
     "output_type": "stream",
     "text": [
      "     [,1] [,2]\n",
      "[1,]    2   -3\n",
      "[2,]    5    2\n",
      "     [,1] [,2] [,3]\n",
      "[1,]    2   -1    1\n",
      "[2,]    3    1   -2\n",
      "[3,]   -1    2    5\n",
      "     [,1] [,2] [,3] [,4]\n",
      "[1,]    1   -2    2   -3\n",
      "[2,]    3    4   -1    1\n",
      "[3,]    2   -3    2   -1\n",
      "[4,]    1    1   -3   -2\n",
      "     [,1] [,2] [,3] [,4] [,5]\n",
      "[1,]    2   -1    4    1   -1\n",
      "[2,]   -1    3   -2   -1    2\n",
      "[3,]    5    1    3   -4    1\n",
      "[4,]    3   -2   -2   -2    3\n",
      "[5,]   -4   -1   -5    3   -4\n"
     ]
    }
   ],
   "source": [
    "c5 <- c(2,-1,4,1,-1,-1,3,-2,-1,2,5,1,3,-4,1,3,-2,-2,-2,3,-4,-1,-5,3,-4)\n",
    "b5 <- c(7,1,33,24,-49)\n",
    "A5 <- matrix(c5, nrow=5, ncol=5, byrow = T)\n",
    "c4 <- c(1,-2,2,-3,3,4,-1,1,2,-3,2,-1,1,1,-3,-2)\n",
    "b4 <- c(15,-6,17,-7)\n",
    "A4 <- matrix(c4, nrow=4, ncol=4, byrow = T)\n",
    "c3 <- c(2,-1,1,3,1,-2,-1,2,5)\n",
    "b3 <- c(2,9,-5)\n",
    "A3 <- matrix(c3, nrow=3, ncol=3, byrow = T)\n",
    "c2 <- c(2,-3,5,2)\n",
    "A2 <- matrix(c2, nrow=2, ncol=2, byrow = T)\n",
    "b2 <- c(2,9)\n",
    "\n",
    "TOL<-10**-8\n",
    "maxsweep<-20\n",
    "\n",
    "print(A2)\n",
    "print(A3)\n",
    "print(A4)\n",
    "print(A5)\n",
    "#x_sel1<-sel_solver(A1,b1,TOL = 10**-15,maxsweep=10000)"
   ]
  },
  {
   "cell_type": "code",
   "execution_count": 12,
   "metadata": {},
   "outputs": [],
   "source": [
    "x_sel2 <- sel_solver(A2,b2,TOL,maxsweep)\n",
    "x_sel3 <- sel_solver(A3,b3,TOL,maxsweep)\n",
    "x_sel4 <- sel_solver(A4,b4,TOL,maxsweep)\n",
    "x_sel5 <- sel_solver(A5,b5,TOL,maxsweep)"
   ]
  },
  {
   "cell_type": "markdown",
   "metadata": {},
   "source": [
    "Buscamos que la función nos regrese aproximadamente $b2 = (2,9) $"
   ]
  },
  {
   "cell_type": "code",
   "execution_count": 13,
   "metadata": {},
   "outputs": [
    {
     "data": {
      "text/html": [
       "<table>\n",
       "<caption>A matrix: 2 × 1 of type dbl</caption>\n",
       "<tbody>\n",
       "\t<tr><td>2</td></tr>\n",
       "\t<tr><td>9</td></tr>\n",
       "</tbody>\n",
       "</table>\n"
      ],
      "text/latex": [
       "A matrix: 2 × 1 of type dbl\n",
       "\\begin{tabular}{l}\n",
       "\t 2\\\\\n",
       "\t 9\\\\\n",
       "\\end{tabular}\n"
      ],
      "text/markdown": [
       "\n",
       "A matrix: 2 × 1 of type dbl\n",
       "\n",
       "| 2 |\n",
       "| 9 |\n",
       "\n"
      ],
      "text/plain": [
       "     [,1]\n",
       "[1,] 2   \n",
       "[2,] 9   "
      ]
     },
     "metadata": {},
     "output_type": "display_data"
    }
   ],
   "source": [
    "A2%*%x_sel2"
   ]
  },
  {
   "cell_type": "markdown",
   "metadata": {},
   "source": [
    "Podemos ver que funcionó correctamente, ya que Ax=b.\n",
    "\n",
    "Ahora probaremos con $A_{3x3}$ buscamos $b3 = (2,9,-5)$"
   ]
  },
  {
   "cell_type": "code",
   "execution_count": 14,
   "metadata": {},
   "outputs": [
    {
     "data": {
      "text/html": [
       "<table>\n",
       "<caption>A matrix: 3 × 1 of type dbl</caption>\n",
       "<tbody>\n",
       "\t<tr><td> 2.327966</td></tr>\n",
       "\t<tr><td>11.280633</td></tr>\n",
       "\t<tr><td>-8.629119</td></tr>\n",
       "</tbody>\n",
       "</table>\n"
      ],
      "text/latex": [
       "A matrix: 3 × 1 of type dbl\n",
       "\\begin{tabular}{l}\n",
       "\t  2.327966\\\\\n",
       "\t 11.280633\\\\\n",
       "\t -8.629119\\\\\n",
       "\\end{tabular}\n"
      ],
      "text/markdown": [
       "\n",
       "A matrix: 3 × 1 of type dbl\n",
       "\n",
       "|  2.327966 |\n",
       "| 11.280633 |\n",
       "| -8.629119 |\n",
       "\n"
      ],
      "text/plain": [
       "     [,1]     \n",
       "[1,]  2.327966\n",
       "[2,] 11.280633\n",
       "[3,] -8.629119"
      ]
     },
     "metadata": {},
     "output_type": "display_data"
    }
   ],
   "source": [
    "A3%*%x_sel3"
   ]
  },
  {
   "cell_type": "markdown",
   "metadata": {},
   "source": [
    "En este caso podemos ver que la función no arrojó correctamente los valores de Ax=b.\n",
    "\n",
    "Seguimos con el caso $A_{4x4}$ y buscamos que $b4 = (15,-6,17,-7)$"
   ]
  },
  {
   "cell_type": "code",
   "execution_count": 15,
   "metadata": {},
   "outputs": [
    {
     "data": {
      "text/html": [
       "<table>\n",
       "<caption>A matrix: 4 × 1 of type dbl</caption>\n",
       "<tbody>\n",
       "\t<tr><td> 22.127278</td></tr>\n",
       "\t<tr><td>-12.551705</td></tr>\n",
       "\t<tr><td> 23.677302</td></tr>\n",
       "\t<tr><td> -8.309975</td></tr>\n",
       "</tbody>\n",
       "</table>\n"
      ],
      "text/latex": [
       "A matrix: 4 × 1 of type dbl\n",
       "\\begin{tabular}{l}\n",
       "\t  22.127278\\\\\n",
       "\t -12.551705\\\\\n",
       "\t  23.677302\\\\\n",
       "\t  -8.309975\\\\\n",
       "\\end{tabular}\n"
      ],
      "text/markdown": [
       "\n",
       "A matrix: 4 × 1 of type dbl\n",
       "\n",
       "|  22.127278 |\n",
       "| -12.551705 |\n",
       "|  23.677302 |\n",
       "|  -8.309975 |\n",
       "\n"
      ],
      "text/plain": [
       "     [,1]      \n",
       "[1,]  22.127278\n",
       "[2,] -12.551705\n",
       "[3,]  23.677302\n",
       "[4,]  -8.309975"
      ]
     },
     "metadata": {},
     "output_type": "display_data"
    }
   ],
   "source": [
    "A4%*%x_sel4"
   ]
  },
  {
   "cell_type": "markdown",
   "metadata": {},
   "source": [
    "Podemos observar que tampoco arrojó balores cercanos de Ax=b.\n",
    "\n",
    "Finalmente probaremos con $A-{5x5}$ y buscamos $b5 = (7,1,33,24,-49)$"
   ]
  },
  {
   "cell_type": "code",
   "execution_count": 16,
   "metadata": {},
   "outputs": [
    {
     "data": {
      "text/html": [
       "<table>\n",
       "<caption>A matrix: 5 × 1 of type dbl</caption>\n",
       "<tbody>\n",
       "\t<tr><td>  1.013013</td></tr>\n",
       "\t<tr><td> 10.506870</td></tr>\n",
       "\t<tr><td> 62.822134</td></tr>\n",
       "\t<tr><td> 39.049742</td></tr>\n",
       "\t<tr><td>-84.244898</td></tr>\n",
       "</tbody>\n",
       "</table>\n"
      ],
      "text/latex": [
       "A matrix: 5 × 1 of type dbl\n",
       "\\begin{tabular}{l}\n",
       "\t   1.013013\\\\\n",
       "\t  10.506870\\\\\n",
       "\t  62.822134\\\\\n",
       "\t  39.049742\\\\\n",
       "\t -84.244898\\\\\n",
       "\\end{tabular}\n"
      ],
      "text/markdown": [
       "\n",
       "A matrix: 5 × 1 of type dbl\n",
       "\n",
       "|   1.013013 |\n",
       "|  10.506870 |\n",
       "|  62.822134 |\n",
       "|  39.049742 |\n",
       "| -84.244898 |\n",
       "\n"
      ],
      "text/plain": [
       "     [,1]      \n",
       "[1,]   1.013013\n",
       "[2,]  10.506870\n",
       "[3,]  62.822134\n",
       "[4,]  39.049742\n",
       "[5,] -84.244898"
      ]
     },
     "metadata": {},
     "output_type": "display_data"
    }
   ],
   "source": [
    "A5%*%x_sel5"
   ]
  },
  {
   "cell_type": "markdown",
   "metadata": {},
   "source": [
    "Podemos observar que tampoco arrojó valores correctos.\n",
    "\n",
    "**Principales hallazos del test 3**\n",
    "\n",
    "La función arroja valores lejamos a los esperados para matrices con dimensiones mayores a 2x2.\n",
    "\n",
    "**Test 4**\n",
    "\n",
    "**Objetivo del test 4:** Verificar que la función se comporta correctamente para una matriz A de mxn con n = 2,3,4,5 y m = 2,3,4.\n",
    "\n",
    "**Implementación del test 4:**"
   ]
  },
  {
   "cell_type": "code",
   "execution_count": 17,
   "metadata": {},
   "outputs": [
    {
     "name": "stdout",
     "output_type": "stream",
     "text": [
      "     [,1] [,2]\n",
      "[1,]    2   -3\n",
      "[2,]    5    2\n",
      "     [,1] [,2]\n",
      "[1,]    2   -1\n",
      "[2,]    1    3\n",
      "[3,]    1   -2\n",
      "     [,1] [,2] [,3]\n",
      "[1,]    1   -2    2\n",
      "[2,]   -3    3    4\n",
      "[3,]   -1    1    2\n",
      "[4,]   -3    2    1\n",
      "     [,1] [,2] [,3] [,4]\n",
      "[1,]    2   -1    4    1\n",
      "[2,]   -1   -1    3   -2\n",
      "[3,]   -1    2    5    1\n",
      "[4,]    3   -4    1    3\n",
      "[5,]   -2   -2   -2    3\n"
     ]
    }
   ],
   "source": [
    "c5 <- c(2,-1,4,1,-1,-1,3,-2,-1,2,5,1,3,-4,1,3,-2,-2,-2,3)\n",
    "b5 <- c(7,1,33,24,-49)\n",
    "A5 <- matrix(c5, nrow=5, ncol=4, byrow = T)\n",
    "c4 <- c(1,-2,2,-3,3,4,-1,1,2,-3,2,1)\n",
    "b4 <- c(15,-6,17,-7)\n",
    "A4 <- matrix(c4, nrow=4, ncol=3, byrow = T)\n",
    "c3 <- c(2,-1,1,3,1,-2)\n",
    "b3 <- c(2,9,-5)\n",
    "A3 <- matrix(c3, nrow=3, ncol=2, byrow = T)\n",
    "c2 <- c(2,-3,5,2)\n",
    "A2 <- matrix(c2, nrow=2, ncol=2, byrow = T)\n",
    "b2 <- c(2,9)\n",
    "\n",
    "TOL<-10**-8\n",
    "maxsweep<-20\n",
    "\n",
    "print(A2)\n",
    "print(A3)\n",
    "print(A4)\n",
    "print(A5)\n",
    "#x_sel1<-sel_solver(A1,b1,TOL = 10**-15,maxsweep=10000)"
   ]
  },
  {
   "cell_type": "code",
   "execution_count": 18,
   "metadata": {},
   "outputs": [],
   "source": [
    "x_sel2 <- sel_solver(A2,b2,TOL,maxsweep)\n",
    "x_sel3 <- sel_solver(A3,b3,TOL,maxsweep)\n",
    "x_sel4 <- sel_solver(A4,b4,TOL,maxsweep)\n",
    "x_sel5 <- sel_solver(A5,b5,TOL,maxsweep)"
   ]
  },
  {
   "cell_type": "markdown",
   "metadata": {},
   "source": [
    "Buscamos que la función nos regrese aproximadamente $b2 = (2,9) $"
   ]
  },
  {
   "cell_type": "code",
   "execution_count": 19,
   "metadata": {},
   "outputs": [
    {
     "data": {
      "text/html": [
       "<table>\n",
       "<caption>A matrix: 2 × 1 of type dbl</caption>\n",
       "<tbody>\n",
       "\t<tr><td>2</td></tr>\n",
       "\t<tr><td>9</td></tr>\n",
       "</tbody>\n",
       "</table>\n"
      ],
      "text/latex": [
       "A matrix: 2 × 1 of type dbl\n",
       "\\begin{tabular}{l}\n",
       "\t 2\\\\\n",
       "\t 9\\\\\n",
       "\\end{tabular}\n"
      ],
      "text/markdown": [
       "\n",
       "A matrix: 2 × 1 of type dbl\n",
       "\n",
       "| 2 |\n",
       "| 9 |\n",
       "\n"
      ],
      "text/plain": [
       "     [,1]\n",
       "[1,] 2   \n",
       "[2,] 9   "
      ]
     },
     "metadata": {},
     "output_type": "display_data"
    }
   ],
   "source": [
    "A2%*%x_sel2"
   ]
  },
  {
   "cell_type": "markdown",
   "metadata": {},
   "source": [
    "Podemos ver que funcionó correctamente, ya que Ax=b.\n",
    "\n",
    "Ahora probaremos con $A_{3x3}$ buscamos $b3 = (2,9,-5)$"
   ]
  },
  {
   "cell_type": "code",
   "execution_count": 20,
   "metadata": {},
   "outputs": [
    {
     "data": {
      "text/html": [
       "<table>\n",
       "<caption>A matrix: 3 × 1 of type dbl</caption>\n",
       "<tbody>\n",
       "\t<tr><td> 0.1666667</td></tr>\n",
       "\t<tr><td> 8.8333333</td></tr>\n",
       "\t<tr><td>-3.6666667</td></tr>\n",
       "</tbody>\n",
       "</table>\n"
      ],
      "text/latex": [
       "A matrix: 3 × 1 of type dbl\n",
       "\\begin{tabular}{l}\n",
       "\t  0.1666667\\\\\n",
       "\t  8.8333333\\\\\n",
       "\t -3.6666667\\\\\n",
       "\\end{tabular}\n"
      ],
      "text/markdown": [
       "\n",
       "A matrix: 3 × 1 of type dbl\n",
       "\n",
       "|  0.1666667 |\n",
       "|  8.8333333 |\n",
       "| -3.6666667 |\n",
       "\n"
      ],
      "text/plain": [
       "     [,1]      \n",
       "[1,]  0.1666667\n",
       "[2,]  8.8333333\n",
       "[3,] -3.6666667"
      ]
     },
     "metadata": {},
     "output_type": "display_data"
    }
   ],
   "source": [
    "A3%*%x_sel3"
   ]
  },
  {
   "cell_type": "markdown",
   "metadata": {},
   "source": [
    "En este caso podemos ver que la función no arrojó correctamente los valores de Ax=b.\n",
    "\n",
    "Seguimos con el caso $A_{4x4}$ y buscamos que $b4 = (15,-6,17,-7)$"
   ]
  },
  {
   "cell_type": "code",
   "execution_count": 21,
   "metadata": {},
   "outputs": [
    {
     "data": {
      "text/html": [
       "<table>\n",
       "<caption>A matrix: 4 × 1 of type dbl</caption>\n",
       "<tbody>\n",
       "\t<tr><td> 19.2029412</td></tr>\n",
       "\t<tr><td> -5.6382353</td></tr>\n",
       "\t<tr><td>  0.5911765</td></tr>\n",
       "\t<tr><td>-11.7852941</td></tr>\n",
       "</tbody>\n",
       "</table>\n"
      ],
      "text/latex": [
       "A matrix: 4 × 1 of type dbl\n",
       "\\begin{tabular}{l}\n",
       "\t  19.2029412\\\\\n",
       "\t  -5.6382353\\\\\n",
       "\t   0.5911765\\\\\n",
       "\t -11.7852941\\\\\n",
       "\\end{tabular}\n"
      ],
      "text/markdown": [
       "\n",
       "A matrix: 4 × 1 of type dbl\n",
       "\n",
       "|  19.2029412 |\n",
       "|  -5.6382353 |\n",
       "|   0.5911765 |\n",
       "| -11.7852941 |\n",
       "\n"
      ],
      "text/plain": [
       "     [,1]       \n",
       "[1,]  19.2029412\n",
       "[2,]  -5.6382353\n",
       "[3,]   0.5911765\n",
       "[4,] -11.7852941"
      ]
     },
     "metadata": {},
     "output_type": "display_data"
    }
   ],
   "source": [
    "A4%*%x_sel4"
   ]
  },
  {
   "cell_type": "markdown",
   "metadata": {},
   "source": [
    "Podemos observar que tampoco arrojó balores cercanos de Ax=b.\n",
    "\n",
    "Finalmente probaremos con $A-{5x5}$ y buscamos $b5 = (7,1,33,24,-49)$"
   ]
  },
  {
   "cell_type": "code",
   "execution_count": 22,
   "metadata": {},
   "outputs": [
    {
     "data": {
      "text/html": [
       "<table>\n",
       "<caption>A matrix: 5 × 1 of type dbl</caption>\n",
       "<tbody>\n",
       "\t<tr><td> 27.976974</td></tr>\n",
       "\t<tr><td> 11.503845</td></tr>\n",
       "\t<tr><td> 18.094858</td></tr>\n",
       "\t<tr><td>  8.093239</td></tr>\n",
       "\t<tr><td>-37.052412</td></tr>\n",
       "</tbody>\n",
       "</table>\n"
      ],
      "text/latex": [
       "A matrix: 5 × 1 of type dbl\n",
       "\\begin{tabular}{l}\n",
       "\t  27.976974\\\\\n",
       "\t  11.503845\\\\\n",
       "\t  18.094858\\\\\n",
       "\t   8.093239\\\\\n",
       "\t -37.052412\\\\\n",
       "\\end{tabular}\n"
      ],
      "text/markdown": [
       "\n",
       "A matrix: 5 × 1 of type dbl\n",
       "\n",
       "|  27.976974 |\n",
       "|  11.503845 |\n",
       "|  18.094858 |\n",
       "|   8.093239 |\n",
       "| -37.052412 |\n",
       "\n"
      ],
      "text/plain": [
       "     [,1]      \n",
       "[1,]  27.976974\n",
       "[2,]  11.503845\n",
       "[3,]  18.094858\n",
       "[4,]   8.093239\n",
       "[5,] -37.052412"
      ]
     },
     "metadata": {},
     "output_type": "display_data"
    }
   ],
   "source": [
    "A5%*%x_sel5"
   ]
  },
  {
   "cell_type": "markdown",
   "metadata": {},
   "source": [
    "Podemos observar que tampoco arrojó valores esperados.\n",
    "\n",
    "**Principales hallazos del test 4**\n",
    "\n",
    "La función arroja valores lejanos a los esperados para matrices con dimensiones mayores a 2x2.\n"
   ]
  },
  {
   "cell_type": "markdown",
   "metadata": {},
   "source": [
    "**Test 5**\n",
    "\n",
    "**Objetivo del test 5:** Verificar que la función se comporta correctamente para matrices A de $10^2 \\times 10^2$ **pseudoaleatorias** y un sistema homogéneo.\n",
    "\n",
    "**Implementación del test 5:**"
   ]
  },
  {
   "cell_type": "markdown",
   "metadata": {},
   "source": [
    "Para la creación de matrices pseudoaleatorias, haremos uso del paquete **mlsjunkgen** que dado un conjunto de input seeds: w,x,y,z genera matrices de números pseudo-aleatorios entre 0 y 1."
   ]
  },
  {
   "cell_type": "code",
   "execution_count": 7,
   "metadata": {},
   "outputs": [
    {
     "name": "stderr",
     "output_type": "stream",
     "text": [
      "system (cmd0): /usr/lib/R/bin/R CMD INSTALL\n",
      "\n",
      "foundpkgs: mlsjunkgen, /tmp/RtmpfyICEk/downloaded_packages/mlsjunkgen_0.1.1.tar.gz\n",
      "\n",
      "files: /tmp/RtmpfyICEk/downloaded_packages/mlsjunkgen_0.1.1.tar.gz\n",
      "\n",
      "1): succeeded '/usr/lib/R/bin/R CMD INSTALL -l '/usr/local/lib/R/site-library' /tmp/RtmpfyICEk/downloaded_packages/mlsjunkgen_0.1.1.tar.gz'\n",
      "\n"
     ]
    }
   ],
   "source": [
    "install.packages(\"mlsjunkgen\",lib=\"/usr/local/lib/R/site-library/\",\n",
    "                repos=\"https://cran.itam.mx/\",verbose=TRUE)"
   ]
  },
  {
   "cell_type": "code",
   "execution_count": 8,
   "metadata": {},
   "outputs": [],
   "source": [
    "library(mlsjunkgen)"
   ]
  },
  {
   "cell_type": "code",
   "execution_count": 9,
   "metadata": {},
   "outputs": [],
   "source": [
    "w <- 1\n",
    "x <- 5\n",
    "y <- 3\n",
    "z <- 4\n",
    "\n",
    "n<-10**2\n",
    "\n",
    "#Definimos A matriz pseudo-aleatoria de números entre 0 y 1 con 16 decimales \n",
    "A<-mlsjunkgenm(nrow = n, ncol = n, w = w, x = x, y = y, z = z, round = 16)\n",
    "#Definimos b vector de ceros\n",
    "b<-c(rep(0, len=n))\n",
    "TOL<-10**-8\n",
    "maxsweep<-20"
   ]
  },
  {
   "cell_type": "code",
   "execution_count": 10,
   "metadata": {},
   "outputs": [],
   "source": [
    "#Función\n",
    "x_sel <- sel_solver(A,b,TOL,maxsweep)"
   ]
  },
  {
   "cell_type": "code",
   "execution_count": 12,
   "metadata": {},
   "outputs": [
    {
     "data": {
      "text/html": [
       "TRUE"
      ],
      "text/latex": [
       "TRUE"
      ],
      "text/markdown": [
       "TRUE"
      ],
      "text/plain": [
       "[1] TRUE"
      ]
     },
     "metadata": {},
     "output_type": "display_data"
    }
   ],
   "source": [
    "#Comprobamos que la solución x es correcta\n",
    "Comp<-A%*%x_sel\n",
    "all(Comp==b)"
   ]
  },
  {
   "cell_type": "markdown",
   "metadata": {},
   "source": [
    "**Principales hallazos del test 5**\n",
    "\n",
    "* La función arroja resultados correctos para el SEL propuesto."
   ]
  },
  {
   "cell_type": "markdown",
   "metadata": {},
   "source": [
    "**Test 6**\n",
    "\n",
    "**Objetivo del test 6:** Verificar que la función se comporta correctamente para matrices A de $10^2 \\times 10^2$ y $10^1 \\times 10^1$ **pseudoaleatorias** y diferentes lados derechos.\n",
    "\n",
    "**Implementación del test 6:**"
   ]
  },
  {
   "cell_type": "code",
   "execution_count": 13,
   "metadata": {},
   "outputs": [
    {
     "data": {
      "text/html": [
       "<table>\n",
       "<caption>A matrix: 100 × 100 of type dbl</caption>\n",
       "<tbody>\n",
       "\t<tr><td>0.847093986</td><td>0.36168442</td><td>0.77330303</td><td>0.77242522</td><td>0.63557536</td><td>0.38933633</td><td>0.437719895</td><td>0.29639091</td><td>0.55680276</td><td>0.748826701</td><td>⋯</td><td>0.105783077</td><td>0.99061593</td><td>0.84818752</td><td>0.37081655</td><td>0.86610689</td><td>0.099294222</td><td>0.42965591</td><td>0.04260894</td><td>0.12798122</td><td>0.340566241</td></tr>\n",
       "\t<tr><td>0.746115227</td><td>0.73389915</td><td>0.55074111</td><td>0.86946199</td><td>0.86020675</td><td>0.46693459</td><td>0.860517084</td><td>0.90706054</td><td>0.39866062</td><td>0.054475579</td><td>⋯</td><td>0.876869208</td><td>0.61195819</td><td>0.43295866</td><td>0.21917499</td><td>0.71633592</td><td>0.024584666</td><td>0.03500316</td><td>0.80819424</td><td>0.48228823</td><td>0.081167505</td></tr>\n",
       "\t<tr><td>0.436393491</td><td>0.54766020</td><td>0.95701550</td><td>0.55969012</td><td>0.12996766</td><td>0.98141020</td><td>0.683178602</td><td>0.82494290</td><td>0.44867648</td><td>0.347169291</td><td>⋯</td><td>0.916785280</td><td>0.65797825</td><td>0.43886193</td><td>0.63009880</td><td>0.28394267</td><td>0.520462599</td><td>0.29779099</td><td>0.79734805</td><td>0.28453628</td><td>0.853584486</td></tr>\n",
       "\t<tr><td>0.003548722</td><td>0.39197078</td><td>0.06625749</td><td>0.84554358</td><td>0.96037845</td><td>0.27967929</td><td>0.076055612</td><td>0.26137673</td><td>0.68498094</td><td>0.528052706</td><td>⋯</td><td>0.381578084</td><td>0.23450814</td><td>0.73509135</td><td>0.33784795</td><td>0.43191872</td><td>0.480533013</td><td>0.65780135</td><td>0.05478402</td><td>0.99987130</td><td>0.565547002</td></tr>\n",
       "\t<tr><td>0.262946911</td><td>0.05150537</td><td>0.75235196</td><td>0.85939965</td><td>0.70175734</td><td>0.21235088</td><td>0.946810412</td><td>0.81798472</td><td>0.43112900</td><td>0.788326610</td><td>⋯</td><td>0.390865956</td><td>0.73193649</td><td>0.27403011</td><td>0.59904680</td><td>0.21075771</td><td>0.857868188</td><td>0.64555033</td><td>0.52056738</td><td>0.06092601</td><td>0.006528081</td></tr>\n",
       "\t<tr><td>0.324979464</td><td>0.90380362</td><td>0.85276315</td><td>0.50764604</td><td>0.31257446</td><td>0.97423442</td><td>0.745266893</td><td>0.07476735</td><td>0.78205285</td><td>0.080686493</td><td>⋯</td><td>0.916048921</td><td>0.35475290</td><td>0.82374186</td><td>0.96604516</td><td>0.70459031</td><td>0.061150261</td><td>0.33830607</td><td>0.10863037</td><td>0.30356968</td><td>0.827696467</td></tr>\n",
       "\t<tr><td>0.622638935</td><td>0.54941419</td><td>0.88189912</td><td>0.86039902</td><td>0.71774556</td><td>0.31272255</td><td>0.173267526</td><td>0.76588454</td><td>0.32562647</td><td>0.755235776</td><td>⋯</td><td>0.511089633</td><td>0.81347593</td><td>0.12736457</td><td>0.40042274</td><td>0.50047315</td><td>0.264999833</td><td>0.38756355</td><td>0.19027447</td><td>0.75240920</td><td>0.571884661</td></tr>\n",
       "\t<tr><td>0.118732307</td><td>0.68051559</td><td>0.76047701</td><td>0.48606880</td><td>0.99146612</td><td>0.63651436</td><td>0.431093580</td><td>0.23703407</td><td>0.98460707</td><td>0.411111143</td><td>⋯</td><td>0.387606692</td><td>0.52376974</td><td>0.76203318</td><td>0.39178065</td><td>0.10929500</td><td>0.974052620</td><td>0.96947347</td><td>0.24320695</td><td>0.65034552</td><td>0.859907216</td></tr>\n",
       "\t<tr><td>0.733660081</td><td>0.52867955</td><td>0.85257220</td><td>0.18448507</td><td>0.19690196</td><td>0.04485164</td><td>0.688682007</td><td>0.68806613</td><td>0.16214976</td><td>0.853113471</td><td>⋯</td><td>0.560976589</td><td>0.44064833</td><td>0.66679074</td><td>0.64832613</td><td>0.69730278</td><td>0.999826525</td><td>0.99216408</td><td>0.22286483</td><td>0.60342368</td><td>0.277724271</td></tr>\n",
       "\t<tr><td>0.039080997</td><td>0.73732215</td><td>0.12979027</td><td>0.26085527</td><td>0.03380972</td><td>0.77457998</td><td>0.458568254</td><td>0.25638119</td><td>0.17124881</td><td>0.666538066</td><td>⋯</td><td>0.201221782</td><td>0.52840397</td><td>0.37924595</td><td>0.80459883</td><td>0.67467377</td><td>0.483378378</td><td>0.77956018</td><td>0.53568988</td><td>0.44846674</td><td>0.588118518</td></tr>\n",
       "\t<tr><td>0.971389061</td><td>0.93808306</td><td>0.25011178</td><td>0.62212096</td><td>0.96132187</td><td>0.59397176</td><td>0.125172130</td><td>0.86667313</td><td>0.37282831</td><td>0.818885303</td><td>⋯</td><td>0.991129069</td><td>0.14493684</td><td>0.62233704</td><td>0.59871229</td><td>0.52331029</td><td>0.814053416</td><td>0.94163583</td><td>0.30620256</td><td>0.91136249</td><td>0.041044260</td></tr>\n",
       "\t<tr><td>0.261765050</td><td>0.80932266</td><td>0.44651256</td><td>0.72269043</td><td>0.48331063</td><td>0.06315781</td><td>0.591555483</td><td>0.30806486</td><td>0.92248761</td><td>0.364588028</td><td>⋯</td><td>0.782031153</td><td>0.62984317</td><td>0.53502221</td><td>0.77064885</td><td>0.37809836</td><td>0.947743151</td><td>0.13050563</td><td>0.69335645</td><td>0.05739092</td><td>0.125341784</td></tr>\n",
       "\t<tr><td>0.746492613</td><td>0.15567685</td><td>0.01891482</td><td>0.64657198</td><td>0.22969843</td><td>0.16721579</td><td>0.888977652</td><td>0.09128875</td><td>0.26964883</td><td>0.775536821</td><td>⋯</td><td>0.889477678</td><td>0.83280294</td><td>0.70695018</td><td>0.34794919</td><td>0.83655772</td><td>0.028526766</td><td>0.70177646</td><td>0.05677451</td><td>0.71141559</td><td>0.567084560</td></tr>\n",
       "\t<tr><td>0.180259315</td><td>0.55322123</td><td>0.69595774</td><td>0.28702928</td><td>0.41862568</td><td>0.45993080</td><td>0.327084398</td><td>0.46409072</td><td>0.87193835</td><td>0.941731827</td><td>⋯</td><td>0.511217650</td><td>0.76387206</td><td>0.65958576</td><td>0.85502246</td><td>0.39991679</td><td>0.604616462</td><td>0.86378334</td><td>0.13237843</td><td>0.82389358</td><td>0.457293789</td></tr>\n",
       "\t<tr><td>0.554545199</td><td>0.45663607</td><td>0.83038490</td><td>0.96745603</td><td>0.13158317</td><td>0.55723482</td><td>0.105455948</td><td>0.78556927</td><td>0.53435800</td><td>0.425392930</td><td>⋯</td><td>0.761125083</td><td>0.86179090</td><td>0.92625883</td><td>0.63277092</td><td>0.21943810</td><td>0.701551692</td><td>0.54585780</td><td>0.29108387</td><td>0.98205531</td><td>0.649349094</td></tr>\n",
       "\t<tr><td>0.561715199</td><td>0.83248397</td><td>0.08767491</td><td>0.54843548</td><td>0.78084832</td><td>0.44256284</td><td>0.488366599</td><td>0.39536118</td><td>0.01178998</td><td>0.191593450</td><td>⋯</td><td>0.463844356</td><td>0.07399629</td><td>0.14691262</td><td>0.46725842</td><td>0.62129179</td><td>0.795613101</td><td>0.91891106</td><td>0.76418391</td><td>0.04257104</td><td>0.191196195</td></tr>\n",
       "\t<tr><td>0.129617045</td><td>0.13971409</td><td>0.79639145</td><td>0.77574434</td><td>0.25407090</td><td>0.84418674</td><td>0.389239933</td><td>0.89554500</td><td>0.44519360</td><td>0.434076203</td><td>⋯</td><td>0.187714768</td><td>0.98632547</td><td>0.61130813</td><td>0.03857373</td><td>0.63999732</td><td>0.566298887</td><td>0.53707488</td><td>0.71128459</td><td>0.65035995</td><td>0.762586411</td></tr>\n",
       "\t<tr><td>0.534053273</td><td>0.45788614</td><td>0.02308696</td><td>0.65878285</td><td>0.66595681</td><td>0.29330925</td><td>0.382903634</td><td>0.15898642</td><td>0.68139280</td><td>0.594568137</td><td>⋯</td><td>0.983215441</td><td>0.48041842</td><td>0.39316873</td><td>0.29228835</td><td>0.66546472</td><td>0.001891279</td><td>0.79406121</td><td>0.96447939</td><td>0.34874952</td><td>0.301367531</td></tr>\n",
       "\t<tr><td>0.982579836</td><td>0.81493023</td><td>0.08334665</td><td>0.38677351</td><td>0.31896274</td><td>0.94032741</td><td>0.003783282</td><td>0.37622449</td><td>0.86244867</td><td>0.858727630</td><td>⋯</td><td>0.868698156</td><td>0.33729244</td><td>0.65931631</td><td>0.66691012</td><td>0.09922765</td><td>0.242619833</td><td>0.89311545</td><td>0.39298936</td><td>0.49798513</td><td>0.062383804</td></tr>\n",
       "\t<tr><td>0.302642015</td><td>0.68487355</td><td>0.93060707</td><td>0.40094437</td><td>0.59554158</td><td>0.07946983</td><td>0.942607250</td><td>0.21434904</td><td>0.23478363</td><td>0.200419343</td><td>⋯</td><td>0.597784188</td><td>0.40184444</td><td>0.25572095</td><td>0.97774301</td><td>0.77319373</td><td>0.977657184</td><td>0.01973719</td><td>0.51093347</td><td>0.18322082</td><td>0.512357393</td></tr>\n",
       "\t<tr><td>0.864510360</td><td>0.76204609</td><td>0.19249924</td><td>0.27068361</td><td>0.09859011</td><td>0.44295626</td><td>0.753493800</td><td>0.37357790</td><td>0.67039252</td><td>0.989349674</td><td>⋯</td><td>0.102934414</td><td>0.69468891</td><td>0.41716180</td><td>0.97829509</td><td>0.06363984</td><td>0.716181860</td><td>0.53175927</td><td>0.29411959</td><td>0.42787568</td><td>0.782797685</td></tr>\n",
       "\t<tr><td>0.641709835</td><td>0.25729184</td><td>0.68977927</td><td>0.24202741</td><td>0.60657175</td><td>0.83517570</td><td>0.676331569</td><td>0.89218807</td><td>0.16084426</td><td>0.904140326</td><td>⋯</td><td>0.822218789</td><td>0.57019264</td><td>0.26201566</td><td>0.64033849</td><td>0.62035368</td><td>0.949775021</td><td>0.77070528</td><td>0.73240239</td><td>0.24187316</td><td>0.009594716</td></tr>\n",
       "\t<tr><td>0.507193009</td><td>0.48638286</td><td>0.51603689</td><td>0.92333445</td><td>0.08872773</td><td>0.12726458</td><td>0.021588270</td><td>0.17023343</td><td>0.81659614</td><td>0.001245041</td><td>⋯</td><td>0.173284839</td><td>0.19947180</td><td>0.48623190</td><td>0.96370432</td><td>0.87583450</td><td>0.742134708</td><td>0.04280001</td><td>0.75139647</td><td>0.68394019</td><td>0.328367455</td></tr>\n",
       "\t<tr><td>0.161585776</td><td>0.92185928</td><td>0.09666037</td><td>0.35269416</td><td>0.15056675</td><td>0.45951646</td><td>0.654937431</td><td>0.97289609</td><td>0.56459118</td><td>0.632140143</td><td>⋯</td><td>0.710136180</td><td>0.56925928</td><td>0.29125876</td><td>0.01571394</td><td>0.77212840</td><td>0.816039178</td><td>0.33005241</td><td>0.58656306</td><td>0.22453688</td><td>0.601000690</td></tr>\n",
       "\t<tr><td>0.354266485</td><td>0.55208116</td><td>0.47081117</td><td>0.04524306</td><td>0.01721888</td><td>0.68309036</td><td>0.531740316</td><td>0.48943068</td><td>0.86879193</td><td>0.680083204</td><td>⋯</td><td>0.268137437</td><td>0.64645125</td><td>0.40321863</td><td>0.04622681</td><td>0.84646136</td><td>0.806044500</td><td>0.36347952</td><td>0.46209436</td><td>0.18906540</td><td>0.863304963</td></tr>\n",
       "\t<tr><td>0.376784415</td><td>0.59271235</td><td>0.19321699</td><td>0.91873032</td><td>0.10248132</td><td>0.90342448</td><td>0.041405591</td><td>0.83307439</td><td>0.42748422</td><td>0.150201330</td><td>⋯</td><td>0.052044917</td><td>0.41975240</td><td>0.16182851</td><td>0.95020388</td><td>0.05916615</td><td>0.664903635</td><td>0.56076667</td><td>0.09767963</td><td>0.75589542</td><td>0.501111827</td></tr>\n",
       "\t<tr><td>0.415907996</td><td>0.48886942</td><td>0.53133224</td><td>0.65337935</td><td>0.04437433</td><td>0.58994848</td><td>0.222318860</td><td>0.49186519</td><td>0.59849157</td><td>0.115650597</td><td>⋯</td><td>0.002097399</td><td>0.38547726</td><td>0.50566265</td><td>0.33119926</td><td>0.16622306</td><td>0.022104572</td><td>0.29162646</td><td>0.15985637</td><td>0.82649622</td><td>0.856732330</td></tr>\n",
       "\t<tr><td>0.679549415</td><td>0.50662615</td><td>0.17512431</td><td>0.98527341</td><td>0.70465727</td><td>0.35085340</td><td>0.516948170</td><td>0.34402475</td><td>0.55731952</td><td>0.573897145</td><td>⋯</td><td>0.036577778</td><td>0.55611453</td><td>0.01132241</td><td>0.24378438</td><td>0.15308772</td><td>0.465243926</td><td>0.77615544</td><td>0.64331510</td><td>0.02167931</td><td>0.346876927</td></tr>\n",
       "\t<tr><td>0.101839912</td><td>0.25577182</td><td>0.22510939</td><td>0.28969145</td><td>0.54959336</td><td>0.32322209</td><td>0.290522459</td><td>0.49335218</td><td>0.86891684</td><td>0.760295039</td><td>⋯</td><td>0.275297725</td><td>0.26308532</td><td>0.75580327</td><td>0.08238694</td><td>0.09330137</td><td>0.862509034</td><td>0.02138457</td><td>0.33454219</td><td>0.85442262</td><td>0.227996927</td></tr>\n",
       "\t<tr><td>0.516642795</td><td>0.35309002</td><td>0.22554029</td><td>0.12757483</td><td>0.29388977</td><td>0.63347481</td><td>0.172205128</td><td>0.70596991</td><td>0.67802120</td><td>0.422205387</td><td>⋯</td><td>0.329414931</td><td>0.03442376</td><td>0.96743033</td><td>0.14499140</td><td>0.36609597</td><td>0.302458763</td><td>0.55319052</td><td>0.34644466</td><td>0.02115392</td><td>0.239521193</td></tr>\n",
       "\t<tr><td>⋮</td><td>⋮</td><td>⋮</td><td>⋮</td><td>⋮</td><td>⋮</td><td>⋮</td><td>⋮</td><td>⋮</td><td>⋮</td><td>⋱</td><td>⋮</td><td>⋮</td><td>⋮</td><td>⋮</td><td>⋮</td><td>⋮</td><td>⋮</td><td>⋮</td><td>⋮</td><td>⋮</td></tr>\n",
       "\t<tr><td>0.438944685</td><td>0.321324835</td><td>0.84279772</td><td>0.927622870</td><td>0.22466149</td><td>0.34500411</td><td>0.2112166</td><td>0.10753336</td><td>0.53222565</td><td>0.65482397</td><td>⋯</td><td>0.34008849</td><td>0.711985370</td><td>0.204081854</td><td>0.85864069</td><td>0.089725489</td><td>0.24153612</td><td>0.73153095</td><td>0.10964456</td><td>0.01269368</td><td>0.706051910</td></tr>\n",
       "\t<tr><td>0.056552321</td><td>0.799632612</td><td>0.67179221</td><td>0.038660897</td><td>0.29803538</td><td>0.38113396</td><td>0.9873402</td><td>0.58621806</td><td>0.49065385</td><td>0.20666534</td><td>⋯</td><td>0.10578114</td><td>0.367028515</td><td>0.621449741</td><td>0.18705594</td><td>0.729148010</td><td>0.31128863</td><td>0.79287953</td><td>0.57069171</td><td>0.15243922</td><td>0.927613619</td></tr>\n",
       "\t<tr><td>0.612099773</td><td>0.021365815</td><td>0.51954135</td><td>0.992243741</td><td>0.18904620</td><td>0.31079687</td><td>0.2748763</td><td>0.43091891</td><td>0.73659159</td><td>0.88401396</td><td>⋯</td><td>0.17336878</td><td>0.559400341</td><td>0.446615541</td><td>0.16317868</td><td>0.873838383</td><td>0.67587528</td><td>0.36164080</td><td>0.84919507</td><td>0.72404046</td><td>0.590392524</td></tr>\n",
       "\t<tr><td>0.603443788</td><td>0.111871647</td><td>0.06420440</td><td>0.419207513</td><td>0.14156963</td><td>0.22945644</td><td>0.3014888</td><td>0.86140337</td><td>0.42961418</td><td>0.83004709</td><td>⋯</td><td>0.15015154</td><td>0.125379762</td><td>0.003627721</td><td>0.20032511</td><td>0.295309607</td><td>0.09337087</td><td>0.45518481</td><td>0.61237839</td><td>0.77029083</td><td>0.762934625</td></tr>\n",
       "\t<tr><td>0.775671734</td><td>0.884057309</td><td>0.93639112</td><td>0.906222552</td><td>0.41280282</td><td>0.67646465</td><td>0.7199332</td><td>0.25239785</td><td>0.79320001</td><td>0.67474536</td><td>⋯</td><td>0.23215893</td><td>0.513809493</td><td>0.862522381</td><td>0.25663634</td><td>0.224472779</td><td>0.35806967</td><td>0.56806731</td><td>0.81734165</td><td>0.05242819</td><td>0.081457769</td></tr>\n",
       "\t<tr><td>0.298280690</td><td>0.151300737</td><td>0.28798480</td><td>0.533931743</td><td>0.01121821</td><td>0.21329037</td><td>0.4721213</td><td>0.76851653</td><td>0.77066071</td><td>0.26243975</td><td>⋯</td><td>0.03123193</td><td>0.789312483</td><td>0.062271468</td><td>0.55963769</td><td>0.753674817</td><td>0.67859007</td><td>0.51463317</td><td>0.16737537</td><td>0.30987674</td><td>0.372299024</td></tr>\n",
       "\t<tr><td>0.860343546</td><td>0.554385937</td><td>0.86231454</td><td>0.660752121</td><td>0.54689752</td><td>0.46267996</td><td>0.8942202</td><td>0.07984831</td><td>0.17548952</td><td>0.48317931</td><td>⋯</td><td>0.60800480</td><td>0.274308094</td><td>0.319577477</td><td>0.21892250</td><td>0.207107346</td><td>0.72497625</td><td>0.92878133</td><td>0.81878355</td><td>0.76519758</td><td>0.454981510</td></tr>\n",
       "\t<tr><td>0.538394625</td><td>0.451502710</td><td>0.78494212</td><td>0.425273661</td><td>0.37617363</td><td>0.83478716</td><td>0.4301279</td><td>0.06445753</td><td>0.16915079</td><td>0.97231242</td><td>⋯</td><td>0.17457679</td><td>0.211563357</td><td>0.067371464</td><td>0.10794067</td><td>0.464293755</td><td>0.18321080</td><td>0.89496424</td><td>0.95736118</td><td>0.13457337</td><td>0.013238260</td></tr>\n",
       "\t<tr><td>0.699020421</td><td>0.515962530</td><td>0.64351205</td><td>0.996400107</td><td>0.50388132</td><td>0.03150469</td><td>0.4141342</td><td>0.57861599</td><td>0.98938493</td><td>0.05813527</td><td>⋯</td><td>0.10194550</td><td>0.723047641</td><td>0.784683470</td><td>0.40818281</td><td>0.038528699</td><td>0.48409050</td><td>0.05952980</td><td>0.26350736</td><td>0.74056403</td><td>0.156060029</td></tr>\n",
       "\t<tr><td>0.005065657</td><td>0.392309247</td><td>0.19211982</td><td>0.747886914</td><td>0.93665641</td><td>0.18006464</td><td>0.8980898</td><td>0.28036663</td><td>0.20838159</td><td>0.20582356</td><td>⋯</td><td>0.89887969</td><td>0.023416292</td><td>0.996534273</td><td>0.33739853</td><td>0.255835597</td><td>0.42057203</td><td>0.67244601</td><td>0.47319312</td><td>0.56195529</td><td>0.263060421</td></tr>\n",
       "\t<tr><td>0.429801992</td><td>0.032801897</td><td>0.40663268</td><td>0.754481119</td><td>0.65105570</td><td>0.62929655</td><td>0.4763605</td><td>0.53534215</td><td>0.10731051</td><td>0.70219282</td><td>⋯</td><td>0.03209187</td><td>0.545552008</td><td>0.763535435</td><td>0.45929733</td><td>0.205448679</td><td>0.89179935</td><td>0.55207664</td><td>0.58357202</td><td>0.26331854</td><td>0.620870831</td></tr>\n",
       "\t<tr><td>0.055023609</td><td>0.374206835</td><td>0.62121112</td><td>0.634187500</td><td>0.70687949</td><td>0.95079227</td><td>0.4813071</td><td>0.94825671</td><td>0.38059143</td><td>0.61727864</td><td>⋯</td><td>0.76389151</td><td>0.955492883</td><td>0.513507329</td><td>0.02337484</td><td>0.583609653</td><td>0.11328146</td><td>0.30065659</td><td>0.81771765</td><td>0.42455567</td><td>0.058727245</td></tr>\n",
       "\t<tr><td>0.175793785</td><td>0.078358129</td><td>0.33164412</td><td>0.205439705</td><td>0.48241114</td><td>0.98088903</td><td>0.1731905</td><td>0.47113242</td><td>0.03887210</td><td>0.66843816</td><td>⋯</td><td>0.59661646</td><td>0.474425385</td><td>0.910367092</td><td>0.28212781</td><td>0.390839703</td><td>0.64343742</td><td>0.41884877</td><td>0.33881912</td><td>0.36461216</td><td>0.183702376</td></tr>\n",
       "\t<tr><td>0.234059336</td><td>0.915487493</td><td>0.01030417</td><td>0.330365467</td><td>0.21492943</td><td>0.16814193</td><td>0.1617733</td><td>0.39751731</td><td>0.92314581</td><td>0.29218334</td><td>⋯</td><td>0.11821847</td><td>0.002193704</td><td>0.135651629</td><td>0.58472791</td><td>0.352716981</td><td>0.73242850</td><td>0.85229316</td><td>0.28739705</td><td>0.66499660</td><td>0.507673060</td></tr>\n",
       "\t<tr><td>0.703730649</td><td>0.999254509</td><td>0.62419826</td><td>0.811847010</td><td>0.11271295</td><td>0.13380888</td><td>0.5086146</td><td>0.40964272</td><td>0.69954008</td><td>0.35366528</td><td>⋯</td><td>0.96106860</td><td>0.300517394</td><td>0.432182884</td><td>0.94048139</td><td>0.332320656</td><td>0.02538142</td><td>0.65728363</td><td>0.16518191</td><td>0.75785539</td><td>0.057357680</td></tr>\n",
       "\t<tr><td>0.591941778</td><td>0.419494233</td><td>0.58098671</td><td>0.134883310</td><td>0.75111527</td><td>0.73982019</td><td>0.4739602</td><td>0.45789401</td><td>0.20293842</td><td>0.32741933</td><td>⋯</td><td>0.90796099</td><td>0.823449155</td><td>0.152826601</td><td>0.56309393</td><td>0.056424677</td><td>0.30067407</td><td>0.93166661</td><td>0.01781217</td><td>0.38411761</td><td>0.188183157</td></tr>\n",
       "\t<tr><td>0.898734554</td><td>0.861598377</td><td>0.58078312</td><td>0.180911969</td><td>0.88962558</td><td>0.94698861</td><td>0.1568949</td><td>0.44444343</td><td>0.56150192</td><td>0.13264572</td><td>⋯</td><td>0.91080093</td><td>0.714790947</td><td>0.822738971</td><td>0.14124915</td><td>0.656870033</td><td>0.53365727</td><td>0.91887143</td><td>0.44956425</td><td>0.24172118</td><td>0.915785377</td></tr>\n",
       "\t<tr><td>0.477237702</td><td>0.343025331</td><td>0.21286075</td><td>0.895276870</td><td>0.53540217</td><td>0.91301568</td><td>0.4265010</td><td>0.16357033</td><td>0.25739338</td><td>0.37126544</td><td>⋯</td><td>0.60468550</td><td>0.043686096</td><td>0.442660156</td><td>0.67935217</td><td>0.003273330</td><td>0.72678012</td><td>0.09509415</td><td>0.76575349</td><td>0.35036077</td><td>0.466588801</td></tr>\n",
       "\t<tr><td>0.051174238</td><td>0.376102176</td><td>0.71251121</td><td>0.836798293</td><td>0.02261941</td><td>0.11152628</td><td>0.8174683</td><td>0.06205029</td><td>0.76709278</td><td>0.79543295</td><td>⋯</td><td>0.34244927</td><td>0.710276222</td><td>0.466271457</td><td>0.34137050</td><td>0.964687496</td><td>0.50922145</td><td>0.29373456</td><td>0.11029686</td><td>0.15940805</td><td>0.004970017</td></tr>\n",
       "\t<tr><td>0.080163975</td><td>0.000655535</td><td>0.67678053</td><td>0.063134068</td><td>0.80538036</td><td>0.23937150</td><td>0.9800614</td><td>0.83530519</td><td>0.30489070</td><td>0.76148634</td><td>⋯</td><td>0.45102893</td><td>0.964790819</td><td>0.900445336</td><td>0.13146976</td><td>0.004983051</td><td>0.30667002</td><td>0.48406443</td><td>0.10464922</td><td>0.46961587</td><td>0.824078601</td></tr>\n",
       "\t<tr><td>0.010052007</td><td>0.382996874</td><td>0.06948715</td><td>0.162618890</td><td>0.18994648</td><td>0.29122342</td><td>0.1078078</td><td>0.25733890</td><td>0.94531816</td><td>0.71941684</td><td>⋯</td><td>0.65605236</td><td>0.427699930</td><td>0.952210068</td><td>0.30314979</td><td>0.225955191</td><td>0.21306829</td><td>0.70843979</td><td>0.25386679</td><td>0.35043848</td><td>0.748978842</td></tr>\n",
       "\t<tr><td>0.841604548</td><td>0.045126244</td><td>0.53096004</td><td>0.356475860</td><td>0.74371797</td><td>0.25658372</td><td>0.7780931</td><td>0.93182773</td><td>0.15436946</td><td>0.70417696</td><td>⋯</td><td>0.33281290</td><td>0.268973840</td><td>0.324214190</td><td>0.35174052</td><td>0.435076801</td><td>0.51134255</td><td>0.29832297</td><td>0.72643147</td><td>0.72979272</td><td>0.038847057</td></tr>\n",
       "\t<tr><td>0.272795811</td><td>0.757651065</td><td>0.09454484</td><td>0.887068241</td><td>0.41997791</td><td>0.40002383</td><td>0.5645896</td><td>0.73243672</td><td>0.76515428</td><td>0.40465812</td><td>⋯</td><td>0.77263989</td><td>0.638232468</td><td>0.313181189</td><td>0.91718180</td><td>0.900042723</td><td>0.84314389</td><td>0.55918567</td><td>0.10330443</td><td>0.99088876</td><td>0.132822323</td></tr>\n",
       "\t<tr><td>0.231723838</td><td>0.920154905</td><td>0.23561946</td><td>0.841197785</td><td>0.25638153</td><td>0.99143925</td><td>0.2846364</td><td>0.23070437</td><td>0.26443032</td><td>0.12434679</td><td>⋯</td><td>0.89995300</td><td>0.446459449</td><td>0.486992133</td><td>0.05759375</td><td>0.625581907</td><td>0.02157357</td><td>0.96146575</td><td>0.96709579</td><td>0.79673810</td><td>0.745067139</td></tr>\n",
       "\t<tr><td>0.473956185</td><td>0.172341940</td><td>0.62871768</td><td>0.258225203</td><td>0.11600364</td><td>0.66182663</td><td>0.6823918</td><td>0.30140872</td><td>0.25481720</td><td>0.46241680</td><td>⋯</td><td>0.62421149</td><td>0.002374872</td><td>0.051287139</td><td>0.64153534</td><td>0.675470530</td><td>0.11881555</td><td>0.69484616</td><td>0.14635534</td><td>0.21954981</td><td>0.713731901</td></tr>\n",
       "\t<tr><td>0.169264068</td><td>0.208479801</td><td>0.97806120</td><td>0.002982724</td><td>0.01962254</td><td>0.95653013</td><td>0.3507208</td><td>0.79114457</td><td>0.57962358</td><td>0.97928390</td><td>⋯</td><td>0.20914356</td><td>0.999266718</td><td>0.509910793</td><td>0.99918186</td><td>0.780855776</td><td>0.04481506</td><td>0.88150228</td><td>0.68154808</td><td>0.25166592</td><td>0.609118265</td></tr>\n",
       "\t<tr><td>0.428129955</td><td>0.448526093</td><td>0.57878222</td><td>0.318448837</td><td>0.38964110</td><td>0.29996738</td><td>0.3273449</td><td>0.92231323</td><td>0.12589432</td><td>0.13997958</td><td>⋯</td><td>0.96682106</td><td>0.721661840</td><td>0.647966785</td><td>0.72451240</td><td>0.349884765</td><td>0.14161308</td><td>0.86012210</td><td>0.34199629</td><td>0.18598143</td><td>0.144084482</td></tr>\n",
       "\t<tr><td>0.668898256</td><td>0.987643558</td><td>0.30231711</td><td>0.701190254</td><td>0.78450610</td><td>0.02322218</td><td>0.5756909</td><td>0.33204421</td><td>0.31272906</td><td>0.99718068</td><td>⋯</td><td>0.87517301</td><td>0.660749654</td><td>0.941910608</td><td>0.87220261</td><td>0.612155026</td><td>0.63019525</td><td>0.03553025</td><td>0.88936473</td><td>0.15894777</td><td>0.472520423</td></tr>\n",
       "\t<tr><td>0.329573368</td><td>0.112138233</td><td>0.67712389</td><td>0.368798433</td><td>0.03655073</td><td>0.55485494</td><td>0.1461117</td><td>0.27468328</td><td>0.04378324</td><td>0.09108484</td><td>⋯</td><td>0.81599601</td><td>0.011430454</td><td>0.819050597</td><td>0.55690550</td><td>0.985133766</td><td>0.03101468</td><td>0.30061597</td><td>0.49406014</td><td>0.29520186</td><td>0.057759170</td></tr>\n",
       "\t<tr><td>0.144286382</td><td>0.768940271</td><td>0.53720342</td><td>0.790040732</td><td>0.61270719</td><td>0.49161566</td><td>0.2992909</td><td>0.01683206</td><td>0.78092608</td><td>0.01202526</td><td>⋯</td><td>0.28558836</td><td>0.829410339</td><td>0.815293529</td><td>0.93768820</td><td>0.851046518</td><td>0.50979375</td><td>0.23058778</td><td>0.89700334</td><td>0.04791818</td><td>0.939362277</td></tr>\n",
       "</tbody>\n",
       "</table>\n"
      ],
      "text/latex": [
       "A matrix: 100 × 100 of type dbl\n",
       "\\begin{tabular}{lllllllllllllllllllll}\n",
       "\t 0.847093986 & 0.36168442 & 0.77330303 & 0.77242522 & 0.63557536 & 0.38933633 & 0.437719895 & 0.29639091 & 0.55680276 & 0.748826701 & ⋯ & 0.105783077 & 0.99061593 & 0.84818752 & 0.37081655 & 0.86610689 & 0.099294222 & 0.42965591 & 0.04260894 & 0.12798122 & 0.340566241\\\\\n",
       "\t 0.746115227 & 0.73389915 & 0.55074111 & 0.86946199 & 0.86020675 & 0.46693459 & 0.860517084 & 0.90706054 & 0.39866062 & 0.054475579 & ⋯ & 0.876869208 & 0.61195819 & 0.43295866 & 0.21917499 & 0.71633592 & 0.024584666 & 0.03500316 & 0.80819424 & 0.48228823 & 0.081167505\\\\\n",
       "\t 0.436393491 & 0.54766020 & 0.95701550 & 0.55969012 & 0.12996766 & 0.98141020 & 0.683178602 & 0.82494290 & 0.44867648 & 0.347169291 & ⋯ & 0.916785280 & 0.65797825 & 0.43886193 & 0.63009880 & 0.28394267 & 0.520462599 & 0.29779099 & 0.79734805 & 0.28453628 & 0.853584486\\\\\n",
       "\t 0.003548722 & 0.39197078 & 0.06625749 & 0.84554358 & 0.96037845 & 0.27967929 & 0.076055612 & 0.26137673 & 0.68498094 & 0.528052706 & ⋯ & 0.381578084 & 0.23450814 & 0.73509135 & 0.33784795 & 0.43191872 & 0.480533013 & 0.65780135 & 0.05478402 & 0.99987130 & 0.565547002\\\\\n",
       "\t 0.262946911 & 0.05150537 & 0.75235196 & 0.85939965 & 0.70175734 & 0.21235088 & 0.946810412 & 0.81798472 & 0.43112900 & 0.788326610 & ⋯ & 0.390865956 & 0.73193649 & 0.27403011 & 0.59904680 & 0.21075771 & 0.857868188 & 0.64555033 & 0.52056738 & 0.06092601 & 0.006528081\\\\\n",
       "\t 0.324979464 & 0.90380362 & 0.85276315 & 0.50764604 & 0.31257446 & 0.97423442 & 0.745266893 & 0.07476735 & 0.78205285 & 0.080686493 & ⋯ & 0.916048921 & 0.35475290 & 0.82374186 & 0.96604516 & 0.70459031 & 0.061150261 & 0.33830607 & 0.10863037 & 0.30356968 & 0.827696467\\\\\n",
       "\t 0.622638935 & 0.54941419 & 0.88189912 & 0.86039902 & 0.71774556 & 0.31272255 & 0.173267526 & 0.76588454 & 0.32562647 & 0.755235776 & ⋯ & 0.511089633 & 0.81347593 & 0.12736457 & 0.40042274 & 0.50047315 & 0.264999833 & 0.38756355 & 0.19027447 & 0.75240920 & 0.571884661\\\\\n",
       "\t 0.118732307 & 0.68051559 & 0.76047701 & 0.48606880 & 0.99146612 & 0.63651436 & 0.431093580 & 0.23703407 & 0.98460707 & 0.411111143 & ⋯ & 0.387606692 & 0.52376974 & 0.76203318 & 0.39178065 & 0.10929500 & 0.974052620 & 0.96947347 & 0.24320695 & 0.65034552 & 0.859907216\\\\\n",
       "\t 0.733660081 & 0.52867955 & 0.85257220 & 0.18448507 & 0.19690196 & 0.04485164 & 0.688682007 & 0.68806613 & 0.16214976 & 0.853113471 & ⋯ & 0.560976589 & 0.44064833 & 0.66679074 & 0.64832613 & 0.69730278 & 0.999826525 & 0.99216408 & 0.22286483 & 0.60342368 & 0.277724271\\\\\n",
       "\t 0.039080997 & 0.73732215 & 0.12979027 & 0.26085527 & 0.03380972 & 0.77457998 & 0.458568254 & 0.25638119 & 0.17124881 & 0.666538066 & ⋯ & 0.201221782 & 0.52840397 & 0.37924595 & 0.80459883 & 0.67467377 & 0.483378378 & 0.77956018 & 0.53568988 & 0.44846674 & 0.588118518\\\\\n",
       "\t 0.971389061 & 0.93808306 & 0.25011178 & 0.62212096 & 0.96132187 & 0.59397176 & 0.125172130 & 0.86667313 & 0.37282831 & 0.818885303 & ⋯ & 0.991129069 & 0.14493684 & 0.62233704 & 0.59871229 & 0.52331029 & 0.814053416 & 0.94163583 & 0.30620256 & 0.91136249 & 0.041044260\\\\\n",
       "\t 0.261765050 & 0.80932266 & 0.44651256 & 0.72269043 & 0.48331063 & 0.06315781 & 0.591555483 & 0.30806486 & 0.92248761 & 0.364588028 & ⋯ & 0.782031153 & 0.62984317 & 0.53502221 & 0.77064885 & 0.37809836 & 0.947743151 & 0.13050563 & 0.69335645 & 0.05739092 & 0.125341784\\\\\n",
       "\t 0.746492613 & 0.15567685 & 0.01891482 & 0.64657198 & 0.22969843 & 0.16721579 & 0.888977652 & 0.09128875 & 0.26964883 & 0.775536821 & ⋯ & 0.889477678 & 0.83280294 & 0.70695018 & 0.34794919 & 0.83655772 & 0.028526766 & 0.70177646 & 0.05677451 & 0.71141559 & 0.567084560\\\\\n",
       "\t 0.180259315 & 0.55322123 & 0.69595774 & 0.28702928 & 0.41862568 & 0.45993080 & 0.327084398 & 0.46409072 & 0.87193835 & 0.941731827 & ⋯ & 0.511217650 & 0.76387206 & 0.65958576 & 0.85502246 & 0.39991679 & 0.604616462 & 0.86378334 & 0.13237843 & 0.82389358 & 0.457293789\\\\\n",
       "\t 0.554545199 & 0.45663607 & 0.83038490 & 0.96745603 & 0.13158317 & 0.55723482 & 0.105455948 & 0.78556927 & 0.53435800 & 0.425392930 & ⋯ & 0.761125083 & 0.86179090 & 0.92625883 & 0.63277092 & 0.21943810 & 0.701551692 & 0.54585780 & 0.29108387 & 0.98205531 & 0.649349094\\\\\n",
       "\t 0.561715199 & 0.83248397 & 0.08767491 & 0.54843548 & 0.78084832 & 0.44256284 & 0.488366599 & 0.39536118 & 0.01178998 & 0.191593450 & ⋯ & 0.463844356 & 0.07399629 & 0.14691262 & 0.46725842 & 0.62129179 & 0.795613101 & 0.91891106 & 0.76418391 & 0.04257104 & 0.191196195\\\\\n",
       "\t 0.129617045 & 0.13971409 & 0.79639145 & 0.77574434 & 0.25407090 & 0.84418674 & 0.389239933 & 0.89554500 & 0.44519360 & 0.434076203 & ⋯ & 0.187714768 & 0.98632547 & 0.61130813 & 0.03857373 & 0.63999732 & 0.566298887 & 0.53707488 & 0.71128459 & 0.65035995 & 0.762586411\\\\\n",
       "\t 0.534053273 & 0.45788614 & 0.02308696 & 0.65878285 & 0.66595681 & 0.29330925 & 0.382903634 & 0.15898642 & 0.68139280 & 0.594568137 & ⋯ & 0.983215441 & 0.48041842 & 0.39316873 & 0.29228835 & 0.66546472 & 0.001891279 & 0.79406121 & 0.96447939 & 0.34874952 & 0.301367531\\\\\n",
       "\t 0.982579836 & 0.81493023 & 0.08334665 & 0.38677351 & 0.31896274 & 0.94032741 & 0.003783282 & 0.37622449 & 0.86244867 & 0.858727630 & ⋯ & 0.868698156 & 0.33729244 & 0.65931631 & 0.66691012 & 0.09922765 & 0.242619833 & 0.89311545 & 0.39298936 & 0.49798513 & 0.062383804\\\\\n",
       "\t 0.302642015 & 0.68487355 & 0.93060707 & 0.40094437 & 0.59554158 & 0.07946983 & 0.942607250 & 0.21434904 & 0.23478363 & 0.200419343 & ⋯ & 0.597784188 & 0.40184444 & 0.25572095 & 0.97774301 & 0.77319373 & 0.977657184 & 0.01973719 & 0.51093347 & 0.18322082 & 0.512357393\\\\\n",
       "\t 0.864510360 & 0.76204609 & 0.19249924 & 0.27068361 & 0.09859011 & 0.44295626 & 0.753493800 & 0.37357790 & 0.67039252 & 0.989349674 & ⋯ & 0.102934414 & 0.69468891 & 0.41716180 & 0.97829509 & 0.06363984 & 0.716181860 & 0.53175927 & 0.29411959 & 0.42787568 & 0.782797685\\\\\n",
       "\t 0.641709835 & 0.25729184 & 0.68977927 & 0.24202741 & 0.60657175 & 0.83517570 & 0.676331569 & 0.89218807 & 0.16084426 & 0.904140326 & ⋯ & 0.822218789 & 0.57019264 & 0.26201566 & 0.64033849 & 0.62035368 & 0.949775021 & 0.77070528 & 0.73240239 & 0.24187316 & 0.009594716\\\\\n",
       "\t 0.507193009 & 0.48638286 & 0.51603689 & 0.92333445 & 0.08872773 & 0.12726458 & 0.021588270 & 0.17023343 & 0.81659614 & 0.001245041 & ⋯ & 0.173284839 & 0.19947180 & 0.48623190 & 0.96370432 & 0.87583450 & 0.742134708 & 0.04280001 & 0.75139647 & 0.68394019 & 0.328367455\\\\\n",
       "\t 0.161585776 & 0.92185928 & 0.09666037 & 0.35269416 & 0.15056675 & 0.45951646 & 0.654937431 & 0.97289609 & 0.56459118 & 0.632140143 & ⋯ & 0.710136180 & 0.56925928 & 0.29125876 & 0.01571394 & 0.77212840 & 0.816039178 & 0.33005241 & 0.58656306 & 0.22453688 & 0.601000690\\\\\n",
       "\t 0.354266485 & 0.55208116 & 0.47081117 & 0.04524306 & 0.01721888 & 0.68309036 & 0.531740316 & 0.48943068 & 0.86879193 & 0.680083204 & ⋯ & 0.268137437 & 0.64645125 & 0.40321863 & 0.04622681 & 0.84646136 & 0.806044500 & 0.36347952 & 0.46209436 & 0.18906540 & 0.863304963\\\\\n",
       "\t 0.376784415 & 0.59271235 & 0.19321699 & 0.91873032 & 0.10248132 & 0.90342448 & 0.041405591 & 0.83307439 & 0.42748422 & 0.150201330 & ⋯ & 0.052044917 & 0.41975240 & 0.16182851 & 0.95020388 & 0.05916615 & 0.664903635 & 0.56076667 & 0.09767963 & 0.75589542 & 0.501111827\\\\\n",
       "\t 0.415907996 & 0.48886942 & 0.53133224 & 0.65337935 & 0.04437433 & 0.58994848 & 0.222318860 & 0.49186519 & 0.59849157 & 0.115650597 & ⋯ & 0.002097399 & 0.38547726 & 0.50566265 & 0.33119926 & 0.16622306 & 0.022104572 & 0.29162646 & 0.15985637 & 0.82649622 & 0.856732330\\\\\n",
       "\t 0.679549415 & 0.50662615 & 0.17512431 & 0.98527341 & 0.70465727 & 0.35085340 & 0.516948170 & 0.34402475 & 0.55731952 & 0.573897145 & ⋯ & 0.036577778 & 0.55611453 & 0.01132241 & 0.24378438 & 0.15308772 & 0.465243926 & 0.77615544 & 0.64331510 & 0.02167931 & 0.346876927\\\\\n",
       "\t 0.101839912 & 0.25577182 & 0.22510939 & 0.28969145 & 0.54959336 & 0.32322209 & 0.290522459 & 0.49335218 & 0.86891684 & 0.760295039 & ⋯ & 0.275297725 & 0.26308532 & 0.75580327 & 0.08238694 & 0.09330137 & 0.862509034 & 0.02138457 & 0.33454219 & 0.85442262 & 0.227996927\\\\\n",
       "\t 0.516642795 & 0.35309002 & 0.22554029 & 0.12757483 & 0.29388977 & 0.63347481 & 0.172205128 & 0.70596991 & 0.67802120 & 0.422205387 & ⋯ & 0.329414931 & 0.03442376 & 0.96743033 & 0.14499140 & 0.36609597 & 0.302458763 & 0.55319052 & 0.34644466 & 0.02115392 & 0.239521193\\\\\n",
       "\t ⋮ & ⋮ & ⋮ & ⋮ & ⋮ & ⋮ & ⋮ & ⋮ & ⋮ & ⋮ & ⋱ & ⋮ & ⋮ & ⋮ & ⋮ & ⋮ & ⋮ & ⋮ & ⋮ & ⋮ & ⋮\\\\\n",
       "\t 0.438944685 & 0.321324835 & 0.84279772 & 0.927622870 & 0.22466149 & 0.34500411 & 0.2112166 & 0.10753336 & 0.53222565 & 0.65482397 & ⋯ & 0.34008849 & 0.711985370 & 0.204081854 & 0.85864069 & 0.089725489 & 0.24153612 & 0.73153095 & 0.10964456 & 0.01269368 & 0.706051910\\\\\n",
       "\t 0.056552321 & 0.799632612 & 0.67179221 & 0.038660897 & 0.29803538 & 0.38113396 & 0.9873402 & 0.58621806 & 0.49065385 & 0.20666534 & ⋯ & 0.10578114 & 0.367028515 & 0.621449741 & 0.18705594 & 0.729148010 & 0.31128863 & 0.79287953 & 0.57069171 & 0.15243922 & 0.927613619\\\\\n",
       "\t 0.612099773 & 0.021365815 & 0.51954135 & 0.992243741 & 0.18904620 & 0.31079687 & 0.2748763 & 0.43091891 & 0.73659159 & 0.88401396 & ⋯ & 0.17336878 & 0.559400341 & 0.446615541 & 0.16317868 & 0.873838383 & 0.67587528 & 0.36164080 & 0.84919507 & 0.72404046 & 0.590392524\\\\\n",
       "\t 0.603443788 & 0.111871647 & 0.06420440 & 0.419207513 & 0.14156963 & 0.22945644 & 0.3014888 & 0.86140337 & 0.42961418 & 0.83004709 & ⋯ & 0.15015154 & 0.125379762 & 0.003627721 & 0.20032511 & 0.295309607 & 0.09337087 & 0.45518481 & 0.61237839 & 0.77029083 & 0.762934625\\\\\n",
       "\t 0.775671734 & 0.884057309 & 0.93639112 & 0.906222552 & 0.41280282 & 0.67646465 & 0.7199332 & 0.25239785 & 0.79320001 & 0.67474536 & ⋯ & 0.23215893 & 0.513809493 & 0.862522381 & 0.25663634 & 0.224472779 & 0.35806967 & 0.56806731 & 0.81734165 & 0.05242819 & 0.081457769\\\\\n",
       "\t 0.298280690 & 0.151300737 & 0.28798480 & 0.533931743 & 0.01121821 & 0.21329037 & 0.4721213 & 0.76851653 & 0.77066071 & 0.26243975 & ⋯ & 0.03123193 & 0.789312483 & 0.062271468 & 0.55963769 & 0.753674817 & 0.67859007 & 0.51463317 & 0.16737537 & 0.30987674 & 0.372299024\\\\\n",
       "\t 0.860343546 & 0.554385937 & 0.86231454 & 0.660752121 & 0.54689752 & 0.46267996 & 0.8942202 & 0.07984831 & 0.17548952 & 0.48317931 & ⋯ & 0.60800480 & 0.274308094 & 0.319577477 & 0.21892250 & 0.207107346 & 0.72497625 & 0.92878133 & 0.81878355 & 0.76519758 & 0.454981510\\\\\n",
       "\t 0.538394625 & 0.451502710 & 0.78494212 & 0.425273661 & 0.37617363 & 0.83478716 & 0.4301279 & 0.06445753 & 0.16915079 & 0.97231242 & ⋯ & 0.17457679 & 0.211563357 & 0.067371464 & 0.10794067 & 0.464293755 & 0.18321080 & 0.89496424 & 0.95736118 & 0.13457337 & 0.013238260\\\\\n",
       "\t 0.699020421 & 0.515962530 & 0.64351205 & 0.996400107 & 0.50388132 & 0.03150469 & 0.4141342 & 0.57861599 & 0.98938493 & 0.05813527 & ⋯ & 0.10194550 & 0.723047641 & 0.784683470 & 0.40818281 & 0.038528699 & 0.48409050 & 0.05952980 & 0.26350736 & 0.74056403 & 0.156060029\\\\\n",
       "\t 0.005065657 & 0.392309247 & 0.19211982 & 0.747886914 & 0.93665641 & 0.18006464 & 0.8980898 & 0.28036663 & 0.20838159 & 0.20582356 & ⋯ & 0.89887969 & 0.023416292 & 0.996534273 & 0.33739853 & 0.255835597 & 0.42057203 & 0.67244601 & 0.47319312 & 0.56195529 & 0.263060421\\\\\n",
       "\t 0.429801992 & 0.032801897 & 0.40663268 & 0.754481119 & 0.65105570 & 0.62929655 & 0.4763605 & 0.53534215 & 0.10731051 & 0.70219282 & ⋯ & 0.03209187 & 0.545552008 & 0.763535435 & 0.45929733 & 0.205448679 & 0.89179935 & 0.55207664 & 0.58357202 & 0.26331854 & 0.620870831\\\\\n",
       "\t 0.055023609 & 0.374206835 & 0.62121112 & 0.634187500 & 0.70687949 & 0.95079227 & 0.4813071 & 0.94825671 & 0.38059143 & 0.61727864 & ⋯ & 0.76389151 & 0.955492883 & 0.513507329 & 0.02337484 & 0.583609653 & 0.11328146 & 0.30065659 & 0.81771765 & 0.42455567 & 0.058727245\\\\\n",
       "\t 0.175793785 & 0.078358129 & 0.33164412 & 0.205439705 & 0.48241114 & 0.98088903 & 0.1731905 & 0.47113242 & 0.03887210 & 0.66843816 & ⋯ & 0.59661646 & 0.474425385 & 0.910367092 & 0.28212781 & 0.390839703 & 0.64343742 & 0.41884877 & 0.33881912 & 0.36461216 & 0.183702376\\\\\n",
       "\t 0.234059336 & 0.915487493 & 0.01030417 & 0.330365467 & 0.21492943 & 0.16814193 & 0.1617733 & 0.39751731 & 0.92314581 & 0.29218334 & ⋯ & 0.11821847 & 0.002193704 & 0.135651629 & 0.58472791 & 0.352716981 & 0.73242850 & 0.85229316 & 0.28739705 & 0.66499660 & 0.507673060\\\\\n",
       "\t 0.703730649 & 0.999254509 & 0.62419826 & 0.811847010 & 0.11271295 & 0.13380888 & 0.5086146 & 0.40964272 & 0.69954008 & 0.35366528 & ⋯ & 0.96106860 & 0.300517394 & 0.432182884 & 0.94048139 & 0.332320656 & 0.02538142 & 0.65728363 & 0.16518191 & 0.75785539 & 0.057357680\\\\\n",
       "\t 0.591941778 & 0.419494233 & 0.58098671 & 0.134883310 & 0.75111527 & 0.73982019 & 0.4739602 & 0.45789401 & 0.20293842 & 0.32741933 & ⋯ & 0.90796099 & 0.823449155 & 0.152826601 & 0.56309393 & 0.056424677 & 0.30067407 & 0.93166661 & 0.01781217 & 0.38411761 & 0.188183157\\\\\n",
       "\t 0.898734554 & 0.861598377 & 0.58078312 & 0.180911969 & 0.88962558 & 0.94698861 & 0.1568949 & 0.44444343 & 0.56150192 & 0.13264572 & ⋯ & 0.91080093 & 0.714790947 & 0.822738971 & 0.14124915 & 0.656870033 & 0.53365727 & 0.91887143 & 0.44956425 & 0.24172118 & 0.915785377\\\\\n",
       "\t 0.477237702 & 0.343025331 & 0.21286075 & 0.895276870 & 0.53540217 & 0.91301568 & 0.4265010 & 0.16357033 & 0.25739338 & 0.37126544 & ⋯ & 0.60468550 & 0.043686096 & 0.442660156 & 0.67935217 & 0.003273330 & 0.72678012 & 0.09509415 & 0.76575349 & 0.35036077 & 0.466588801\\\\\n",
       "\t 0.051174238 & 0.376102176 & 0.71251121 & 0.836798293 & 0.02261941 & 0.11152628 & 0.8174683 & 0.06205029 & 0.76709278 & 0.79543295 & ⋯ & 0.34244927 & 0.710276222 & 0.466271457 & 0.34137050 & 0.964687496 & 0.50922145 & 0.29373456 & 0.11029686 & 0.15940805 & 0.004970017\\\\\n",
       "\t 0.080163975 & 0.000655535 & 0.67678053 & 0.063134068 & 0.80538036 & 0.23937150 & 0.9800614 & 0.83530519 & 0.30489070 & 0.76148634 & ⋯ & 0.45102893 & 0.964790819 & 0.900445336 & 0.13146976 & 0.004983051 & 0.30667002 & 0.48406443 & 0.10464922 & 0.46961587 & 0.824078601\\\\\n",
       "\t 0.010052007 & 0.382996874 & 0.06948715 & 0.162618890 & 0.18994648 & 0.29122342 & 0.1078078 & 0.25733890 & 0.94531816 & 0.71941684 & ⋯ & 0.65605236 & 0.427699930 & 0.952210068 & 0.30314979 & 0.225955191 & 0.21306829 & 0.70843979 & 0.25386679 & 0.35043848 & 0.748978842\\\\\n",
       "\t 0.841604548 & 0.045126244 & 0.53096004 & 0.356475860 & 0.74371797 & 0.25658372 & 0.7780931 & 0.93182773 & 0.15436946 & 0.70417696 & ⋯ & 0.33281290 & 0.268973840 & 0.324214190 & 0.35174052 & 0.435076801 & 0.51134255 & 0.29832297 & 0.72643147 & 0.72979272 & 0.038847057\\\\\n",
       "\t 0.272795811 & 0.757651065 & 0.09454484 & 0.887068241 & 0.41997791 & 0.40002383 & 0.5645896 & 0.73243672 & 0.76515428 & 0.40465812 & ⋯ & 0.77263989 & 0.638232468 & 0.313181189 & 0.91718180 & 0.900042723 & 0.84314389 & 0.55918567 & 0.10330443 & 0.99088876 & 0.132822323\\\\\n",
       "\t 0.231723838 & 0.920154905 & 0.23561946 & 0.841197785 & 0.25638153 & 0.99143925 & 0.2846364 & 0.23070437 & 0.26443032 & 0.12434679 & ⋯ & 0.89995300 & 0.446459449 & 0.486992133 & 0.05759375 & 0.625581907 & 0.02157357 & 0.96146575 & 0.96709579 & 0.79673810 & 0.745067139\\\\\n",
       "\t 0.473956185 & 0.172341940 & 0.62871768 & 0.258225203 & 0.11600364 & 0.66182663 & 0.6823918 & 0.30140872 & 0.25481720 & 0.46241680 & ⋯ & 0.62421149 & 0.002374872 & 0.051287139 & 0.64153534 & 0.675470530 & 0.11881555 & 0.69484616 & 0.14635534 & 0.21954981 & 0.713731901\\\\\n",
       "\t 0.169264068 & 0.208479801 & 0.97806120 & 0.002982724 & 0.01962254 & 0.95653013 & 0.3507208 & 0.79114457 & 0.57962358 & 0.97928390 & ⋯ & 0.20914356 & 0.999266718 & 0.509910793 & 0.99918186 & 0.780855776 & 0.04481506 & 0.88150228 & 0.68154808 & 0.25166592 & 0.609118265\\\\\n",
       "\t 0.428129955 & 0.448526093 & 0.57878222 & 0.318448837 & 0.38964110 & 0.29996738 & 0.3273449 & 0.92231323 & 0.12589432 & 0.13997958 & ⋯ & 0.96682106 & 0.721661840 & 0.647966785 & 0.72451240 & 0.349884765 & 0.14161308 & 0.86012210 & 0.34199629 & 0.18598143 & 0.144084482\\\\\n",
       "\t 0.668898256 & 0.987643558 & 0.30231711 & 0.701190254 & 0.78450610 & 0.02322218 & 0.5756909 & 0.33204421 & 0.31272906 & 0.99718068 & ⋯ & 0.87517301 & 0.660749654 & 0.941910608 & 0.87220261 & 0.612155026 & 0.63019525 & 0.03553025 & 0.88936473 & 0.15894777 & 0.472520423\\\\\n",
       "\t 0.329573368 & 0.112138233 & 0.67712389 & 0.368798433 & 0.03655073 & 0.55485494 & 0.1461117 & 0.27468328 & 0.04378324 & 0.09108484 & ⋯ & 0.81599601 & 0.011430454 & 0.819050597 & 0.55690550 & 0.985133766 & 0.03101468 & 0.30061597 & 0.49406014 & 0.29520186 & 0.057759170\\\\\n",
       "\t 0.144286382 & 0.768940271 & 0.53720342 & 0.790040732 & 0.61270719 & 0.49161566 & 0.2992909 & 0.01683206 & 0.78092608 & 0.01202526 & ⋯ & 0.28558836 & 0.829410339 & 0.815293529 & 0.93768820 & 0.851046518 & 0.50979375 & 0.23058778 & 0.89700334 & 0.04791818 & 0.939362277\\\\\n",
       "\\end{tabular}\n"
      ],
      "text/markdown": [
       "\n",
       "A matrix: 100 × 100 of type dbl\n",
       "\n",
       "| 0.847093986 | 0.36168442 | 0.77330303 | 0.77242522 | 0.63557536 | 0.38933633 | 0.437719895 | 0.29639091 | 0.55680276 | 0.748826701 | ⋯ | 0.105783077 | 0.99061593 | 0.84818752 | 0.37081655 | 0.86610689 | 0.099294222 | 0.42965591 | 0.04260894 | 0.12798122 | 0.340566241 |\n",
       "| 0.746115227 | 0.73389915 | 0.55074111 | 0.86946199 | 0.86020675 | 0.46693459 | 0.860517084 | 0.90706054 | 0.39866062 | 0.054475579 | ⋯ | 0.876869208 | 0.61195819 | 0.43295866 | 0.21917499 | 0.71633592 | 0.024584666 | 0.03500316 | 0.80819424 | 0.48228823 | 0.081167505 |\n",
       "| 0.436393491 | 0.54766020 | 0.95701550 | 0.55969012 | 0.12996766 | 0.98141020 | 0.683178602 | 0.82494290 | 0.44867648 | 0.347169291 | ⋯ | 0.916785280 | 0.65797825 | 0.43886193 | 0.63009880 | 0.28394267 | 0.520462599 | 0.29779099 | 0.79734805 | 0.28453628 | 0.853584486 |\n",
       "| 0.003548722 | 0.39197078 | 0.06625749 | 0.84554358 | 0.96037845 | 0.27967929 | 0.076055612 | 0.26137673 | 0.68498094 | 0.528052706 | ⋯ | 0.381578084 | 0.23450814 | 0.73509135 | 0.33784795 | 0.43191872 | 0.480533013 | 0.65780135 | 0.05478402 | 0.99987130 | 0.565547002 |\n",
       "| 0.262946911 | 0.05150537 | 0.75235196 | 0.85939965 | 0.70175734 | 0.21235088 | 0.946810412 | 0.81798472 | 0.43112900 | 0.788326610 | ⋯ | 0.390865956 | 0.73193649 | 0.27403011 | 0.59904680 | 0.21075771 | 0.857868188 | 0.64555033 | 0.52056738 | 0.06092601 | 0.006528081 |\n",
       "| 0.324979464 | 0.90380362 | 0.85276315 | 0.50764604 | 0.31257446 | 0.97423442 | 0.745266893 | 0.07476735 | 0.78205285 | 0.080686493 | ⋯ | 0.916048921 | 0.35475290 | 0.82374186 | 0.96604516 | 0.70459031 | 0.061150261 | 0.33830607 | 0.10863037 | 0.30356968 | 0.827696467 |\n",
       "| 0.622638935 | 0.54941419 | 0.88189912 | 0.86039902 | 0.71774556 | 0.31272255 | 0.173267526 | 0.76588454 | 0.32562647 | 0.755235776 | ⋯ | 0.511089633 | 0.81347593 | 0.12736457 | 0.40042274 | 0.50047315 | 0.264999833 | 0.38756355 | 0.19027447 | 0.75240920 | 0.571884661 |\n",
       "| 0.118732307 | 0.68051559 | 0.76047701 | 0.48606880 | 0.99146612 | 0.63651436 | 0.431093580 | 0.23703407 | 0.98460707 | 0.411111143 | ⋯ | 0.387606692 | 0.52376974 | 0.76203318 | 0.39178065 | 0.10929500 | 0.974052620 | 0.96947347 | 0.24320695 | 0.65034552 | 0.859907216 |\n",
       "| 0.733660081 | 0.52867955 | 0.85257220 | 0.18448507 | 0.19690196 | 0.04485164 | 0.688682007 | 0.68806613 | 0.16214976 | 0.853113471 | ⋯ | 0.560976589 | 0.44064833 | 0.66679074 | 0.64832613 | 0.69730278 | 0.999826525 | 0.99216408 | 0.22286483 | 0.60342368 | 0.277724271 |\n",
       "| 0.039080997 | 0.73732215 | 0.12979027 | 0.26085527 | 0.03380972 | 0.77457998 | 0.458568254 | 0.25638119 | 0.17124881 | 0.666538066 | ⋯ | 0.201221782 | 0.52840397 | 0.37924595 | 0.80459883 | 0.67467377 | 0.483378378 | 0.77956018 | 0.53568988 | 0.44846674 | 0.588118518 |\n",
       "| 0.971389061 | 0.93808306 | 0.25011178 | 0.62212096 | 0.96132187 | 0.59397176 | 0.125172130 | 0.86667313 | 0.37282831 | 0.818885303 | ⋯ | 0.991129069 | 0.14493684 | 0.62233704 | 0.59871229 | 0.52331029 | 0.814053416 | 0.94163583 | 0.30620256 | 0.91136249 | 0.041044260 |\n",
       "| 0.261765050 | 0.80932266 | 0.44651256 | 0.72269043 | 0.48331063 | 0.06315781 | 0.591555483 | 0.30806486 | 0.92248761 | 0.364588028 | ⋯ | 0.782031153 | 0.62984317 | 0.53502221 | 0.77064885 | 0.37809836 | 0.947743151 | 0.13050563 | 0.69335645 | 0.05739092 | 0.125341784 |\n",
       "| 0.746492613 | 0.15567685 | 0.01891482 | 0.64657198 | 0.22969843 | 0.16721579 | 0.888977652 | 0.09128875 | 0.26964883 | 0.775536821 | ⋯ | 0.889477678 | 0.83280294 | 0.70695018 | 0.34794919 | 0.83655772 | 0.028526766 | 0.70177646 | 0.05677451 | 0.71141559 | 0.567084560 |\n",
       "| 0.180259315 | 0.55322123 | 0.69595774 | 0.28702928 | 0.41862568 | 0.45993080 | 0.327084398 | 0.46409072 | 0.87193835 | 0.941731827 | ⋯ | 0.511217650 | 0.76387206 | 0.65958576 | 0.85502246 | 0.39991679 | 0.604616462 | 0.86378334 | 0.13237843 | 0.82389358 | 0.457293789 |\n",
       "| 0.554545199 | 0.45663607 | 0.83038490 | 0.96745603 | 0.13158317 | 0.55723482 | 0.105455948 | 0.78556927 | 0.53435800 | 0.425392930 | ⋯ | 0.761125083 | 0.86179090 | 0.92625883 | 0.63277092 | 0.21943810 | 0.701551692 | 0.54585780 | 0.29108387 | 0.98205531 | 0.649349094 |\n",
       "| 0.561715199 | 0.83248397 | 0.08767491 | 0.54843548 | 0.78084832 | 0.44256284 | 0.488366599 | 0.39536118 | 0.01178998 | 0.191593450 | ⋯ | 0.463844356 | 0.07399629 | 0.14691262 | 0.46725842 | 0.62129179 | 0.795613101 | 0.91891106 | 0.76418391 | 0.04257104 | 0.191196195 |\n",
       "| 0.129617045 | 0.13971409 | 0.79639145 | 0.77574434 | 0.25407090 | 0.84418674 | 0.389239933 | 0.89554500 | 0.44519360 | 0.434076203 | ⋯ | 0.187714768 | 0.98632547 | 0.61130813 | 0.03857373 | 0.63999732 | 0.566298887 | 0.53707488 | 0.71128459 | 0.65035995 | 0.762586411 |\n",
       "| 0.534053273 | 0.45788614 | 0.02308696 | 0.65878285 | 0.66595681 | 0.29330925 | 0.382903634 | 0.15898642 | 0.68139280 | 0.594568137 | ⋯ | 0.983215441 | 0.48041842 | 0.39316873 | 0.29228835 | 0.66546472 | 0.001891279 | 0.79406121 | 0.96447939 | 0.34874952 | 0.301367531 |\n",
       "| 0.982579836 | 0.81493023 | 0.08334665 | 0.38677351 | 0.31896274 | 0.94032741 | 0.003783282 | 0.37622449 | 0.86244867 | 0.858727630 | ⋯ | 0.868698156 | 0.33729244 | 0.65931631 | 0.66691012 | 0.09922765 | 0.242619833 | 0.89311545 | 0.39298936 | 0.49798513 | 0.062383804 |\n",
       "| 0.302642015 | 0.68487355 | 0.93060707 | 0.40094437 | 0.59554158 | 0.07946983 | 0.942607250 | 0.21434904 | 0.23478363 | 0.200419343 | ⋯ | 0.597784188 | 0.40184444 | 0.25572095 | 0.97774301 | 0.77319373 | 0.977657184 | 0.01973719 | 0.51093347 | 0.18322082 | 0.512357393 |\n",
       "| 0.864510360 | 0.76204609 | 0.19249924 | 0.27068361 | 0.09859011 | 0.44295626 | 0.753493800 | 0.37357790 | 0.67039252 | 0.989349674 | ⋯ | 0.102934414 | 0.69468891 | 0.41716180 | 0.97829509 | 0.06363984 | 0.716181860 | 0.53175927 | 0.29411959 | 0.42787568 | 0.782797685 |\n",
       "| 0.641709835 | 0.25729184 | 0.68977927 | 0.24202741 | 0.60657175 | 0.83517570 | 0.676331569 | 0.89218807 | 0.16084426 | 0.904140326 | ⋯ | 0.822218789 | 0.57019264 | 0.26201566 | 0.64033849 | 0.62035368 | 0.949775021 | 0.77070528 | 0.73240239 | 0.24187316 | 0.009594716 |\n",
       "| 0.507193009 | 0.48638286 | 0.51603689 | 0.92333445 | 0.08872773 | 0.12726458 | 0.021588270 | 0.17023343 | 0.81659614 | 0.001245041 | ⋯ | 0.173284839 | 0.19947180 | 0.48623190 | 0.96370432 | 0.87583450 | 0.742134708 | 0.04280001 | 0.75139647 | 0.68394019 | 0.328367455 |\n",
       "| 0.161585776 | 0.92185928 | 0.09666037 | 0.35269416 | 0.15056675 | 0.45951646 | 0.654937431 | 0.97289609 | 0.56459118 | 0.632140143 | ⋯ | 0.710136180 | 0.56925928 | 0.29125876 | 0.01571394 | 0.77212840 | 0.816039178 | 0.33005241 | 0.58656306 | 0.22453688 | 0.601000690 |\n",
       "| 0.354266485 | 0.55208116 | 0.47081117 | 0.04524306 | 0.01721888 | 0.68309036 | 0.531740316 | 0.48943068 | 0.86879193 | 0.680083204 | ⋯ | 0.268137437 | 0.64645125 | 0.40321863 | 0.04622681 | 0.84646136 | 0.806044500 | 0.36347952 | 0.46209436 | 0.18906540 | 0.863304963 |\n",
       "| 0.376784415 | 0.59271235 | 0.19321699 | 0.91873032 | 0.10248132 | 0.90342448 | 0.041405591 | 0.83307439 | 0.42748422 | 0.150201330 | ⋯ | 0.052044917 | 0.41975240 | 0.16182851 | 0.95020388 | 0.05916615 | 0.664903635 | 0.56076667 | 0.09767963 | 0.75589542 | 0.501111827 |\n",
       "| 0.415907996 | 0.48886942 | 0.53133224 | 0.65337935 | 0.04437433 | 0.58994848 | 0.222318860 | 0.49186519 | 0.59849157 | 0.115650597 | ⋯ | 0.002097399 | 0.38547726 | 0.50566265 | 0.33119926 | 0.16622306 | 0.022104572 | 0.29162646 | 0.15985637 | 0.82649622 | 0.856732330 |\n",
       "| 0.679549415 | 0.50662615 | 0.17512431 | 0.98527341 | 0.70465727 | 0.35085340 | 0.516948170 | 0.34402475 | 0.55731952 | 0.573897145 | ⋯ | 0.036577778 | 0.55611453 | 0.01132241 | 0.24378438 | 0.15308772 | 0.465243926 | 0.77615544 | 0.64331510 | 0.02167931 | 0.346876927 |\n",
       "| 0.101839912 | 0.25577182 | 0.22510939 | 0.28969145 | 0.54959336 | 0.32322209 | 0.290522459 | 0.49335218 | 0.86891684 | 0.760295039 | ⋯ | 0.275297725 | 0.26308532 | 0.75580327 | 0.08238694 | 0.09330137 | 0.862509034 | 0.02138457 | 0.33454219 | 0.85442262 | 0.227996927 |\n",
       "| 0.516642795 | 0.35309002 | 0.22554029 | 0.12757483 | 0.29388977 | 0.63347481 | 0.172205128 | 0.70596991 | 0.67802120 | 0.422205387 | ⋯ | 0.329414931 | 0.03442376 | 0.96743033 | 0.14499140 | 0.36609597 | 0.302458763 | 0.55319052 | 0.34644466 | 0.02115392 | 0.239521193 |\n",
       "| ⋮ | ⋮ | ⋮ | ⋮ | ⋮ | ⋮ | ⋮ | ⋮ | ⋮ | ⋮ | ⋱ | ⋮ | ⋮ | ⋮ | ⋮ | ⋮ | ⋮ | ⋮ | ⋮ | ⋮ | ⋮ |\n",
       "| 0.438944685 | 0.321324835 | 0.84279772 | 0.927622870 | 0.22466149 | 0.34500411 | 0.2112166 | 0.10753336 | 0.53222565 | 0.65482397 | ⋯ | 0.34008849 | 0.711985370 | 0.204081854 | 0.85864069 | 0.089725489 | 0.24153612 | 0.73153095 | 0.10964456 | 0.01269368 | 0.706051910 |\n",
       "| 0.056552321 | 0.799632612 | 0.67179221 | 0.038660897 | 0.29803538 | 0.38113396 | 0.9873402 | 0.58621806 | 0.49065385 | 0.20666534 | ⋯ | 0.10578114 | 0.367028515 | 0.621449741 | 0.18705594 | 0.729148010 | 0.31128863 | 0.79287953 | 0.57069171 | 0.15243922 | 0.927613619 |\n",
       "| 0.612099773 | 0.021365815 | 0.51954135 | 0.992243741 | 0.18904620 | 0.31079687 | 0.2748763 | 0.43091891 | 0.73659159 | 0.88401396 | ⋯ | 0.17336878 | 0.559400341 | 0.446615541 | 0.16317868 | 0.873838383 | 0.67587528 | 0.36164080 | 0.84919507 | 0.72404046 | 0.590392524 |\n",
       "| 0.603443788 | 0.111871647 | 0.06420440 | 0.419207513 | 0.14156963 | 0.22945644 | 0.3014888 | 0.86140337 | 0.42961418 | 0.83004709 | ⋯ | 0.15015154 | 0.125379762 | 0.003627721 | 0.20032511 | 0.295309607 | 0.09337087 | 0.45518481 | 0.61237839 | 0.77029083 | 0.762934625 |\n",
       "| 0.775671734 | 0.884057309 | 0.93639112 | 0.906222552 | 0.41280282 | 0.67646465 | 0.7199332 | 0.25239785 | 0.79320001 | 0.67474536 | ⋯ | 0.23215893 | 0.513809493 | 0.862522381 | 0.25663634 | 0.224472779 | 0.35806967 | 0.56806731 | 0.81734165 | 0.05242819 | 0.081457769 |\n",
       "| 0.298280690 | 0.151300737 | 0.28798480 | 0.533931743 | 0.01121821 | 0.21329037 | 0.4721213 | 0.76851653 | 0.77066071 | 0.26243975 | ⋯ | 0.03123193 | 0.789312483 | 0.062271468 | 0.55963769 | 0.753674817 | 0.67859007 | 0.51463317 | 0.16737537 | 0.30987674 | 0.372299024 |\n",
       "| 0.860343546 | 0.554385937 | 0.86231454 | 0.660752121 | 0.54689752 | 0.46267996 | 0.8942202 | 0.07984831 | 0.17548952 | 0.48317931 | ⋯ | 0.60800480 | 0.274308094 | 0.319577477 | 0.21892250 | 0.207107346 | 0.72497625 | 0.92878133 | 0.81878355 | 0.76519758 | 0.454981510 |\n",
       "| 0.538394625 | 0.451502710 | 0.78494212 | 0.425273661 | 0.37617363 | 0.83478716 | 0.4301279 | 0.06445753 | 0.16915079 | 0.97231242 | ⋯ | 0.17457679 | 0.211563357 | 0.067371464 | 0.10794067 | 0.464293755 | 0.18321080 | 0.89496424 | 0.95736118 | 0.13457337 | 0.013238260 |\n",
       "| 0.699020421 | 0.515962530 | 0.64351205 | 0.996400107 | 0.50388132 | 0.03150469 | 0.4141342 | 0.57861599 | 0.98938493 | 0.05813527 | ⋯ | 0.10194550 | 0.723047641 | 0.784683470 | 0.40818281 | 0.038528699 | 0.48409050 | 0.05952980 | 0.26350736 | 0.74056403 | 0.156060029 |\n",
       "| 0.005065657 | 0.392309247 | 0.19211982 | 0.747886914 | 0.93665641 | 0.18006464 | 0.8980898 | 0.28036663 | 0.20838159 | 0.20582356 | ⋯ | 0.89887969 | 0.023416292 | 0.996534273 | 0.33739853 | 0.255835597 | 0.42057203 | 0.67244601 | 0.47319312 | 0.56195529 | 0.263060421 |\n",
       "| 0.429801992 | 0.032801897 | 0.40663268 | 0.754481119 | 0.65105570 | 0.62929655 | 0.4763605 | 0.53534215 | 0.10731051 | 0.70219282 | ⋯ | 0.03209187 | 0.545552008 | 0.763535435 | 0.45929733 | 0.205448679 | 0.89179935 | 0.55207664 | 0.58357202 | 0.26331854 | 0.620870831 |\n",
       "| 0.055023609 | 0.374206835 | 0.62121112 | 0.634187500 | 0.70687949 | 0.95079227 | 0.4813071 | 0.94825671 | 0.38059143 | 0.61727864 | ⋯ | 0.76389151 | 0.955492883 | 0.513507329 | 0.02337484 | 0.583609653 | 0.11328146 | 0.30065659 | 0.81771765 | 0.42455567 | 0.058727245 |\n",
       "| 0.175793785 | 0.078358129 | 0.33164412 | 0.205439705 | 0.48241114 | 0.98088903 | 0.1731905 | 0.47113242 | 0.03887210 | 0.66843816 | ⋯ | 0.59661646 | 0.474425385 | 0.910367092 | 0.28212781 | 0.390839703 | 0.64343742 | 0.41884877 | 0.33881912 | 0.36461216 | 0.183702376 |\n",
       "| 0.234059336 | 0.915487493 | 0.01030417 | 0.330365467 | 0.21492943 | 0.16814193 | 0.1617733 | 0.39751731 | 0.92314581 | 0.29218334 | ⋯ | 0.11821847 | 0.002193704 | 0.135651629 | 0.58472791 | 0.352716981 | 0.73242850 | 0.85229316 | 0.28739705 | 0.66499660 | 0.507673060 |\n",
       "| 0.703730649 | 0.999254509 | 0.62419826 | 0.811847010 | 0.11271295 | 0.13380888 | 0.5086146 | 0.40964272 | 0.69954008 | 0.35366528 | ⋯ | 0.96106860 | 0.300517394 | 0.432182884 | 0.94048139 | 0.332320656 | 0.02538142 | 0.65728363 | 0.16518191 | 0.75785539 | 0.057357680 |\n",
       "| 0.591941778 | 0.419494233 | 0.58098671 | 0.134883310 | 0.75111527 | 0.73982019 | 0.4739602 | 0.45789401 | 0.20293842 | 0.32741933 | ⋯ | 0.90796099 | 0.823449155 | 0.152826601 | 0.56309393 | 0.056424677 | 0.30067407 | 0.93166661 | 0.01781217 | 0.38411761 | 0.188183157 |\n",
       "| 0.898734554 | 0.861598377 | 0.58078312 | 0.180911969 | 0.88962558 | 0.94698861 | 0.1568949 | 0.44444343 | 0.56150192 | 0.13264572 | ⋯ | 0.91080093 | 0.714790947 | 0.822738971 | 0.14124915 | 0.656870033 | 0.53365727 | 0.91887143 | 0.44956425 | 0.24172118 | 0.915785377 |\n",
       "| 0.477237702 | 0.343025331 | 0.21286075 | 0.895276870 | 0.53540217 | 0.91301568 | 0.4265010 | 0.16357033 | 0.25739338 | 0.37126544 | ⋯ | 0.60468550 | 0.043686096 | 0.442660156 | 0.67935217 | 0.003273330 | 0.72678012 | 0.09509415 | 0.76575349 | 0.35036077 | 0.466588801 |\n",
       "| 0.051174238 | 0.376102176 | 0.71251121 | 0.836798293 | 0.02261941 | 0.11152628 | 0.8174683 | 0.06205029 | 0.76709278 | 0.79543295 | ⋯ | 0.34244927 | 0.710276222 | 0.466271457 | 0.34137050 | 0.964687496 | 0.50922145 | 0.29373456 | 0.11029686 | 0.15940805 | 0.004970017 |\n",
       "| 0.080163975 | 0.000655535 | 0.67678053 | 0.063134068 | 0.80538036 | 0.23937150 | 0.9800614 | 0.83530519 | 0.30489070 | 0.76148634 | ⋯ | 0.45102893 | 0.964790819 | 0.900445336 | 0.13146976 | 0.004983051 | 0.30667002 | 0.48406443 | 0.10464922 | 0.46961587 | 0.824078601 |\n",
       "| 0.010052007 | 0.382996874 | 0.06948715 | 0.162618890 | 0.18994648 | 0.29122342 | 0.1078078 | 0.25733890 | 0.94531816 | 0.71941684 | ⋯ | 0.65605236 | 0.427699930 | 0.952210068 | 0.30314979 | 0.225955191 | 0.21306829 | 0.70843979 | 0.25386679 | 0.35043848 | 0.748978842 |\n",
       "| 0.841604548 | 0.045126244 | 0.53096004 | 0.356475860 | 0.74371797 | 0.25658372 | 0.7780931 | 0.93182773 | 0.15436946 | 0.70417696 | ⋯ | 0.33281290 | 0.268973840 | 0.324214190 | 0.35174052 | 0.435076801 | 0.51134255 | 0.29832297 | 0.72643147 | 0.72979272 | 0.038847057 |\n",
       "| 0.272795811 | 0.757651065 | 0.09454484 | 0.887068241 | 0.41997791 | 0.40002383 | 0.5645896 | 0.73243672 | 0.76515428 | 0.40465812 | ⋯ | 0.77263989 | 0.638232468 | 0.313181189 | 0.91718180 | 0.900042723 | 0.84314389 | 0.55918567 | 0.10330443 | 0.99088876 | 0.132822323 |\n",
       "| 0.231723838 | 0.920154905 | 0.23561946 | 0.841197785 | 0.25638153 | 0.99143925 | 0.2846364 | 0.23070437 | 0.26443032 | 0.12434679 | ⋯ | 0.89995300 | 0.446459449 | 0.486992133 | 0.05759375 | 0.625581907 | 0.02157357 | 0.96146575 | 0.96709579 | 0.79673810 | 0.745067139 |\n",
       "| 0.473956185 | 0.172341940 | 0.62871768 | 0.258225203 | 0.11600364 | 0.66182663 | 0.6823918 | 0.30140872 | 0.25481720 | 0.46241680 | ⋯ | 0.62421149 | 0.002374872 | 0.051287139 | 0.64153534 | 0.675470530 | 0.11881555 | 0.69484616 | 0.14635534 | 0.21954981 | 0.713731901 |\n",
       "| 0.169264068 | 0.208479801 | 0.97806120 | 0.002982724 | 0.01962254 | 0.95653013 | 0.3507208 | 0.79114457 | 0.57962358 | 0.97928390 | ⋯ | 0.20914356 | 0.999266718 | 0.509910793 | 0.99918186 | 0.780855776 | 0.04481506 | 0.88150228 | 0.68154808 | 0.25166592 | 0.609118265 |\n",
       "| 0.428129955 | 0.448526093 | 0.57878222 | 0.318448837 | 0.38964110 | 0.29996738 | 0.3273449 | 0.92231323 | 0.12589432 | 0.13997958 | ⋯ | 0.96682106 | 0.721661840 | 0.647966785 | 0.72451240 | 0.349884765 | 0.14161308 | 0.86012210 | 0.34199629 | 0.18598143 | 0.144084482 |\n",
       "| 0.668898256 | 0.987643558 | 0.30231711 | 0.701190254 | 0.78450610 | 0.02322218 | 0.5756909 | 0.33204421 | 0.31272906 | 0.99718068 | ⋯ | 0.87517301 | 0.660749654 | 0.941910608 | 0.87220261 | 0.612155026 | 0.63019525 | 0.03553025 | 0.88936473 | 0.15894777 | 0.472520423 |\n",
       "| 0.329573368 | 0.112138233 | 0.67712389 | 0.368798433 | 0.03655073 | 0.55485494 | 0.1461117 | 0.27468328 | 0.04378324 | 0.09108484 | ⋯ | 0.81599601 | 0.011430454 | 0.819050597 | 0.55690550 | 0.985133766 | 0.03101468 | 0.30061597 | 0.49406014 | 0.29520186 | 0.057759170 |\n",
       "| 0.144286382 | 0.768940271 | 0.53720342 | 0.790040732 | 0.61270719 | 0.49161566 | 0.2992909 | 0.01683206 | 0.78092608 | 0.01202526 | ⋯ | 0.28558836 | 0.829410339 | 0.815293529 | 0.93768820 | 0.851046518 | 0.50979375 | 0.23058778 | 0.89700334 | 0.04791818 | 0.939362277 |\n",
       "\n"
      ],
      "text/plain": [
       "      [,1]        [,2]        [,3]       [,4]        [,5]       [,6]      \n",
       " [1,] 0.847093986 0.36168442  0.77330303 0.77242522  0.63557536 0.38933633\n",
       " [2,] 0.746115227 0.73389915  0.55074111 0.86946199  0.86020675 0.46693459\n",
       " [3,] 0.436393491 0.54766020  0.95701550 0.55969012  0.12996766 0.98141020\n",
       " [4,] 0.003548722 0.39197078  0.06625749 0.84554358  0.96037845 0.27967929\n",
       " [5,] 0.262946911 0.05150537  0.75235196 0.85939965  0.70175734 0.21235088\n",
       " [6,] 0.324979464 0.90380362  0.85276315 0.50764604  0.31257446 0.97423442\n",
       " [7,] 0.622638935 0.54941419  0.88189912 0.86039902  0.71774556 0.31272255\n",
       " [8,] 0.118732307 0.68051559  0.76047701 0.48606880  0.99146612 0.63651436\n",
       " [9,] 0.733660081 0.52867955  0.85257220 0.18448507  0.19690196 0.04485164\n",
       "[10,] 0.039080997 0.73732215  0.12979027 0.26085527  0.03380972 0.77457998\n",
       "[11,] 0.971389061 0.93808306  0.25011178 0.62212096  0.96132187 0.59397176\n",
       "[12,] 0.261765050 0.80932266  0.44651256 0.72269043  0.48331063 0.06315781\n",
       "[13,] 0.746492613 0.15567685  0.01891482 0.64657198  0.22969843 0.16721579\n",
       "[14,] 0.180259315 0.55322123  0.69595774 0.28702928  0.41862568 0.45993080\n",
       "[15,] 0.554545199 0.45663607  0.83038490 0.96745603  0.13158317 0.55723482\n",
       "[16,] 0.561715199 0.83248397  0.08767491 0.54843548  0.78084832 0.44256284\n",
       "[17,] 0.129617045 0.13971409  0.79639145 0.77574434  0.25407090 0.84418674\n",
       "[18,] 0.534053273 0.45788614  0.02308696 0.65878285  0.66595681 0.29330925\n",
       "[19,] 0.982579836 0.81493023  0.08334665 0.38677351  0.31896274 0.94032741\n",
       "[20,] 0.302642015 0.68487355  0.93060707 0.40094437  0.59554158 0.07946983\n",
       "[21,] 0.864510360 0.76204609  0.19249924 0.27068361  0.09859011 0.44295626\n",
       "[22,] 0.641709835 0.25729184  0.68977927 0.24202741  0.60657175 0.83517570\n",
       "[23,] 0.507193009 0.48638286  0.51603689 0.92333445  0.08872773 0.12726458\n",
       "[24,] 0.161585776 0.92185928  0.09666037 0.35269416  0.15056675 0.45951646\n",
       "[25,] 0.354266485 0.55208116  0.47081117 0.04524306  0.01721888 0.68309036\n",
       "[26,] 0.376784415 0.59271235  0.19321699 0.91873032  0.10248132 0.90342448\n",
       "[27,] 0.415907996 0.48886942  0.53133224 0.65337935  0.04437433 0.58994848\n",
       "[28,] 0.679549415 0.50662615  0.17512431 0.98527341  0.70465727 0.35085340\n",
       "[29,] 0.101839912 0.25577182  0.22510939 0.28969145  0.54959336 0.32322209\n",
       "[30,] 0.516642795 0.35309002  0.22554029 0.12757483  0.29388977 0.63347481\n",
       "[31,] ⋮           ⋮           ⋮          ⋮           ⋮          ⋮         \n",
       "[32,] 0.438944685 0.321324835 0.84279772 0.927622870 0.22466149 0.34500411\n",
       "[33,] 0.056552321 0.799632612 0.67179221 0.038660897 0.29803538 0.38113396\n",
       "[34,] 0.612099773 0.021365815 0.51954135 0.992243741 0.18904620 0.31079687\n",
       "[35,] 0.603443788 0.111871647 0.06420440 0.419207513 0.14156963 0.22945644\n",
       "[36,] 0.775671734 0.884057309 0.93639112 0.906222552 0.41280282 0.67646465\n",
       "[37,] 0.298280690 0.151300737 0.28798480 0.533931743 0.01121821 0.21329037\n",
       "[38,] 0.860343546 0.554385937 0.86231454 0.660752121 0.54689752 0.46267996\n",
       "[39,] 0.538394625 0.451502710 0.78494212 0.425273661 0.37617363 0.83478716\n",
       "[40,] 0.699020421 0.515962530 0.64351205 0.996400107 0.50388132 0.03150469\n",
       "[41,] 0.005065657 0.392309247 0.19211982 0.747886914 0.93665641 0.18006464\n",
       "[42,] 0.429801992 0.032801897 0.40663268 0.754481119 0.65105570 0.62929655\n",
       "[43,] 0.055023609 0.374206835 0.62121112 0.634187500 0.70687949 0.95079227\n",
       "[44,] 0.175793785 0.078358129 0.33164412 0.205439705 0.48241114 0.98088903\n",
       "[45,] 0.234059336 0.915487493 0.01030417 0.330365467 0.21492943 0.16814193\n",
       "[46,] 0.703730649 0.999254509 0.62419826 0.811847010 0.11271295 0.13380888\n",
       "[47,] 0.591941778 0.419494233 0.58098671 0.134883310 0.75111527 0.73982019\n",
       "[48,] 0.898734554 0.861598377 0.58078312 0.180911969 0.88962558 0.94698861\n",
       "[49,] 0.477237702 0.343025331 0.21286075 0.895276870 0.53540217 0.91301568\n",
       "[50,] 0.051174238 0.376102176 0.71251121 0.836798293 0.02261941 0.11152628\n",
       "[51,] 0.080163975 0.000655535 0.67678053 0.063134068 0.80538036 0.23937150\n",
       "[52,] 0.010052007 0.382996874 0.06948715 0.162618890 0.18994648 0.29122342\n",
       "[53,] 0.841604548 0.045126244 0.53096004 0.356475860 0.74371797 0.25658372\n",
       "[54,] 0.272795811 0.757651065 0.09454484 0.887068241 0.41997791 0.40002383\n",
       "[55,] 0.231723838 0.920154905 0.23561946 0.841197785 0.25638153 0.99143925\n",
       "[56,] 0.473956185 0.172341940 0.62871768 0.258225203 0.11600364 0.66182663\n",
       "[57,] 0.169264068 0.208479801 0.97806120 0.002982724 0.01962254 0.95653013\n",
       "[58,] 0.428129955 0.448526093 0.57878222 0.318448837 0.38964110 0.29996738\n",
       "[59,] 0.668898256 0.987643558 0.30231711 0.701190254 0.78450610 0.02322218\n",
       "[60,] 0.329573368 0.112138233 0.67712389 0.368798433 0.03655073 0.55485494\n",
       "[61,] 0.144286382 0.768940271 0.53720342 0.790040732 0.61270719 0.49161566\n",
       "      [,7]        [,8]       [,9]       [,10]       [,11] [,12]      \n",
       " [1,] 0.437719895 0.29639091 0.55680276 0.748826701 ⋯     0.105783077\n",
       " [2,] 0.860517084 0.90706054 0.39866062 0.054475579 ⋯     0.876869208\n",
       " [3,] 0.683178602 0.82494290 0.44867648 0.347169291 ⋯     0.916785280\n",
       " [4,] 0.076055612 0.26137673 0.68498094 0.528052706 ⋯     0.381578084\n",
       " [5,] 0.946810412 0.81798472 0.43112900 0.788326610 ⋯     0.390865956\n",
       " [6,] 0.745266893 0.07476735 0.78205285 0.080686493 ⋯     0.916048921\n",
       " [7,] 0.173267526 0.76588454 0.32562647 0.755235776 ⋯     0.511089633\n",
       " [8,] 0.431093580 0.23703407 0.98460707 0.411111143 ⋯     0.387606692\n",
       " [9,] 0.688682007 0.68806613 0.16214976 0.853113471 ⋯     0.560976589\n",
       "[10,] 0.458568254 0.25638119 0.17124881 0.666538066 ⋯     0.201221782\n",
       "[11,] 0.125172130 0.86667313 0.37282831 0.818885303 ⋯     0.991129069\n",
       "[12,] 0.591555483 0.30806486 0.92248761 0.364588028 ⋯     0.782031153\n",
       "[13,] 0.888977652 0.09128875 0.26964883 0.775536821 ⋯     0.889477678\n",
       "[14,] 0.327084398 0.46409072 0.87193835 0.941731827 ⋯     0.511217650\n",
       "[15,] 0.105455948 0.78556927 0.53435800 0.425392930 ⋯     0.761125083\n",
       "[16,] 0.488366599 0.39536118 0.01178998 0.191593450 ⋯     0.463844356\n",
       "[17,] 0.389239933 0.89554500 0.44519360 0.434076203 ⋯     0.187714768\n",
       "[18,] 0.382903634 0.15898642 0.68139280 0.594568137 ⋯     0.983215441\n",
       "[19,] 0.003783282 0.37622449 0.86244867 0.858727630 ⋯     0.868698156\n",
       "[20,] 0.942607250 0.21434904 0.23478363 0.200419343 ⋯     0.597784188\n",
       "[21,] 0.753493800 0.37357790 0.67039252 0.989349674 ⋯     0.102934414\n",
       "[22,] 0.676331569 0.89218807 0.16084426 0.904140326 ⋯     0.822218789\n",
       "[23,] 0.021588270 0.17023343 0.81659614 0.001245041 ⋯     0.173284839\n",
       "[24,] 0.654937431 0.97289609 0.56459118 0.632140143 ⋯     0.710136180\n",
       "[25,] 0.531740316 0.48943068 0.86879193 0.680083204 ⋯     0.268137437\n",
       "[26,] 0.041405591 0.83307439 0.42748422 0.150201330 ⋯     0.052044917\n",
       "[27,] 0.222318860 0.49186519 0.59849157 0.115650597 ⋯     0.002097399\n",
       "[28,] 0.516948170 0.34402475 0.55731952 0.573897145 ⋯     0.036577778\n",
       "[29,] 0.290522459 0.49335218 0.86891684 0.760295039 ⋯     0.275297725\n",
       "[30,] 0.172205128 0.70596991 0.67802120 0.422205387 ⋯     0.329414931\n",
       "[31,] ⋮           ⋮          ⋮          ⋮           ⋱     ⋮          \n",
       "[32,] 0.2112166   0.10753336 0.53222565 0.65482397  ⋯     0.34008849 \n",
       "[33,] 0.9873402   0.58621806 0.49065385 0.20666534  ⋯     0.10578114 \n",
       "[34,] 0.2748763   0.43091891 0.73659159 0.88401396  ⋯     0.17336878 \n",
       "[35,] 0.3014888   0.86140337 0.42961418 0.83004709  ⋯     0.15015154 \n",
       "[36,] 0.7199332   0.25239785 0.79320001 0.67474536  ⋯     0.23215893 \n",
       "[37,] 0.4721213   0.76851653 0.77066071 0.26243975  ⋯     0.03123193 \n",
       "[38,] 0.8942202   0.07984831 0.17548952 0.48317931  ⋯     0.60800480 \n",
       "[39,] 0.4301279   0.06445753 0.16915079 0.97231242  ⋯     0.17457679 \n",
       "[40,] 0.4141342   0.57861599 0.98938493 0.05813527  ⋯     0.10194550 \n",
       "[41,] 0.8980898   0.28036663 0.20838159 0.20582356  ⋯     0.89887969 \n",
       "[42,] 0.4763605   0.53534215 0.10731051 0.70219282  ⋯     0.03209187 \n",
       "[43,] 0.4813071   0.94825671 0.38059143 0.61727864  ⋯     0.76389151 \n",
       "[44,] 0.1731905   0.47113242 0.03887210 0.66843816  ⋯     0.59661646 \n",
       "[45,] 0.1617733   0.39751731 0.92314581 0.29218334  ⋯     0.11821847 \n",
       "[46,] 0.5086146   0.40964272 0.69954008 0.35366528  ⋯     0.96106860 \n",
       "[47,] 0.4739602   0.45789401 0.20293842 0.32741933  ⋯     0.90796099 \n",
       "[48,] 0.1568949   0.44444343 0.56150192 0.13264572  ⋯     0.91080093 \n",
       "[49,] 0.4265010   0.16357033 0.25739338 0.37126544  ⋯     0.60468550 \n",
       "[50,] 0.8174683   0.06205029 0.76709278 0.79543295  ⋯     0.34244927 \n",
       "[51,] 0.9800614   0.83530519 0.30489070 0.76148634  ⋯     0.45102893 \n",
       "[52,] 0.1078078   0.25733890 0.94531816 0.71941684  ⋯     0.65605236 \n",
       "[53,] 0.7780931   0.93182773 0.15436946 0.70417696  ⋯     0.33281290 \n",
       "[54,] 0.5645896   0.73243672 0.76515428 0.40465812  ⋯     0.77263989 \n",
       "[55,] 0.2846364   0.23070437 0.26443032 0.12434679  ⋯     0.89995300 \n",
       "[56,] 0.6823918   0.30140872 0.25481720 0.46241680  ⋯     0.62421149 \n",
       "[57,] 0.3507208   0.79114457 0.57962358 0.97928390  ⋯     0.20914356 \n",
       "[58,] 0.3273449   0.92231323 0.12589432 0.13997958  ⋯     0.96682106 \n",
       "[59,] 0.5756909   0.33204421 0.31272906 0.99718068  ⋯     0.87517301 \n",
       "[60,] 0.1461117   0.27468328 0.04378324 0.09108484  ⋯     0.81599601 \n",
       "[61,] 0.2992909   0.01683206 0.78092608 0.01202526  ⋯     0.28558836 \n",
       "      [,13]       [,14]       [,15]      [,16]       [,17]       [,18]     \n",
       " [1,] 0.99061593  0.84818752  0.37081655 0.86610689  0.099294222 0.42965591\n",
       " [2,] 0.61195819  0.43295866  0.21917499 0.71633592  0.024584666 0.03500316\n",
       " [3,] 0.65797825  0.43886193  0.63009880 0.28394267  0.520462599 0.29779099\n",
       " [4,] 0.23450814  0.73509135  0.33784795 0.43191872  0.480533013 0.65780135\n",
       " [5,] 0.73193649  0.27403011  0.59904680 0.21075771  0.857868188 0.64555033\n",
       " [6,] 0.35475290  0.82374186  0.96604516 0.70459031  0.061150261 0.33830607\n",
       " [7,] 0.81347593  0.12736457  0.40042274 0.50047315  0.264999833 0.38756355\n",
       " [8,] 0.52376974  0.76203318  0.39178065 0.10929500  0.974052620 0.96947347\n",
       " [9,] 0.44064833  0.66679074  0.64832613 0.69730278  0.999826525 0.99216408\n",
       "[10,] 0.52840397  0.37924595  0.80459883 0.67467377  0.483378378 0.77956018\n",
       "[11,] 0.14493684  0.62233704  0.59871229 0.52331029  0.814053416 0.94163583\n",
       "[12,] 0.62984317  0.53502221  0.77064885 0.37809836  0.947743151 0.13050563\n",
       "[13,] 0.83280294  0.70695018  0.34794919 0.83655772  0.028526766 0.70177646\n",
       "[14,] 0.76387206  0.65958576  0.85502246 0.39991679  0.604616462 0.86378334\n",
       "[15,] 0.86179090  0.92625883  0.63277092 0.21943810  0.701551692 0.54585780\n",
       "[16,] 0.07399629  0.14691262  0.46725842 0.62129179  0.795613101 0.91891106\n",
       "[17,] 0.98632547  0.61130813  0.03857373 0.63999732  0.566298887 0.53707488\n",
       "[18,] 0.48041842  0.39316873  0.29228835 0.66546472  0.001891279 0.79406121\n",
       "[19,] 0.33729244  0.65931631  0.66691012 0.09922765  0.242619833 0.89311545\n",
       "[20,] 0.40184444  0.25572095  0.97774301 0.77319373  0.977657184 0.01973719\n",
       "[21,] 0.69468891  0.41716180  0.97829509 0.06363984  0.716181860 0.53175927\n",
       "[22,] 0.57019264  0.26201566  0.64033849 0.62035368  0.949775021 0.77070528\n",
       "[23,] 0.19947180  0.48623190  0.96370432 0.87583450  0.742134708 0.04280001\n",
       "[24,] 0.56925928  0.29125876  0.01571394 0.77212840  0.816039178 0.33005241\n",
       "[25,] 0.64645125  0.40321863  0.04622681 0.84646136  0.806044500 0.36347952\n",
       "[26,] 0.41975240  0.16182851  0.95020388 0.05916615  0.664903635 0.56076667\n",
       "[27,] 0.38547726  0.50566265  0.33119926 0.16622306  0.022104572 0.29162646\n",
       "[28,] 0.55611453  0.01132241  0.24378438 0.15308772  0.465243926 0.77615544\n",
       "[29,] 0.26308532  0.75580327  0.08238694 0.09330137  0.862509034 0.02138457\n",
       "[30,] 0.03442376  0.96743033  0.14499140 0.36609597  0.302458763 0.55319052\n",
       "[31,] ⋮           ⋮           ⋮          ⋮           ⋮           ⋮         \n",
       "[32,] 0.711985370 0.204081854 0.85864069 0.089725489 0.24153612  0.73153095\n",
       "[33,] 0.367028515 0.621449741 0.18705594 0.729148010 0.31128863  0.79287953\n",
       "[34,] 0.559400341 0.446615541 0.16317868 0.873838383 0.67587528  0.36164080\n",
       "[35,] 0.125379762 0.003627721 0.20032511 0.295309607 0.09337087  0.45518481\n",
       "[36,] 0.513809493 0.862522381 0.25663634 0.224472779 0.35806967  0.56806731\n",
       "[37,] 0.789312483 0.062271468 0.55963769 0.753674817 0.67859007  0.51463317\n",
       "[38,] 0.274308094 0.319577477 0.21892250 0.207107346 0.72497625  0.92878133\n",
       "[39,] 0.211563357 0.067371464 0.10794067 0.464293755 0.18321080  0.89496424\n",
       "[40,] 0.723047641 0.784683470 0.40818281 0.038528699 0.48409050  0.05952980\n",
       "[41,] 0.023416292 0.996534273 0.33739853 0.255835597 0.42057203  0.67244601\n",
       "[42,] 0.545552008 0.763535435 0.45929733 0.205448679 0.89179935  0.55207664\n",
       "[43,] 0.955492883 0.513507329 0.02337484 0.583609653 0.11328146  0.30065659\n",
       "[44,] 0.474425385 0.910367092 0.28212781 0.390839703 0.64343742  0.41884877\n",
       "[45,] 0.002193704 0.135651629 0.58472791 0.352716981 0.73242850  0.85229316\n",
       "[46,] 0.300517394 0.432182884 0.94048139 0.332320656 0.02538142  0.65728363\n",
       "[47,] 0.823449155 0.152826601 0.56309393 0.056424677 0.30067407  0.93166661\n",
       "[48,] 0.714790947 0.822738971 0.14124915 0.656870033 0.53365727  0.91887143\n",
       "[49,] 0.043686096 0.442660156 0.67935217 0.003273330 0.72678012  0.09509415\n",
       "[50,] 0.710276222 0.466271457 0.34137050 0.964687496 0.50922145  0.29373456\n",
       "[51,] 0.964790819 0.900445336 0.13146976 0.004983051 0.30667002  0.48406443\n",
       "[52,] 0.427699930 0.952210068 0.30314979 0.225955191 0.21306829  0.70843979\n",
       "[53,] 0.268973840 0.324214190 0.35174052 0.435076801 0.51134255  0.29832297\n",
       "[54,] 0.638232468 0.313181189 0.91718180 0.900042723 0.84314389  0.55918567\n",
       "[55,] 0.446459449 0.486992133 0.05759375 0.625581907 0.02157357  0.96146575\n",
       "[56,] 0.002374872 0.051287139 0.64153534 0.675470530 0.11881555  0.69484616\n",
       "[57,] 0.999266718 0.509910793 0.99918186 0.780855776 0.04481506  0.88150228\n",
       "[58,] 0.721661840 0.647966785 0.72451240 0.349884765 0.14161308  0.86012210\n",
       "[59,] 0.660749654 0.941910608 0.87220261 0.612155026 0.63019525  0.03553025\n",
       "[60,] 0.011430454 0.819050597 0.55690550 0.985133766 0.03101468  0.30061597\n",
       "[61,] 0.829410339 0.815293529 0.93768820 0.851046518 0.50979375  0.23058778\n",
       "      [,19]      [,20]      [,21]      \n",
       " [1,] 0.04260894 0.12798122 0.340566241\n",
       " [2,] 0.80819424 0.48228823 0.081167505\n",
       " [3,] 0.79734805 0.28453628 0.853584486\n",
       " [4,] 0.05478402 0.99987130 0.565547002\n",
       " [5,] 0.52056738 0.06092601 0.006528081\n",
       " [6,] 0.10863037 0.30356968 0.827696467\n",
       " [7,] 0.19027447 0.75240920 0.571884661\n",
       " [8,] 0.24320695 0.65034552 0.859907216\n",
       " [9,] 0.22286483 0.60342368 0.277724271\n",
       "[10,] 0.53568988 0.44846674 0.588118518\n",
       "[11,] 0.30620256 0.91136249 0.041044260\n",
       "[12,] 0.69335645 0.05739092 0.125341784\n",
       "[13,] 0.05677451 0.71141559 0.567084560\n",
       "[14,] 0.13237843 0.82389358 0.457293789\n",
       "[15,] 0.29108387 0.98205531 0.649349094\n",
       "[16,] 0.76418391 0.04257104 0.191196195\n",
       "[17,] 0.71128459 0.65035995 0.762586411\n",
       "[18,] 0.96447939 0.34874952 0.301367531\n",
       "[19,] 0.39298936 0.49798513 0.062383804\n",
       "[20,] 0.51093347 0.18322082 0.512357393\n",
       "[21,] 0.29411959 0.42787568 0.782797685\n",
       "[22,] 0.73240239 0.24187316 0.009594716\n",
       "[23,] 0.75139647 0.68394019 0.328367455\n",
       "[24,] 0.58656306 0.22453688 0.601000690\n",
       "[25,] 0.46209436 0.18906540 0.863304963\n",
       "[26,] 0.09767963 0.75589542 0.501111827\n",
       "[27,] 0.15985637 0.82649622 0.856732330\n",
       "[28,] 0.64331510 0.02167931 0.346876927\n",
       "[29,] 0.33454219 0.85442262 0.227996927\n",
       "[30,] 0.34644466 0.02115392 0.239521193\n",
       "[31,] ⋮          ⋮          ⋮          \n",
       "[32,] 0.10964456 0.01269368 0.706051910\n",
       "[33,] 0.57069171 0.15243922 0.927613619\n",
       "[34,] 0.84919507 0.72404046 0.590392524\n",
       "[35,] 0.61237839 0.77029083 0.762934625\n",
       "[36,] 0.81734165 0.05242819 0.081457769\n",
       "[37,] 0.16737537 0.30987674 0.372299024\n",
       "[38,] 0.81878355 0.76519758 0.454981510\n",
       "[39,] 0.95736118 0.13457337 0.013238260\n",
       "[40,] 0.26350736 0.74056403 0.156060029\n",
       "[41,] 0.47319312 0.56195529 0.263060421\n",
       "[42,] 0.58357202 0.26331854 0.620870831\n",
       "[43,] 0.81771765 0.42455567 0.058727245\n",
       "[44,] 0.33881912 0.36461216 0.183702376\n",
       "[45,] 0.28739705 0.66499660 0.507673060\n",
       "[46,] 0.16518191 0.75785539 0.057357680\n",
       "[47,] 0.01781217 0.38411761 0.188183157\n",
       "[48,] 0.44956425 0.24172118 0.915785377\n",
       "[49,] 0.76575349 0.35036077 0.466588801\n",
       "[50,] 0.11029686 0.15940805 0.004970017\n",
       "[51,] 0.10464922 0.46961587 0.824078601\n",
       "[52,] 0.25386679 0.35043848 0.748978842\n",
       "[53,] 0.72643147 0.72979272 0.038847057\n",
       "[54,] 0.10330443 0.99088876 0.132822323\n",
       "[55,] 0.96709579 0.79673810 0.745067139\n",
       "[56,] 0.14635534 0.21954981 0.713731901\n",
       "[57,] 0.68154808 0.25166592 0.609118265\n",
       "[58,] 0.34199629 0.18598143 0.144084482\n",
       "[59,] 0.88936473 0.15894777 0.472520423\n",
       "[60,] 0.49406014 0.29520186 0.057759170\n",
       "[61,] 0.89700334 0.04791818 0.939362277"
      ]
     },
     "metadata": {},
     "output_type": "display_data"
    }
   ],
   "source": [
    "w <- 1\n",
    "x <- 5\n",
    "y <- 3\n",
    "z <- 4\n",
    "\n",
    "n<-10**2\n",
    "\n",
    "#Definimos A matriz pseudo-aleatoria de números entre 0 y 1 con 16 decimales \n",
    "A<-mlsjunkgenm(nrow = n, ncol = n, w = w, x = x, y = y, z = z, round = 16)\n",
    "TOL<-10**-8\n",
    "maxsweep<-20\n",
    "A"
   ]
  },
  {
   "cell_type": "code",
   "execution_count": 19,
   "metadata": {},
   "outputs": [],
   "source": [
    "#Definimos b vector de números aleatorios\n",
    "set.seed(123)\n",
    "b<-c(runif(n = n, min = -100, max = 100))"
   ]
  },
  {
   "cell_type": "code",
   "execution_count": 15,
   "metadata": {},
   "outputs": [],
   "source": [
    "#Función\n",
    "x_sel <- sel_solver(A,b,TOL,maxsweep)"
   ]
  },
  {
   "cell_type": "markdown",
   "metadata": {},
   "source": [
    "**Sin embargo, en este caso Comp=Ax es diferente del vector b.**"
   ]
  },
  {
   "cell_type": "code",
   "execution_count": 16,
   "metadata": {},
   "outputs": [
    {
     "data": {
      "text/html": [
       "FALSE"
      ],
      "text/latex": [
       "FALSE"
      ],
      "text/markdown": [
       "FALSE"
      ],
      "text/plain": [
       "[1] FALSE"
      ]
     },
     "metadata": {},
     "output_type": "display_data"
    }
   ],
   "source": [
    "#Comprobamos si la solución x es correcta\n",
    "Comp<-A%*%x_sel\n",
    "all(Comp==b)"
   ]
  },
  {
   "cell_type": "code",
   "execution_count": 25,
   "metadata": {},
   "outputs": [
    {
     "data": {
      "text/html": [
       "100"
      ],
      "text/latex": [
       "100"
      ],
      "text/markdown": [
       "100"
      ],
      "text/plain": [
       "[1] 100"
      ]
     },
     "metadata": {},
     "output_type": "display_data"
    }
   ],
   "source": [
    "#Verificamos que ninguno de los elementos de tamaño 100 coinciden\n",
    "length(which(Comp != b))"
   ]
  },
  {
   "cell_type": "markdown",
   "metadata": {},
   "source": [
    "**Notamos que los elementos de ambos vectores parecen coincidir respecto a su signo y las diferencias entre cada entrada parecieran mantenerse cercanas.**"
   ]
  },
  {
   "cell_type": "code",
   "execution_count": 28,
   "metadata": {},
   "outputs": [
    {
     "data": {
      "text/html": [
       "<table>\n",
       "<caption>A matrix: 10 × 1 of type dbl</caption>\n",
       "<tbody>\n",
       "\t<tr><td>-58.708899</td></tr>\n",
       "\t<tr><td> 50.904351</td></tr>\n",
       "\t<tr><td>-23.058111</td></tr>\n",
       "\t<tr><td> 80.033017</td></tr>\n",
       "\t<tr><td> 82.579571</td></tr>\n",
       "\t<tr><td>-95.200730</td></tr>\n",
       "\t<tr><td>  1.827158</td></tr>\n",
       "\t<tr><td> 78.987237</td></tr>\n",
       "\t<tr><td> 14.143637</td></tr>\n",
       "\t<tr><td>-13.340424</td></tr>\n",
       "</tbody>\n",
       "</table>\n"
      ],
      "text/latex": [
       "A matrix: 10 × 1 of type dbl\n",
       "\\begin{tabular}{l}\n",
       "\t -58.708899\\\\\n",
       "\t  50.904351\\\\\n",
       "\t -23.058111\\\\\n",
       "\t  80.033017\\\\\n",
       "\t  82.579571\\\\\n",
       "\t -95.200730\\\\\n",
       "\t   1.827158\\\\\n",
       "\t  78.987237\\\\\n",
       "\t  14.143637\\\\\n",
       "\t -13.340424\\\\\n",
       "\\end{tabular}\n"
      ],
      "text/markdown": [
       "\n",
       "A matrix: 10 × 1 of type dbl\n",
       "\n",
       "| -58.708899 |\n",
       "|  50.904351 |\n",
       "| -23.058111 |\n",
       "|  80.033017 |\n",
       "|  82.579571 |\n",
       "| -95.200730 |\n",
       "|   1.827158 |\n",
       "|  78.987237 |\n",
       "|  14.143637 |\n",
       "| -13.340424 |\n",
       "\n"
      ],
      "text/plain": [
       "      [,1]      \n",
       " [1,] -58.708899\n",
       " [2,]  50.904351\n",
       " [3,] -23.058111\n",
       " [4,]  80.033017\n",
       " [5,]  82.579571\n",
       " [6,] -95.200730\n",
       " [7,]   1.827158\n",
       " [8,]  78.987237\n",
       " [9,]  14.143637\n",
       "[10,] -13.340424"
      ]
     },
     "metadata": {},
     "output_type": "display_data"
    },
    {
     "data": {
      "text/html": [
       "<ol class=list-inline>\n",
       "\t<li>-42.4844959750772</li>\n",
       "\t<li>57.6610270887613</li>\n",
       "\t<li>-18.20461563766</li>\n",
       "\t<li>76.6034808009863</li>\n",
       "\t<li>88.0934568587691</li>\n",
       "\t<li>-90.8887001220137</li>\n",
       "\t<li>5.62109760940075</li>\n",
       "\t<li>78.4838088788092</li>\n",
       "\t<li>10.2870028931648</li>\n",
       "\t<li>-8.67705293931067</li>\n",
       "</ol>\n"
      ],
      "text/latex": [
       "\\begin{enumerate*}\n",
       "\\item -42.4844959750772\n",
       "\\item 57.6610270887613\n",
       "\\item -18.20461563766\n",
       "\\item 76.6034808009863\n",
       "\\item 88.0934568587691\n",
       "\\item -90.8887001220137\n",
       "\\item 5.62109760940075\n",
       "\\item 78.4838088788092\n",
       "\\item 10.2870028931648\n",
       "\\item -8.67705293931067\n",
       "\\end{enumerate*}\n"
      ],
      "text/markdown": [
       "1. -42.4844959750772\n",
       "2. 57.6610270887613\n",
       "3. -18.20461563766\n",
       "4. 76.6034808009863\n",
       "5. 88.0934568587691\n",
       "6. -90.8887001220137\n",
       "7. 5.62109760940075\n",
       "8. 78.4838088788092\n",
       "9. 10.2870028931648\n",
       "10. -8.67705293931067\n",
       "\n",
       "\n"
      ],
      "text/plain": [
       " [1] -42.484496  57.661027 -18.204616  76.603481  88.093457 -90.888700\n",
       " [7]   5.621098  78.483809  10.287003  -8.677053"
      ]
     },
     "metadata": {},
     "output_type": "display_data"
    }
   ],
   "source": [
    "head(Comp,10)\n",
    "head(b,10)"
   ]
  },
  {
   "cell_type": "markdown",
   "metadata": {},
   "source": [
    "**Ahora reduciremos la dimensión de A por $10^1 \\times 10^1$**"
   ]
  },
  {
   "cell_type": "code",
   "execution_count": 36,
   "metadata": {},
   "outputs": [
    {
     "data": {
      "text/html": [
       "<table>\n",
       "<caption>A matrix: 10 × 10 of type dbl</caption>\n",
       "<tbody>\n",
       "\t<tr><td>0.847093986</td><td>0.9713891</td><td>0.8645104</td><td>0.28206127</td><td>0.78764684</td><td>0.45964341</td><td>0.4361059</td><td>0.438944685</td><td>0.42980199</td><td>0.01005201</td></tr>\n",
       "\t<tr><td>0.746115227</td><td>0.2617650</td><td>0.6417098</td><td>0.70219179</td><td>0.36677052</td><td>0.52111346</td><td>0.5854412</td><td>0.056552321</td><td>0.05502361</td><td>0.84160455</td></tr>\n",
       "\t<tr><td>0.436393491</td><td>0.7464926</td><td>0.5071930</td><td>0.70899268</td><td>0.98794839</td><td>0.45742096</td><td>0.8007255</td><td>0.612099773</td><td>0.17579378</td><td>0.27279581</td></tr>\n",
       "\t<tr><td>0.003548722</td><td>0.1802593</td><td>0.1615858</td><td>0.26811666</td><td>0.85106955</td><td>0.79418897</td><td>0.4221502</td><td>0.603443788</td><td>0.23405934</td><td>0.23172384</td></tr>\n",
       "\t<tr><td>0.262946911</td><td>0.5545452</td><td>0.3542665</td><td>0.03499987</td><td>0.07751327</td><td>0.95024571</td><td>0.6641080</td><td>0.775671734</td><td>0.70373065</td><td>0.47395619</td></tr>\n",
       "\t<tr><td>0.324979464</td><td>0.5617152</td><td>0.3767844</td><td>0.40179265</td><td>0.26776372</td><td>0.54135361</td><td>0.8696630</td><td>0.298280690</td><td>0.59194178</td><td>0.16926407</td></tr>\n",
       "\t<tr><td>0.622638935</td><td>0.1296170</td><td>0.4159080</td><td>0.04488852</td><td>0.59169089</td><td>0.45936268</td><td>0.9651222</td><td>0.860343546</td><td>0.89873455</td><td>0.42812996</td></tr>\n",
       "\t<tr><td>0.118732307</td><td>0.5340533</td><td>0.6795494</td><td>0.96684736</td><td>0.28750470</td><td>0.07005899</td><td>0.9454620</td><td>0.538394625</td><td>0.47723770</td><td>0.66889826</td></tr>\n",
       "\t<tr><td>0.733660081</td><td>0.9825798</td><td>0.1018399</td><td>0.01974215</td><td>0.65805039</td><td>0.58552912</td><td>0.1830504</td><td>0.699020421</td><td>0.05117424</td><td>0.32957337</td></tr>\n",
       "\t<tr><td>0.039080997</td><td>0.3026420</td><td>0.5166428</td><td>0.32624773</td><td>0.13347826</td><td>0.35099209</td><td>0.4242837</td><td>0.005065657</td><td>0.08016398</td><td>0.14428638</td></tr>\n",
       "</tbody>\n",
       "</table>\n"
      ],
      "text/latex": [
       "A matrix: 10 × 10 of type dbl\n",
       "\\begin{tabular}{llllllllll}\n",
       "\t 0.847093986 & 0.9713891 & 0.8645104 & 0.28206127 & 0.78764684 & 0.45964341 & 0.4361059 & 0.438944685 & 0.42980199 & 0.01005201\\\\\n",
       "\t 0.746115227 & 0.2617650 & 0.6417098 & 0.70219179 & 0.36677052 & 0.52111346 & 0.5854412 & 0.056552321 & 0.05502361 & 0.84160455\\\\\n",
       "\t 0.436393491 & 0.7464926 & 0.5071930 & 0.70899268 & 0.98794839 & 0.45742096 & 0.8007255 & 0.612099773 & 0.17579378 & 0.27279581\\\\\n",
       "\t 0.003548722 & 0.1802593 & 0.1615858 & 0.26811666 & 0.85106955 & 0.79418897 & 0.4221502 & 0.603443788 & 0.23405934 & 0.23172384\\\\\n",
       "\t 0.262946911 & 0.5545452 & 0.3542665 & 0.03499987 & 0.07751327 & 0.95024571 & 0.6641080 & 0.775671734 & 0.70373065 & 0.47395619\\\\\n",
       "\t 0.324979464 & 0.5617152 & 0.3767844 & 0.40179265 & 0.26776372 & 0.54135361 & 0.8696630 & 0.298280690 & 0.59194178 & 0.16926407\\\\\n",
       "\t 0.622638935 & 0.1296170 & 0.4159080 & 0.04488852 & 0.59169089 & 0.45936268 & 0.9651222 & 0.860343546 & 0.89873455 & 0.42812996\\\\\n",
       "\t 0.118732307 & 0.5340533 & 0.6795494 & 0.96684736 & 0.28750470 & 0.07005899 & 0.9454620 & 0.538394625 & 0.47723770 & 0.66889826\\\\\n",
       "\t 0.733660081 & 0.9825798 & 0.1018399 & 0.01974215 & 0.65805039 & 0.58552912 & 0.1830504 & 0.699020421 & 0.05117424 & 0.32957337\\\\\n",
       "\t 0.039080997 & 0.3026420 & 0.5166428 & 0.32624773 & 0.13347826 & 0.35099209 & 0.4242837 & 0.005065657 & 0.08016398 & 0.14428638\\\\\n",
       "\\end{tabular}\n"
      ],
      "text/markdown": [
       "\n",
       "A matrix: 10 × 10 of type dbl\n",
       "\n",
       "| 0.847093986 | 0.9713891 | 0.8645104 | 0.28206127 | 0.78764684 | 0.45964341 | 0.4361059 | 0.438944685 | 0.42980199 | 0.01005201 |\n",
       "| 0.746115227 | 0.2617650 | 0.6417098 | 0.70219179 | 0.36677052 | 0.52111346 | 0.5854412 | 0.056552321 | 0.05502361 | 0.84160455 |\n",
       "| 0.436393491 | 0.7464926 | 0.5071930 | 0.70899268 | 0.98794839 | 0.45742096 | 0.8007255 | 0.612099773 | 0.17579378 | 0.27279581 |\n",
       "| 0.003548722 | 0.1802593 | 0.1615858 | 0.26811666 | 0.85106955 | 0.79418897 | 0.4221502 | 0.603443788 | 0.23405934 | 0.23172384 |\n",
       "| 0.262946911 | 0.5545452 | 0.3542665 | 0.03499987 | 0.07751327 | 0.95024571 | 0.6641080 | 0.775671734 | 0.70373065 | 0.47395619 |\n",
       "| 0.324979464 | 0.5617152 | 0.3767844 | 0.40179265 | 0.26776372 | 0.54135361 | 0.8696630 | 0.298280690 | 0.59194178 | 0.16926407 |\n",
       "| 0.622638935 | 0.1296170 | 0.4159080 | 0.04488852 | 0.59169089 | 0.45936268 | 0.9651222 | 0.860343546 | 0.89873455 | 0.42812996 |\n",
       "| 0.118732307 | 0.5340533 | 0.6795494 | 0.96684736 | 0.28750470 | 0.07005899 | 0.9454620 | 0.538394625 | 0.47723770 | 0.66889826 |\n",
       "| 0.733660081 | 0.9825798 | 0.1018399 | 0.01974215 | 0.65805039 | 0.58552912 | 0.1830504 | 0.699020421 | 0.05117424 | 0.32957337 |\n",
       "| 0.039080997 | 0.3026420 | 0.5166428 | 0.32624773 | 0.13347826 | 0.35099209 | 0.4242837 | 0.005065657 | 0.08016398 | 0.14428638 |\n",
       "\n"
      ],
      "text/plain": [
       "      [,1]        [,2]      [,3]      [,4]       [,5]       [,6]      \n",
       " [1,] 0.847093986 0.9713891 0.8645104 0.28206127 0.78764684 0.45964341\n",
       " [2,] 0.746115227 0.2617650 0.6417098 0.70219179 0.36677052 0.52111346\n",
       " [3,] 0.436393491 0.7464926 0.5071930 0.70899268 0.98794839 0.45742096\n",
       " [4,] 0.003548722 0.1802593 0.1615858 0.26811666 0.85106955 0.79418897\n",
       " [5,] 0.262946911 0.5545452 0.3542665 0.03499987 0.07751327 0.95024571\n",
       " [6,] 0.324979464 0.5617152 0.3767844 0.40179265 0.26776372 0.54135361\n",
       " [7,] 0.622638935 0.1296170 0.4159080 0.04488852 0.59169089 0.45936268\n",
       " [8,] 0.118732307 0.5340533 0.6795494 0.96684736 0.28750470 0.07005899\n",
       " [9,] 0.733660081 0.9825798 0.1018399 0.01974215 0.65805039 0.58552912\n",
       "[10,] 0.039080997 0.3026420 0.5166428 0.32624773 0.13347826 0.35099209\n",
       "      [,7]      [,8]        [,9]       [,10]     \n",
       " [1,] 0.4361059 0.438944685 0.42980199 0.01005201\n",
       " [2,] 0.5854412 0.056552321 0.05502361 0.84160455\n",
       " [3,] 0.8007255 0.612099773 0.17579378 0.27279581\n",
       " [4,] 0.4221502 0.603443788 0.23405934 0.23172384\n",
       " [5,] 0.6641080 0.775671734 0.70373065 0.47395619\n",
       " [6,] 0.8696630 0.298280690 0.59194178 0.16926407\n",
       " [7,] 0.9651222 0.860343546 0.89873455 0.42812996\n",
       " [8,] 0.9454620 0.538394625 0.47723770 0.66889826\n",
       " [9,] 0.1830504 0.699020421 0.05117424 0.32957337\n",
       "[10,] 0.4242837 0.005065657 0.08016398 0.14428638"
      ]
     },
     "metadata": {},
     "output_type": "display_data"
    }
   ],
   "source": [
    "w <- 1\n",
    "x <- 5\n",
    "y <- 3\n",
    "z <- 4\n",
    "\n",
    "n<-10**1\n",
    "\n",
    "#Definimos A matriz pseudo-aleatoria de números entre 0 y 1 con 16 decimales \n",
    "A<-mlsjunkgenm(nrow = n, ncol = n, w = w, x = x, y = y, z = z, round = 16)\n",
    "TOL<-10**-8\n",
    "maxsweep<-20\n",
    "A"
   ]
  },
  {
   "cell_type": "code",
   "execution_count": 37,
   "metadata": {},
   "outputs": [],
   "source": [
    "#Definimos b vector de números aleatorios\n",
    "set.seed(123)\n",
    "b<-c(runif(n = n, min = -100, max = 100))"
   ]
  },
  {
   "cell_type": "code",
   "execution_count": 38,
   "metadata": {},
   "outputs": [],
   "source": [
    "#Función\n",
    "x_sel <- sel_solver(A,b,TOL,maxsweep)"
   ]
  },
  {
   "cell_type": "markdown",
   "metadata": {},
   "source": [
    "**Y vemos que para este caso Comp=Ax vuelve a ser diferente del vector b.**"
   ]
  },
  {
   "cell_type": "code",
   "execution_count": 39,
   "metadata": {},
   "outputs": [
    {
     "data": {
      "text/html": [
       "FALSE"
      ],
      "text/latex": [
       "FALSE"
      ],
      "text/markdown": [
       "FALSE"
      ],
      "text/plain": [
       "[1] FALSE"
      ]
     },
     "metadata": {},
     "output_type": "display_data"
    }
   ],
   "source": [
    "#Comprobamos si la solución x es correcta\n",
    "Comp<-A%*%x_sel\n",
    "all(Comp==b)"
   ]
  },
  {
   "cell_type": "code",
   "execution_count": 40,
   "metadata": {},
   "outputs": [
    {
     "data": {
      "text/html": [
       "10"
      ],
      "text/latex": [
       "10"
      ],
      "text/markdown": [
       "10"
      ],
      "text/plain": [
       "[1] 10"
      ]
     },
     "metadata": {},
     "output_type": "display_data"
    }
   ],
   "source": [
    "#Verificamos que ninguno de los elementos de tamaño 10 coinciden\n",
    "length(which(Comp != b))"
   ]
  },
  {
   "cell_type": "markdown",
   "metadata": {},
   "source": [
    "**Notamos que los elementos de ambos vectores vuelven a coincidir respecto a su signo y las diferencias entre cada entrada se hacen más pequeñas.**"
   ]
  },
  {
   "cell_type": "code",
   "execution_count": 42,
   "metadata": {},
   "outputs": [
    {
     "data": {
      "text/html": [
       "<table>\n",
       "<caption>A matrix: 10 × 1 of type dbl</caption>\n",
       "<tbody>\n",
       "\t<tr><td>-46.240477</td></tr>\n",
       "\t<tr><td> 50.092697</td></tr>\n",
       "\t<tr><td>-30.286978</td></tr>\n",
       "\t<tr><td> 69.009522</td></tr>\n",
       "\t<tr><td> 87.828847</td></tr>\n",
       "\t<tr><td>-66.945451</td></tr>\n",
       "\t<tr><td> 15.322677</td></tr>\n",
       "\t<tr><td> 92.637391</td></tr>\n",
       "\t<tr><td> 27.256883</td></tr>\n",
       "\t<tr><td>  5.875627</td></tr>\n",
       "</tbody>\n",
       "</table>\n"
      ],
      "text/latex": [
       "A matrix: 10 × 1 of type dbl\n",
       "\\begin{tabular}{l}\n",
       "\t -46.240477\\\\\n",
       "\t  50.092697\\\\\n",
       "\t -30.286978\\\\\n",
       "\t  69.009522\\\\\n",
       "\t  87.828847\\\\\n",
       "\t -66.945451\\\\\n",
       "\t  15.322677\\\\\n",
       "\t  92.637391\\\\\n",
       "\t  27.256883\\\\\n",
       "\t   5.875627\\\\\n",
       "\\end{tabular}\n"
      ],
      "text/markdown": [
       "\n",
       "A matrix: 10 × 1 of type dbl\n",
       "\n",
       "| -46.240477 |\n",
       "|  50.092697 |\n",
       "| -30.286978 |\n",
       "|  69.009522 |\n",
       "|  87.828847 |\n",
       "| -66.945451 |\n",
       "|  15.322677 |\n",
       "|  92.637391 |\n",
       "|  27.256883 |\n",
       "|   5.875627 |\n",
       "\n"
      ],
      "text/plain": [
       "      [,1]      \n",
       " [1,] -46.240477\n",
       " [2,]  50.092697\n",
       " [3,] -30.286978\n",
       " [4,]  69.009522\n",
       " [5,]  87.828847\n",
       " [6,] -66.945451\n",
       " [7,]  15.322677\n",
       " [8,]  92.637391\n",
       " [9,]  27.256883\n",
       "[10,]   5.875627"
      ]
     },
     "metadata": {},
     "output_type": "display_data"
    },
    {
     "data": {
      "text/html": [
       "<ol class=list-inline>\n",
       "\t<li>-42.4844959750772</li>\n",
       "\t<li>57.6610270887613</li>\n",
       "\t<li>-18.20461563766</li>\n",
       "\t<li>76.6034808009863</li>\n",
       "\t<li>88.0934568587691</li>\n",
       "\t<li>-90.8887001220137</li>\n",
       "\t<li>5.62109760940075</li>\n",
       "\t<li>78.4838088788092</li>\n",
       "\t<li>10.2870028931648</li>\n",
       "\t<li>-8.67705293931067</li>\n",
       "</ol>\n"
      ],
      "text/latex": [
       "\\begin{enumerate*}\n",
       "\\item -42.4844959750772\n",
       "\\item 57.6610270887613\n",
       "\\item -18.20461563766\n",
       "\\item 76.6034808009863\n",
       "\\item 88.0934568587691\n",
       "\\item -90.8887001220137\n",
       "\\item 5.62109760940075\n",
       "\\item 78.4838088788092\n",
       "\\item 10.2870028931648\n",
       "\\item -8.67705293931067\n",
       "\\end{enumerate*}\n"
      ],
      "text/markdown": [
       "1. -42.4844959750772\n",
       "2. 57.6610270887613\n",
       "3. -18.20461563766\n",
       "4. 76.6034808009863\n",
       "5. 88.0934568587691\n",
       "6. -90.8887001220137\n",
       "7. 5.62109760940075\n",
       "8. 78.4838088788092\n",
       "9. 10.2870028931648\n",
       "10. -8.67705293931067\n",
       "\n",
       "\n"
      ],
      "text/plain": [
       " [1] -42.484496  57.661027 -18.204616  76.603481  88.093457 -90.888700\n",
       " [7]   5.621098  78.483809  10.287003  -8.677053"
      ]
     },
     "metadata": {},
     "output_type": "display_data"
    }
   ],
   "source": [
    "Comp\n",
    "b"
   ]
  },
  {
   "cell_type": "markdown",
   "metadata": {},
   "source": [
    "Con la comprobación, vemos que las entradas de Comp=Ax se acercan más a las del vector de b. Sin embargo, las diferencias siguen siendo relativamente grandes."
   ]
  },
  {
   "cell_type": "code",
   "execution_count": 45,
   "metadata": {},
   "outputs": [
    {
     "data": {
      "text/html": [
       "11.0586213520967"
      ],
      "text/latex": [
       "11.0586213520967"
      ],
      "text/markdown": [
       "11.0586213520967"
      ],
      "text/plain": [
       "[1] 11.05862"
      ]
     },
     "metadata": {},
     "output_type": "display_data"
    }
   ],
   "source": [
    "#Calculamos el promedio del valor absoluto de las diferencias entre ambos vectores\n",
    "mean((abs(Comp-b)))"
   ]
  },
  {
   "cell_type": "markdown",
   "metadata": {},
   "source": [
    "**Por último reduciremos la dimensión de A de $2 \\times 2$**"
   ]
  },
  {
   "cell_type": "code",
   "execution_count": 46,
   "metadata": {},
   "outputs": [
    {
     "data": {
      "text/html": [
       "<table>\n",
       "<caption>A matrix: 2 × 2 of type dbl</caption>\n",
       "<tbody>\n",
       "\t<tr><td>0.8470940</td><td>0.436393491</td></tr>\n",
       "\t<tr><td>0.7461152</td><td>0.003548722</td></tr>\n",
       "</tbody>\n",
       "</table>\n"
      ],
      "text/latex": [
       "A matrix: 2 × 2 of type dbl\n",
       "\\begin{tabular}{ll}\n",
       "\t 0.8470940 & 0.436393491\\\\\n",
       "\t 0.7461152 & 0.003548722\\\\\n",
       "\\end{tabular}\n"
      ],
      "text/markdown": [
       "\n",
       "A matrix: 2 × 2 of type dbl\n",
       "\n",
       "| 0.8470940 | 0.436393491 |\n",
       "| 0.7461152 | 0.003548722 |\n",
       "\n"
      ],
      "text/plain": [
       "     [,1]      [,2]       \n",
       "[1,] 0.8470940 0.436393491\n",
       "[2,] 0.7461152 0.003548722"
      ]
     },
     "metadata": {},
     "output_type": "display_data"
    }
   ],
   "source": [
    "w <- 1\n",
    "x <- 5\n",
    "y <- 3\n",
    "z <- 4\n",
    "\n",
    "n<-2\n",
    "\n",
    "#Definimos A matriz pseudo-aleatoria de números entre 0 y 1 con 16 decimales \n",
    "A<-mlsjunkgenm(nrow = n, ncol = n, w = w, x = x, y = y, z = z, round = 16)\n",
    "TOL<-10**-8\n",
    "maxsweep<-20\n",
    "A"
   ]
  },
  {
   "cell_type": "code",
   "execution_count": 47,
   "metadata": {},
   "outputs": [],
   "source": [
    "#Definimos b vector de números aleatorios\n",
    "set.seed(123)\n",
    "b<-c(runif(n = n, min = -100, max = 100))"
   ]
  },
  {
   "cell_type": "code",
   "execution_count": 48,
   "metadata": {},
   "outputs": [],
   "source": [
    "#Función\n",
    "x_sel <- sel_solver(A,b,TOL,maxsweep)"
   ]
  },
  {
   "cell_type": "markdown",
   "metadata": {},
   "source": [
    "**Y vemos que para este caso Comp=Ax vuelve a ser diferente del vector b.**"
   ]
  },
  {
   "cell_type": "code",
   "execution_count": 49,
   "metadata": {},
   "outputs": [
    {
     "data": {
      "text/html": [
       "FALSE"
      ],
      "text/latex": [
       "FALSE"
      ],
      "text/markdown": [
       "FALSE"
      ],
      "text/plain": [
       "[1] FALSE"
      ]
     },
     "metadata": {},
     "output_type": "display_data"
    }
   ],
   "source": [
    "#Comprobamos si la solución x es correcta\n",
    "Comp<-A%*%x_sel\n",
    "all(Comp==b)"
   ]
  },
  {
   "cell_type": "markdown",
   "metadata": {},
   "source": [
    "**Sin embargo, la primera entrada de ambos vectores sí coincide**"
   ]
  },
  {
   "cell_type": "code",
   "execution_count": 60,
   "metadata": {},
   "outputs": [
    {
     "data": {
      "text/html": [
       "2"
      ],
      "text/latex": [
       "2"
      ],
      "text/markdown": [
       "2"
      ],
      "text/plain": [
       "[1] 2"
      ]
     },
     "metadata": {},
     "output_type": "display_data"
    }
   ],
   "source": [
    "#Al comparar Comp y b, sí coincide la primera entrada pero la segunda es distinta\n",
    "which(Comp != b)"
   ]
  },
  {
   "cell_type": "code",
   "execution_count": 51,
   "metadata": {},
   "outputs": [
    {
     "data": {
      "text/html": [
       "<table>\n",
       "<caption>A matrix: 2 × 1 of type dbl</caption>\n",
       "<tbody>\n",
       "\t<tr><td>-42.48450</td></tr>\n",
       "\t<tr><td> 57.66103</td></tr>\n",
       "</tbody>\n",
       "</table>\n"
      ],
      "text/latex": [
       "A matrix: 2 × 1 of type dbl\n",
       "\\begin{tabular}{l}\n",
       "\t -42.48450\\\\\n",
       "\t  57.66103\\\\\n",
       "\\end{tabular}\n"
      ],
      "text/markdown": [
       "\n",
       "A matrix: 2 × 1 of type dbl\n",
       "\n",
       "| -42.48450 |\n",
       "|  57.66103 |\n",
       "\n"
      ],
      "text/plain": [
       "     [,1]     \n",
       "[1,] -42.48450\n",
       "[2,]  57.66103"
      ]
     },
     "metadata": {},
     "output_type": "display_data"
    },
    {
     "data": {
      "text/html": [
       "<ol class=list-inline>\n",
       "\t<li>-42.4844959750772</li>\n",
       "\t<li>57.6610270887613</li>\n",
       "</ol>\n"
      ],
      "text/latex": [
       "\\begin{enumerate*}\n",
       "\\item -42.4844959750772\n",
       "\\item 57.6610270887613\n",
       "\\end{enumerate*}\n"
      ],
      "text/markdown": [
       "1. -42.4844959750772\n",
       "2. 57.6610270887613\n",
       "\n",
       "\n"
      ],
      "text/plain": [
       "[1] -42.48450  57.66103"
      ]
     },
     "metadata": {},
     "output_type": "display_data"
    }
   ],
   "source": [
    "Comp\n",
    "b"
   ]
  },
  {
   "cell_type": "markdown",
   "metadata": {},
   "source": [
    "**Bajo un redondeo a 13 cifras, ambos vectores coinciden**"
   ]
  },
  {
   "cell_type": "code",
   "execution_count": 58,
   "metadata": {},
   "outputs": [
    {
     "data": {
      "text/html": [
       "0"
      ],
      "text/latex": [
       "0"
      ],
      "text/markdown": [
       "0"
      ],
      "text/plain": [
       "[1] 0"
      ]
     },
     "metadata": {},
     "output_type": "display_data"
    }
   ],
   "source": [
    "#Volvemos a hacer la comparación y vemos que todas las entradas coinciden a 13 cifras\n",
    "length(which(round(Comp,13) != round(b,13)))"
   ]
  },
  {
   "cell_type": "code",
   "execution_count": 62,
   "metadata": {},
   "outputs": [
    {
     "data": {
      "text/html": [
       "<table>\n",
       "<caption>A matrix: 2 × 1 of type dbl</caption>\n",
       "<tbody>\n",
       "\t<tr><td>0.000000e+00</td></tr>\n",
       "\t<tr><td>7.105427e-15</td></tr>\n",
       "</tbody>\n",
       "</table>\n"
      ],
      "text/latex": [
       "A matrix: 2 × 1 of type dbl\n",
       "\\begin{tabular}{l}\n",
       "\t 0.000000e+00\\\\\n",
       "\t 7.105427e-15\\\\\n",
       "\\end{tabular}\n"
      ],
      "text/markdown": [
       "\n",
       "A matrix: 2 × 1 of type dbl\n",
       "\n",
       "| 0.000000e+00 |\n",
       "| 7.105427e-15 |\n",
       "\n"
      ],
      "text/plain": [
       "     [,1]        \n",
       "[1,] 0.000000e+00\n",
       "[2,] 7.105427e-15"
      ]
     },
     "metadata": {},
     "output_type": "display_data"
    }
   ],
   "source": [
    "#Calculamos el promedio del valor absoluto de las diferencias entre ambos vectores\n",
    "(abs(Comp-b))"
   ]
  },
  {
   "cell_type": "markdown",
   "metadata": {},
   "source": [
    "**Principales hallazos del test 6**\n",
    "\n",
    "* La función parece no aproximar de manera precisa la solución para SEL propuestos con A matrices y lados derechos de números pseudo-aleatorios."
   ]
  },
  {
   "cell_type": "markdown",
   "metadata": {},
   "source": [
    "**4. Resumen detallado de posibles puntos faltantes en implementación y Sugerencias para resolver los puntos anteriores**\n",
    "\n",
    "* Se sugiere complementar la descripción de los argumentos de entrada especificando que A tiene que ser una matriz de números reales de dimensión nxm. Además, mencionar que A es una matriz de coeficientes del sistema (en lugar de incógnitas) para SEL. Y se recomienda complementar la descripción de b: \"#    b (float): vector de igualdad o lado derecho del sistema\"\n",
    "* Se sugiere complementar la descripción del argumento de salida especificando que x es de tamaño n.\n",
    "* Necesita revisarse el caso de matrices con todos sus elementos iguales a una constante pues no encuentra la SVD.\n",
    "* Es necesario verificar si existen errores de aritmética de máquina al calcular los valores de x que resuelven SEL para matrices y lados derechos con números pseudo-aleatorios pues no se satisfizo la comprobación de que Ax sea igual al valor b propuesto."
   ]
  }
 ],
 "metadata": {
  "kernelspec": {
   "display_name": "R",
   "language": "R",
   "name": "ir"
  },
  "language_info": {
   "codemirror_mode": "r",
   "file_extension": ".r",
   "mimetype": "text/x-r-source",
   "name": "R",
   "pygments_lexer": "r",
   "version": "3.6.2"
  }
 },
 "nbformat": 4,
 "nbformat_minor": 4
}
