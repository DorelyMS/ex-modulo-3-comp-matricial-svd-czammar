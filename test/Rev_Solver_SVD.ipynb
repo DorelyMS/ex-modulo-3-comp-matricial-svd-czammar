{
 "cells": [
  {
   "cell_type": "markdown",
   "metadata": {},
   "source": [
    "# Revisión de código de solver dada descomposición SVD\n",
    "\n",
    "**Fecha:** 9 de Abril de 2020\n",
    "\n",
    "**Responsable de revisión:** León Garay\n",
    "\n",
    "**Código revisado**"
   ]
  },
  {
   "cell_type": "code",
   "execution_count": 1,
   "metadata": {},
   "outputs": [],
   "source": [
    "# Función Solver\n",
    "\n",
    "solver <- function(U,S,V,b){\n",
    "    # Función que devuelve la solcuón del sistema de ecuaciones Ax =b.\n",
    "    # Se utilizó la función backsolve para resolver el sistema triangular.\n",
    "    # NOTA: al ser S diagonal es indistinto si es traingular inferior o superior.\n",
    "    # Args: U (mxm),V(nxn), S(mxn) matriz diagonal y b (m) un vector.\n",
    "    # Returns: Vector x\n",
    "  d = backsolve(t(U),b)\n",
    "  x = V%*%d\n",
    "  return(x)\n",
    "}"
   ]
  },
  {
   "cell_type": "markdown",
   "metadata": {},
   "source": [
    "**1.Sobre la documentación del código/de la función**\n",
    "\n",
    "¿Se encuentran presentes en la implementación los siguientes elementos? Por favor, ingrese explicaciones \n",
    "detalladas.\n",
    "Sí se encuentran detalladas.\n",
    "\n",
    "**a) Descripción concisa y breve de lo que hace el código/la función**\n",
    "\n",
    "Sí.\n",
    "\n",
    "**b) Descripción de sus argumentos de entrada, su significado y rango de valores que pueden tomar**\n",
    "\n",
    "No está completo este elemento, de hecho, solo se menciona S como matriz diagonal sin que se diga que debe ser una matriz cuadrada, por lo que puede general confusión.\n",
    "\n",
    "**c) Descripción de los tipos de argumentos de entrada y de salida (por ejemplo, valores enteros, reales, strings, dataframe, matrices, etc)**\n",
    "\n",
    "no, falta definir que la función unicamente funciona para matriz S diagonal y cuadrada.\n",
    "\n",
    "**d) Descripción de la salida de la función, su significado y valores/objetos que deben regresa**\n",
    "\n",
    "no, falta mencionar el tamaño del argumento de salida.\n"
   ]
  },
  {
   "cell_type": "markdown",
   "metadata": {},
   "source": [
    "**2. Cumplimiento de objetivos del código/de la función**\n",
    "\n",
    "Por favor, ingrese explicaciones detalladas.\n",
    "\n",
    "**a) ¿El código cumple los objetivos para los que fue diseñado?**\n",
    "\n",
    "No, existe un error al ingresar los datos.\n",
    "\n",
    "**b) ¿La salida de la función genera una vector de tamaño m?**\n",
    "\n",
    "No debido a que genera un error, por lo que ocasiona que el resulta no tiene relacion con el objetivo de la funcion.\n",
    "\n",
    "**b) ¿La salida de la función genera una vector cuyos elementos son accesibles?**\n",
    "\n",
    "No debido a que genera un error, por lo que ocasiona que el resulta no tiene relacion con el objetivo de la funcion."
   ]
  },
  {
   "cell_type": "markdown",
   "metadata": {},
   "source": [
    "**3. Pruebas**\n",
    "\n",
    "Ocupe la presente sección para hacer diseño de pruebas variando los parámetros que recibe el código la función en diferentes rangos para evaluae su comportamiento y/o detectar posibles fallos\n",
    "\n",
    "**Test 1**\n",
    "\n",
    "**Objetivo del test:** Revisar el funcionamiento de la función con matrices y vector arbirtrario.\n",
    "\n",
    "**Implementación del test:**"
   ]
  },
  {
   "cell_type": "code",
   "execution_count": 2,
   "metadata": {},
   "outputs": [
    {
     "name": "stdout",
     "output_type": "stream",
     "text": [
      "     [,1]\n",
      "[1,]    1\n",
      "[2,]    2\n",
      "[3,]    3\n"
     ]
    }
   ],
   "source": [
    "#Inicializamos los vectores que conforman los elementos de las matrices\n",
    "v <- c(2,5,6,8,9,0,11,14,15,9,11,24)\n",
    "u <- c(1,3,5,7,9,11,7,3,4)\n",
    "s <- c(3,4,4,3,6,1,5,9,0,0,9,0,0,0,0,0)\n",
    "b <- c(1,2,3)\n",
    "\n",
    "#Creamos las matrices con los vectores previamente definidos\n",
    "V <- matrix(c(2,5,6,8,9,0,11,14,15,9,11,24), nrow=4, ncol=4, byrow = T)\n",
    "U <- matrix(c(1,3,5,7,9,11,7,3,4), nrow=3, ncol=3, byrow = T)\n",
    "S <- matrix(c(3,4,4,3,0,1,5,9,0,0,9,4), nrow=3, ncol=4, byrow = T)\n",
    "\n",
    "#Creamos la matriz A\n",
    "A <- U%*%S%*%t(V)\n",
    "\n",
    "#obtenemos el valor del vector x\n",
    "x<- qr.solve(A,b)\n",
    "print(A%*%x)\n"
   ]
  },
  {
   "cell_type": "code",
   "execution_count": 3,
   "metadata": {},
   "outputs": [
    {
     "ename": "ERROR",
     "evalue": "Error in V %*% d: argumentos no compatibles\n",
     "output_type": "error",
     "traceback": [
      "Error in V %*% d: argumentos no compatibles\nTraceback:\n",
      "1. solver(U, S, V, b)"
     ]
    }
   ],
   "source": [
    "#Realizamos la prueba para ver el comportamiento de la función\n",
    "x_prueba <- solver(U,S,V,b)"
   ]
  },
  {
   "cell_type": "markdown",
   "metadata": {},
   "source": [
    "Principales hallazos del test:\n",
    "\n",
    "* La función arroja un error al intentar correla.\n",
    "\n",
    "**Test 2**\n",
    "\n",
    "**Objetivo del test:** La implementación no funciona sí S es una matriz no cuadrada\n",
    "\n",
    "**Implementación del test:**"
   ]
  },
  {
   "cell_type": "code",
   "execution_count": 4,
   "metadata": {},
   "outputs": [
    {
     "ename": "ERROR",
     "evalue": "Error in V^d: arreglos de dimensón no compatibles\n",
     "output_type": "error",
     "traceback": [
      "Error in V^d: arreglos de dimensón no compatibles\nTraceback:\n"
     ]
    }
   ],
   "source": [
    "d = backsolve(t(U)%*%b,S)\n",
    "x = V**d"
   ]
  },
  {
   "cell_type": "markdown",
   "metadata": {},
   "source": [
    "Principales hallazos del test:\n",
    "\n",
    "* La función no funciona correctamente si la matriz S es no cuadrada, hay un error de dimensiones.\n",
    "\n",
    "**4. Resumen detallado de posibles puntos faltantes en implementación**\n",
    "\n",
    "* La función arroja un error al intentar correrla.\n",
    "* Falta añadir en la docuemtación que $S$ tiene que ser una matriz diagonal y cuadrada para que el solver funcione.\n",
    "\n",
    "\n",
    "**Sugerencias para resolver los puntos anteriores**\n",
    "\n",
    "* Utilizar d = backsolve(t(U)%*%b,S) para relizar el procedimiento correspondiente, ya que se busca resolver $ \\Sigma d = U^T b$"
   ]
  }
 ],
 "metadata": {
  "kernelspec": {
   "display_name": "R",
   "language": "R",
   "name": "ir"
  },
  "language_info": {
   "codemirror_mode": "r",
   "file_extension": ".r",
   "mimetype": "text/x-r-source",
   "name": "R",
   "pygments_lexer": "r",
   "version": "3.6.3"
  }
 },
 "nbformat": 4,
 "nbformat_minor": 4
}
