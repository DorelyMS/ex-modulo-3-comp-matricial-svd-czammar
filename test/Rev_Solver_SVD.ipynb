{
 "cells": [
  {
   "cell_type": "markdown",
   "metadata": {},
   "source": [
    "# Revisión de código para generación de índices\n",
    "\n",
    "**Fecha:** 9 de Abril de 2020\n",
    "\n",
    "**Responsable de revisión:** León Garay\n",
    "\n",
    "**Código revisado**"
   ]
  },
  {
   "cell_type": "code",
   "execution_count": 1,
   "metadata": {},
   "outputs": [],
   "source": [
    "# Función Solver\n",
    "\n",
    "solver <- function(U,S,V,b){\n",
    "    # Función que devuelve la solcuón del sistema de ecuaciones Ax =b.\n",
    "    # Se utilizó la función backsolve para resolver el sistema triangular.\n",
    "    # NOTA: al ser S diagonal es indistinto si es traingular inferior o superior.\n",
    "    # Args: U (mxm),V(nxn), S(mxn) matriz diagonal y b (m) un vector.\n",
    "    # Returns: Vector x\n",
    "  d = backsolve(t(U),b)\n",
    "  x = V%*%d\n",
    "  return(x)\n",
    "}"
   ]
  },
  {
   "cell_type": "markdown",
   "metadata": {},
   "source": [
    "**1.Sobre la documentación del código/de la función**\n",
    "\n",
    "¿Se encuentran presentes en la implementación los siguientes elementos? Por favor, ingrese explicaciones detalladas.\n",
    "\n",
    "**a) Descripción concisa y breve de lo que hace el código/la función**\n",
    "\n",
    "Dadas las matrices $U_{(mxm)}$, $V_{(nxn)}$, $\\Sigma_{(mxn)}$ matriz diagonal y $b_{(mx1)}$ un vector, regresa un vector $x$ que resuelve $Ax=b$, con $A = U\\Sigma V^t$\n",
    "\n",
    "**b) Descripción de sus argumentos de entrada, su significado y rango de valores que pueden tomar**\n",
    "\n",
    "Los argumentos de entrada son $U_{(mxm)}$ una matriz de tamaño mxm, $V_{(nxn)}$ matriz de nxn, $\\Sigma_{(mxn)}$ matriz diagonal de mxn y un vector  $b_{(mx1)}$ de longitud m. La función regresa un vector $x_{(nx1)}$ de tamaño n que resuelve $Ax=b$, con $A = U\\Sigma V^T$\n",
    "\n",
    "**c) Descripción de los tipos de argumentos de entrada y de salida (por ejemplo, valores enteros, reales, strings, dataframe, matrices, etc)**\n",
    "\n",
    "Las matrices $U,V$ toman valores reales, la matriz $\\Sigma$ puede ser diagonal superiro o inferior y el vector b tiene entradas reales.\n",
    "\n",
    "**d) Descripción de la salida de la función, su significado y valores/objetos que deben regresa**\n",
    "\n",
    "La función regresa un vector x de tamaño n con entradas reales.\n"
   ]
  },
  {
   "cell_type": "markdown",
   "metadata": {},
   "source": [
    "**2. Cumplimiento de objetivos del código/de la función**\n",
    "\n",
    "Por favor, ingrese explicaciones detalladas.\n",
    "\n",
    "**a) ¿El código cumple los objetivos para los que fue diseñado?**\n",
    "\n",
    "No, existe un error al ingresar los datos.\n",
    "\n",
    "**b) ¿La salida de la función genera una vector de tamaño m?**\n",
    "\n",
    "[Pendiente: desarrollo]\n",
    "\n",
    "**b) ¿La salida de la función genera una vector cuyos elementos son accesibles?**\n",
    "\n",
    "[Pendiente: desarrollo]"
   ]
  },
  {
   "cell_type": "markdown",
   "metadata": {},
   "source": [
    "**3. Pruebas**\n",
    "\n",
    "Ocupe la presente sección para hacer diseño de pruebas variando los parámetros que recibe el código la función en diferentes rangos para evaluae su comportamiento y/o detectar posibles fallos\n",
    "\n",
    "**Test 1**\n",
    "\n",
    "**Objetivo del test:** [Pendiente: desarrollo]\n",
    "\n",
    "**Implementación del test:**"
   ]
  },
  {
   "cell_type": "code",
   "execution_count": 2,
   "metadata": {},
   "outputs": [
    {
     "name": "stdout",
     "output_type": "stream",
     "text": [
      "     [,1]\n",
      "[1,]    1\n",
      "[2,]    2\n",
      "[3,]    3\n"
     ]
    }
   ],
   "source": [
    "#Inicializamos los vectores que conforman los elementos de las matrices\n",
    "v <- c(2,5,6,8,9,0,11,14,15,9,11,24)\n",
    "u <- c(1,3,5,7,9,11,7,3,4)\n",
    "s <- c(3,4,4,3,6,1,5,9,0,0,9,0,0,0,0,0)\n",
    "b <- c(1,2,3)\n",
    "\n",
    "#Creamos las matrices con los vectores previamente definidos\n",
    "V <- matrix(c(2,5,6,8,9,0,11,14,15,9,11,24), nrow=4, ncol=4, byrow = T)\n",
    "U <- matrix(c(1,3,5,7,9,11,7,3,4), nrow=3, ncol=3, byrow = T)\n",
    "S <- matrix(c(3,4,4,3,0,1,5,9,0,0,9,4), nrow=3, ncol=4, byrow = T)\n",
    "\n",
    "#Creamos la matriz A\n",
    "A <- U%*%S%*%t(V)\n",
    "\n",
    "#obtenemos el valor del vector x\n",
    "x<- qr.solve(A,b)\n",
    "print(A%*%x)\n"
   ]
  },
  {
   "cell_type": "code",
   "execution_count": 3,
   "metadata": {},
   "outputs": [
    {
     "ename": "ERROR",
     "evalue": "Error in V %*% d: argumentos no compatibles\n",
     "output_type": "error",
     "traceback": [
      "Error in V %*% d: argumentos no compatibles\nTraceback:\n",
      "1. solver(U, S, V, b)"
     ]
    }
   ],
   "source": [
    "#Realizamos la prueba para ver el comportamiento de la función\n",
    "x_prueba <- solver(U,S,V,b)"
   ]
  },
  {
   "cell_type": "markdown",
   "metadata": {},
   "source": [
    "Principales hallazos del test:\n",
    "\n",
    "* La función arroja un error al intentar correla.\n",
    "\n",
    "**Test 2***\n",
    "\n",
    "**Objetivo del test:** [Pendiente: desarrollo]\n",
    "\n",
    "**Implementación del test:**"
   ]
  },
  {
   "cell_type": "code",
   "execution_count": null,
   "metadata": {},
   "outputs": [],
   "source": []
  },
  {
   "cell_type": "markdown",
   "metadata": {},
   "source": []
  },
  {
   "cell_type": "markdown",
   "metadata": {},
   "source": [
    "**4. Resumen detallado de posibles puntos faltantes en implementación**\n",
    "\n",
    "* La función arroja un error al intentar correrla.\n",
    "\n",
    "\n",
    "**Sugerencias para resolver los puntos anteriores**\n",
    "\n",
    "* Utilizar d = backsolve(t(U)%*%b,S) para relizar el procedimiento correspondiente,\n",
    "* Utilizar qr.solve(A,b), que sirve para resolver matrices no cuadradas, el caso más general.\n"
   ]
  }
 ],
 "metadata": {
  "kernelspec": {
   "display_name": "R",
   "language": "R",
   "name": "ir"
  },
  "language_info": {
   "codemirror_mode": "r",
   "file_extension": ".r",
   "mimetype": "text/x-r-source",
   "name": "R",
   "pygments_lexer": "r",
   "version": "3.6.3"
  }
 },
 "nbformat": 4,
 "nbformat_minor": 4
}
