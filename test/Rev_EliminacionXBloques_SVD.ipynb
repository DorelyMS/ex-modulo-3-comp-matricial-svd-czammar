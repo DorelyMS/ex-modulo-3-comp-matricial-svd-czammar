{
 "cells": [
  {
   "cell_type": "markdown",
   "metadata": {},
   "source": [
    "# Revisión de código Eliminación por bloques basada en solver linear que usa SVD \n",
    "## (parte 1-Funcion bloques)\n",
    "*ver parte 2 al fondo*  \n",
    "**Fecha:** 12 de Abril de 2020 \n",
    "\n",
    "**Responsable de revisión:** Javier Valencia\n",
    "\n",
    "**Código revisado**"
   ]
  },
  {
   "cell_type": "code",
   "execution_count": 20,
   "metadata": {},
   "outputs": [],
   "source": [
    "bloques<-function(A,b,corte) {\n",
    "  #Función que genera los bloques de la matriz A y el vector respuesta b\n",
    "  #Args: A- matriz inicial(n*n)\n",
    "  #      b- Solución de Ax = b , (nx1)\n",
    "  #      corte - tamaño del bloque \n",
    "  #Returns: lista con la matriz A dividida en 4 bloques: A11,A12, A21, A22 y el vector b\n",
    "  #         dividido en 2 bloques b1, b2\n",
    "\n",
    "  a11 <- A[c(1:corte),c(1:corte)]\n",
    "  a12 <- A[c(1:corte),c((corte+1):dim(A)[2])]\n",
    "  a21 <- A[c((corte+1):dim(A)[1]),c(1:corte)]\n",
    "  a22 <- A[c((corte+1):dim(A)[1]),c((corte+1):dim(A)[2])]\n",
    "\n",
    "  b1 <- b[1:(corte)]\n",
    "  b2 <- b[((corte)+1):length(b)]\n",
    "\n",
    "  list(A11 = a11,A12 =a12, A21=a21, A22=a22, b1 = b1, b2 = b2)\n",
    "} "
   ]
  },
  {
   "cell_type": "code",
   "execution_count": 21,
   "metadata": {},
   "outputs": [
    {
     "data": {
      "text/html": [
       "<table>\n",
       "<caption>A matrix: 7 × 7 of type int</caption>\n",
       "<tbody>\n",
       "\t<tr><td>17</td><td>20</td><td>37</td><td> 9</td><td>36</td><td>27</td><td>33</td></tr>\n",
       "\t<tr><td> 7</td><td>24</td><td>19</td><td>37</td><td>45</td><td>34</td><td>18</td></tr>\n",
       "\t<tr><td>37</td><td>16</td><td>27</td><td>31</td><td>42</td><td> 5</td><td>32</td></tr>\n",
       "\t<tr><td>39</td><td>21</td><td>20</td><td>46</td><td>42</td><td>49</td><td> 3</td></tr>\n",
       "\t<tr><td> 4</td><td>34</td><td> 0</td><td>40</td><td>42</td><td>31</td><td>27</td></tr>\n",
       "\t<tr><td>13</td><td>49</td><td>38</td><td>12</td><td>37</td><td>50</td><td>25</td></tr>\n",
       "\t<tr><td> 9</td><td>35</td><td>18</td><td>40</td><td>19</td><td>21</td><td>33</td></tr>\n",
       "</tbody>\n",
       "</table>\n"
      ],
      "text/latex": [
       "A matrix: 7 × 7 of type int\n",
       "\\begin{tabular}{lllllll}\n",
       "\t 17 & 20 & 37 &  9 & 36 & 27 & 33\\\\\n",
       "\t  7 & 24 & 19 & 37 & 45 & 34 & 18\\\\\n",
       "\t 37 & 16 & 27 & 31 & 42 &  5 & 32\\\\\n",
       "\t 39 & 21 & 20 & 46 & 42 & 49 &  3\\\\\n",
       "\t  4 & 34 &  0 & 40 & 42 & 31 & 27\\\\\n",
       "\t 13 & 49 & 38 & 12 & 37 & 50 & 25\\\\\n",
       "\t  9 & 35 & 18 & 40 & 19 & 21 & 33\\\\\n",
       "\\end{tabular}\n"
      ],
      "text/markdown": [
       "\n",
       "A matrix: 7 × 7 of type int\n",
       "\n",
       "| 17 | 20 | 37 |  9 | 36 | 27 | 33 |\n",
       "|  7 | 24 | 19 | 37 | 45 | 34 | 18 |\n",
       "| 37 | 16 | 27 | 31 | 42 |  5 | 32 |\n",
       "| 39 | 21 | 20 | 46 | 42 | 49 |  3 |\n",
       "|  4 | 34 |  0 | 40 | 42 | 31 | 27 |\n",
       "| 13 | 49 | 38 | 12 | 37 | 50 | 25 |\n",
       "|  9 | 35 | 18 | 40 | 19 | 21 | 33 |\n",
       "\n"
      ],
      "text/plain": [
       "     [,1] [,2] [,3] [,4] [,5] [,6] [,7]\n",
       "[1,] 17   20   37    9   36   27   33  \n",
       "[2,]  7   24   19   37   45   34   18  \n",
       "[3,] 37   16   27   31   42    5   32  \n",
       "[4,] 39   21   20   46   42   49    3  \n",
       "[5,]  4   34    0   40   42   31   27  \n",
       "[6,] 13   49   38   12   37   50   25  \n",
       "[7,]  9   35   18   40   19   21   33  "
      ]
     },
     "metadata": {},
     "output_type": "display_data"
    },
    {
     "data": {
      "text/html": [
       "<ol class=list-inline>\n",
       "\t<li>1</li>\n",
       "\t<li>2</li>\n",
       "\t<li>3</li>\n",
       "\t<li>4</li>\n",
       "\t<li>5</li>\n",
       "\t<li>6</li>\n",
       "\t<li>7</li>\n",
       "</ol>\n"
      ],
      "text/latex": [
       "\\begin{enumerate*}\n",
       "\\item 1\n",
       "\\item 2\n",
       "\\item 3\n",
       "\\item 4\n",
       "\\item 5\n",
       "\\item 6\n",
       "\\item 7\n",
       "\\end{enumerate*}\n"
      ],
      "text/markdown": [
       "1. 1\n",
       "2. 2\n",
       "3. 3\n",
       "4. 4\n",
       "5. 5\n",
       "6. 6\n",
       "7. 7\n",
       "\n",
       "\n"
      ],
      "text/plain": [
       "[1] 1 2 3 4 5 6 7"
      ]
     },
     "metadata": {},
     "output_type": "display_data"
    },
    {
     "data": {
      "text/html": [
       "<dl>\n",
       "\t<dt>$A11</dt>\n",
       "\t\t<dd><table>\n",
       "<caption>A matrix: 4 × 4 of type int</caption>\n",
       "<tbody>\n",
       "\t<tr><td>17</td><td>20</td><td>37</td><td> 9</td></tr>\n",
       "\t<tr><td> 7</td><td>24</td><td>19</td><td>37</td></tr>\n",
       "\t<tr><td>37</td><td>16</td><td>27</td><td>31</td></tr>\n",
       "\t<tr><td>39</td><td>21</td><td>20</td><td>46</td></tr>\n",
       "</tbody>\n",
       "</table>\n",
       "</dd>\n",
       "\t<dt>$A12</dt>\n",
       "\t\t<dd><table>\n",
       "<caption>A matrix: 4 × 3 of type int</caption>\n",
       "<tbody>\n",
       "\t<tr><td>36</td><td>27</td><td>33</td></tr>\n",
       "\t<tr><td>45</td><td>34</td><td>18</td></tr>\n",
       "\t<tr><td>42</td><td> 5</td><td>32</td></tr>\n",
       "\t<tr><td>42</td><td>49</td><td> 3</td></tr>\n",
       "</tbody>\n",
       "</table>\n",
       "</dd>\n",
       "\t<dt>$A21</dt>\n",
       "\t\t<dd><table>\n",
       "<caption>A matrix: 3 × 4 of type int</caption>\n",
       "<tbody>\n",
       "\t<tr><td> 4</td><td>34</td><td> 0</td><td>40</td></tr>\n",
       "\t<tr><td>13</td><td>49</td><td>38</td><td>12</td></tr>\n",
       "\t<tr><td> 9</td><td>35</td><td>18</td><td>40</td></tr>\n",
       "</tbody>\n",
       "</table>\n",
       "</dd>\n",
       "\t<dt>$A22</dt>\n",
       "\t\t<dd><table>\n",
       "<caption>A matrix: 3 × 3 of type int</caption>\n",
       "<tbody>\n",
       "\t<tr><td>42</td><td>31</td><td>27</td></tr>\n",
       "\t<tr><td>37</td><td>50</td><td>25</td></tr>\n",
       "\t<tr><td>19</td><td>21</td><td>33</td></tr>\n",
       "</tbody>\n",
       "</table>\n",
       "</dd>\n",
       "\t<dt>$b1</dt>\n",
       "\t\t<dd><ol class=list-inline>\n",
       "\t<li>1</li>\n",
       "\t<li>2</li>\n",
       "\t<li>3</li>\n",
       "\t<li>4</li>\n",
       "</ol>\n",
       "</dd>\n",
       "\t<dt>$b2</dt>\n",
       "\t\t<dd><ol class=list-inline>\n",
       "\t<li>5</li>\n",
       "\t<li>6</li>\n",
       "\t<li>7</li>\n",
       "</ol>\n",
       "</dd>\n",
       "</dl>\n"
      ],
      "text/latex": [
       "\\begin{description}\n",
       "\\item[\\$A11] A matrix: 4 × 4 of type int\n",
       "\\begin{tabular}{llll}\n",
       "\t 17 & 20 & 37 &  9\\\\\n",
       "\t  7 & 24 & 19 & 37\\\\\n",
       "\t 37 & 16 & 27 & 31\\\\\n",
       "\t 39 & 21 & 20 & 46\\\\\n",
       "\\end{tabular}\n",
       "\n",
       "\\item[\\$A12] A matrix: 4 × 3 of type int\n",
       "\\begin{tabular}{lll}\n",
       "\t 36 & 27 & 33\\\\\n",
       "\t 45 & 34 & 18\\\\\n",
       "\t 42 &  5 & 32\\\\\n",
       "\t 42 & 49 &  3\\\\\n",
       "\\end{tabular}\n",
       "\n",
       "\\item[\\$A21] A matrix: 3 × 4 of type int\n",
       "\\begin{tabular}{llll}\n",
       "\t  4 & 34 &  0 & 40\\\\\n",
       "\t 13 & 49 & 38 & 12\\\\\n",
       "\t  9 & 35 & 18 & 40\\\\\n",
       "\\end{tabular}\n",
       "\n",
       "\\item[\\$A22] A matrix: 3 × 3 of type int\n",
       "\\begin{tabular}{lll}\n",
       "\t 42 & 31 & 27\\\\\n",
       "\t 37 & 50 & 25\\\\\n",
       "\t 19 & 21 & 33\\\\\n",
       "\\end{tabular}\n",
       "\n",
       "\\item[\\$b1] \\begin{enumerate*}\n",
       "\\item 1\n",
       "\\item 2\n",
       "\\item 3\n",
       "\\item 4\n",
       "\\end{enumerate*}\n",
       "\n",
       "\\item[\\$b2] \\begin{enumerate*}\n",
       "\\item 5\n",
       "\\item 6\n",
       "\\item 7\n",
       "\\end{enumerate*}\n",
       "\n",
       "\\end{description}\n"
      ],
      "text/markdown": [
       "$A11\n",
       ":   \n",
       "A matrix: 4 × 4 of type int\n",
       "\n",
       "| 17 | 20 | 37 |  9 |\n",
       "|  7 | 24 | 19 | 37 |\n",
       "| 37 | 16 | 27 | 31 |\n",
       "| 39 | 21 | 20 | 46 |\n",
       "\n",
       "\n",
       "$A12\n",
       ":   \n",
       "A matrix: 4 × 3 of type int\n",
       "\n",
       "| 36 | 27 | 33 |\n",
       "| 45 | 34 | 18 |\n",
       "| 42 |  5 | 32 |\n",
       "| 42 | 49 |  3 |\n",
       "\n",
       "\n",
       "$A21\n",
       ":   \n",
       "A matrix: 3 × 4 of type int\n",
       "\n",
       "|  4 | 34 |  0 | 40 |\n",
       "| 13 | 49 | 38 | 12 |\n",
       "|  9 | 35 | 18 | 40 |\n",
       "\n",
       "\n",
       "$A22\n",
       ":   \n",
       "A matrix: 3 × 3 of type int\n",
       "\n",
       "| 42 | 31 | 27 |\n",
       "| 37 | 50 | 25 |\n",
       "| 19 | 21 | 33 |\n",
       "\n",
       "\n",
       "$b1\n",
       ":   1. 1\n",
       "2. 2\n",
       "3. 3\n",
       "4. 4\n",
       "\n",
       "\n",
       "\n",
       "$b2\n",
       ":   1. 5\n",
       "2. 6\n",
       "3. 7\n",
       "\n",
       "\n",
       "\n",
       "\n",
       "\n"
      ],
      "text/plain": [
       "$A11\n",
       "     [,1] [,2] [,3] [,4]\n",
       "[1,]   17   20   37    9\n",
       "[2,]    7   24   19   37\n",
       "[3,]   37   16   27   31\n",
       "[4,]   39   21   20   46\n",
       "\n",
       "$A12\n",
       "     [,1] [,2] [,3]\n",
       "[1,]   36   27   33\n",
       "[2,]   45   34   18\n",
       "[3,]   42    5   32\n",
       "[4,]   42   49    3\n",
       "\n",
       "$A21\n",
       "     [,1] [,2] [,3] [,4]\n",
       "[1,]    4   34    0   40\n",
       "[2,]   13   49   38   12\n",
       "[3,]    9   35   18   40\n",
       "\n",
       "$A22\n",
       "     [,1] [,2] [,3]\n",
       "[1,]   42   31   27\n",
       "[2,]   37   50   25\n",
       "[3,]   19   21   33\n",
       "\n",
       "$b1\n",
       "[1] 1 2 3 4\n",
       "\n",
       "$b2\n",
       "[1] 5 6 7\n"
      ]
     },
     "metadata": {},
     "output_type": "display_data"
    }
   ],
   "source": [
    "#Prueba\n",
    "A = matrix(sample(0:50,7*7,replace=TRUE), c(7,7)) \n",
    "b = c(1:dim(A)[1])\n",
    "A\n",
    "b\n",
    "bloques(A,b,4)"
   ]
  },
  {
   "cell_type": "code",
   "execution_count": 118,
   "metadata": {},
   "outputs": [
    {
     "name": "stdout",
     "output_type": "stream",
     "text": [
      "[1] \"1\"\n"
     ]
    }
   ],
   "source": []
  },
  {
   "cell_type": "markdown",
   "metadata": {},
   "source": [
    "**1.Sobre la documentación del código/de la función**\n",
    "\n",
    "¿Se encuentran presentes en la implementación los siguientes elementos? Por favor, ingrese explicaciones detalladas.\n",
    "\n",
    "**a) Descripción concisa y breve de lo que hace el código/la función**\n",
    "\n",
    "Sí, la documentación de la función \"bloques\" explica lo que hace, en este caso divide una matriz cuadrada en 4 bloques\n",
    "\n",
    "**b) Descripción de sus argumentos de entrada, su significado y rango de valores que pueden tomar**\n",
    "\n",
    "Se sugiere detallar que el valor de corte debe estar en siguiente rango de valores \"0<corte<n\".\n",
    "Debe de estar entre 1 y n el valor del rango de la matriz\n",
    "\n",
    "**c) Descripción de los tipos de argumentos de entrada y de salida (por ejemplo, valores enteros, reales, strings, dataframe, matrices, etc)**\n",
    "\n",
    "Es completa la documentación, la funcion regresa una lista con las 4 partes de la matriz A y las 2 partes del vector b\n",
    "\n",
    "**d) Descripción de la salida de la función, su significado y valores/objetos que deben regresa**\n",
    "\n",
    "La documentación de salida esta completa, especifica los argumentos de salida de la función y su significado\n"
   ]
  },
  {
   "cell_type": "markdown",
   "metadata": {},
   "source": [
    "**2. Cumplimiento de objetivos del código/de la función**\n",
    "\n",
    "Por favor, ingrese explicaciones detalladas.\n",
    "\n",
    "**a) ¿El código cumple los objetivos para los que fue diseñado?**\n",
    "\n",
    "Sí, la función cumple su objetivo regresando una lista con las particiones de la matriz A y del vector b\n",
    "\n",
    "**b) ¿La salida de la función regresa una lista con 4 matrices y 2 vectores?**\n",
    "Sí\n"
   ]
  },
  {
   "cell_type": "markdown",
   "metadata": {},
   "source": [
    "**3. Pruebas**\n",
    "\n",
    "Ocupe la presente sección para hacer diseño de pruebas variando los parámetros que recibe el código la función en diferentes rangos para evaluae su comportamiento y/o detectar posibles fallos\n",
    "\n",
    "**Test 1 cambiando el parametro de corte para valores pares e impares**\n",
    "\n",
    "**Objetivo del test:** Revisar si la función realiza su trabajo para cortes de numeros pares o impares.\n",
    "\n",
    "**Implementación del test:**"
   ]
  },
  {
   "cell_type": "code",
   "execution_count": 92,
   "metadata": {},
   "outputs": [
    {
     "data": {
      "text/html": [
       "<table>\n",
       "<caption>A matrix: 5 × 5 of type int</caption>\n",
       "<tbody>\n",
       "\t<tr><td>0</td><td>5</td><td>10</td><td>15</td><td>20</td></tr>\n",
       "\t<tr><td>1</td><td>6</td><td>11</td><td>16</td><td>21</td></tr>\n",
       "\t<tr><td>2</td><td>7</td><td>12</td><td>17</td><td>22</td></tr>\n",
       "\t<tr><td>3</td><td>8</td><td>13</td><td>18</td><td>23</td></tr>\n",
       "\t<tr><td>4</td><td>9</td><td>14</td><td>19</td><td>24</td></tr>\n",
       "</tbody>\n",
       "</table>\n"
      ],
      "text/latex": [
       "A matrix: 5 × 5 of type int\n",
       "\\begin{tabular}{lllll}\n",
       "\t 0 & 5 & 10 & 15 & 20\\\\\n",
       "\t 1 & 6 & 11 & 16 & 21\\\\\n",
       "\t 2 & 7 & 12 & 17 & 22\\\\\n",
       "\t 3 & 8 & 13 & 18 & 23\\\\\n",
       "\t 4 & 9 & 14 & 19 & 24\\\\\n",
       "\\end{tabular}\n"
      ],
      "text/markdown": [
       "\n",
       "A matrix: 5 × 5 of type int\n",
       "\n",
       "| 0 | 5 | 10 | 15 | 20 |\n",
       "| 1 | 6 | 11 | 16 | 21 |\n",
       "| 2 | 7 | 12 | 17 | 22 |\n",
       "| 3 | 8 | 13 | 18 | 23 |\n",
       "| 4 | 9 | 14 | 19 | 24 |\n",
       "\n"
      ],
      "text/plain": [
       "     [,1] [,2] [,3] [,4] [,5]\n",
       "[1,] 0    5    10   15   20  \n",
       "[2,] 1    6    11   16   21  \n",
       "[3,] 2    7    12   17   22  \n",
       "[4,] 3    8    13   18   23  \n",
       "[5,] 4    9    14   19   24  "
      ]
     },
     "metadata": {},
     "output_type": "display_data"
    },
    {
     "data": {
      "text/html": [
       "<ol class=list-inline>\n",
       "\t<li>1</li>\n",
       "\t<li>2</li>\n",
       "\t<li>3</li>\n",
       "\t<li>4</li>\n",
       "\t<li>5</li>\n",
       "</ol>\n"
      ],
      "text/latex": [
       "\\begin{enumerate*}\n",
       "\\item 1\n",
       "\\item 2\n",
       "\\item 3\n",
       "\\item 4\n",
       "\\item 5\n",
       "\\end{enumerate*}\n"
      ],
      "text/markdown": [
       "1. 1\n",
       "2. 2\n",
       "3. 3\n",
       "4. 4\n",
       "5. 5\n",
       "\n",
       "\n"
      ],
      "text/plain": [
       "[1] 1 2 3 4 5"
      ]
     },
     "metadata": {},
     "output_type": "display_data"
    },
    {
     "name": "stdout",
     "output_type": "stream",
     "text": [
      "Prueba corte con valor par (2n):\n",
      "corte= 2"
     ]
    },
    {
     "data": {
      "text/html": [
       "<dl>\n",
       "\t<dt>$A11</dt>\n",
       "\t\t<dd><table>\n",
       "<caption>A matrix: 2 × 2 of type int</caption>\n",
       "<tbody>\n",
       "\t<tr><td>0</td><td>5</td></tr>\n",
       "\t<tr><td>1</td><td>6</td></tr>\n",
       "</tbody>\n",
       "</table>\n",
       "</dd>\n",
       "\t<dt>$A12</dt>\n",
       "\t\t<dd><table>\n",
       "<caption>A matrix: 2 × 3 of type int</caption>\n",
       "<tbody>\n",
       "\t<tr><td>10</td><td>15</td><td>20</td></tr>\n",
       "\t<tr><td>11</td><td>16</td><td>21</td></tr>\n",
       "</tbody>\n",
       "</table>\n",
       "</dd>\n",
       "\t<dt>$A21</dt>\n",
       "\t\t<dd><table>\n",
       "<caption>A matrix: 3 × 2 of type int</caption>\n",
       "<tbody>\n",
       "\t<tr><td>2</td><td>7</td></tr>\n",
       "\t<tr><td>3</td><td>8</td></tr>\n",
       "\t<tr><td>4</td><td>9</td></tr>\n",
       "</tbody>\n",
       "</table>\n",
       "</dd>\n",
       "\t<dt>$A22</dt>\n",
       "\t\t<dd><table>\n",
       "<caption>A matrix: 3 × 3 of type int</caption>\n",
       "<tbody>\n",
       "\t<tr><td>12</td><td>17</td><td>22</td></tr>\n",
       "\t<tr><td>13</td><td>18</td><td>23</td></tr>\n",
       "\t<tr><td>14</td><td>19</td><td>24</td></tr>\n",
       "</tbody>\n",
       "</table>\n",
       "</dd>\n",
       "\t<dt>$b1</dt>\n",
       "\t\t<dd><ol class=list-inline>\n",
       "\t<li>1</li>\n",
       "\t<li>2</li>\n",
       "</ol>\n",
       "</dd>\n",
       "\t<dt>$b2</dt>\n",
       "\t\t<dd><ol class=list-inline>\n",
       "\t<li>3</li>\n",
       "\t<li>4</li>\n",
       "\t<li>5</li>\n",
       "</ol>\n",
       "</dd>\n",
       "</dl>\n"
      ],
      "text/latex": [
       "\\begin{description}\n",
       "\\item[\\$A11] A matrix: 2 × 2 of type int\n",
       "\\begin{tabular}{ll}\n",
       "\t 0 & 5\\\\\n",
       "\t 1 & 6\\\\\n",
       "\\end{tabular}\n",
       "\n",
       "\\item[\\$A12] A matrix: 2 × 3 of type int\n",
       "\\begin{tabular}{lll}\n",
       "\t 10 & 15 & 20\\\\\n",
       "\t 11 & 16 & 21\\\\\n",
       "\\end{tabular}\n",
       "\n",
       "\\item[\\$A21] A matrix: 3 × 2 of type int\n",
       "\\begin{tabular}{ll}\n",
       "\t 2 & 7\\\\\n",
       "\t 3 & 8\\\\\n",
       "\t 4 & 9\\\\\n",
       "\\end{tabular}\n",
       "\n",
       "\\item[\\$A22] A matrix: 3 × 3 of type int\n",
       "\\begin{tabular}{lll}\n",
       "\t 12 & 17 & 22\\\\\n",
       "\t 13 & 18 & 23\\\\\n",
       "\t 14 & 19 & 24\\\\\n",
       "\\end{tabular}\n",
       "\n",
       "\\item[\\$b1] \\begin{enumerate*}\n",
       "\\item 1\n",
       "\\item 2\n",
       "\\end{enumerate*}\n",
       "\n",
       "\\item[\\$b2] \\begin{enumerate*}\n",
       "\\item 3\n",
       "\\item 4\n",
       "\\item 5\n",
       "\\end{enumerate*}\n",
       "\n",
       "\\end{description}\n"
      ],
      "text/markdown": [
       "$A11\n",
       ":   \n",
       "A matrix: 2 × 2 of type int\n",
       "\n",
       "| 0 | 5 |\n",
       "| 1 | 6 |\n",
       "\n",
       "\n",
       "$A12\n",
       ":   \n",
       "A matrix: 2 × 3 of type int\n",
       "\n",
       "| 10 | 15 | 20 |\n",
       "| 11 | 16 | 21 |\n",
       "\n",
       "\n",
       "$A21\n",
       ":   \n",
       "A matrix: 3 × 2 of type int\n",
       "\n",
       "| 2 | 7 |\n",
       "| 3 | 8 |\n",
       "| 4 | 9 |\n",
       "\n",
       "\n",
       "$A22\n",
       ":   \n",
       "A matrix: 3 × 3 of type int\n",
       "\n",
       "| 12 | 17 | 22 |\n",
       "| 13 | 18 | 23 |\n",
       "| 14 | 19 | 24 |\n",
       "\n",
       "\n",
       "$b1\n",
       ":   1. 1\n",
       "2. 2\n",
       "\n",
       "\n",
       "\n",
       "$b2\n",
       ":   1. 3\n",
       "2. 4\n",
       "3. 5\n",
       "\n",
       "\n",
       "\n",
       "\n",
       "\n"
      ],
      "text/plain": [
       "$A11\n",
       "     [,1] [,2]\n",
       "[1,]    0    5\n",
       "[2,]    1    6\n",
       "\n",
       "$A12\n",
       "     [,1] [,2] [,3]\n",
       "[1,]   10   15   20\n",
       "[2,]   11   16   21\n",
       "\n",
       "$A21\n",
       "     [,1] [,2]\n",
       "[1,]    2    7\n",
       "[2,]    3    8\n",
       "[3,]    4    9\n",
       "\n",
       "$A22\n",
       "     [,1] [,2] [,3]\n",
       "[1,]   12   17   22\n",
       "[2,]   13   18   23\n",
       "[3,]   14   19   24\n",
       "\n",
       "$b1\n",
       "[1] 1 2\n",
       "\n",
       "$b2\n",
       "[1] 3 4 5\n"
      ]
     },
     "metadata": {},
     "output_type": "display_data"
    },
    {
     "name": "stdout",
     "output_type": "stream",
     "text": [
      "Prueba corte con valor impar (2n+1):\n",
      "corte= 3"
     ]
    },
    {
     "data": {
      "text/html": [
       "<dl>\n",
       "\t<dt>$A11</dt>\n",
       "\t\t<dd><table>\n",
       "<caption>A matrix: 3 × 3 of type int</caption>\n",
       "<tbody>\n",
       "\t<tr><td>0</td><td>5</td><td>10</td></tr>\n",
       "\t<tr><td>1</td><td>6</td><td>11</td></tr>\n",
       "\t<tr><td>2</td><td>7</td><td>12</td></tr>\n",
       "</tbody>\n",
       "</table>\n",
       "</dd>\n",
       "\t<dt>$A12</dt>\n",
       "\t\t<dd><table>\n",
       "<caption>A matrix: 3 × 2 of type int</caption>\n",
       "<tbody>\n",
       "\t<tr><td>15</td><td>20</td></tr>\n",
       "\t<tr><td>16</td><td>21</td></tr>\n",
       "\t<tr><td>17</td><td>22</td></tr>\n",
       "</tbody>\n",
       "</table>\n",
       "</dd>\n",
       "\t<dt>$A21</dt>\n",
       "\t\t<dd><table>\n",
       "<caption>A matrix: 2 × 3 of type int</caption>\n",
       "<tbody>\n",
       "\t<tr><td>3</td><td>8</td><td>13</td></tr>\n",
       "\t<tr><td>4</td><td>9</td><td>14</td></tr>\n",
       "</tbody>\n",
       "</table>\n",
       "</dd>\n",
       "\t<dt>$A22</dt>\n",
       "\t\t<dd><table>\n",
       "<caption>A matrix: 2 × 2 of type int</caption>\n",
       "<tbody>\n",
       "\t<tr><td>18</td><td>23</td></tr>\n",
       "\t<tr><td>19</td><td>24</td></tr>\n",
       "</tbody>\n",
       "</table>\n",
       "</dd>\n",
       "\t<dt>$b1</dt>\n",
       "\t\t<dd><ol class=list-inline>\n",
       "\t<li>1</li>\n",
       "\t<li>2</li>\n",
       "\t<li>3</li>\n",
       "</ol>\n",
       "</dd>\n",
       "\t<dt>$b2</dt>\n",
       "\t\t<dd><ol class=list-inline>\n",
       "\t<li>4</li>\n",
       "\t<li>5</li>\n",
       "</ol>\n",
       "</dd>\n",
       "</dl>\n"
      ],
      "text/latex": [
       "\\begin{description}\n",
       "\\item[\\$A11] A matrix: 3 × 3 of type int\n",
       "\\begin{tabular}{lll}\n",
       "\t 0 & 5 & 10\\\\\n",
       "\t 1 & 6 & 11\\\\\n",
       "\t 2 & 7 & 12\\\\\n",
       "\\end{tabular}\n",
       "\n",
       "\\item[\\$A12] A matrix: 3 × 2 of type int\n",
       "\\begin{tabular}{ll}\n",
       "\t 15 & 20\\\\\n",
       "\t 16 & 21\\\\\n",
       "\t 17 & 22\\\\\n",
       "\\end{tabular}\n",
       "\n",
       "\\item[\\$A21] A matrix: 2 × 3 of type int\n",
       "\\begin{tabular}{lll}\n",
       "\t 3 & 8 & 13\\\\\n",
       "\t 4 & 9 & 14\\\\\n",
       "\\end{tabular}\n",
       "\n",
       "\\item[\\$A22] A matrix: 2 × 2 of type int\n",
       "\\begin{tabular}{ll}\n",
       "\t 18 & 23\\\\\n",
       "\t 19 & 24\\\\\n",
       "\\end{tabular}\n",
       "\n",
       "\\item[\\$b1] \\begin{enumerate*}\n",
       "\\item 1\n",
       "\\item 2\n",
       "\\item 3\n",
       "\\end{enumerate*}\n",
       "\n",
       "\\item[\\$b2] \\begin{enumerate*}\n",
       "\\item 4\n",
       "\\item 5\n",
       "\\end{enumerate*}\n",
       "\n",
       "\\end{description}\n"
      ],
      "text/markdown": [
       "$A11\n",
       ":   \n",
       "A matrix: 3 × 3 of type int\n",
       "\n",
       "| 0 | 5 | 10 |\n",
       "| 1 | 6 | 11 |\n",
       "| 2 | 7 | 12 |\n",
       "\n",
       "\n",
       "$A12\n",
       ":   \n",
       "A matrix: 3 × 2 of type int\n",
       "\n",
       "| 15 | 20 |\n",
       "| 16 | 21 |\n",
       "| 17 | 22 |\n",
       "\n",
       "\n",
       "$A21\n",
       ":   \n",
       "A matrix: 2 × 3 of type int\n",
       "\n",
       "| 3 | 8 | 13 |\n",
       "| 4 | 9 | 14 |\n",
       "\n",
       "\n",
       "$A22\n",
       ":   \n",
       "A matrix: 2 × 2 of type int\n",
       "\n",
       "| 18 | 23 |\n",
       "| 19 | 24 |\n",
       "\n",
       "\n",
       "$b1\n",
       ":   1. 1\n",
       "2. 2\n",
       "3. 3\n",
       "\n",
       "\n",
       "\n",
       "$b2\n",
       ":   1. 4\n",
       "2. 5\n",
       "\n",
       "\n",
       "\n",
       "\n",
       "\n"
      ],
      "text/plain": [
       "$A11\n",
       "     [,1] [,2] [,3]\n",
       "[1,]    0    5   10\n",
       "[2,]    1    6   11\n",
       "[3,]    2    7   12\n",
       "\n",
       "$A12\n",
       "     [,1] [,2]\n",
       "[1,]   15   20\n",
       "[2,]   16   21\n",
       "[3,]   17   22\n",
       "\n",
       "$A21\n",
       "     [,1] [,2] [,3]\n",
       "[1,]    3    8   13\n",
       "[2,]    4    9   14\n",
       "\n",
       "$A22\n",
       "     [,1] [,2]\n",
       "[1,]   18   23\n",
       "[2,]   19   24\n",
       "\n",
       "$b1\n",
       "[1] 1 2 3\n",
       "\n",
       "$b2\n",
       "[1] 4 5\n"
      ]
     },
     "metadata": {},
     "output_type": "display_data"
    }
   ],
   "source": [
    "#Prueba para valor de parametro de corte \n",
    "A = matrix(c(0:24), nrow=5,ncol=5) \n",
    "b = c(1:dim(A)[1])\n",
    "A\n",
    "b\n",
    "n<-1\n",
    "#Probamos con un valor par corte=2n\n",
    "corte<-2\n",
    "cat(\"Prueba corte con valor par (2n):\\ncorte=\",corte)\n",
    "l<-bloques(A,b,corte)\n",
    "l\n",
    "#Probamos con un valor impar corte=2n+1\n",
    "corte<-3\n",
    "cat(\"Prueba corte con valor impar (2n+1):\\ncorte=\",corte)\n",
    "l<-bloques(A,b,corte)\n",
    "l"
   ]
  },
  {
   "cell_type": "markdown",
   "metadata": {},
   "source": [
    "**Test 2 valores que generan errores en la funcion**"
   ]
  },
  {
   "cell_type": "code",
   "execution_count": 91,
   "metadata": {},
   "outputs": [
    {
     "name": "stdout",
     "output_type": "stream",
     "text": [
      "Prueba corte con valor mas grande que el rango de la matriz(corte>n):\n",
      "corte= 5"
     ]
    },
    {
     "ename": "ERROR",
     "evalue": "Error in A[c(1:corte), c((corte + 1):dim(A)[2])]: subscript out of bounds\n",
     "output_type": "error",
     "traceback": [
      "Error in A[c(1:corte), c((corte + 1):dim(A)[2])]: subscript out of bounds\nTraceback:\n",
      "1. bloques(A, b, corte)"
     ]
    }
   ],
   "source": [
    "#Probamos con un valor corte mas grande que el rango de la matriz\n",
    "corte<-5\n",
    "cat(\"Prueba corte con valor mas grande que el rango de la matriz(corte>n):\\ncorte=\",corte)\n",
    "l<-bloques(A,b,corte)\n",
    "l"
   ]
  },
  {
   "cell_type": "code",
   "execution_count": 85,
   "metadata": {},
   "outputs": [
    {
     "name": "stdout",
     "output_type": "stream",
     "text": [
      "Prueba corte con valor mas grande que el rango de la matriz(corte>n):\n",
      "corte= 0"
     ]
    },
    {
     "data": {
      "text/html": [
       "<dl>\n",
       "\t<dt>$A11</dt>\n",
       "\t\t<dd>0</dd>\n",
       "\t<dt>$A12</dt>\n",
       "\t\t<dd><ol class=list-inline>\n",
       "\t<li>0</li>\n",
       "\t<li>5</li>\n",
       "\t<li>10</li>\n",
       "\t<li>15</li>\n",
       "\t<li>20</li>\n",
       "</ol>\n",
       "</dd>\n",
       "\t<dt>$A21</dt>\n",
       "\t\t<dd><ol class=list-inline>\n",
       "\t<li>0</li>\n",
       "\t<li>1</li>\n",
       "\t<li>2</li>\n",
       "\t<li>3</li>\n",
       "\t<li>4</li>\n",
       "</ol>\n",
       "</dd>\n",
       "\t<dt>$A22</dt>\n",
       "\t\t<dd><table>\n",
       "<caption>A matrix: 5 × 5 of type int</caption>\n",
       "<tbody>\n",
       "\t<tr><td>0</td><td>5</td><td>10</td><td>15</td><td>20</td></tr>\n",
       "\t<tr><td>1</td><td>6</td><td>11</td><td>16</td><td>21</td></tr>\n",
       "\t<tr><td>2</td><td>7</td><td>12</td><td>17</td><td>22</td></tr>\n",
       "\t<tr><td>3</td><td>8</td><td>13</td><td>18</td><td>23</td></tr>\n",
       "\t<tr><td>4</td><td>9</td><td>14</td><td>19</td><td>24</td></tr>\n",
       "</tbody>\n",
       "</table>\n",
       "</dd>\n",
       "\t<dt>$b1</dt>\n",
       "\t\t<dd>1</dd>\n",
       "\t<dt>$b2</dt>\n",
       "\t\t<dd><ol class=list-inline>\n",
       "\t<li>1</li>\n",
       "\t<li>2</li>\n",
       "\t<li>3</li>\n",
       "\t<li>4</li>\n",
       "\t<li>5</li>\n",
       "</ol>\n",
       "</dd>\n",
       "</dl>\n"
      ],
      "text/latex": [
       "\\begin{description}\n",
       "\\item[\\$A11] 0\n",
       "\\item[\\$A12] \\begin{enumerate*}\n",
       "\\item 0\n",
       "\\item 5\n",
       "\\item 10\n",
       "\\item 15\n",
       "\\item 20\n",
       "\\end{enumerate*}\n",
       "\n",
       "\\item[\\$A21] \\begin{enumerate*}\n",
       "\\item 0\n",
       "\\item 1\n",
       "\\item 2\n",
       "\\item 3\n",
       "\\item 4\n",
       "\\end{enumerate*}\n",
       "\n",
       "\\item[\\$A22] A matrix: 5 × 5 of type int\n",
       "\\begin{tabular}{lllll}\n",
       "\t 0 & 5 & 10 & 15 & 20\\\\\n",
       "\t 1 & 6 & 11 & 16 & 21\\\\\n",
       "\t 2 & 7 & 12 & 17 & 22\\\\\n",
       "\t 3 & 8 & 13 & 18 & 23\\\\\n",
       "\t 4 & 9 & 14 & 19 & 24\\\\\n",
       "\\end{tabular}\n",
       "\n",
       "\\item[\\$b1] 1\n",
       "\\item[\\$b2] \\begin{enumerate*}\n",
       "\\item 1\n",
       "\\item 2\n",
       "\\item 3\n",
       "\\item 4\n",
       "\\item 5\n",
       "\\end{enumerate*}\n",
       "\n",
       "\\end{description}\n"
      ],
      "text/markdown": [
       "$A11\n",
       ":   0\n",
       "$A12\n",
       ":   1. 0\n",
       "2. 5\n",
       "3. 10\n",
       "4. 15\n",
       "5. 20\n",
       "\n",
       "\n",
       "\n",
       "$A21\n",
       ":   1. 0\n",
       "2. 1\n",
       "3. 2\n",
       "4. 3\n",
       "5. 4\n",
       "\n",
       "\n",
       "\n",
       "$A22\n",
       ":   \n",
       "A matrix: 5 × 5 of type int\n",
       "\n",
       "| 0 | 5 | 10 | 15 | 20 |\n",
       "| 1 | 6 | 11 | 16 | 21 |\n",
       "| 2 | 7 | 12 | 17 | 22 |\n",
       "| 3 | 8 | 13 | 18 | 23 |\n",
       "| 4 | 9 | 14 | 19 | 24 |\n",
       "\n",
       "\n",
       "$b1\n",
       ":   1\n",
       "$b2\n",
       ":   1. 1\n",
       "2. 2\n",
       "3. 3\n",
       "4. 4\n",
       "5. 5\n",
       "\n",
       "\n",
       "\n",
       "\n",
       "\n"
      ],
      "text/plain": [
       "$A11\n",
       "[1] 0\n",
       "\n",
       "$A12\n",
       "[1]  0  5 10 15 20\n",
       "\n",
       "$A21\n",
       "[1] 0 1 2 3 4\n",
       "\n",
       "$A22\n",
       "     [,1] [,2] [,3] [,4] [,5]\n",
       "[1,]    0    5   10   15   20\n",
       "[2,]    1    6   11   16   21\n",
       "[3,]    2    7   12   17   22\n",
       "[4,]    3    8   13   18   23\n",
       "[5,]    4    9   14   19   24\n",
       "\n",
       "$b1\n",
       "[1] 1\n",
       "\n",
       "$b2\n",
       "[1] 1 2 3 4 5\n"
      ]
     },
     "metadata": {},
     "output_type": "display_data"
    }
   ],
   "source": [
    "#Probamos con un valor corte mas grande que el rango de la matriz\n",
    "corte<-0\n",
    "cat(\"Prueba corte con valor mas grande que el rango de la matriz(corte>n):\\ncorte=\",corte)\n",
    "l<-bloques(A,b,corte)\n",
    "l"
   ]
  },
  {
   "cell_type": "code",
   "execution_count": 86,
   "metadata": {},
   "outputs": [
    {
     "name": "stdout",
     "output_type": "stream",
     "text": [
      "Prueba corte con valor mas grande que el rango de la matriz(corte>n):\n",
      "corte= -1"
     ]
    },
    {
     "ename": "ERROR",
     "evalue": "Error in A[c(1:corte), c(1:corte)]: only 0's may be mixed with negative subscripts\n",
     "output_type": "error",
     "traceback": [
      "Error in A[c(1:corte), c(1:corte)]: only 0's may be mixed with negative subscripts\nTraceback:\n",
      "1. bloques(A, b, corte)"
     ]
    }
   ],
   "source": [
    "#Probamos con un valor corte mas grande que el rango de la matriz\n",
    "corte<--1\n",
    "cat(\"Prueba corte con valor mas grande que el rango de la matriz(corte>n):\\ncorte=\",corte)\n",
    "l<-bloques(A,b,corte)\n",
    "l"
   ]
  },
  {
   "cell_type": "markdown",
   "metadata": {},
   "source": [
    "Principales hallazos del test:   \n",
    "**Rango de error de parametro corte**  \n",
    "* Hallazgo 1: La función no funciona si el valor de corte no esta en el rango 0<corte<n, n siendo el rango de la matriz A\n",
    "* Hallazgo 2: La función funciona para corte=0\n"
   ]
  },
  {
   "cell_type": "markdown",
   "metadata": {},
   "source": [
    "**4. Resumen detallado de posibles puntos faltantes en implementación**\n",
    "* Añadir a la documentación de la función bloques el rango permitido para el parametro de corte.\n",
    "* Los parametros matriz A y vector b no causan errores debido a sus valores. Por lo que no se sugiere algun cambio referente a ellos\n",
    "**Sugerencias para resolver los puntos anteriores**\n",
    "* se sugiere poner en la documentación el rango permitido para el parametro de corte."
   ]
  },
  {
   "cell_type": "markdown",
   "metadata": {},
   "source": [
    "# Revisión de código Eliminación por bloques basada en solver linear que usa SVD\n",
    "## (parte 2-funcion eliminacion_bloques)\n",
    "\n",
    "**Fecha:** 13 de Abril de 2020 \n",
    "\n",
    "**Responsable de revisión:** Javier Valencia\n",
    "\n",
    "**Código revisado: se revisa la función eliminacion_bloques, pero esta se apoya de las otras funciones en el codigo**"
   ]
  },
  {
   "cell_type": "code",
   "execution_count": 110,
   "metadata": {},
   "outputs": [
    {
     "name": "stderr",
     "output_type": "stream",
     "text": [
      "Installing package into ‘/usr/local/lib/R/site-library’\n",
      "(as ‘lib’ is unspecified)\n",
      "\n",
      "Downloading GitHub repo collectivemedia/tictoc@master\n",
      "\n"
     ]
    },
    {
     "name": "stdout",
     "output_type": "stream",
     "text": [
      "\u001b[32m✔\u001b[39m  \u001b[90mchecking for file ‘/tmp/Rtmp8RzAQR/remotes266b02aef9/collectivemedia-tictoc-211fe59/DESCRIPTION’\u001b[39m\u001b[36m\u001b[39m\n",
      "\u001b[90m─\u001b[39m\u001b[90m  \u001b[39m\u001b[90mpreparing ‘tictoc’:\u001b[39m\u001b[36m\u001b[39m\n",
      "\u001b[32m✔\u001b[39m  \u001b[90mchecking DESCRIPTION meta-information\u001b[39m\u001b[36m\u001b[39m\n",
      "\u001b[90m─\u001b[39m\u001b[90m  \u001b[39m\u001b[90mchecking for LF line-endings in source and make files and shell scripts\u001b[39m\u001b[36m\u001b[39m\n",
      "\u001b[90m─\u001b[39m\u001b[90m  \u001b[39m\u001b[90mchecking for empty or unneeded directories\u001b[39m\u001b[36m\u001b[39m\n",
      "\u001b[90m─\u001b[39m\u001b[90m  \u001b[39m\u001b[90mbuilding ‘tictoc_1.0.tar.gz’\u001b[39m\u001b[36m\u001b[39m\n",
      "   \n",
      "\r"
     ]
    },
    {
     "name": "stderr",
     "output_type": "stream",
     "text": [
      "Installing package into ‘/usr/local/lib/R/site-library’\n",
      "(as ‘lib’ is unspecified)\n",
      "\n"
     ]
    }
   ],
   "source": [
    "install.packages(\"matrixcalc\")\n",
    "library(\"matrixcalc\")\n",
    "#install.packages(\"tictoc\")\n",
    "devtools::install_github(\"collectivemedia/tictoc\")\n",
    "library(tictoc)"
   ]
  },
  {
   "cell_type": "markdown",
   "metadata": {},
   "source": [
    "### Código del cual depende nuestra función que ya fue revisado y corregido"
   ]
  },
  {
   "cell_type": "code",
   "execution_count": 108,
   "metadata": {},
   "outputs": [],
   "source": [
    "indices <- function(n) {\n",
    "  # Crea una lista de tamaño (n-1)n/2 con pares de índices de la siguiente\n",
    "  #  manera: (1,2),..,(1,n),(2,3),..,(2,n),...,(n-1,n)\n",
    "  # Args: \n",
    "  #    n: número entero postivo \n",
    "  #       se refiere al número de columnas\n",
    "  #Returns:\n",
    "  #    lista con pares de índices\n",
    "  a <- NULL\n",
    "  b <- NULL\n",
    "  indices <- NULL\n",
    "  for (i in 1:(n-1)){\n",
    "    a <- append(a,rep(i,n-i))\n",
    "    b <- append(b,seq(i+1,n))    \n",
    "  }\n",
    "  for(i in 1:round(n*(n-1)/2))\n",
    "    indices[[i]] <- list(c(a[i], b[i]))\n",
    "  indices\n",
    "}\n",
    "\n",
    "ortogonal <- function(u,v,TOL=10^-8){\n",
    "  # Verifica si dos vectores son ortogonales, arrojando un 1 si lo es, y un 0 si no lo es.\n",
    "  # Args: \n",
    "  # u, v como vectores de la misma dimensión.Y un valor real de tolerancia TOL(10^-8).\n",
    "  # Nota: Se sugiere una TOL mayor a 10^-32.\n",
    "  # Returns: \n",
    "  # Valor booleano 0 (no son ortongoales), 1 (son ortogonales)\n",
    "  \n",
    "  nu = norm(u,type =\"2\")\n",
    "  nv = norm(v,type =\"2\") \n",
    "  \n",
    "  if ( nu < TOL | nv < TOL){\n",
    "    ret<-0\n",
    "  } else{ \n",
    "    \n",
    "    if( (u%*%v)  /(nu*nv) < TOL   ){\n",
    "      ret<-1\n",
    "    }\n",
    "    else{\n",
    "      ret<-0\n",
    "    }       \n",
    "  }\n",
    "  ret\n",
    "}\n",
    "\n",
    "signo<-function(x) {\n",
    "  # Indica el signo de un número x\n",
    "  # Args: \n",
    "  #    x (numeric): número a revisar\n",
    "  # Returns:\n",
    "  #    1 si el número es positivo o cero\n",
    "  #    -1 si el número es negativo\n",
    "  \n",
    "  ifelse(x<0,-1,1)\n",
    "}\n",
    "\n",
    "\n",
    "solver <- function(U,S,V,b){\n",
    "  # Construye la solución de un sistema de ecuaciones a partir de matrices \n",
    "  # U, S, V, y vector b. Se asume que S es diagonal. \n",
    "  # Para ello resuelve S d = U^Tb, para construir x=Vd.\n",
    "  # Notas:\n",
    "  # 1) Se utilizó la función backsolve para resolver el sistema triangular.\n",
    "  # 2) Al ser S diagonal, es indistinto si usar un solver para matrices traingulares inferiores o superiores.\n",
    "  # Args: \n",
    "  #  \t    U (mxm),V(nxn), S(mxn) matriz diagonal y b (m) un vector.\n",
    "  # Returns: \n",
    "  #      x vector (m)\n",
    "  d = backsolve(S, t(U)%*%b)\n",
    "  x = V%*%d\n",
    "  return(x)\n",
    "}\n",
    "\n",
    "\n",
    "svd_jacobi_aprox <- function(A,TOL,maxsweep){\n",
    "  #Función que devuelve una lista con las matrices U, S, V que aproximan númericamente a A \n",
    "  #por medio del método de One-sided Jacobi \n",
    "  # Args: \n",
    "  #    A: matriz a la que se le calculará su SVD\n",
    "  #    TOL (numeric): controla la convergencia del método\n",
    "  #    maxsweep (numeric): número máximo de sweeps \n",
    "  # Returns: \n",
    "  #   lista con matrices U, S, V\n",
    "  \n",
    "  #dimensiones\n",
    "  n<-dim(A)[2] #numero de columnas\n",
    "  m<-dim(A)[1] #numero de filas\n",
    "  nmax<-n*(n-1)/2 \n",
    "  \n",
    "  #inicialza valores del ciclo\n",
    "  ak<-A\n",
    "  vk<-diag(n)\n",
    "  sig <- NULL\n",
    "  uk <- ak\n",
    "  num_col_ortogonal<-0\n",
    "  k<-0\n",
    "  \n",
    "  while(k<=maxsweep & num_col_ortogonal<nmax){\n",
    "    num_col_ortogonal<-0\n",
    "    \n",
    "    ind <- indices(n)\n",
    "    for(i in 1:nmax){\n",
    "      col_j<-ak[,ind[[i]][[1]][2]]\n",
    "      col_i<-ak[,ind[[i]][[1]][1]]\n",
    "      \n",
    "      #comprueba ortogonalidad  \n",
    "      if(ortogonal(col_i,col_j,TOL)==1){\n",
    "        num_col_ortogonal<-num_col_ortogonal+1\n",
    "      }\n",
    "      else{\n",
    "        #calcula coeficientes de la matriz\n",
    "        a<-col_i%*%col_i#sum(col_i*col_i) #cambio\n",
    "        b<- col_j%*%col_j #sum(col_j*col_j) #cambio\n",
    "        c<-col_i%*%col_j\n",
    "        \n",
    "        #calcula la rotacion givens que diagonaliza\n",
    "        epsilon<-(b-a)/(2*c)\n",
    "        t<-signo(epsilon)/(abs(epsilon)+sqrt(1+epsilon**2))\n",
    "        cs<-1/sqrt(1+t**2)\n",
    "        sn<-cs*t\n",
    "        \n",
    "        #actualiza las columnas de la matriz ak\n",
    "        \n",
    "        temp<-ak[,ind[[i]][[1]][1]] #cambio\n",
    "        ak[,ind[[i]][[1]][1]]<-c(cs)*temp-c(sn)*ak[,ind[[i]][[1]][2]]#cambio\n",
    "        ak[,ind[[i]][[1]][2]]<-c(sn)*temp+c(cs)*ak[,ind[[i]][[1]][2]]#cambio\n",
    "        \n",
    "        # for(l in seq(1,m)){ #cambio\n",
    "        #   temp<-ak[l,ind[[i]][[1]][1]] #cambio\n",
    "        #   ak[l,ind[[i]][[1]][1]]<-cs*temp-sn*ak[l,ind[[i]][[1]][2]] #cambio\n",
    "        #   ak[l,ind[[i]][[1]][2]]<-sn*temp+cs*ak[l,ind[[i]][[1]][2]] #cambio\n",
    "        # }\n",
    "        \n",
    "        #actualiza las columnas de la matriz vk\n",
    "        temp<-vk[,ind[[i]][[1]][1]] #cambio\n",
    "        vk[,ind[[i]][[1]][1]]<-c(cs)*temp-c(sn)*vk[,ind[[i]][[1]][2]] #cambio\n",
    "        vk[,ind[[i]][[1]][2]]<-c(sn)*temp+c(cs)*vk[,ind[[i]][[1]][2]] #cambio\n",
    "        \n",
    "        # for(l in seq(1,n)){ #cambio\n",
    "        #   temp<-vk[l,ind[[i]][[1]][1]] #cambio\n",
    "        #   vk[l,ind[[i]][[1]][1]]<-cs*temp-sn*vk[l,ind[[i]][[1]][2]] #cambio\n",
    "        #   vk[l,ind[[i]][[1]][2]]<-sn*temp+cs*vk[l,ind[[i]][[1]][2]] #cambio\n",
    "        #   \n",
    "        # }\n",
    "      }\n",
    "    }\n",
    "    k<-k+1\n",
    "  }\n",
    "  #Obtener sigma\n",
    "  sig<-apply(ak, 2, function(x){norm(x,\"2\")}) #cambio\n",
    "  #for(i in 1:n){ #cambio\n",
    "  #  sig<- append(sig,norm(ak[,i],type =\"2\")) #cambio\n",
    "  #} #cambio\n",
    "  \n",
    "  #Obtener U\n",
    "  #nrow_ak<-m\n",
    "  #uk<-apply(ak, 2, function(x){x/norm(x,\"2\")})*(sig<TOL)\n",
    "    for(i in 1:n){\n",
    "      if (sig[i]<TOL){\n",
    "        \n",
    "        uk[,i]<-0\n",
    "        \n",
    "      } else{\n",
    "        uk[,i] <- ak[,i]/sig[i]\n",
    "      }\n",
    "    }\n",
    "  \n",
    "  # Indices de sigma ordenada en forma decreciente para ordenar V,S,U\n",
    "  index <- order(sig,decreasing = TRUE)\n",
    "  vk <- vk[,index]\n",
    "  S <- diag(sig[index])\n",
    "  uk <- uk[,index]\n",
    "  \n",
    "  list(S = S, U = uk, V= vk)\n",
    "}\n",
    "\n",
    "# n =10**3\n",
    "# A = matrix(rnorm(n**2), ncol=n)\n",
    "# \n",
    "# descom <- svd_jacobi_aprox(A,10**-8,1)\n",
    "# \n",
    "# S<-descom$S\n",
    "# U<-descom$U\n",
    "# V<-descom$V\n",
    "# \n",
    "# A_svd <- U%*%S%*%t(V)\n",
    "# \n",
    "# norm(A-A_svd,\"2\")\n",
    "\n",
    "\n",
    "\n",
    "sel_solver<-function(A,b,TOL=10**-8,maxsweep=20){\n",
    "  #Función resuelve un sistema de ecuaciones lineales (SEL) utilizando la descomposición SVD\n",
    "  #por medio del método de One-sided Jacobi \n",
    "  #El SEL es de la forma Ax=b\n",
    "  # Args: \n",
    "  #    A (float): matriz de incógnitas del SEL\n",
    "  #    b (float): vector de igualdada del sistema\n",
    "  #    TOL (numeric): controla la convergencia del método\n",
    "  #    maxsweep (int): número máximo de sweeps \n",
    "  #Returns: x (float): vector solución \n",
    "  \n",
    "  svd<-svd_jacobi_aprox(A,TOL,maxsweep)\n",
    "  x<-solver(svd$U,svd$S,svd$V,b)\n",
    "  x\n",
    "}\n",
    "\n",
    "bloques<-function(A,b,corte) {\n",
    "  #Función que genera los bloques de la matriz A y el vector respuesta b\n",
    "  #Args: A- matriz inicial(n*n)\n",
    "  #      b- Solución de Ax = b , (nx1)\n",
    "  #      corte - tamaño del bloque \n",
    "  #Returns: lista con la matriz A dividida en 4 bloques: A11,A12, A21, A22 y el vector b\n",
    "  #         dividido en 2 bloques b1, b2\n",
    "  \n",
    "  a11 <- A[c(1:corte),c(1:corte)]\n",
    "  a12 <- A[c(1:corte),c((corte+1):dim(A)[2])]\n",
    "  a21 <- A[c((corte+1):dim(A)[1]),c(1:corte)]\n",
    "  a22 <- A[c((corte+1):dim(A)[1]),c((corte+1):dim(A)[2])]\n",
    "  \n",
    "  b1 <- b[1:(corte)]\n",
    "  b2 <- b[((corte)+1):length(b)]\n",
    "  \n",
    "  list(A11 = a11,A12 =a12, A21=a21, A22=a22, b1 = b1, b2 = b2)\n",
    "}"
   ]
  },
  {
   "cell_type": "markdown",
   "metadata": {},
   "source": [
    "## función a revisar: eliminacion_bloques"
   ]
  },
  {
   "cell_type": "code",
   "execution_count": 103,
   "metadata": {},
   "outputs": [],
   "source": [
    "eliminacion_bloques <- function(A,b,corte, TOL, maxsweep){\n",
    "  #Función que realiza el método de eliminación por bloques\n",
    "  #Args: A- matriz inicial(n*n)\n",
    "  #      b- Solución de Ax = b , (nx1)\n",
    "  #      corte - tamaño del bloque \n",
    "  #      TOL (numeric): controla la convergencia del método\n",
    "  #      maxsweep (numeric): número máximo de sweeps \n",
    "  #Returns: x: vector\n",
    "  \n",
    "  bloq = bloques(A,b,corte)\n",
    "  if(is.singular.matrix(A,TOL) ==FALSE & is.singular.matrix(bloq$A11,TOL) == FALSE){\n",
    "    \n",
    "    \n",
    "    svd<-svd_jacobi_aprox(bloq$A11,TOL,maxsweep) #cambio\n",
    "    \n",
    "    print(\"obtenemos y\")\n",
    "    #y = sel_solver(bloq$A11,bloq$b1,TOL, maxsweep) #cambio\n",
    "    y <-solver(svd$U,svd$S,svd$V,bloq$b1) #cambio\n",
    "    \n",
    "    #Y= bloq$A12 #cambio\n",
    "    #for(i in 1:dim(bloq$A12)[2]){ #cambio\n",
    "    #  Y[,i] = sel_solver(bloq$A11,bloq$A12[,i],TOL, maxsweep) #cambio\n",
    "    #} #cambio\n",
    "    print(\"obtenemos Y mayuscula\") #cambio\n",
    "    #Y = sel_solver(bloq$A11,bloq$A12,TOL, maxsweep) #cambio\n",
    "    Y <-solver(svd$U,svd$S,svd$V,bloq$A12) #cambio\n",
    "    \n",
    "    print(\"obtenemos S\")\n",
    "    S = bloq$A22 - bloq$A21%*%Y \n",
    "    print(\"obtenemos b_hat\")\n",
    "    b_hat = bloq$b2-bloq$A21%*%y \n",
    "    print(\"obtenemos x_2\")\n",
    "    x_2 = sel_solver(S,b_hat,TOL, maxsweep)\n",
    "    print(\"obtenemos  b_hat2\")\n",
    "    b_hat2 = bloq$b1 -bloq$A12%*%x_2\n",
    "    print(\"obtenemos  x_1\")\n",
    "    #x_1 = sel_solver(bloq$A11,b_hat2,TOL, maxsweep) #cambio\n",
    "    x_1 <- solver(svd$U,svd$S,svd$V,b_hat2) #cambio\n",
    "    print(\"obtenemos  x\")\n",
    "    x <- c(x_1,x_2)\n",
    "    x\n",
    "  }else{\n",
    "    print(\"Singularidad de las matrices involucradas; no hay solucion\")\n",
    "  }\n",
    "    \n",
    "}"
   ]
  },
  {
   "cell_type": "markdown",
   "metadata": {},
   "source": [
    "**1.Sobre la documentación del código/de la función**\n",
    "\n",
    "¿Se encuentran presentes en la implementación los siguientes elementos? Por favor, ingrese explicaciones detalladas.\n",
    "\n",
    "**a) Descripción concisa y breve de lo que hace el código/la función**\n",
    "\n",
    "La documentación inicial de la función \"eliminacion_bloques\" es detallada, describe los  argumentos de entrada, de salida y el objetivo de la función.\n",
    "\n",
    "**b) Descripción de sus argumentos de entrada, su significado y rango de valores que pueden tomar**\n",
    "Los argumentos de entrada, y salida estan descritos pero no hay un rango de valores que podrían tomar en los parametros de \"corte\", \"TOL\" y \"maxsweep\"\n",
    "\n",
    "**c) Descripción de los tipos de argumentos de entrada y de salida (por ejemplo, valores enteros, reales, strings, dataframe, matrices, etc)**\n",
    "\n",
    "Los argumentos de salida estan correctamente tipificados, los argumentos de entrada como corte y maxsweep falta especificar que son enteros, para TOL sería un double\n",
    "\n",
    "**d) Descripción de la salida de la función, su significado y valores/objetos que deben regresa**\n",
    "\n",
    "La documentación de salida esta completa, especifica los argumentos de salida de la función y su significado\n"
   ]
  },
  {
   "cell_type": "markdown",
   "metadata": {},
   "source": [
    "**2. Cumplimiento de objetivos del código/de la función**\n",
    "\n",
    "El codigo cumple su objetivo al resolver un sistema de ecuaciones siempre y cuando los argumentos de entrada cumplan con los supuestos establecidos: A tiene que ser una matriz cuadrada y no singular. Por otro lado, si no se cumplen algunos de estos supuestos el codigo nos indica que el sistema de ecuaciones no tiene  solución. \n",
    "El codigo deja de ser funcional para matrices de orden de $10^4$ en adelante, ya que el empo necesario para ejecutarlo se incrementa en gran medida. \n",
    "\n",
    "**a) ¿El código cumple los objetivos para los que fue diseñado?**\n",
    "\n",
    "Sí, la función cumple su objetivo regresa la solucion para un sistema de ecuaciones si este tiene solución y cumple con los supuestos mencionaodos en el punto aterior, de lo contrario nos ñindica que el sistema de ecuaciones no tiene solucion.\n",
    "\n",
    "**b) ¿La salida de la función regresa un vector x?**\n",
    "Sí, si el sistema tiene solucion\n"
   ]
  },
  {
   "cell_type": "markdown",
   "metadata": {},
   "source": [
    "**3. Pruebas**\n",
    "\n",
    "Ocupe la presente sección para hacer diseño de pruebas variando los parámetros que recibe el código la función en diferentes rangos para evaluae su comportamiento y/o detectar posibles fallos\n",
    "\n",
    "**Test 1 probando diferentes tamaños de Matrices**\n",
    "\n",
    "**Objetivo del test:** Revisar si la función realiza su trabajo para matrices de diferentes tamaños y el tiempo que toma.\n",
    "Nota: Para implementar las pruebas usé la libreria (tictoc) para medir el tiempo  \n",
    "\n",
    "**Implementación del test:**"
   ]
  },
  {
   "cell_type": "code",
   "execution_count": 112,
   "metadata": {},
   "outputs": [
    {
     "name": "stdout",
     "output_type": "stream",
     "text": [
      "[1] \"Prueba con una matriz pequeña A (n*n), donde n=10^2:\"\n",
      "[1] \"obtenemos y\"\n",
      "[1] \"obtenemos Y mayuscula\"\n",
      "[1] \"obtenemos S\"\n",
      "[1] \"obtenemos b_hat\"\n",
      "[1] \"obtenemos x_2\"\n",
      "[1] \"obtenemos  b_hat2\"\n",
      "[1] \"obtenemos  x_1\"\n",
      "[1] \"obtenemos  x\"\n"
     ]
    },
    {
     "data": {
      "text/html": [
       "1.35522687790145"
      ],
      "text/latex": [
       "1.35522687790145"
      ],
      "text/markdown": [
       "1.35522687790145"
      ],
      "text/plain": [
       "[1] 1.355227"
      ]
     },
     "metadata": {},
     "output_type": "display_data"
    },
    {
     "name": "stdout",
     "output_type": "stream",
     "text": [
      "Tiempo de prueba_matriz_chica: 0.498 sec elapsed\n"
     ]
    }
   ],
   "source": [
    "#prueba con Matriz pequeña \n",
    "print(\"Prueba con una matriz pequeña A (n*n), donde n=10^2:\")\n",
    "tic(\"Tiempo de prueba_matriz_chica\")\n",
    "n= 10**2\n",
    "\n",
    "A = matrix(rnorm(n**2), ncol=n)\n",
    "b = matrix(rnorm(n), ncol=1)\n",
    "TOL = 10**-8\n",
    "maxsweep= 1\n",
    "corte = n/2\n",
    "x<-eliminacion_bloques(A,b,corte, TOL, maxsweep)\n",
    "\n",
    "norm(A%*%x-b,\"2\")/norm(b,\"2\")\n",
    "toc()"
   ]
  },
  {
   "cell_type": "markdown",
   "metadata": {},
   "source": [
    "**Prueba 2: Matriz de mediano tamaño**  \n",
    "Se corrió el codigo en Google Colab con una matriz de $10^{3}X10^{3}$ debido a que el programa utiliza muchos recursos.\n",
    "Se puede reproducir este test haciendo click en la siguiente liga: [google colab](https://colab.research.google.com/drive/1uOUndB7HabictLo1p6Ak1WrU1INrC5Bq) \n",
    "![image](../images/test_elim_bloques.png)\n",
    "Tiempo de prueba_matriz_mediana: 10 min aprox\n",
    "\n",
    "**Prueba 3: Matriz de tamaño grande**\n",
    "Se intentó correr el codigo desde Google Colab para una matriz de 10^4 pero el tiempo de ejecucion fue tan largo que me desconectó de la sesión que tenía "
   ]
  },
  {
   "cell_type": "markdown",
   "metadata": {},
   "source": [
    "Principales hallazos del test:   \n",
    "**Tamaño de las matrices **  \n",
    "* Hallazgo 1: El codigo funciona adecuadamente para matrices chicas n=10^2, es lento pero funcional para matrices medianas n=10^3, y no es funcional para matrices grandes n=10^4 en adelante\n",
    "\n",
    "**Test 2 probando diferentes valores de los argumentos de entrada**\n",
    "\n",
    "**Objetivo del test:** Revisar si la función realiza su trabajo variando los parametros de TOL, maxsweep y corte\n",
    "\n",
    "**Implementación del test:**"
   ]
  },
  {
   "cell_type": "code",
   "execution_count": 117,
   "metadata": {},
   "outputs": [
    {
     "name": "stdout",
     "output_type": "stream",
     "text": [
      "[1] \"Prueba con una matriz pequeña A (n*n), donde n=10^2:\"\n",
      "[1] \"obtenemos y\"\n",
      "[1] \"obtenemos Y mayuscula\"\n",
      "[1] \"obtenemos S\"\n",
      "[1] \"obtenemos b_hat\"\n",
      "[1] \"obtenemos x_2\"\n",
      "[1] \"obtenemos  b_hat2\"\n",
      "[1] \"obtenemos  x_1\"\n",
      "[1] \"obtenemos  x\"\n"
     ]
    },
    {
     "data": {
      "text/html": [
       "1.41476826423837"
      ],
      "text/latex": [
       "1.41476826423837"
      ],
      "text/markdown": [
       "1.41476826423837"
      ],
      "text/plain": [
       "[1] 1.414768"
      ]
     },
     "metadata": {},
     "output_type": "display_data"
    },
    {
     "name": "stdout",
     "output_type": "stream",
     "text": [
      "Tiempo de prueba_matriz_chica: 0.512 sec elapsed\n"
     ]
    }
   ],
   "source": [
    "#prueba cambiando TOL\n",
    "print(\"Prueba con una matriz pequeña A (n*n) y TOL muy chica\")\n",
    "tic(\"Tiempo de prueba\")\n",
    "n= 10**2\n",
    "\n",
    "A = matrix(rnorm(n**2), ncol=n)\n",
    "b = matrix(rnorm(n), ncol=1)\n",
    "TOL = 10**-322\n",
    "maxsweep= 1\n",
    "corte = n/2\n",
    "x<-eliminacion_bloques(A,b,corte, TOL, maxsweep)\n",
    "\n",
    "norm(A%*%x-b,\"2\")/norm(b,\"2\")\n",
    "toc()"
   ]
  },
  {
   "cell_type": "code",
   "execution_count": 119,
   "metadata": {},
   "outputs": [
    {
     "name": "stdout",
     "output_type": "stream",
     "text": [
      "[1] \"Prueba con una matriz pequeña A (n*n) y max sweep grande=50\"\n",
      "[1] \"obtenemos y\"\n",
      "[1] \"obtenemos Y mayuscula\"\n",
      "[1] \"obtenemos S\"\n",
      "[1] \"obtenemos b_hat\"\n",
      "[1] \"obtenemos x_2\"\n",
      "[1] \"obtenemos  b_hat2\"\n",
      "[1] \"obtenemos  x_1\"\n",
      "[1] \"obtenemos  x\"\n"
     ]
    },
    {
     "data": {
      "text/html": [
       "1.27706702426196"
      ],
      "text/latex": [
       "1.27706702426196"
      ],
      "text/markdown": [
       "1.27706702426196"
      ],
      "text/plain": [
       "[1] 1.277067"
      ]
     },
     "metadata": {},
     "output_type": "display_data"
    },
    {
     "name": "stdout",
     "output_type": "stream",
     "text": [
      "Tiempo de prueba_maxsweep=50: 10.494 sec elapsed\n",
      "[1] \"Prueba con una matriz pequeña A (n*n) y max sweep =20\"\n",
      "[1] \"obtenemos y\"\n",
      "[1] \"obtenemos Y mayuscula\"\n",
      "[1] \"obtenemos S\"\n",
      "[1] \"obtenemos b_hat\"\n",
      "[1] \"obtenemos x_2\"\n",
      "[1] \"obtenemos  b_hat2\"\n",
      "[1] \"obtenemos  x_1\"\n",
      "[1] \"obtenemos  x\"\n"
     ]
    },
    {
     "data": {
      "text/html": [
       "1.11788015611844"
      ],
      "text/latex": [
       "1.11788015611844"
      ],
      "text/markdown": [
       "1.11788015611844"
      ],
      "text/plain": [
       "[1] 1.11788"
      ]
     },
     "metadata": {},
     "output_type": "display_data"
    },
    {
     "name": "stdout",
     "output_type": "stream",
     "text": [
      "Tiempo de prueba_maxsweep=20: 4.722 sec elapsed\n"
     ]
    }
   ],
   "source": [
    "#prueba cambiando maxsweep=50\n",
    "print(\"Prueba con una matriz pequeña A (n*n) y max sweep grande=50\")\n",
    "tic(\"Tiempo de prueba_maxsweep=50\")\n",
    "n= 10**2\n",
    "\n",
    "A = matrix(rnorm(n**2), ncol=n)\n",
    "b = matrix(rnorm(n), ncol=1)\n",
    "TOL = 10**-8\n",
    "maxsweep= 50\n",
    "corte = n/2\n",
    "x<-eliminacion_bloques(A,b,corte, TOL, maxsweep)\n",
    "\n",
    "norm(A%*%x-b,\"2\")/norm(b,\"2\")\n",
    "toc()\n",
    "#prueba cambiando maxsweep=20\n",
    "print(\"Prueba con una matriz pequeña A (n*n) y max sweep =20\")\n",
    "tic(\"Tiempo de prueba_maxsweep=20\")\n",
    "n= 10**2\n",
    "\n",
    "A = matrix(rnorm(n**2), ncol=n)\n",
    "b = matrix(rnorm(n), ncol=1)\n",
    "TOL = 10**-8\n",
    "maxsweep= 20\n",
    "corte = n/2\n",
    "x<-eliminacion_bloques(A,b,corte, TOL, maxsweep)\n",
    "\n",
    "norm(A%*%x-b,\"2\")/norm(b,\"2\")\n",
    "toc()"
   ]
  },
  {
   "cell_type": "code",
   "execution_count": 123,
   "metadata": {},
   "outputs": [
    {
     "name": "stdout",
     "output_type": "stream",
     "text": [
      "[1] \"Prueba con una matriz pequeña A (n*n) y corte=n/8\"\n",
      "[1] \"obtenemos y\"\n",
      "[1] \"obtenemos Y mayuscula\"\n",
      "[1] \"obtenemos S\"\n",
      "[1] \"obtenemos b_hat\"\n",
      "[1] \"obtenemos x_2\"\n",
      "[1] \"obtenemos  b_hat2\"\n",
      "[1] \"obtenemos  x_1\"\n",
      "[1] \"obtenemos  x\"\n"
     ]
    },
    {
     "data": {
      "text/html": [
       "1.44612346802786"
      ],
      "text/latex": [
       "1.44612346802786"
      ],
      "text/markdown": [
       "1.44612346802786"
      ],
      "text/plain": [
       "[1] 1.446123"
      ]
     },
     "metadata": {},
     "output_type": "display_data"
    },
    {
     "name": "stdout",
     "output_type": "stream",
     "text": [
      "Tiempo de prueba_corte=n/8: 5.906 sec elapsed\n",
      "[1] \"Prueba con una matriz pequeña A (n*n) y corte=n/8\"\n",
      "[1] \"obtenemos y\"\n",
      "[1] \"obtenemos Y mayuscula\"\n",
      "[1] \"obtenemos S\"\n",
      "[1] \"obtenemos b_hat\"\n",
      "[1] \"obtenemos x_2\"\n",
      "[1] \"obtenemos  b_hat2\"\n",
      "[1] \"obtenemos  x_1\"\n",
      "[1] \"obtenemos  x\"\n"
     ]
    },
    {
     "data": {
      "text/html": [
       "2.34669531722864"
      ],
      "text/latex": [
       "2.34669531722864"
      ],
      "text/markdown": [
       "2.34669531722864"
      ],
      "text/plain": [
       "[1] 2.346695"
      ]
     },
     "metadata": {},
     "output_type": "display_data"
    },
    {
     "name": "stdout",
     "output_type": "stream",
     "text": [
      "Tiempo de prueba_corte=n/8: 5.712 sec elapsed\n"
     ]
    }
   ],
   "source": [
    "#prueba cambiando corte n/4\n",
    "print(\"Prueba con una matriz pequeña A (n*n) y corte=n/8\")\n",
    "tic(\"Tiempo de prueba_corte=n/8\")\n",
    "n= 10**2\n",
    "\n",
    "A = matrix(rnorm(n**2), ncol=n)\n",
    "b = matrix(rnorm(n), ncol=1)\n",
    "TOL = 10**-8\n",
    "maxsweep= 20\n",
    "corte = n/4\n",
    "x<-eliminacion_bloques(A,b,corte, TOL, maxsweep)\n",
    "\n",
    "norm(A%*%x-b,\"2\")/norm(b,\"2\")\n",
    "toc()\n",
    "#prueba cambiando corte n/2\n",
    "print(\"Prueba con una matriz pequeña A (n*n) y corte=n/8\")\n",
    "tic(\"Tiempo de prueba_corte=n/8\")\n",
    "n= 10**2\n",
    "\n",
    "A = matrix(rnorm(n**2), ncol=n)\n",
    "b = matrix(rnorm(n), ncol=1)\n",
    "TOL = 10**-8\n",
    "maxsweep= 20\n",
    "corte = n/4\n",
    "x<-eliminacion_bloques(A,b,corte, TOL, maxsweep)\n",
    "\n",
    "norm(A%*%x-b,\"2\")/norm(b,\"2\")\n",
    "toc()"
   ]
  },
  {
   "cell_type": "markdown",
   "metadata": {},
   "source": [
    "Principales hallazos del test:   \n",
    "**Otras causas de errores  \n",
    "* Hallazgo 2: TOL no afecta el tiempo de ejecucion del algoritmo, pero puede hacer que la solucion del sistema de ecuaciones no sea la correcta\n",
    "* Hallazgo 3: el parametro max sweep afecta el tiempo de ejecucion de la funcion a mayor maxsweep mas se tarda el codigo en ejecutarse\n",
    "* Hallazgo 4: el parametro de corte no afecta en el tiempo de ejecucion"
   ]
  },
  {
   "cell_type": "code",
   "execution_count": null,
   "metadata": {},
   "outputs": [],
   "source": []
  },
  {
   "cell_type": "markdown",
   "metadata": {},
   "source": [
    "**4. Resumen detallado de posibles puntos faltantes en implementación**\n",
    "\n",
    "* añadir en documentacion los rangos de valores permitidos para TOL, maxsweep, y corte\n",
    "* añadir en documentación el tipo de los valores de TOL(double), max sweep (int), corte(int)\n",
    "\n",
    "**Sugerencias para resolver los puntos anteriores**\n",
    "\n",
    "* Para resolver el problema del tiempo de ejecución del código se sugiere que para matrices grandes n=10^4, en adelante, se pueden dividir las matrices A11, A12, A21, A22 nuevamente y paralelizar este codigo. Nota: esta sugerencia no es mandatoria ya que la implementación de esta puede entrar en conflicto con el deadline de entrega del examen.\n"
   ]
  }
 ],
 "metadata": {
  "kernelspec": {
   "display_name": "R",
   "language": "R",
   "name": "ir"
  },
  "language_info": {
   "codemirror_mode": "r",
   "file_extension": ".r",
   "mimetype": "text/x-r-source",
   "name": "R",
   "pygments_lexer": "r",
   "version": "3.6.2"
  }
 },
 "nbformat": 4,
 "nbformat_minor": 4
}
